{
  "nbformat": 4,
  "nbformat_minor": 0,
  "metadata": {
    "colab": {
      "provenance": []
    },
    "kernelspec": {
      "name": "python3",
      "display_name": "Python 3"
    },
    "language_info": {
      "name": "python"
    }
  },
  "cells": [
    {
      "cell_type": "markdown",
      "source": [
        "코드 4-1"
      ],
      "metadata": {
        "id": "3HilzEe2q1E5"
      }
    },
    {
      "cell_type": "code",
      "source": [
        "!pip install ultralytics opencv-python torch"
      ],
      "metadata": {
        "colab": {
          "base_uri": "https://localhost:8080/"
        },
        "id": "YzXDtzl2IAov",
        "outputId": "7c80f5b1-7184-4288-b6f9-1f5f7cdaedba"
      },
      "execution_count": 1,
      "outputs": [
        {
          "output_type": "stream",
          "name": "stdout",
          "text": [
            "Collecting ultralytics\n",
            "  Downloading ultralytics-8.3.186-py3-none-any.whl.metadata (37 kB)\n",
            "Requirement already satisfied: opencv-python in /usr/local/lib/python3.12/dist-packages (4.12.0.88)\n",
            "Requirement already satisfied: torch in /usr/local/lib/python3.12/dist-packages (2.8.0+cu126)\n",
            "Requirement already satisfied: numpy>=1.23.0 in /usr/local/lib/python3.12/dist-packages (from ultralytics) (2.0.2)\n",
            "Requirement already satisfied: matplotlib>=3.3.0 in /usr/local/lib/python3.12/dist-packages (from ultralytics) (3.10.0)\n",
            "Requirement already satisfied: pillow>=7.1.2 in /usr/local/lib/python3.12/dist-packages (from ultralytics) (11.3.0)\n",
            "Requirement already satisfied: pyyaml>=5.3.1 in /usr/local/lib/python3.12/dist-packages (from ultralytics) (6.0.2)\n",
            "Requirement already satisfied: requests>=2.23.0 in /usr/local/lib/python3.12/dist-packages (from ultralytics) (2.32.4)\n",
            "Requirement already satisfied: scipy>=1.4.1 in /usr/local/lib/python3.12/dist-packages (from ultralytics) (1.16.1)\n",
            "Requirement already satisfied: torchvision>=0.9.0 in /usr/local/lib/python3.12/dist-packages (from ultralytics) (0.23.0+cu126)\n",
            "Requirement already satisfied: psutil in /usr/local/lib/python3.12/dist-packages (from ultralytics) (5.9.5)\n",
            "Requirement already satisfied: py-cpuinfo in /usr/local/lib/python3.12/dist-packages (from ultralytics) (9.0.0)\n",
            "Requirement already satisfied: pandas>=1.1.4 in /usr/local/lib/python3.12/dist-packages (from ultralytics) (2.2.2)\n",
            "Collecting ultralytics-thop>=2.0.0 (from ultralytics)\n",
            "  Downloading ultralytics_thop-2.0.16-py3-none-any.whl.metadata (14 kB)\n",
            "Requirement already satisfied: filelock in /usr/local/lib/python3.12/dist-packages (from torch) (3.19.1)\n",
            "Requirement already satisfied: typing-extensions>=4.10.0 in /usr/local/lib/python3.12/dist-packages (from torch) (4.14.1)\n",
            "Requirement already satisfied: setuptools in /usr/local/lib/python3.12/dist-packages (from torch) (75.2.0)\n",
            "Requirement already satisfied: sympy>=1.13.3 in /usr/local/lib/python3.12/dist-packages (from torch) (1.13.3)\n",
            "Requirement already satisfied: networkx in /usr/local/lib/python3.12/dist-packages (from torch) (3.5)\n",
            "Requirement already satisfied: jinja2 in /usr/local/lib/python3.12/dist-packages (from torch) (3.1.6)\n",
            "Requirement already satisfied: fsspec in /usr/local/lib/python3.12/dist-packages (from torch) (2025.3.0)\n",
            "Requirement already satisfied: nvidia-cuda-nvrtc-cu12==12.6.77 in /usr/local/lib/python3.12/dist-packages (from torch) (12.6.77)\n",
            "Requirement already satisfied: nvidia-cuda-runtime-cu12==12.6.77 in /usr/local/lib/python3.12/dist-packages (from torch) (12.6.77)\n",
            "Requirement already satisfied: nvidia-cuda-cupti-cu12==12.6.80 in /usr/local/lib/python3.12/dist-packages (from torch) (12.6.80)\n",
            "Requirement already satisfied: nvidia-cudnn-cu12==9.10.2.21 in /usr/local/lib/python3.12/dist-packages (from torch) (9.10.2.21)\n",
            "Requirement already satisfied: nvidia-cublas-cu12==12.6.4.1 in /usr/local/lib/python3.12/dist-packages (from torch) (12.6.4.1)\n",
            "Requirement already satisfied: nvidia-cufft-cu12==11.3.0.4 in /usr/local/lib/python3.12/dist-packages (from torch) (11.3.0.4)\n",
            "Requirement already satisfied: nvidia-curand-cu12==10.3.7.77 in /usr/local/lib/python3.12/dist-packages (from torch) (10.3.7.77)\n",
            "Requirement already satisfied: nvidia-cusolver-cu12==11.7.1.2 in /usr/local/lib/python3.12/dist-packages (from torch) (11.7.1.2)\n",
            "Requirement already satisfied: nvidia-cusparse-cu12==12.5.4.2 in /usr/local/lib/python3.12/dist-packages (from torch) (12.5.4.2)\n",
            "Requirement already satisfied: nvidia-cusparselt-cu12==0.7.1 in /usr/local/lib/python3.12/dist-packages (from torch) (0.7.1)\n",
            "Requirement already satisfied: nvidia-nccl-cu12==2.27.3 in /usr/local/lib/python3.12/dist-packages (from torch) (2.27.3)\n",
            "Requirement already satisfied: nvidia-nvtx-cu12==12.6.77 in /usr/local/lib/python3.12/dist-packages (from torch) (12.6.77)\n",
            "Requirement already satisfied: nvidia-nvjitlink-cu12==12.6.85 in /usr/local/lib/python3.12/dist-packages (from torch) (12.6.85)\n",
            "Requirement already satisfied: nvidia-cufile-cu12==1.11.1.6 in /usr/local/lib/python3.12/dist-packages (from torch) (1.11.1.6)\n",
            "Requirement already satisfied: triton==3.4.0 in /usr/local/lib/python3.12/dist-packages (from torch) (3.4.0)\n",
            "Requirement already satisfied: contourpy>=1.0.1 in /usr/local/lib/python3.12/dist-packages (from matplotlib>=3.3.0->ultralytics) (1.3.3)\n",
            "Requirement already satisfied: cycler>=0.10 in /usr/local/lib/python3.12/dist-packages (from matplotlib>=3.3.0->ultralytics) (0.12.1)\n",
            "Requirement already satisfied: fonttools>=4.22.0 in /usr/local/lib/python3.12/dist-packages (from matplotlib>=3.3.0->ultralytics) (4.59.1)\n",
            "Requirement already satisfied: kiwisolver>=1.3.1 in /usr/local/lib/python3.12/dist-packages (from matplotlib>=3.3.0->ultralytics) (1.4.9)\n",
            "Requirement already satisfied: packaging>=20.0 in /usr/local/lib/python3.12/dist-packages (from matplotlib>=3.3.0->ultralytics) (25.0)\n",
            "Requirement already satisfied: pyparsing>=2.3.1 in /usr/local/lib/python3.12/dist-packages (from matplotlib>=3.3.0->ultralytics) (3.2.3)\n",
            "Requirement already satisfied: python-dateutil>=2.7 in /usr/local/lib/python3.12/dist-packages (from matplotlib>=3.3.0->ultralytics) (2.9.0.post0)\n",
            "Requirement already satisfied: pytz>=2020.1 in /usr/local/lib/python3.12/dist-packages (from pandas>=1.1.4->ultralytics) (2025.2)\n",
            "Requirement already satisfied: tzdata>=2022.7 in /usr/local/lib/python3.12/dist-packages (from pandas>=1.1.4->ultralytics) (2025.2)\n",
            "Requirement already satisfied: charset_normalizer<4,>=2 in /usr/local/lib/python3.12/dist-packages (from requests>=2.23.0->ultralytics) (3.4.3)\n",
            "Requirement already satisfied: idna<4,>=2.5 in /usr/local/lib/python3.12/dist-packages (from requests>=2.23.0->ultralytics) (3.10)\n",
            "Requirement already satisfied: urllib3<3,>=1.21.1 in /usr/local/lib/python3.12/dist-packages (from requests>=2.23.0->ultralytics) (2.5.0)\n",
            "Requirement already satisfied: certifi>=2017.4.17 in /usr/local/lib/python3.12/dist-packages (from requests>=2.23.0->ultralytics) (2025.8.3)\n",
            "Requirement already satisfied: mpmath<1.4,>=1.1.0 in /usr/local/lib/python3.12/dist-packages (from sympy>=1.13.3->torch) (1.3.0)\n",
            "Requirement already satisfied: MarkupSafe>=2.0 in /usr/local/lib/python3.12/dist-packages (from jinja2->torch) (3.0.2)\n",
            "Requirement already satisfied: six>=1.5 in /usr/local/lib/python3.12/dist-packages (from python-dateutil>=2.7->matplotlib>=3.3.0->ultralytics) (1.17.0)\n",
            "Downloading ultralytics-8.3.186-py3-none-any.whl (1.1 MB)\n",
            "\u001b[2K   \u001b[90m━━━━━━━━━━━━━━━━━━━━━━━━━━━━━━━━━━━━━━━━\u001b[0m \u001b[32m1.1/1.1 MB\u001b[0m \u001b[31m28.5 MB/s\u001b[0m eta \u001b[36m0:00:00\u001b[0m\n",
            "\u001b[?25hDownloading ultralytics_thop-2.0.16-py3-none-any.whl (28 kB)\n",
            "Installing collected packages: ultralytics-thop, ultralytics\n",
            "Successfully installed ultralytics-8.3.186 ultralytics-thop-2.0.16\n"
          ]
        }
      ]
    },
    {
      "cell_type": "code",
      "execution_count": 2,
      "metadata": {
        "colab": {
          "base_uri": "https://localhost:8080/"
        },
        "id": "GwgewIurqzCS",
        "outputId": "99c880d1-dd49-4bdc-f2a7-9e96bad17503"
      },
      "outputs": [
        {
          "output_type": "stream",
          "name": "stdout",
          "text": [
            "Creating new Ultralytics Settings v0.0.6 file ✅ \n",
            "View Ultralytics Settings with 'yolo settings' or at '/root/.config/Ultralytics/settings.json'\n",
            "Update Settings with 'yolo settings key=value', i.e. 'yolo settings runs_dir=path/to/dir'. For help see https://docs.ultralytics.com/quickstart/#ultralytics-settings.\n",
            "\u001b[KDownloading https://github.com/ultralytics/assets/releases/download/v8.3.0/yolov8n.pt to 'yolov8n.pt': 100% ━━━━━━━━━━━━ 6.2/6.2MB 113.0MB/s 0.1s\n",
            "📁 저장 완료: cropped_person_0.jpg\n",
            "📁 저장 완료: cropped_person_1.jpg\n",
            "📁 저장 완료: cropped_person_2.jpg\n",
            "📁 저장 완료: cropped_person_3.jpg\n"
          ]
        }
      ],
      "source": [
        "import cv2\n",
        "from ultralytics import YOLO\n",
        "from PIL import Image\n",
        "\n",
        "# 1. 모델 로딩\n",
        "model = YOLO(\"yolov8n.pt\")\n",
        "\n",
        "# 2. 이미지 불러오기\n",
        "img_path = \"person.png\"\n",
        "image = cv2.imread(img_path)\n",
        "\n",
        "# 3. YOLO 탐지 실행\n",
        "results = model.predict(source=image, conf=0.5, verbose=False)[0]\n",
        "\n",
        "# 4. 탐지된 객체 중 'person' 클래스만 crop\n",
        "target_class = \"person\"\n",
        "for i, box in enumerate(results.boxes):\n",
        "    cls_id = int(box.cls[0].item())\n",
        "    cls_name = model.names[cls_id]\n",
        "\n",
        "    if cls_name == target_class:\n",
        "        x1, y1, x2, y2 = map(int, box.xyxy[0].tolist())\n",
        "        cropped = image[y1:y2, x1:x2]\n",
        "\n",
        "        # 5. 잘라낸 이미지 저장\n",
        "        save_path = f\"cropped_{target_class}_{i}.jpg\"\n",
        "        cv2.imwrite(save_path, cropped)\n",
        "        print(f\"📁 저장 완료: {save_path}\")\n"
      ]
    },
    {
      "cell_type": "markdown",
      "source": [
        "코드 4-2"
      ],
      "metadata": {
        "id": "s7zqOcGoJ8wT"
      }
    },
    {
      "cell_type": "code",
      "source": [
        "import cv2\n",
        "from ultralytics import YOLO\n",
        "\n",
        "# 1. 모델 로딩 및 이미지 불러오기\n",
        "model = YOLO(\"yolov8n.pt\")\n",
        "image = cv2.imread(\"/content/group.png\")\n",
        "result = model.predict(source=image, conf=0.5, verbose=False)[0]\n",
        "\n",
        "# 2. 대체 이미지 로드 (예: 이모지, 마스킹 아이콘)\n",
        "replacement_img = cv2.imread(\"/content/imoticon.png\")  # 반드시 배경 투명 제외하고 RGB 이미지로 준비\n",
        "\n",
        "# 3. 탐지 결과 후처리\n",
        "for box in result.boxes:\n",
        "    cls_id = int(box.cls[0].item())\n",
        "    cls_name = model.names[cls_id]\n",
        "    x1, y1, x2, y2 = map(int, box.xyxy[0].tolist())\n",
        "\n",
        "    roi = image[y1:y2, x1:x2]\n",
        "\n",
        "    # 블러 처리\n",
        "    # blurred = cv2.GaussianBlur(roi, (51, 51), 0)\n",
        "    # image[y1:y2, x1:x2] = blurred\n",
        "\n",
        "    # 색상 마스킹 (빨간 박스 채우기)\n",
        "    # cv2.rectangle(image, (x1, y1), (x2, y2), (0, 0, 255), -1)\n",
        "\n",
        "    # 대체 이미지 삽입\n",
        "    resized_icon = cv2.resize(replacement_img, (x2 - x1, y2 - y1))\n",
        "    image[y1:y2, x1:x2] = resized_icon\n",
        "\n",
        "# 4. 결과 저장\n",
        "cv2.imwrite(\"output_processed.jpg\", image)\n",
        "print(\"💾 결과 이미지 저장 완료: output_processed.jpg\")\n"
      ],
      "metadata": {
        "colab": {
          "base_uri": "https://localhost:8080/"
        },
        "id": "Zg-yWt8OJ-0y",
        "outputId": "b3b570c7-e8c9-4ffc-a7fc-91b8e337e8f1"
      },
      "execution_count": 5,
      "outputs": [
        {
          "output_type": "stream",
          "name": "stdout",
          "text": [
            "💾 결과 이미지 저장 완료: output_processed.jpg\n"
          ]
        }
      ]
    },
    {
      "cell_type": "markdown",
      "source": [
        "코드 4-3"
      ],
      "metadata": {
        "id": "MhAaqkcN2OaW"
      }
    },
    {
      "cell_type": "code",
      "source": [
        "!pip install  pyngrok -q"
      ],
      "metadata": {
        "id": "gx3DkF9wLm45"
      },
      "execution_count": 9,
      "outputs": []
    },
    {
      "cell_type": "markdown",
      "source": [
        "1) 토큰 발급\n",
        "\n",
        "https://dashboard.ngrok.com/signup\n",
        " 에서 가입 → 이메일 인증\n",
        "\n",
        "https://dashboard.ngrok.com/get-started/your-authtoken\n",
        " 에서 Authtoken 복사"
      ],
      "metadata": {
        "id": "_hVN_FWCOIpB"
      }
    },
    {
      "cell_type": "markdown",
      "source": [
        "🔹 2. Postman 설치 및 실행\n",
        "\n",
        "Postman  다운로드 : https://www.postman.com/downloads/\n",
        "\n",
        "설치 후 실행\n"
      ],
      "metadata": {
        "id": "5K76XvNLOdfK"
      }
    },
    {
      "cell_type": "code",
      "source": [
        "NGROK_TOKEN = \"30y0W9RbrSxLG0bYesn4GdQu8oW_6AZ5YQTBdmQSRo1Hcijnf\"\n",
        "\n",
        "from pyngrok import ngrok, conf\n",
        "conf.get_default().auth_token = NGROK_TOKEN\n",
        "\n",
        "# Flask + ngrok\n",
        "from flask import Flask, request, jsonify\n",
        "from pyngrok import ngrok\n",
        "\n",
        "app = Flask(__name__)\n",
        "\n",
        "@app.route(\"/\")\n",
        "def home():\n",
        "    return \"Hello from Flask (Colab + ngrok)!\"\n",
        "\n",
        "@app.route(\"/echo\", methods=[\"POST\"])\n",
        "def echo():\n",
        "    return jsonify({\"you_sent\": request.get_json()})\n",
        "\n",
        "# 5000 포트로 Flask 실행 & ngrok 터널 오픈\n",
        "public_url = ngrok.connect(5000)\n",
        "print(\"🌐 Public URL:\", public_url)\n",
        "\n",
        "app.run(port=5000)"
      ],
      "metadata": {
        "colab": {
          "base_uri": "https://localhost:8080/"
        },
        "id": "MTVIhDKnNiiJ",
        "outputId": "f52fc6e3-f1b9-4438-8f97-46d71328a4e7"
      },
      "execution_count": 14,
      "outputs": [
        {
          "output_type": "stream",
          "name": "stdout",
          "text": [
            "🌐 Public URL: NgrokTunnel: \"https://27a95881b739.ngrok-free.app\" -> \"http://localhost:5000\"\n",
            " * Serving Flask app '__main__'\n",
            " * Debug mode: off\n"
          ]
        },
        {
          "output_type": "stream",
          "name": "stderr",
          "text": [
            "INFO:werkzeug:\u001b[31m\u001b[1mWARNING: This is a development server. Do not use it in a production deployment. Use a production WSGI server instead.\u001b[0m\n",
            " * Running on http://127.0.0.1:5000\n",
            "INFO:werkzeug:\u001b[33mPress CTRL+C to quit\u001b[0m\n"
          ]
        }
      ]
    },
    {
      "cell_type": "code",
      "source": [
        "NGROK_TOKEN = \"30y0W9RbrSxLG0bYesn4GdQu8oW_6AZ5YQTBdmQSRo1Hcijnf\"\n",
        "\n",
        "from flask import Flask, request, jsonify\n",
        "from pyngrok import ngrok, conf\n",
        "conf.get_default().auth_token = NGROK_TOKEN\n",
        "\n",
        "from ultralytics import YOLO\n",
        "import cv2\n",
        "import numpy as np\n",
        "\n",
        "app = Flask(__name__)\n",
        "model = YOLO(\"yolov8n.pt\")\n",
        "\n",
        "@app.route('/detect', methods=['POST'])\n",
        "def detect_object():\n",
        "    if 'image' not in request.files:\n",
        "        return jsonify({'error': 'No image file provided'}), 400\n",
        "\n",
        "    file = request.files['image']\n",
        "    img_array = np.frombuffer(file.read(), np.uint8)\n",
        "    image = cv2.imdecode(img_array, cv2.IMREAD_COLOR)\n",
        "\n",
        "    results = model.predict(source=image, conf=0.5, verbose=False)[0]\n",
        "\n",
        "    detections = []\n",
        "    for box in results.boxes:\n",
        "        cls_id = int(box.cls[0])\n",
        "        cls_name = model.names[cls_id]\n",
        "        confidence = float(box.conf[0])\n",
        "        x1, y1, x2, y2 = map(int, box.xyxy[0])\n",
        "        detections.append({\n",
        "            'class': cls_name,\n",
        "            'confidence': round(confidence, 2),\n",
        "            'bbox': [x1, y1, x2, y2]\n",
        "        })\n",
        "\n",
        "    return jsonify({'detections': detections})\n",
        "\n",
        "# Flask 서버를 ngrok으로 외부에 노출\n",
        "public_url = ngrok.connect(5000)   # 5000번 포트 연결\n",
        "print(\"🌐 Public URL:\", public_url)\n",
        "\n",
        "if __name__ == '__main__':\n",
        "    app.run(debug=True)"
      ],
      "metadata": {
        "id": "VnkES-EL2PrZ",
        "colab": {
          "base_uri": "https://localhost:8080/"
        },
        "outputId": "c7c7a9f3-555c-4fd8-b9b1-348fd1192d6a"
      },
      "execution_count": 12,
      "outputs": [
        {
          "output_type": "stream",
          "name": "stdout",
          "text": [
            "🌐 Public URL: NgrokTunnel: \"https://aefb3708e3d0.ngrok-free.app\" -> \"http://localhost:5000\"\n",
            " * Serving Flask app '__main__'\n",
            " * Debug mode: on\n"
          ]
        },
        {
          "output_type": "stream",
          "name": "stderr",
          "text": [
            "INFO:werkzeug:\u001b[31m\u001b[1mWARNING: This is a development server. Do not use it in a production deployment. Use a production WSGI server instead.\u001b[0m\n",
            " * Running on http://127.0.0.1:5000\n",
            "INFO:werkzeug:\u001b[33mPress CTRL+C to quit\u001b[0m\n",
            "INFO:werkzeug: * Restarting with watchdog (inotify)\n"
          ]
        }
      ]
    },
    {
      "cell_type": "markdown",
      "source": [
        "코드 4-4"
      ],
      "metadata": {
        "id": "S6AM6rwg67Nw"
      }
    },
    {
      "cell_type": "code",
      "source": [
        "from flask import Flask, request, send_file\n",
        "from ultralytics import YOLO\n",
        "import cv2\n",
        "import numpy as np\n",
        "import io\n",
        "\n",
        "app = Flask(__name__)\n",
        "model = YOLO(\"yolov8n.pt\")  # 사전학습된 YOLOv8 모델 로드\n",
        "\n",
        "@app.route('/detect', methods=['POST'])\n",
        "def detect_yolo():\n",
        "    if 'image' not in request.files:\n",
        "        return {'error': 'No image file provided'}, 400\n",
        "\n",
        "    file = request.files['image']\n",
        "    image_data = np.frombuffer(file.read(), np.uint8)\n",
        "    image = cv2.imdecode(image_data, cv2.IMREAD_COLOR)\n",
        "\n",
        "    # YOLO 탐지 실행\n",
        "    results = model.predict(source=image, conf=0.5, verbose=False)[0]\n",
        "\n",
        "    # 탐지된 객체에 박스 그리기\n",
        "    for box in results.boxes:\n",
        "        cls_id = int(box.cls[0])\n",
        "        label = model.names[cls_id]\n",
        "        x1, y1, x2, y2 = map(int, box.xyxy[0])\n",
        "        cv2.rectangle(image, (x1, y1), (x2, y2), (0, 255, 0), 2)\n",
        "        cv2.putText(image, label, (x1, y1 - 10), cv2.FONT_HERSHEY_SIMPLEX, 0.8, (0, 255, 0), 2)\n",
        "\n",
        "    # 이미지 인코딩 후 반환\n",
        "    _, buffer = cv2.imencode('.jpg', image)\n",
        "    return send_file(\n",
        "        io.BytesIO(buffer.tobytes()),\n",
        "        mimetype='image/jpeg',\n",
        "        as_attachment=False,\n",
        "        download_name='result.jpg'\n",
        "    )\n",
        "\n",
        "if __name__ == '__main__':\n",
        "    app.run(debug=True, port=5000)\n"
      ],
      "metadata": {
        "id": "oLlIg4c469R3"
      },
      "execution_count": null,
      "outputs": []
    }
  ]
}