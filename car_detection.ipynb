{
  "cells": [
    {
      "cell_type": "code",
      "source": [
        "!gdown https://drive.google.com/uc?id=1SZghBM39ZhwzDUNgt_omWx7L1KjvKWxE"
      ],
      "metadata": {
        "id": "ZYBJgqCrGCbQ"
      },
      "execution_count": null,
      "outputs": []
    },
    {
      "cell_type": "code",
      "source": [
        "!pip install ultralytics"
      ],
      "metadata": {
        "id": "NjKnlQOxUzBQ"
      },
      "execution_count": null,
      "outputs": []
    },
    {
      "cell_type": "code",
      "source": [
        "!unzip datasets.zip"
      ],
      "metadata": {
        "id": "iTHI9mRKxdLK"
      },
      "execution_count": null,
      "outputs": []
    },
    {
      "cell_type": "code",
      "source": [
        "import yaml\n",
        "\n",
        "data = {\n",
        "       \"train\" : './datasets/train',\n",
        "        \"val\" : './datasets/val',\n",
        "        \"names\" : {\n",
        "                        \"0\":\"car\"\n",
        "                  }\n",
        "    }\n",
        "\n",
        "with open('./data.yaml', 'w') as f :\n",
        "    yaml.dump(data, f)\n",
        "\n",
        "# check written file\n",
        "with open('./data.yaml', 'r') as f :\n",
        "    lines = yaml.safe_load(f)\n",
        "    print(lines)"
      ],
      "metadata": {
        "id": "ofVH6ZvYxppx"
      },
      "execution_count": null,
      "outputs": []
    },
    {
      "cell_type": "code",
      "source": [
        "from ultralytics import YOLO\n",
        "model = YOLO(\"yolo11n.pt\")\n",
        "model.train(data='data.yaml', epochs=20, imgsz=640, batch=8, name='car-detection')"
      ],
      "metadata": {
        "id": "Tu1KWmCkGl1v"
      },
      "execution_count": null,
      "outputs": []
    },
    {
      "cell_type": "code",
      "source": [
        "model = YOLO('/content/runs/detect/car-detection/weights/best.pt')\n",
        "results = model('23.png', save=True, show=True)\n"
      ],
      "metadata": {
        "id": "W8cS3oZSUrVm"
      },
      "execution_count": null,
      "outputs": []
    },
    {
      "cell_type": "code",
      "source": [
        "import cv2\n",
        "import matplotlib.pyplot as plt\n",
        "\n",
        "# 이미지 불러오기\n",
        "img_path = \"23.png\"\n",
        "img = cv2.imread(img_path)\n",
        "img_rgb = cv2.cvtColor(img, cv2.COLOR_BGR2RGB)\n",
        "\n",
        "# 결과 정보 얻기\n",
        "boxes = results[0].boxes\n",
        "annotated = img_rgb.copy()\n",
        "\n",
        "# 시각화 (Matplotlib 사용)\n",
        "for box in boxes:\n",
        "    x1, y1, x2, y2 = map(int, box.xyxy[0])\n",
        "    cls_id = int(box.cls[0])\n",
        "    conf = float(box.conf[0])\n",
        "    label = model.names[cls_id]\n",
        "\n",
        "    # 박스 그리기\n",
        "    cv2.rectangle(annotated, (x1, y1), (x2, y2), (0, 255, 0), 2)\n",
        "\n",
        "    # 라벨 그리기\n",
        "    text = f\"{label} {conf:.2f}\"\n",
        "    cv2.putText(annotated, text, (x1, y1 - 10),\n",
        "                cv2.FONT_HERSHEY_SIMPLEX, 0.7, (0, 255, 0), 2)\n",
        "\n",
        "# 6. 출력\n",
        "plt.figure(figsize=(10, 6))\n",
        "plt.imshow(annotated)\n",
        "plt.axis(\"off\")\n",
        "plt.title(\"YOLOv8 Prediction\")\n",
        "plt.show()"
      ],
      "metadata": {
        "id": "j0SzCsH9VeBX"
      },
      "execution_count": null,
      "outputs": []
    },
    {
      "cell_type": "code",
      "source": [],
      "metadata": {
        "id": "uoDG46AMVoim"
      },
      "execution_count": null,
      "outputs": []
    }
  ],
  "metadata": {
    "kernelspec": {
      "display_name": "Python 3",
      "name": "python3"
    },
    "language_info": {
      "name": "python",
      "version": ""
    },
    "colab": {
      "provenance": [],
      "machine_shape": "hm",
      "gpuType": "T4"
    },
    "accelerator": "GPU"
  },
  "nbformat": 4,
  "nbformat_minor": 0
}