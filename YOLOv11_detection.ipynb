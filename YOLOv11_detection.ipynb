{
  "cells": [
    {
      "cell_type": "markdown",
      "metadata": {
        "id": "nPpbqFCDYDvF"
      },
      "source": [
        "# 🔍 YOLOv11 기반 이미지 검출 실습"
      ]
    },
    {
      "cell_type": "markdown",
      "source": [
        "🍎🍌 사과 & 바나나 객체 탐지 예제 데이터셋\n",
        "\n",
        "Roboflow Universe에서 제공하는 fruits-apple-banana 데이터셋은 사과와 바나나를 포함한 1,000장의 이미지와 주석이 포함된 공개 데이터셋입니다.\n",
        "\n",
        "📁 데이터셋 구성\n",
        "\n",
        "- 이미지 수: 1,000장\n",
        "- 클래스: 사과(apple), 바나나(banana)\n",
        "- 형식: YOLOv8, COCO JSON 등 다양한 포맷으로 다운로드 가능\n",
        "- 데이터 분할:\n",
        "    - 훈련(Train): 76%\n",
        "    - 검증(Validation): 18%\n",
        "    - 테스트(Test): 6%"
      ],
      "metadata": {
        "id": "R7t44UNof0yV"
      }
    },
    {
      "cell_type": "markdown",
      "source": [
        "🔽 데이터셋 다운로드 및 사용 방법\n",
        "\n",
        "1. Roboflow 계정 생성 및 로그인\n",
        "    - Roboflow에 접속하여 무료 계정을 생성하고 로그인합니다.\n",
        "\n",
        "2. 데이터셋 페이지로 이동\n",
        "    - fruits-apple-banana 데이터셋 페이지로 이동합니다.\n",
        "\n",
        "3. 데이터셋 다운로드\n",
        "    - Download Dataset 버튼을 클릭합니다.\n",
        "\n",
        "    - 원하는 포맷을 선택합니다:\n",
        "        - YOLOv8\n",
        "        - COCO JSON\n",
        "        - Pascal VOC XML\n",
        "        - TFRecord\n",
        "        - 기타\n",
        "\n",
        "    - Download 버튼을 클릭하여 ZIP 파일을 다운로드합니다.\n",
        "\n",
        "4. 데이터셋 압축 해제\n",
        "    - 다운로드한 ZIP 파일을 원하는 디렉토리에 압축 해제합니다.\n",
        "\n",
        "5. YOLOv8 모델 학습\n",
        "    - Ultralytics의 YOLOv8을 사용하여 모델을 학습할 수 있습니다."
      ],
      "metadata": {
        "id": "Hp0xjASOgRxg"
      }
    },
    {
      "cell_type": "code",
      "execution_count": 1,
      "metadata": {
        "id": "ehfYnnxkYDvG",
        "colab": {
          "base_uri": "https://localhost:8080/"
        },
        "outputId": "3017c0d6-41a4-446f-c167-d65fe0c8039e"
      },
      "outputs": [
        {
          "output_type": "stream",
          "name": "stdout",
          "text": [
            "Collecting ultralytics\n",
            "  Downloading ultralytics-8.3.185-py3-none-any.whl.metadata (37 kB)\n",
            "Requirement already satisfied: numpy>=1.23.0 in /usr/local/lib/python3.12/dist-packages (from ultralytics) (2.0.2)\n",
            "Requirement already satisfied: matplotlib>=3.3.0 in /usr/local/lib/python3.12/dist-packages (from ultralytics) (3.10.0)\n",
            "Requirement already satisfied: opencv-python>=4.6.0 in /usr/local/lib/python3.12/dist-packages (from ultralytics) (4.12.0.88)\n",
            "Requirement already satisfied: pillow>=7.1.2 in /usr/local/lib/python3.12/dist-packages (from ultralytics) (11.3.0)\n",
            "Requirement already satisfied: pyyaml>=5.3.1 in /usr/local/lib/python3.12/dist-packages (from ultralytics) (6.0.2)\n",
            "Requirement already satisfied: requests>=2.23.0 in /usr/local/lib/python3.12/dist-packages (from ultralytics) (2.32.4)\n",
            "Requirement already satisfied: scipy>=1.4.1 in /usr/local/lib/python3.12/dist-packages (from ultralytics) (1.16.1)\n",
            "Requirement already satisfied: torch>=1.8.0 in /usr/local/lib/python3.12/dist-packages (from ultralytics) (2.8.0+cu126)\n",
            "Requirement already satisfied: torchvision>=0.9.0 in /usr/local/lib/python3.12/dist-packages (from ultralytics) (0.23.0+cu126)\n",
            "Requirement already satisfied: tqdm>=4.64.0 in /usr/local/lib/python3.12/dist-packages (from ultralytics) (4.67.1)\n",
            "Requirement already satisfied: psutil in /usr/local/lib/python3.12/dist-packages (from ultralytics) (5.9.5)\n",
            "Requirement already satisfied: py-cpuinfo in /usr/local/lib/python3.12/dist-packages (from ultralytics) (9.0.0)\n",
            "Requirement already satisfied: pandas>=1.1.4 in /usr/local/lib/python3.12/dist-packages (from ultralytics) (2.2.2)\n",
            "Collecting ultralytics-thop>=2.0.0 (from ultralytics)\n",
            "  Downloading ultralytics_thop-2.0.16-py3-none-any.whl.metadata (14 kB)\n",
            "Requirement already satisfied: contourpy>=1.0.1 in /usr/local/lib/python3.12/dist-packages (from matplotlib>=3.3.0->ultralytics) (1.3.3)\n",
            "Requirement already satisfied: cycler>=0.10 in /usr/local/lib/python3.12/dist-packages (from matplotlib>=3.3.0->ultralytics) (0.12.1)\n",
            "Requirement already satisfied: fonttools>=4.22.0 in /usr/local/lib/python3.12/dist-packages (from matplotlib>=3.3.0->ultralytics) (4.59.1)\n",
            "Requirement already satisfied: kiwisolver>=1.3.1 in /usr/local/lib/python3.12/dist-packages (from matplotlib>=3.3.0->ultralytics) (1.4.9)\n",
            "Requirement already satisfied: packaging>=20.0 in /usr/local/lib/python3.12/dist-packages (from matplotlib>=3.3.0->ultralytics) (25.0)\n",
            "Requirement already satisfied: pyparsing>=2.3.1 in /usr/local/lib/python3.12/dist-packages (from matplotlib>=3.3.0->ultralytics) (3.2.3)\n",
            "Requirement already satisfied: python-dateutil>=2.7 in /usr/local/lib/python3.12/dist-packages (from matplotlib>=3.3.0->ultralytics) (2.9.0.post0)\n",
            "Requirement already satisfied: pytz>=2020.1 in /usr/local/lib/python3.12/dist-packages (from pandas>=1.1.4->ultralytics) (2025.2)\n",
            "Requirement already satisfied: tzdata>=2022.7 in /usr/local/lib/python3.12/dist-packages (from pandas>=1.1.4->ultralytics) (2025.2)\n",
            "Requirement already satisfied: charset_normalizer<4,>=2 in /usr/local/lib/python3.12/dist-packages (from requests>=2.23.0->ultralytics) (3.4.3)\n",
            "Requirement already satisfied: idna<4,>=2.5 in /usr/local/lib/python3.12/dist-packages (from requests>=2.23.0->ultralytics) (3.10)\n",
            "Requirement already satisfied: urllib3<3,>=1.21.1 in /usr/local/lib/python3.12/dist-packages (from requests>=2.23.0->ultralytics) (2.5.0)\n",
            "Requirement already satisfied: certifi>=2017.4.17 in /usr/local/lib/python3.12/dist-packages (from requests>=2.23.0->ultralytics) (2025.8.3)\n",
            "Requirement already satisfied: filelock in /usr/local/lib/python3.12/dist-packages (from torch>=1.8.0->ultralytics) (3.19.1)\n",
            "Requirement already satisfied: typing-extensions>=4.10.0 in /usr/local/lib/python3.12/dist-packages (from torch>=1.8.0->ultralytics) (4.14.1)\n",
            "Requirement already satisfied: setuptools in /usr/local/lib/python3.12/dist-packages (from torch>=1.8.0->ultralytics) (75.2.0)\n",
            "Requirement already satisfied: sympy>=1.13.3 in /usr/local/lib/python3.12/dist-packages (from torch>=1.8.0->ultralytics) (1.13.3)\n",
            "Requirement already satisfied: networkx in /usr/local/lib/python3.12/dist-packages (from torch>=1.8.0->ultralytics) (3.5)\n",
            "Requirement already satisfied: jinja2 in /usr/local/lib/python3.12/dist-packages (from torch>=1.8.0->ultralytics) (3.1.6)\n",
            "Requirement already satisfied: fsspec in /usr/local/lib/python3.12/dist-packages (from torch>=1.8.0->ultralytics) (2025.3.0)\n",
            "Requirement already satisfied: nvidia-cuda-nvrtc-cu12==12.6.77 in /usr/local/lib/python3.12/dist-packages (from torch>=1.8.0->ultralytics) (12.6.77)\n",
            "Requirement already satisfied: nvidia-cuda-runtime-cu12==12.6.77 in /usr/local/lib/python3.12/dist-packages (from torch>=1.8.0->ultralytics) (12.6.77)\n",
            "Requirement already satisfied: nvidia-cuda-cupti-cu12==12.6.80 in /usr/local/lib/python3.12/dist-packages (from torch>=1.8.0->ultralytics) (12.6.80)\n",
            "Requirement already satisfied: nvidia-cudnn-cu12==9.10.2.21 in /usr/local/lib/python3.12/dist-packages (from torch>=1.8.0->ultralytics) (9.10.2.21)\n",
            "Requirement already satisfied: nvidia-cublas-cu12==12.6.4.1 in /usr/local/lib/python3.12/dist-packages (from torch>=1.8.0->ultralytics) (12.6.4.1)\n",
            "Requirement already satisfied: nvidia-cufft-cu12==11.3.0.4 in /usr/local/lib/python3.12/dist-packages (from torch>=1.8.0->ultralytics) (11.3.0.4)\n",
            "Requirement already satisfied: nvidia-curand-cu12==10.3.7.77 in /usr/local/lib/python3.12/dist-packages (from torch>=1.8.0->ultralytics) (10.3.7.77)\n",
            "Requirement already satisfied: nvidia-cusolver-cu12==11.7.1.2 in /usr/local/lib/python3.12/dist-packages (from torch>=1.8.0->ultralytics) (11.7.1.2)\n",
            "Requirement already satisfied: nvidia-cusparse-cu12==12.5.4.2 in /usr/local/lib/python3.12/dist-packages (from torch>=1.8.0->ultralytics) (12.5.4.2)\n",
            "Requirement already satisfied: nvidia-cusparselt-cu12==0.7.1 in /usr/local/lib/python3.12/dist-packages (from torch>=1.8.0->ultralytics) (0.7.1)\n",
            "Requirement already satisfied: nvidia-nccl-cu12==2.27.3 in /usr/local/lib/python3.12/dist-packages (from torch>=1.8.0->ultralytics) (2.27.3)\n",
            "Requirement already satisfied: nvidia-nvtx-cu12==12.6.77 in /usr/local/lib/python3.12/dist-packages (from torch>=1.8.0->ultralytics) (12.6.77)\n",
            "Requirement already satisfied: nvidia-nvjitlink-cu12==12.6.85 in /usr/local/lib/python3.12/dist-packages (from torch>=1.8.0->ultralytics) (12.6.85)\n",
            "Requirement already satisfied: nvidia-cufile-cu12==1.11.1.6 in /usr/local/lib/python3.12/dist-packages (from torch>=1.8.0->ultralytics) (1.11.1.6)\n",
            "Requirement already satisfied: triton==3.4.0 in /usr/local/lib/python3.12/dist-packages (from torch>=1.8.0->ultralytics) (3.4.0)\n",
            "Requirement already satisfied: six>=1.5 in /usr/local/lib/python3.12/dist-packages (from python-dateutil>=2.7->matplotlib>=3.3.0->ultralytics) (1.17.0)\n",
            "Requirement already satisfied: mpmath<1.4,>=1.1.0 in /usr/local/lib/python3.12/dist-packages (from sympy>=1.13.3->torch>=1.8.0->ultralytics) (1.3.0)\n",
            "Requirement already satisfied: MarkupSafe>=2.0 in /usr/local/lib/python3.12/dist-packages (from jinja2->torch>=1.8.0->ultralytics) (3.0.2)\n",
            "Downloading ultralytics-8.3.185-py3-none-any.whl (1.1 MB)\n",
            "\u001b[2K   \u001b[90m━━━━━━━━━━━━━━━━━━━━━━━━━━━━━━━━━━━━━━━━\u001b[0m \u001b[32m1.1/1.1 MB\u001b[0m \u001b[31m55.5 MB/s\u001b[0m eta \u001b[36m0:00:00\u001b[0m\n",
            "\u001b[?25hDownloading ultralytics_thop-2.0.16-py3-none-any.whl (28 kB)\n",
            "Installing collected packages: ultralytics-thop, ultralytics\n",
            "Successfully installed ultralytics-8.3.185 ultralytics-thop-2.0.16\n"
          ]
        }
      ],
      "source": [
        "# ✅ 필수 라이브러리 설치\n",
        "!pip install ultralytics --upgrade"
      ]
    },
    {
      "cell_type": "code",
      "execution_count": 2,
      "metadata": {
        "id": "oNQVy_93YDvG",
        "colab": {
          "base_uri": "https://localhost:8080/"
        },
        "outputId": "f6b02f31-b462-41f4-9012-377b0b7b5349"
      },
      "outputs": [
        {
          "output_type": "stream",
          "name": "stdout",
          "text": [
            "Creating new Ultralytics Settings v0.0.6 file ✅ \n",
            "View Ultralytics Settings with 'yolo settings' or at '/root/.config/Ultralytics/settings.json'\n",
            "Update Settings with 'yolo settings key=value', i.e. 'yolo settings runs_dir=path/to/dir'. For help see https://docs.ultralytics.com/quickstart/#ultralytics-settings.\n"
          ]
        },
        {
          "output_type": "stream",
          "name": "stderr",
          "text": [
            "Downloading https://github.com/ultralytics/assets/releases/download/v8.3.0/yolo11n.pt to 'yolo11n.pt': 100%|██████████| 5.35M/5.35M [00:00<00:00, 141MB/s]"
          ]
        },
        {
          "output_type": "stream",
          "name": "stdout",
          "text": [
            "WARNING ⚠️ Environment does not support cv2.imshow() or PIL Image.show()\n",
            "\n"
          ]
        },
        {
          "output_type": "stream",
          "name": "stderr",
          "text": [
            "\n"
          ]
        },
        {
          "output_type": "stream",
          "name": "stdout",
          "text": [
            "\n"
          ]
        },
        {
          "output_type": "stream",
          "name": "stderr",
          "text": [
            "Downloading https://ultralytics.com/images/bus.jpg to 'bus.jpg': 100%|██████████| 134k/134k [00:00<00:00, 44.8MB/s]\n"
          ]
        },
        {
          "output_type": "stream",
          "name": "stdout",
          "text": [
            "image 1/1 /content/bus.jpg: 640x480 4 persons, 1 bus, 56.6ms\n",
            "Speed: 14.4ms preprocess, 56.6ms inference, 294.5ms postprocess per image at shape (1, 3, 640, 480)\n"
          ]
        },
        {
          "output_type": "execute_result",
          "data": {
            "text/plain": [
              "[ultralytics.engine.results.Results object with attributes:\n",
              " \n",
              " boxes: ultralytics.engine.results.Boxes object\n",
              " keypoints: None\n",
              " masks: None\n",
              " names: {0: 'person', 1: 'bicycle', 2: 'car', 3: 'motorcycle', 4: 'airplane', 5: 'bus', 6: 'train', 7: 'truck', 8: 'boat', 9: 'traffic light', 10: 'fire hydrant', 11: 'stop sign', 12: 'parking meter', 13: 'bench', 14: 'bird', 15: 'cat', 16: 'dog', 17: 'horse', 18: 'sheep', 19: 'cow', 20: 'elephant', 21: 'bear', 22: 'zebra', 23: 'giraffe', 24: 'backpack', 25: 'umbrella', 26: 'handbag', 27: 'tie', 28: 'suitcase', 29: 'frisbee', 30: 'skis', 31: 'snowboard', 32: 'sports ball', 33: 'kite', 34: 'baseball bat', 35: 'baseball glove', 36: 'skateboard', 37: 'surfboard', 38: 'tennis racket', 39: 'bottle', 40: 'wine glass', 41: 'cup', 42: 'fork', 43: 'knife', 44: 'spoon', 45: 'bowl', 46: 'banana', 47: 'apple', 48: 'sandwich', 49: 'orange', 50: 'broccoli', 51: 'carrot', 52: 'hot dog', 53: 'pizza', 54: 'donut', 55: 'cake', 56: 'chair', 57: 'couch', 58: 'potted plant', 59: 'bed', 60: 'dining table', 61: 'toilet', 62: 'tv', 63: 'laptop', 64: 'mouse', 65: 'remote', 66: 'keyboard', 67: 'cell phone', 68: 'microwave', 69: 'oven', 70: 'toaster', 71: 'sink', 72: 'refrigerator', 73: 'book', 74: 'clock', 75: 'vase', 76: 'scissors', 77: 'teddy bear', 78: 'hair drier', 79: 'toothbrush'}\n",
              " obb: None\n",
              " orig_img: array([[[119, 146, 172],\n",
              "         [121, 148, 174],\n",
              "         [122, 152, 177],\n",
              "         ...,\n",
              "         [161, 171, 188],\n",
              "         [160, 170, 187],\n",
              "         [160, 170, 187]],\n",
              " \n",
              "        [[120, 147, 173],\n",
              "         [122, 149, 175],\n",
              "         [123, 153, 178],\n",
              "         ...,\n",
              "         [161, 171, 188],\n",
              "         [160, 170, 187],\n",
              "         [160, 170, 187]],\n",
              " \n",
              "        [[123, 150, 176],\n",
              "         [124, 151, 177],\n",
              "         [125, 155, 180],\n",
              "         ...,\n",
              "         [161, 171, 188],\n",
              "         [160, 170, 187],\n",
              "         [160, 170, 187]],\n",
              " \n",
              "        ...,\n",
              " \n",
              "        [[183, 182, 186],\n",
              "         [179, 178, 182],\n",
              "         [180, 179, 183],\n",
              "         ...,\n",
              "         [121, 111, 117],\n",
              "         [113, 103, 109],\n",
              "         [115, 105, 111]],\n",
              " \n",
              "        [[165, 164, 168],\n",
              "         [173, 172, 176],\n",
              "         [187, 186, 190],\n",
              "         ...,\n",
              "         [102,  92,  98],\n",
              "         [101,  91,  97],\n",
              "         [103,  93,  99]],\n",
              " \n",
              "        [[123, 122, 126],\n",
              "         [145, 144, 148],\n",
              "         [176, 175, 179],\n",
              "         ...,\n",
              "         [ 95,  85,  91],\n",
              "         [ 96,  86,  92],\n",
              "         [ 98,  88,  94]]], dtype=uint8)\n",
              " orig_shape: (1080, 810)\n",
              " path: '/content/bus.jpg'\n",
              " probs: None\n",
              " save_dir: 'runs/detect/predict'\n",
              " speed: {'preprocess': 14.375644999972792, 'inference': 56.59347899995737, 'postprocess': 294.5279880000271}]"
            ]
          },
          "metadata": {},
          "execution_count": 2
        }
      ],
      "source": [
        "# 📦 YOLOv11 불러오기 및 예측 테스트 (사전 학습 모델)\n",
        "from ultralytics import YOLO\n",
        "model = YOLO(\"yolo11n.pt\")\n",
        "results = model('https://ultralytics.com/images/bus.jpg', show=True)\n",
        "results"
      ]
    },
    {
      "cell_type": "code",
      "source": [
        "!curl -L \"https://universe.roboflow.com/ds/pyRSTdNF9w?key=9fmDB9Q8vC\" > roboflow.zip; unzip roboflow.zip; rm roboflow.zip"
      ],
      "metadata": {
        "id": "I6D2cCuZhUeP",
        "colab": {
          "base_uri": "https://localhost:8080/"
        },
        "outputId": "f88b1fa6-07eb-4ecc-a129-db966533e9dd"
      },
      "execution_count": 3,
      "outputs": [
        {
          "output_type": "stream",
          "name": "stdout",
          "text": [
            "  % Total    % Received % Xferd  Average Speed   Time    Time     Time  Current\n",
            "                                 Dload  Upload   Total   Spent    Left  Speed\n",
            "100   896  100   896    0     0   2421      0 --:--:-- --:--:-- --:--:--  2428\n",
            "100 56.7M  100 56.7M    0     0  8862k      0  0:00:06  0:00:06 --:--:-- 11.6M\n",
            "Archive:  roboflow.zip\n",
            "  inflating: README.dataset.txt      \n",
            "  inflating: README.roboflow.txt     \n",
            "  inflating: data.yaml               \n",
            "   creating: test/\n",
            "   creating: test/images/\n",
            " extracting: test/images/rgb_115_png.rf.297664276a6dd9f5414ffe5199a09698.jpg  \n",
            " extracting: test/images/rgb_119_png.rf.23ee609e48a33a9ae846d80a4b9c5569.jpg  \n",
            " extracting: test/images/rgb_124_png.rf.a2965908db21b6ed3fc023d53cf099ef.jpg  \n",
            " extracting: test/images/rgb_125_png.rf.4d28bba6737e23af3ae3fb4722920cc1.jpg  \n",
            " extracting: test/images/rgb_127_png.rf.3852418d07f69db0c25be5cb0a396519.jpg  \n",
            " extracting: test/images/rgb_131_png.rf.c4023a79d583f1ac5a613b2d647b5398.jpg  \n",
            " extracting: test/images/rgb_141_png.rf.f522f72a7b843545044c7b312db6f82d.jpg  \n",
            " extracting: test/images/rgb_159_png.rf.8a28fb8a07e22a6eb7e136c3c2e1f26e.jpg  \n",
            " extracting: test/images/rgb_161_png.rf.38c5b044362fbf837d91ae2b3e340c85.jpg  \n",
            " extracting: test/images/rgb_172_png.rf.96881f472fdf5d3445b52732d2302578.jpg  \n",
            " extracting: test/images/rgb_175_png.rf.19fa0a9f95aefae990beb68088bf2f17.jpg  \n",
            " extracting: test/images/rgb_177_png.rf.b46c36ee2491bff7279e6332ee6c8d10.jpg  \n",
            " extracting: test/images/rgb_184_png.rf.51aace4549f5763d5ecbabf5d521bbe4.jpg  \n",
            " extracting: test/images/rgb_194_png.rf.346add32e7a3d127b10f50d5e222bf1e.jpg  \n",
            " extracting: test/images/rgb_197_png.rf.ff83c1c27954b1704ce609828d0ebece.jpg  \n",
            " extracting: test/images/rgb_22_png.rf.7ab7807dc92200cf4e85c7c421f94592.jpg  \n",
            " extracting: test/images/rgb_237_png.rf.d4e85c4ef38e516fb32a7e4615e99647.jpg  \n",
            " extracting: test/images/rgb_251_png.rf.112bf55853ca6a02086262d722de8494.jpg  \n",
            " extracting: test/images/rgb_253_png.rf.cb218b75d14d9491634162b49afa0575.jpg  \n",
            " extracting: test/images/rgb_25_png.rf.986b31c383adcf2aec4c1e55d0bf5734.jpg  \n",
            " extracting: test/images/rgb_265_png.rf.b0a06db8bcce003558f4e41169668c54.jpg  \n",
            " extracting: test/images/rgb_270_png.rf.16e76aa5a90a78f972070cfd52ef4f97.jpg  \n",
            " extracting: test/images/rgb_272_png.rf.ba426a34d19b0f50011199e124b2fad5.jpg  \n",
            " extracting: test/images/rgb_285_png.rf.9eef3f2e81783ea25ff0289849c83464.jpg  \n",
            " extracting: test/images/rgb_292_png.rf.6a57155586907b152e7855a2c02c00c1.jpg  \n",
            " extracting: test/images/rgb_294_png.rf.73e080be39617dcbdff548208574aaab.jpg  \n",
            " extracting: test/images/rgb_307_png.rf.7a75d02af98f2424a44529638dc13bd5.jpg  \n",
            " extracting: test/images/rgb_310_png.rf.2c34f9b431b84541cec86e10b85592a9.jpg  \n",
            " extracting: test/images/rgb_333_png.rf.a199f1a2150d705199abc06821ade1f8.jpg  \n",
            " extracting: test/images/rgb_340_png.rf.5cb3529e9045e8c1e13c9590c782433c.jpg  \n",
            " extracting: test/images/rgb_350_png.rf.fbddc155209640cf400b10879744c7e9.jpg  \n",
            " extracting: test/images/rgb_353_png.rf.3817f4afedff6a1cb2a6228855a59421.jpg  \n",
            " extracting: test/images/rgb_357_png.rf.a4bed38136baf448d66ac2ed6d03f08e.jpg  \n",
            " extracting: test/images/rgb_359_png.rf.e801f56e374e323a3fc356651a15cdbb.jpg  \n",
            " extracting: test/images/rgb_360_png.rf.fb4c5d72c587e17204a7b1fa8232fd8a.jpg  \n",
            " extracting: test/images/rgb_385_png.rf.e4069ad406bde5830d9804e1b5c77413.jpg  \n",
            " extracting: test/images/rgb_38_png.rf.7606a2c56e5aa97ec57863581a653d0d.jpg  \n",
            " extracting: test/images/rgb_392_png.rf.c2b0f199b8e3d042c17f97ef82b90431.jpg  \n",
            " extracting: test/images/rgb_407_png.rf.c187c0d42224efcd46a383fd2a7f0483.jpg  \n",
            " extracting: test/images/rgb_408_png.rf.82389830c831c182f8c8383e01f8518a.jpg  \n",
            " extracting: test/images/rgb_414_png.rf.e0015923f038a2cc96b73a731cd3d5ef.jpg  \n",
            " extracting: test/images/rgb_416_png.rf.ad331877c6682692fba11f2147be0263.jpg  \n",
            " extracting: test/images/rgb_436_png.rf.b778acab0042e99976a1346804ba5d47.jpg  \n",
            " extracting: test/images/rgb_438_png.rf.b68bf276fc4fe9641d7c16343d9f9532.jpg  \n",
            " extracting: test/images/rgb_446_png.rf.60a58dd7dfb256a00fe499694de00a83.jpg  \n",
            " extracting: test/images/rgb_461_png.rf.79f7703ab943c88baf80bf18b87a1f23.jpg  \n",
            " extracting: test/images/rgb_466_png.rf.fc1d41c84f12b0aca61d78c5a2c1ff02.jpg  \n",
            " extracting: test/images/rgb_46_png.rf.0bb3109d41c8e3411483c17d96aeb751.jpg  \n",
            " extracting: test/images/rgb_477_png.rf.f0b78186da8db487e85fec6e5137db3d.jpg  \n",
            " extracting: test/images/rgb_478_png.rf.f6a478c5ffe470099c1705f95adcf5d8.jpg  \n",
            " extracting: test/images/rgb_524_png.rf.d79df88152127f406ac2a7eae3c285ba.jpg  \n",
            " extracting: test/images/rgb_527_png.rf.e8cc5f1c5a258c7d985b19bd4210c8e5.jpg  \n",
            " extracting: test/images/rgb_535_png.rf.ef2521e2c5d73d054b44dfb7fe0da1b5.jpg  \n",
            " extracting: test/images/rgb_545_png.rf.e660401edc54241b014538ae27f1a4c5.jpg  \n",
            " extracting: test/images/rgb_547_png.rf.fc57caedc4bc4c63f1389050875f1783.jpg  \n",
            " extracting: test/images/rgb_548_png.rf.7fe815ccff6f0465723c52840bf4e4f6.jpg  \n",
            " extracting: test/images/rgb_549_png.rf.69ed290d3593faee5953df63b8f2cb2b.jpg  \n",
            " extracting: test/images/rgb_566_png.rf.277ee733661f50267253de64a6f9c2bc.jpg  \n",
            " extracting: test/images/rgb_569_png.rf.b5aa1b5a2f456d0b29a0674471294c8c.jpg  \n",
            " extracting: test/images/rgb_579_png.rf.7804d79a4a0bc6fa5f9435a30fd8ffa5.jpg  \n",
            " extracting: test/images/rgb_581_png.rf.753ecd3e8e243552e77f0064f185255f.jpg  \n",
            " extracting: test/images/rgb_603_png.rf.90b5e62dbef3373689fbf23e9193cdd4.jpg  \n",
            " extracting: test/images/rgb_606_png.rf.4e9872d44478f67c7ed7fe97ded9c185.jpg  \n",
            " extracting: test/images/rgb_611_png.rf.63f2ef0a8df1c287eb0c71725a48f158.jpg  \n",
            " extracting: test/images/rgb_614_png.rf.e9543fc370275fc993c20e6589c53f5e.jpg  \n",
            " extracting: test/images/rgb_651_png.rf.1d862fb80fceffbe0b112c799d6a2edf.jpg  \n",
            " extracting: test/images/rgb_654_png.rf.0b5a2a1f8646361b1e8cf2e6e0742b80.jpg  \n",
            " extracting: test/images/rgb_655_png.rf.43e134aeb5466218a1eb8381b311ce3e.jpg  \n",
            " extracting: test/images/rgb_675_png.rf.bdcd29cec29824903e9fac066fb52ddd.jpg  \n",
            " extracting: test/images/rgb_683_png.rf.2502ee103560462bf2011021c4918b97.jpg  \n",
            " extracting: test/images/rgb_685_png.rf.fee428bb04b6d69a711ab3db213c1a3b.jpg  \n",
            " extracting: test/images/rgb_686_png.rf.1ac9a82ca8f713021ba88f38a63cdbce.jpg  \n",
            " extracting: test/images/rgb_694_png.rf.be3798bc91e1135be600df39ac53600b.jpg  \n",
            " extracting: test/images/rgb_699_png.rf.b13b772f00c91732ade3d767d32c873b.jpg  \n",
            " extracting: test/images/rgb_702_png.rf.3dc2f4c3b3e6809fa69c8fc2cafb7c35.jpg  \n",
            " extracting: test/images/rgb_727_png.rf.a3366f112086b8e549d319bcb52b1b2f.jpg  \n",
            " extracting: test/images/rgb_743_png.rf.4e01ceeecc2f40c3d5114090dfac2ae3.jpg  \n",
            " extracting: test/images/rgb_759_png.rf.ae9cb2217ab539ccff69ea9887725979.jpg  \n",
            " extracting: test/images/rgb_760_png.rf.8e25d57f658a749de353d6548a3f94e3.jpg  \n",
            " extracting: test/images/rgb_762_png.rf.3e0ceedf6469008e1a293b711505e883.jpg  \n",
            " extracting: test/images/rgb_773_png.rf.0d5775f3c84bc4d331191221cdb47308.jpg  \n",
            " extracting: test/images/rgb_800_png.rf.29862a1e8dde68bb4b96ab0c07e8cf3d.jpg  \n",
            " extracting: test/images/rgb_805_png.rf.0dbc0473e322a10e7c1f27acbd87b209.jpg  \n",
            " extracting: test/images/rgb_808_png.rf.978ecd92c2d7b889e6222fc292e0fd31.jpg  \n",
            " extracting: test/images/rgb_817_png.rf.94fc98d916a72ae4aab9fb627e0ed2e7.jpg  \n",
            " extracting: test/images/rgb_822_png.rf.647d1b2e5d235d7dbeb73c7db194b6a7.jpg  \n",
            " extracting: test/images/rgb_842_png.rf.08791e9a8360dc8ea80329e0338a2f76.jpg  \n",
            " extracting: test/images/rgb_872_png.rf.b19b39261f05543aac1b6685655692af.jpg  \n",
            " extracting: test/images/rgb_882_png.rf.a752cd8f5aa050bf44f20fc16769923c.jpg  \n",
            " extracting: test/images/rgb_889_png.rf.dfd46286f83cff2439e8a164f76144c5.jpg  \n",
            " extracting: test/images/rgb_890_png.rf.d3ea1ce8b6e5caa494a29728e9be9267.jpg  \n",
            " extracting: test/images/rgb_895_png.rf.25e25edcda986006a72bed5659a21bc5.jpg  \n",
            " extracting: test/images/rgb_904_png.rf.4576729234a3f29c84aa9d7453a17278.jpg  \n",
            " extracting: test/images/rgb_938_png.rf.0796cc2ffa1cdcc2422bed7a4e16875d.jpg  \n",
            " extracting: test/images/rgb_942_png.rf.198a8dc0dfeca4dc856e8cda7eae939c.jpg  \n",
            " extracting: test/images/rgb_949_png.rf.6a7924db1cf6199e8a0d1fd171b8cb82.jpg  \n",
            " extracting: test/images/rgb_975_png.rf.b035da9e2c2e0b4c2292ba6905b9ab94.jpg  \n",
            " extracting: test/images/rgb_979_png.rf.6d1dd2732996957e91b2cdb8c3fa3917.jpg  \n",
            " extracting: test/images/rgb_986_png.rf.5dc77b32ad646b7c7330d143a040cb0c.jpg  \n",
            " extracting: test/images/rgb_998_png.rf.7956a766748be91fe0a376912ee6928b.jpg  \n",
            "   creating: test/labels/\n",
            "  inflating: test/labels/rgb_115_png.rf.297664276a6dd9f5414ffe5199a09698.txt  \n",
            "  inflating: test/labels/rgb_119_png.rf.23ee609e48a33a9ae846d80a4b9c5569.txt  \n",
            "  inflating: test/labels/rgb_124_png.rf.a2965908db21b6ed3fc023d53cf099ef.txt  \n",
            "  inflating: test/labels/rgb_125_png.rf.4d28bba6737e23af3ae3fb4722920cc1.txt  \n",
            "  inflating: test/labels/rgb_127_png.rf.3852418d07f69db0c25be5cb0a396519.txt  \n",
            "  inflating: test/labels/rgb_131_png.rf.c4023a79d583f1ac5a613b2d647b5398.txt  \n",
            "  inflating: test/labels/rgb_141_png.rf.f522f72a7b843545044c7b312db6f82d.txt  \n",
            "  inflating: test/labels/rgb_159_png.rf.8a28fb8a07e22a6eb7e136c3c2e1f26e.txt  \n",
            "  inflating: test/labels/rgb_161_png.rf.38c5b044362fbf837d91ae2b3e340c85.txt  \n",
            "  inflating: test/labels/rgb_172_png.rf.96881f472fdf5d3445b52732d2302578.txt  \n",
            "  inflating: test/labels/rgb_175_png.rf.19fa0a9f95aefae990beb68088bf2f17.txt  \n",
            "  inflating: test/labels/rgb_177_png.rf.b46c36ee2491bff7279e6332ee6c8d10.txt  \n",
            "  inflating: test/labels/rgb_184_png.rf.51aace4549f5763d5ecbabf5d521bbe4.txt  \n",
            "  inflating: test/labels/rgb_194_png.rf.346add32e7a3d127b10f50d5e222bf1e.txt  \n",
            "  inflating: test/labels/rgb_197_png.rf.ff83c1c27954b1704ce609828d0ebece.txt  \n",
            "  inflating: test/labels/rgb_22_png.rf.7ab7807dc92200cf4e85c7c421f94592.txt  \n",
            "  inflating: test/labels/rgb_237_png.rf.d4e85c4ef38e516fb32a7e4615e99647.txt  \n",
            "  inflating: test/labels/rgb_251_png.rf.112bf55853ca6a02086262d722de8494.txt  \n",
            "  inflating: test/labels/rgb_253_png.rf.cb218b75d14d9491634162b49afa0575.txt  \n",
            "  inflating: test/labels/rgb_25_png.rf.986b31c383adcf2aec4c1e55d0bf5734.txt  \n",
            "  inflating: test/labels/rgb_265_png.rf.b0a06db8bcce003558f4e41169668c54.txt  \n",
            "  inflating: test/labels/rgb_270_png.rf.16e76aa5a90a78f972070cfd52ef4f97.txt  \n",
            "  inflating: test/labels/rgb_272_png.rf.ba426a34d19b0f50011199e124b2fad5.txt  \n",
            "  inflating: test/labels/rgb_285_png.rf.9eef3f2e81783ea25ff0289849c83464.txt  \n",
            "  inflating: test/labels/rgb_292_png.rf.6a57155586907b152e7855a2c02c00c1.txt  \n",
            "  inflating: test/labels/rgb_294_png.rf.73e080be39617dcbdff548208574aaab.txt  \n",
            "  inflating: test/labels/rgb_307_png.rf.7a75d02af98f2424a44529638dc13bd5.txt  \n",
            "  inflating: test/labels/rgb_310_png.rf.2c34f9b431b84541cec86e10b85592a9.txt  \n",
            "  inflating: test/labels/rgb_333_png.rf.a199f1a2150d705199abc06821ade1f8.txt  \n",
            "  inflating: test/labels/rgb_340_png.rf.5cb3529e9045e8c1e13c9590c782433c.txt  \n",
            "  inflating: test/labels/rgb_350_png.rf.fbddc155209640cf400b10879744c7e9.txt  \n",
            "  inflating: test/labels/rgb_353_png.rf.3817f4afedff6a1cb2a6228855a59421.txt  \n",
            "  inflating: test/labels/rgb_357_png.rf.a4bed38136baf448d66ac2ed6d03f08e.txt  \n",
            "  inflating: test/labels/rgb_359_png.rf.e801f56e374e323a3fc356651a15cdbb.txt  \n",
            "  inflating: test/labels/rgb_360_png.rf.fb4c5d72c587e17204a7b1fa8232fd8a.txt  \n",
            "  inflating: test/labels/rgb_385_png.rf.e4069ad406bde5830d9804e1b5c77413.txt  \n",
            "  inflating: test/labels/rgb_38_png.rf.7606a2c56e5aa97ec57863581a653d0d.txt  \n",
            "  inflating: test/labels/rgb_392_png.rf.c2b0f199b8e3d042c17f97ef82b90431.txt  \n",
            "  inflating: test/labels/rgb_407_png.rf.c187c0d42224efcd46a383fd2a7f0483.txt  \n",
            "  inflating: test/labels/rgb_408_png.rf.82389830c831c182f8c8383e01f8518a.txt  \n",
            "  inflating: test/labels/rgb_414_png.rf.e0015923f038a2cc96b73a731cd3d5ef.txt  \n",
            "  inflating: test/labels/rgb_416_png.rf.ad331877c6682692fba11f2147be0263.txt  \n",
            "  inflating: test/labels/rgb_436_png.rf.b778acab0042e99976a1346804ba5d47.txt  \n",
            "  inflating: test/labels/rgb_438_png.rf.b68bf276fc4fe9641d7c16343d9f9532.txt  \n",
            "  inflating: test/labels/rgb_446_png.rf.60a58dd7dfb256a00fe499694de00a83.txt  \n",
            "  inflating: test/labels/rgb_461_png.rf.79f7703ab943c88baf80bf18b87a1f23.txt  \n",
            "  inflating: test/labels/rgb_466_png.rf.fc1d41c84f12b0aca61d78c5a2c1ff02.txt  \n",
            "  inflating: test/labels/rgb_46_png.rf.0bb3109d41c8e3411483c17d96aeb751.txt  \n",
            "  inflating: test/labels/rgb_477_png.rf.f0b78186da8db487e85fec6e5137db3d.txt  \n",
            "  inflating: test/labels/rgb_478_png.rf.f6a478c5ffe470099c1705f95adcf5d8.txt  \n",
            "  inflating: test/labels/rgb_524_png.rf.d79df88152127f406ac2a7eae3c285ba.txt  \n",
            "  inflating: test/labels/rgb_527_png.rf.e8cc5f1c5a258c7d985b19bd4210c8e5.txt  \n",
            "  inflating: test/labels/rgb_535_png.rf.ef2521e2c5d73d054b44dfb7fe0da1b5.txt  \n",
            "  inflating: test/labels/rgb_545_png.rf.e660401edc54241b014538ae27f1a4c5.txt  \n",
            "  inflating: test/labels/rgb_547_png.rf.fc57caedc4bc4c63f1389050875f1783.txt  \n",
            "  inflating: test/labels/rgb_548_png.rf.7fe815ccff6f0465723c52840bf4e4f6.txt  \n",
            "  inflating: test/labels/rgb_549_png.rf.69ed290d3593faee5953df63b8f2cb2b.txt  \n",
            "  inflating: test/labels/rgb_566_png.rf.277ee733661f50267253de64a6f9c2bc.txt  \n",
            "  inflating: test/labels/rgb_569_png.rf.b5aa1b5a2f456d0b29a0674471294c8c.txt  \n",
            "  inflating: test/labels/rgb_579_png.rf.7804d79a4a0bc6fa5f9435a30fd8ffa5.txt  \n",
            "  inflating: test/labels/rgb_581_png.rf.753ecd3e8e243552e77f0064f185255f.txt  \n",
            "  inflating: test/labels/rgb_603_png.rf.90b5e62dbef3373689fbf23e9193cdd4.txt  \n",
            "  inflating: test/labels/rgb_606_png.rf.4e9872d44478f67c7ed7fe97ded9c185.txt  \n",
            "  inflating: test/labels/rgb_611_png.rf.63f2ef0a8df1c287eb0c71725a48f158.txt  \n",
            "  inflating: test/labels/rgb_614_png.rf.e9543fc370275fc993c20e6589c53f5e.txt  \n",
            "  inflating: test/labels/rgb_651_png.rf.1d862fb80fceffbe0b112c799d6a2edf.txt  \n",
            "  inflating: test/labels/rgb_654_png.rf.0b5a2a1f8646361b1e8cf2e6e0742b80.txt  \n",
            "  inflating: test/labels/rgb_655_png.rf.43e134aeb5466218a1eb8381b311ce3e.txt  \n",
            "  inflating: test/labels/rgb_675_png.rf.bdcd29cec29824903e9fac066fb52ddd.txt  \n",
            "  inflating: test/labels/rgb_683_png.rf.2502ee103560462bf2011021c4918b97.txt  \n",
            "  inflating: test/labels/rgb_685_png.rf.fee428bb04b6d69a711ab3db213c1a3b.txt  \n",
            "  inflating: test/labels/rgb_686_png.rf.1ac9a82ca8f713021ba88f38a63cdbce.txt  \n",
            "  inflating: test/labels/rgb_694_png.rf.be3798bc91e1135be600df39ac53600b.txt  \n",
            "  inflating: test/labels/rgb_699_png.rf.b13b772f00c91732ade3d767d32c873b.txt  \n",
            "  inflating: test/labels/rgb_702_png.rf.3dc2f4c3b3e6809fa69c8fc2cafb7c35.txt  \n",
            "  inflating: test/labels/rgb_727_png.rf.a3366f112086b8e549d319bcb52b1b2f.txt  \n",
            "  inflating: test/labels/rgb_743_png.rf.4e01ceeecc2f40c3d5114090dfac2ae3.txt  \n",
            "  inflating: test/labels/rgb_759_png.rf.ae9cb2217ab539ccff69ea9887725979.txt  \n",
            "  inflating: test/labels/rgb_760_png.rf.8e25d57f658a749de353d6548a3f94e3.txt  \n",
            "  inflating: test/labels/rgb_762_png.rf.3e0ceedf6469008e1a293b711505e883.txt  \n",
            "  inflating: test/labels/rgb_773_png.rf.0d5775f3c84bc4d331191221cdb47308.txt  \n",
            "  inflating: test/labels/rgb_800_png.rf.29862a1e8dde68bb4b96ab0c07e8cf3d.txt  \n",
            "  inflating: test/labels/rgb_805_png.rf.0dbc0473e322a10e7c1f27acbd87b209.txt  \n",
            "  inflating: test/labels/rgb_808_png.rf.978ecd92c2d7b889e6222fc292e0fd31.txt  \n",
            "  inflating: test/labels/rgb_817_png.rf.94fc98d916a72ae4aab9fb627e0ed2e7.txt  \n",
            "  inflating: test/labels/rgb_822_png.rf.647d1b2e5d235d7dbeb73c7db194b6a7.txt  \n",
            "  inflating: test/labels/rgb_842_png.rf.08791e9a8360dc8ea80329e0338a2f76.txt  \n",
            "  inflating: test/labels/rgb_872_png.rf.b19b39261f05543aac1b6685655692af.txt  \n",
            "  inflating: test/labels/rgb_882_png.rf.a752cd8f5aa050bf44f20fc16769923c.txt  \n",
            "  inflating: test/labels/rgb_889_png.rf.dfd46286f83cff2439e8a164f76144c5.txt  \n",
            "  inflating: test/labels/rgb_890_png.rf.d3ea1ce8b6e5caa494a29728e9be9267.txt  \n",
            "  inflating: test/labels/rgb_895_png.rf.25e25edcda986006a72bed5659a21bc5.txt  \n",
            "  inflating: test/labels/rgb_904_png.rf.4576729234a3f29c84aa9d7453a17278.txt  \n",
            "  inflating: test/labels/rgb_938_png.rf.0796cc2ffa1cdcc2422bed7a4e16875d.txt  \n",
            "  inflating: test/labels/rgb_942_png.rf.198a8dc0dfeca4dc856e8cda7eae939c.txt  \n",
            "  inflating: test/labels/rgb_949_png.rf.6a7924db1cf6199e8a0d1fd171b8cb82.txt  \n",
            "  inflating: test/labels/rgb_975_png.rf.b035da9e2c2e0b4c2292ba6905b9ab94.txt  \n",
            "  inflating: test/labels/rgb_979_png.rf.6d1dd2732996957e91b2cdb8c3fa3917.txt  \n",
            "  inflating: test/labels/rgb_986_png.rf.5dc77b32ad646b7c7330d143a040cb0c.txt  \n",
            "  inflating: test/labels/rgb_998_png.rf.7956a766748be91fe0a376912ee6928b.txt  \n",
            "   creating: train/\n",
            "   creating: train/images/\n",
            " extracting: train/images/rgb_1001_png.rf.d625e471fc79c75da70e5832c3b1a5e7.jpg  \n",
            " extracting: train/images/rgb_101_png.rf.847461b934d2b36d845a92919930aade.jpg  \n",
            " extracting: train/images/rgb_102_png.rf.20c98c51fda0e75b8aef636df787e601.jpg  \n",
            " extracting: train/images/rgb_103_png.rf.b28273a7dd81967aa3823a5c032c2d19.jpg  \n",
            " extracting: train/images/rgb_104_png.rf.190aa8b8caa5e17135383723ba86ec7e.jpg  \n",
            " extracting: train/images/rgb_105_png.rf.8b496147f4318aed4e6b7a779f775338.jpg  \n",
            " extracting: train/images/rgb_106_png.rf.f69adcb3cd25b2523357eeac83cf1cbd.jpg  \n",
            " extracting: train/images/rgb_107_png.rf.b3fa47344348cf88fe1309395ae917ad.jpg  \n",
            " extracting: train/images/rgb_108_png.rf.01e117256b425efb0d274562d4d152fc.jpg  \n",
            " extracting: train/images/rgb_109_png.rf.023f62b0537eacb5300cd245cbf322b0.jpg  \n",
            " extracting: train/images/rgb_110_png.rf.6bba6ef8a1ba456d4f6eea3a2d6d55d6.jpg  \n",
            " extracting: train/images/rgb_111_png.rf.37394f878e5026db6ef815704072fc9c.jpg  \n",
            " extracting: train/images/rgb_112_png.rf.485837ab5e3e1f566e72f2e6ab89cf4d.jpg  \n",
            " extracting: train/images/rgb_114_png.rf.5f2ae4704ab0344a3e9a1ca58ed41120.jpg  \n",
            " extracting: train/images/rgb_118_png.rf.50b15f2dea20244747805ebcd7fa10e0.jpg  \n",
            " extracting: train/images/rgb_11_png.rf.441f3b9ad0fe6db196abfcd4e5900539.jpg  \n",
            " extracting: train/images/rgb_120_png.rf.6ca07377ee85e9a1d1ff8ea271a25c7a.jpg  \n",
            " extracting: train/images/rgb_121_png.rf.14e2e11c3a0da401e511cbd766146688.jpg  \n",
            " extracting: train/images/rgb_122_png.rf.2895e289dcb40169e561a28d652b0e53.jpg  \n",
            " extracting: train/images/rgb_126_png.rf.869ba6f9010a27a4b6e302fa9752be8c.jpg  \n",
            " extracting: train/images/rgb_128_png.rf.601cc29d568b720a4fcd5c909c50f051.jpg  \n",
            " extracting: train/images/rgb_129_png.rf.a5aeb16e9a95efa22bca4bbd88849be4.jpg  \n",
            " extracting: train/images/rgb_12_png.rf.24c3507e2cc6ff9f11b7cc30163eda6d.jpg  \n",
            " extracting: train/images/rgb_130_png.rf.f97182d00b9bb57aa749eb12fa57ff5a.jpg  \n",
            " extracting: train/images/rgb_132_png.rf.72fce6c4bb858f7b68f19fa2bcfae60d.jpg  \n",
            " extracting: train/images/rgb_133_png.rf.b6cf6e4d5689a767b9764bc3f6f7b930.jpg  \n",
            " extracting: train/images/rgb_134_png.rf.c1bc500bf2a29f81a315fca252ae41f8.jpg  \n",
            " extracting: train/images/rgb_135_png.rf.8e77a184549d173897561cdb49adbfff.jpg  \n",
            " extracting: train/images/rgb_136_png.rf.7fb7ad9d3284220b80443ba4ac18d80f.jpg  \n",
            " extracting: train/images/rgb_137_png.rf.3ebbb0b44a59edb2016dceba7d7ba3c1.jpg  \n",
            " extracting: train/images/rgb_138_png.rf.4b31116019cb2a56ac8363ac2bdf7838.jpg  \n",
            " extracting: train/images/rgb_139_png.rf.9ad242d808ffad2abb0dc4015e61b8c5.jpg  \n",
            " extracting: train/images/rgb_13_png.rf.ad44a1328d8ae2529e6fb1b9de937f44.jpg  \n",
            " extracting: train/images/rgb_140_png.rf.38019cfe3b91dc00ffa1de4d0d3c0ee8.jpg  \n",
            " extracting: train/images/rgb_143_png.rf.8273acec54e2a8adcd7964cde854c37c.jpg  \n",
            " extracting: train/images/rgb_144_png.rf.16aae80cd12b477bf82bb39009f6e845.jpg  \n",
            " extracting: train/images/rgb_145_png.rf.8b6c1ed1018c4e78d527cdffca7fcec0.jpg  \n",
            " extracting: train/images/rgb_146_png.rf.a5d2a59f31acafb255206ea4317c04aa.jpg  \n",
            " extracting: train/images/rgb_147_png.rf.ee165062278add1765820e95d98fb6f9.jpg  \n",
            " extracting: train/images/rgb_148_png.rf.5d2b2f3e05f1de32000ae65ee9951b91.jpg  \n",
            " extracting: train/images/rgb_149_png.rf.92dd366665c02ca62ebbbfe6b8aca63a.jpg  \n",
            " extracting: train/images/rgb_14_png.rf.408223c5e45b4cca4a508fd35ee45177.jpg  \n",
            " extracting: train/images/rgb_150_png.rf.40373c577b265bfec7217eeacd33ac36.jpg  \n",
            " extracting: train/images/rgb_151_png.rf.34e0372bfb39f3d6a3e7fadce54cadd9.jpg  \n",
            " extracting: train/images/rgb_153_png.rf.cc32faf3c47c9f6670bb99ebee0acbfe.jpg  \n",
            " extracting: train/images/rgb_155_png.rf.a9befe1f09faf67a7fd931e08c07609e.jpg  \n",
            " extracting: train/images/rgb_156_png.rf.b502fabff29449907433347b90100e21.jpg  \n",
            " extracting: train/images/rgb_157_png.rf.52c101bd348124c3f39105ce5c7121e0.jpg  \n",
            " extracting: train/images/rgb_158_png.rf.89032d29b05b36642b335f9bc0baf100.jpg  \n",
            " extracting: train/images/rgb_15_png.rf.96de9807ffbd687964e7aaf1b9397a59.jpg  \n",
            " extracting: train/images/rgb_160_png.rf.6686002654c55a21c84e54697b5232d0.jpg  \n",
            " extracting: train/images/rgb_165_png.rf.ae7b7db130ec43507312a242d2391713.jpg  \n",
            " extracting: train/images/rgb_166_png.rf.1bd544941881d8ffef44e6131dd2e4f9.jpg  \n",
            " extracting: train/images/rgb_167_png.rf.0a375ad1985c261717d436c417b0a525.jpg  \n",
            " extracting: train/images/rgb_168_png.rf.fcf8253238dfcf87e923eca47df476fd.jpg  \n",
            " extracting: train/images/rgb_169_png.rf.785b18ce37cd73f45f917d93980b4729.jpg  \n",
            " extracting: train/images/rgb_16_png.rf.cc2f5f6e3505b71cb8fc93ef2cab8637.jpg  \n",
            " extracting: train/images/rgb_171_png.rf.fc3be7c57a5a2195cc6e0c49b26be706.jpg  \n",
            " extracting: train/images/rgb_173_png.rf.8e97dedae01bb0ebb90fc8f2354d9abf.jpg  \n",
            " extracting: train/images/rgb_176_png.rf.87af8461bb963bae0a60ca80522054d2.jpg  \n",
            " extracting: train/images/rgb_178_png.rf.9f07c00c69929ddc6d93f0d5395b3263.jpg  \n",
            " extracting: train/images/rgb_179_png.rf.a2a9b75e4a0ff01c61dbfb13a3babfea.jpg  \n",
            " extracting: train/images/rgb_17_png.rf.f871f96116d7fbce78129f9fe2f367f3.jpg  \n",
            " extracting: train/images/rgb_180_png.rf.d859c40606d4e5068ee5b6be1b17baac.jpg  \n",
            " extracting: train/images/rgb_181_png.rf.046c6f6bfd205bf5cf1e07c940a160c9.jpg  \n",
            " extracting: train/images/rgb_182_png.rf.ce2861550fab49dfaa1c2362c185b32c.jpg  \n",
            " extracting: train/images/rgb_183_png.rf.eee8c2a96f1bb13ff0d06829f5bf6ab1.jpg  \n",
            " extracting: train/images/rgb_185_png.rf.cdb02d209bb65f6347d17dfbca25c0fe.jpg  \n",
            " extracting: train/images/rgb_186_png.rf.b0bc96a43067d8522e2c8d68d420d805.jpg  \n",
            " extracting: train/images/rgb_187_png.rf.ef0054f5d5f2b8c1d9558e70ed3e11ff.jpg  \n",
            " extracting: train/images/rgb_188_png.rf.28dacb4593ec43f369da2a77603e01dd.jpg  \n",
            " extracting: train/images/rgb_189_png.rf.4622dadb0c06ed659a63cd84b4b381c7.jpg  \n",
            " extracting: train/images/rgb_18_png.rf.490c81e4fd696fddcab3093de8dc618b.jpg  \n",
            " extracting: train/images/rgb_190_png.rf.352f9c1d12e4e3538706e7d4d9f5b0e3.jpg  \n",
            " extracting: train/images/rgb_191_png.rf.7e574903489d0004d19f49fe40311374.jpg  \n",
            " extracting: train/images/rgb_192_png.rf.41eb95a6a2e277402f3b3695e802aec5.jpg  \n",
            " extracting: train/images/rgb_193_png.rf.d2f78b28104103a87775780778833a0f.jpg  \n",
            " extracting: train/images/rgb_196_png.rf.265282d9e10750e8e5d06f83be409ddc.jpg  \n",
            " extracting: train/images/rgb_198_png.rf.a50cfadd344eb1f27d6b2984c28c0b5e.jpg  \n",
            " extracting: train/images/rgb_199_png.rf.1e652f4070ce56fa64ad5ed556430317.jpg  \n",
            " extracting: train/images/rgb_19_png.rf.8161d5cf5241ab624014710f5932c914.jpg  \n",
            " extracting: train/images/rgb_200_png.rf.862a79b62be4d671f405c5d43dd16f8c.jpg  \n",
            " extracting: train/images/rgb_201_png.rf.1a198ec44f28bab0dc2722fde929fceb.jpg  \n",
            " extracting: train/images/rgb_202_png.rf.1626243e0c01424437a1e17a41903029.jpg  \n",
            " extracting: train/images/rgb_203_png.rf.81c06ba064278d8251a05c703ce5fd66.jpg  \n",
            " extracting: train/images/rgb_204_png.rf.b64719afb9eb33a06d79dd39c9f91060.jpg  \n",
            " extracting: train/images/rgb_205_png.rf.507d8c0723c76a3be617e7f33cbca519.jpg  \n",
            " extracting: train/images/rgb_206_png.rf.61627986162030773f25e7be1302b5e9.jpg  \n",
            " extracting: train/images/rgb_207_png.rf.75cfbcde781c738709e82328f047d49f.jpg  \n",
            " extracting: train/images/rgb_208_png.rf.2b5c5cbcabb4f191240a36f72c05b4c8.jpg  \n",
            " extracting: train/images/rgb_209_png.rf.84ee279eaf24fa004a42f6f6bbe5688b.jpg  \n",
            " extracting: train/images/rgb_210_png.rf.e9b90d3c9aa16fda3ff7de81f387a3fa.jpg  \n",
            " extracting: train/images/rgb_211_png.rf.a26f13053a7ec7bcf955e1e1c47fc233.jpg  \n",
            " extracting: train/images/rgb_212_png.rf.b6da3bb132bad7527029d41cd58fd8b1.jpg  \n",
            " extracting: train/images/rgb_213_png.rf.6da5c8ec9e3259ccd3340454d3e9c468.jpg  \n",
            " extracting: train/images/rgb_214_png.rf.a1aedb5bde4506ee84d19df3f897503d.jpg  \n",
            " extracting: train/images/rgb_215_png.rf.2a85c7c912dcb44f70f7f172a2b624b0.jpg  \n",
            " extracting: train/images/rgb_217_png.rf.f633638286123827be8249aba49a5435.jpg  \n",
            " extracting: train/images/rgb_219_png.rf.b6649a33ccef9531b64474467b4af374.jpg  \n",
            " extracting: train/images/rgb_21_png.rf.c0991e6337f66d89a332123ea5a7b640.jpg  \n",
            " extracting: train/images/rgb_220_png.rf.5deb1536da92d85fd7f28eff8a248855.jpg  \n",
            " extracting: train/images/rgb_221_png.rf.17af1b1e0d7a72bb9e01725352cb284a.jpg  \n",
            " extracting: train/images/rgb_223_png.rf.338c927720467c880ae74e3178413751.jpg  \n",
            " extracting: train/images/rgb_224_png.rf.277fd648f8658af142a204bfac823e9d.jpg  \n",
            " extracting: train/images/rgb_225_png.rf.5542de9ece87058d86174f4d9763a49c.jpg  \n",
            " extracting: train/images/rgb_226_png.rf.577423fcfba23cb9355b8fe9eefad52c.jpg  \n",
            " extracting: train/images/rgb_228_png.rf.ec70731ae17b6d80949d265084d17c37.jpg  \n",
            " extracting: train/images/rgb_229_png.rf.8c5e526cb624a2f32d8fde01e72030fa.jpg  \n",
            " extracting: train/images/rgb_230_png.rf.06b67bc17be774646f063d42057ec103.jpg  \n",
            " extracting: train/images/rgb_231_png.rf.8cead36f0f387f70c12e59f237e01e80.jpg  \n",
            " extracting: train/images/rgb_232_png.rf.b84ee56787b250442ad186be08e33213.jpg  \n",
            " extracting: train/images/rgb_233_png.rf.f55cef63956787199739967c9be35886.jpg  \n",
            " extracting: train/images/rgb_235_png.rf.f2042e30e78961d20ad865e5d700acee.jpg  \n",
            " extracting: train/images/rgb_236_png.rf.5b96b6df4349a79380be61ac9e93f78a.jpg  \n",
            " extracting: train/images/rgb_238_png.rf.be2ff79d824b0e0d82bd4cfe5f37f899.jpg  \n",
            " extracting: train/images/rgb_239_png.rf.893155cac8607d18829e8dd0f55f6ac4.jpg  \n",
            " extracting: train/images/rgb_240_png.rf.cbecfff446fe4545444cc8983c6300ee.jpg  \n",
            " extracting: train/images/rgb_241_png.rf.02668b3a8a41c421bc641a4743fd8b98.jpg  \n",
            " extracting: train/images/rgb_242_png.rf.6f8e4ddda49b1ae22141f5325125fdaa.jpg  \n",
            " extracting: train/images/rgb_243_png.rf.5122469cec8ea3e0b1659c33be636af7.jpg  \n",
            " extracting: train/images/rgb_244_png.rf.747c1eede35f79cc7da84e743eb47c67.jpg  \n",
            " extracting: train/images/rgb_245_png.rf.8bc12e25038a71adf71526f6b55bc589.jpg  \n",
            " extracting: train/images/rgb_246_png.rf.5127ed1f731007ff987014e34fbb2b54.jpg  \n",
            " extracting: train/images/rgb_247_png.rf.611da153d63273e93f33bbe11d8b9246.jpg  \n",
            " extracting: train/images/rgb_248_png.rf.aff65f23f1e62632e0f3650ff667f3e3.jpg  \n",
            " extracting: train/images/rgb_24_png.rf.1f06a335d9ac2fd0b5c0bcf760471af5.jpg  \n",
            " extracting: train/images/rgb_250_png.rf.fd85f204f78088fec0cfdd4d00c2d3d5.jpg  \n",
            " extracting: train/images/rgb_252_png.rf.26f90eff3b829bc5515674a94a6f8e4f.jpg  \n",
            " extracting: train/images/rgb_254_png.rf.a73bee0ab571aa90d153406752c5e266.jpg  \n",
            " extracting: train/images/rgb_255_png.rf.fba7bad26f4d78e1c803c656d63bc27c.jpg  \n",
            " extracting: train/images/rgb_256_png.rf.aaa52e2d0b47468335f27b8a303f6d3e.jpg  \n",
            " extracting: train/images/rgb_257_png.rf.12e478656c994012ce579ace00da53fd.jpg  \n",
            " extracting: train/images/rgb_258_png.rf.fc2ac52387ab15e9aa6e873997dcd29c.jpg  \n",
            " extracting: train/images/rgb_260_png.rf.0c83801a8acb692f0a68b8e995e6c4df.jpg  \n",
            " extracting: train/images/rgb_261_png.rf.2e5e8531946cd4ac54844bf35539aac6.jpg  \n",
            " extracting: train/images/rgb_262_png.rf.d195b5db5fbcfd984be2896fe5dabe71.jpg  \n",
            " extracting: train/images/rgb_264_png.rf.e3ecc87327ca9c5a4adc3690fd3459bd.jpg  \n",
            " extracting: train/images/rgb_266_png.rf.270d1bf346640717be631c4baf5c06da.jpg  \n",
            " extracting: train/images/rgb_268_png.rf.f3c1dd220eb16acac10f022c90c2213a.jpg  \n",
            " extracting: train/images/rgb_269_png.rf.91abb334006a8a77cd276189cb5c29ba.jpg  \n",
            " extracting: train/images/rgb_26_png.rf.e2b6bade472fb3e51932265842e97720.jpg  \n",
            " extracting: train/images/rgb_271_png.rf.69e39d9c6b50b8e620d9c80a059d080a.jpg  \n",
            " extracting: train/images/rgb_273_png.rf.5b4e72749c8c3971b07c21774d88d744.jpg  \n",
            " extracting: train/images/rgb_274_png.rf.ab70ce49eb024bc35ac297f5d3d6f7cb.jpg  \n",
            " extracting: train/images/rgb_275_png.rf.126b44693618ca965c0ecfeaba376315.jpg  \n",
            " extracting: train/images/rgb_276_png.rf.75c390f8472f74ba68496e5236d7c598.jpg  \n",
            " extracting: train/images/rgb_277_png.rf.441a5aab53ae79571c44f4679cf999df.jpg  \n",
            " extracting: train/images/rgb_278_png.rf.aaf996a6a3f4a56f8335089f262844dc.jpg  \n",
            " extracting: train/images/rgb_279_png.rf.97d267bf6a6c9d201663197140b04831.jpg  \n",
            " extracting: train/images/rgb_280_png.rf.bc02e1f44744c2704b3c8105326c6fd1.jpg  \n",
            " extracting: train/images/rgb_281_png.rf.d042175e1b96c5eb3c12450544046041.jpg  \n",
            " extracting: train/images/rgb_283_png.rf.38b81536b359e45c6332ff2220986b7b.jpg  \n",
            " extracting: train/images/rgb_284_png.rf.7556c44ddd9bffdc15216a9875d4bf32.jpg  \n",
            " extracting: train/images/rgb_287_png.rf.c135fede70f340eb67894e17b08acd70.jpg  \n",
            " extracting: train/images/rgb_288_png.rf.8bd742a4b8bc8bb7acde8dfaf59d53a0.jpg  \n",
            " extracting: train/images/rgb_290_png.rf.826cee82962ee5395f69538408485657.jpg  \n",
            " extracting: train/images/rgb_291_png.rf.dc90202326ebca70c676dfb085ce26c2.jpg  \n",
            " extracting: train/images/rgb_295_png.rf.2d1199aaf814774342800c6c0583223e.jpg  \n",
            " extracting: train/images/rgb_296_png.rf.5642bd12fac54622bce34cb2648bec00.jpg  \n",
            " extracting: train/images/rgb_297_png.rf.a43f4b4ef23c1be28bde6519ae18b27e.jpg  \n",
            " extracting: train/images/rgb_298_png.rf.a6b76d5f45109a1d6647515d96f67f32.jpg  \n",
            " extracting: train/images/rgb_299_png.rf.4e99510a6973df8c49f7c3b3ecdb531b.jpg  \n",
            " extracting: train/images/rgb_2_png.rf.02c897fd92990ee8d341fb08baeea1df.jpg  \n",
            " extracting: train/images/rgb_300_png.rf.179a495ece5d917dc2f59c87608daa70.jpg  \n",
            " extracting: train/images/rgb_303_png.rf.8c496713dde8c4d9aee66aecdc2ecbcf.jpg  \n",
            " extracting: train/images/rgb_304_png.rf.84980a5a062761e2bcc1d2804251c8fe.jpg  \n",
            " extracting: train/images/rgb_305_png.rf.4359d2f4a85b186303f40f42b1c86273.jpg  \n",
            " extracting: train/images/rgb_306_png.rf.dd9496ceb74c95937ae2b4b21aefded1.jpg  \n",
            " extracting: train/images/rgb_308_png.rf.0eac6bfce847175ece69c4bc8f7bad20.jpg  \n",
            " extracting: train/images/rgb_30_png.rf.35b00673e73ba209508d70e0b5f86436.jpg  \n",
            " extracting: train/images/rgb_312_png.rf.8261ae615449eec60ec1c0d447b44cc9.jpg  \n",
            " extracting: train/images/rgb_314_png.rf.c2592fdbc392778135e93721dc1af548.jpg  \n",
            " extracting: train/images/rgb_315_png.rf.9d16edff62c1c8b3b932c06b76828bf4.jpg  \n",
            " extracting: train/images/rgb_316_png.rf.df387c34cae7e0fd9cbaf3797caf2626.jpg  \n",
            " extracting: train/images/rgb_317_png.rf.5c43463055edfef42bdce90e69942072.jpg  \n",
            " extracting: train/images/rgb_318_png.rf.5663f0fb147adf993f6b6df108dfcfae.jpg  \n",
            " extracting: train/images/rgb_319_png.rf.a1e25d92876ffd256aff60a5dfa0d4e2.jpg  \n",
            " extracting: train/images/rgb_31_png.rf.98d14ca3ef59a8b1c6cc22df72f32220.jpg  \n",
            " extracting: train/images/rgb_320_png.rf.b90a8895ab4e2d1c3e187804bdd020c9.jpg  \n",
            " extracting: train/images/rgb_321_png.rf.bebf0fffd57e423ac0eddddd71f19f98.jpg  \n",
            " extracting: train/images/rgb_324_png.rf.5ac4fdc02ae2e64f62fa07cdfb4633a0.jpg  \n",
            " extracting: train/images/rgb_325_png.rf.dfd09b367f2fe257d5c2a4480f1fe650.jpg  \n",
            " extracting: train/images/rgb_327_png.rf.6a3db9048e8b5382f207cc66062c323c.jpg  \n",
            " extracting: train/images/rgb_328_png.rf.76f480667fb247dc6c30aa50cfc89fd2.jpg  \n",
            " extracting: train/images/rgb_329_png.rf.136463614f421e6fd66be245bf1b1d5e.jpg  \n",
            " extracting: train/images/rgb_32_png.rf.6b6cd06328da4f0d050ad25838964bd5.jpg  \n",
            " extracting: train/images/rgb_330_png.rf.4a3dfba25188ce35e6c14849aa7b3fb6.jpg  \n",
            " extracting: train/images/rgb_331_png.rf.adb6e644ec597f451d9e2e514a2ef56c.jpg  \n",
            " extracting: train/images/rgb_334_png.rf.375cd7e70d1fce93eb8971eed78e4c53.jpg  \n",
            " extracting: train/images/rgb_335_png.rf.e0c62f13173ae9afc750960ac307723e.jpg  \n",
            " extracting: train/images/rgb_336_png.rf.526c658aa3babb01958240fb318aa216.jpg  \n",
            " extracting: train/images/rgb_337_png.rf.e4f319a0f9181e89d947d269b12d8fd0.jpg  \n",
            " extracting: train/images/rgb_338_png.rf.ad0c665de374c2328162fb9225bff03a.jpg  \n",
            " extracting: train/images/rgb_339_png.rf.2d5f81fdc544de9b1f24fc915053f9ea.jpg  \n",
            " extracting: train/images/rgb_33_png.rf.e43794ef114e7bcfb967d6e4c96befd1.jpg  \n",
            " extracting: train/images/rgb_341_png.rf.91e57675e64377b8dfc7e3c5d896ebc8.jpg  \n",
            " extracting: train/images/rgb_342_png.rf.5108895a79e5c1b76f5547985b0b170d.jpg  \n",
            " extracting: train/images/rgb_343_png.rf.a111b7dc046acbdd2228f40d125698c0.jpg  \n",
            " extracting: train/images/rgb_344_png.rf.a5873629d4290aeab016e1b1501bf064.jpg  \n",
            " extracting: train/images/rgb_347_png.rf.365cbc041992c344671a72aa8057bb72.jpg  \n",
            " extracting: train/images/rgb_348_png.rf.677b537839c683fbd5728c1fcba18ea1.jpg  \n",
            " extracting: train/images/rgb_349_png.rf.5609fe5d84920f28a6e770ad75fe8675.jpg  \n",
            " extracting: train/images/rgb_34_png.rf.940f84ef7e2fca123d4eb180b78a4eb9.jpg  \n",
            " extracting: train/images/rgb_351_png.rf.bb2d782f2ffc654e726a6d39ca1aae98.jpg  \n",
            " extracting: train/images/rgb_352_png.rf.0ed12139488e6492fd1ce84488ed00db.jpg  \n",
            " extracting: train/images/rgb_354_png.rf.5728d242864a51da28040fb02d6e4da7.jpg  \n",
            " extracting: train/images/rgb_355_png.rf.60ac1e8b23fd5f6f400b61e10d28ebb6.jpg  \n",
            " extracting: train/images/rgb_356_png.rf.e7f5e66437dc6c7444be0adbfc7db584.jpg  \n",
            " extracting: train/images/rgb_358_png.rf.c7fff5cccd5af28acd986ca7b55c7c85.jpg  \n",
            " extracting: train/images/rgb_361_png.rf.4aba6c22463ba023078bc79764e3c890.jpg  \n",
            " extracting: train/images/rgb_363_png.rf.2ff406e0162bfcb8a458f7eeb8b686fe.jpg  \n",
            " extracting: train/images/rgb_365_png.rf.9df2f3c878af02475c7baf7a78651f10.jpg  \n",
            " extracting: train/images/rgb_366_png.rf.b44fcde2ca5514ddaf50489eaa426866.jpg  \n",
            " extracting: train/images/rgb_367_png.rf.89cffb45444c502910de1b20afabbc37.jpg  \n",
            " extracting: train/images/rgb_36_png.rf.1ca03b5f15d4a80f21c6a2b8954fe48f.jpg  \n",
            " extracting: train/images/rgb_371_png.rf.66e5b5663b475ef35a7464d247546321.jpg  \n",
            " extracting: train/images/rgb_373_png.rf.97600079aff33f9d687fa5234d595e43.jpg  \n",
            " extracting: train/images/rgb_374_png.rf.7ad3714e6d319224a02c9917d2bba93b.jpg  \n",
            " extracting: train/images/rgb_375_png.rf.739d4d8ac30269e1ca6b1c446cb319c4.jpg  \n",
            " extracting: train/images/rgb_377_png.rf.eba821150e347825cfd4c40bc0a34ec5.jpg  \n",
            " extracting: train/images/rgb_378_png.rf.67f913011f1c8faf424470324e0c0f5d.jpg  \n",
            " extracting: train/images/rgb_379_png.rf.9f67d3dd37fdf4c9538c11a146f813e5.jpg  \n",
            " extracting: train/images/rgb_37_png.rf.18defe838b9050f586feb53a4b5cbe77.jpg  \n",
            " extracting: train/images/rgb_380_png.rf.45e9236276da7d71c42908f48b704e98.jpg  \n",
            " extracting: train/images/rgb_381_png.rf.3f0fe1ca83dfef179b6e8ca69021f321.jpg  \n",
            " extracting: train/images/rgb_382_png.rf.0ca00ac092ed246dfffd83f62d5b607b.jpg  \n",
            " extracting: train/images/rgb_386_png.rf.a9c407558945c7b1fc7e4ff9102dd68d.jpg  \n",
            " extracting: train/images/rgb_388_png.rf.7b7a29ffbedbd4082cb61d5fa667ff7c.jpg  \n",
            " extracting: train/images/rgb_389_png.rf.01b0bad9dd1d360a8d85081d11aa1a6d.jpg  \n",
            " extracting: train/images/rgb_390_png.rf.28a64e48b18e858cc4d4394efd7bb49a.jpg  \n",
            " extracting: train/images/rgb_391_png.rf.89c7b475331d92f25081d7a58aeff943.jpg  \n",
            " extracting: train/images/rgb_393_png.rf.9e209267bae40adcfbad19adb70895e9.jpg  \n",
            " extracting: train/images/rgb_394_png.rf.f9b291443f922fcba3b0b8bbe0976b45.jpg  \n",
            " extracting: train/images/rgb_395_png.rf.139248019d3ea35173fe556ba8c5dff8.jpg  \n",
            " extracting: train/images/rgb_396_png.rf.00909b03ff49f4932cf257034ee8fcbf.jpg  \n",
            " extracting: train/images/rgb_397_png.rf.9be6780ac94a12c2cda0ccd5e0a843ca.jpg  \n",
            " extracting: train/images/rgb_398_png.rf.0c736dce8fc02803f3c7380aee341cee.jpg  \n",
            " extracting: train/images/rgb_399_png.rf.8a763058c33c3f033b934ec10f00f697.jpg  \n",
            " extracting: train/images/rgb_39_png.rf.4f297b9edcfd36c090b429e0169e9b9f.jpg  \n",
            " extracting: train/images/rgb_3_png.rf.49c593c5cdf3fc60a94fa3ed4c04a3fc.jpg  \n",
            " extracting: train/images/rgb_400_png.rf.5960c330e8f88078235c6f682f2be161.jpg  \n",
            " extracting: train/images/rgb_401_png.rf.87893ab4c360232bc05acdbfa98085e0.jpg  \n",
            " extracting: train/images/rgb_402_png.rf.ca9ec29b162ebda7bc3371072541c6c1.jpg  \n",
            " extracting: train/images/rgb_403_png.rf.82b7dd530a4a3959f032a1b8a2baa5ba.jpg  \n",
            " extracting: train/images/rgb_405_png.rf.b8d89e498ff69cfbbaacb80bbe766ab1.jpg  \n",
            " extracting: train/images/rgb_409_png.rf.328f093fbd3365686d644954ff15fb47.jpg  \n",
            " extracting: train/images/rgb_410_png.rf.bea193a07abd14c562caacb01bca29db.jpg  \n",
            " extracting: train/images/rgb_411_png.rf.8a2b095550697f2651ef1baf9b579a2e.jpg  \n",
            " extracting: train/images/rgb_412_png.rf.e0264d2ccd5a76f3c2a080672115da8e.jpg  \n",
            " extracting: train/images/rgb_413_png.rf.4c919311cf6e5342f8dcc13633b0422f.jpg  \n",
            " extracting: train/images/rgb_415_png.rf.4b6810c4d871f427375e21729fc4055e.jpg  \n",
            " extracting: train/images/rgb_417_png.rf.b7fb94dd7b902fc893cf35bcec7dc629.jpg  \n",
            " extracting: train/images/rgb_418_png.rf.7d359c503cc7c41d81b8762873e66c96.jpg  \n",
            " extracting: train/images/rgb_419_png.rf.77e179a0c1ce6bd6909adc4f5a9faab9.jpg  \n",
            " extracting: train/images/rgb_41_png.rf.226f02724bf3ac2d4d4c8a63f4147f70.jpg  \n",
            " extracting: train/images/rgb_420_png.rf.ac6104c6c7720c0ba3bef34b906b5824.jpg  \n",
            " extracting: train/images/rgb_422_png.rf.88058ff164bdeedf11f030bf930e3095.jpg  \n",
            " extracting: train/images/rgb_423_png.rf.ec96cc2d0b9f5461033b783959cd5894.jpg  \n",
            " extracting: train/images/rgb_424_png.rf.b526ed0b60b0be31e88234545808e0ef.jpg  \n",
            " extracting: train/images/rgb_425_png.rf.445efade25a55864424846706ce2b855.jpg  \n",
            " extracting: train/images/rgb_426_png.rf.2731f9db6c9659c7a2c4b832dc523e1d.jpg  \n",
            " extracting: train/images/rgb_427_png.rf.477d853f1f76ad04920e3b8d29f91dd4.jpg  \n",
            " extracting: train/images/rgb_428_png.rf.d8fe94353bd128c05d62a0e3b6f9c8f0.jpg  \n",
            " extracting: train/images/rgb_429_png.rf.886724a764de690771dfed904f0e9570.jpg  \n",
            " extracting: train/images/rgb_42_png.rf.f23c40519c19e25e192a8c29d99c6cbc.jpg  \n",
            " extracting: train/images/rgb_433_png.rf.013d51b228ae28aae751da78c1ea6ad7.jpg  \n",
            " extracting: train/images/rgb_434_png.rf.5b852d0a74c47df9d162383c32f17310.jpg  \n",
            " extracting: train/images/rgb_435_png.rf.0f2682444a85da4a407609d5cd8449c7.jpg  \n",
            " extracting: train/images/rgb_437_png.rf.fe67bdd65f801ffdbd04d8888d040930.jpg  \n",
            " extracting: train/images/rgb_439_png.rf.71affaf6e29ca1d133e441411c8ea07a.jpg  \n",
            " extracting: train/images/rgb_43_png.rf.c5c143aa3148c26d6028fcb66ba1a7b6.jpg  \n",
            " extracting: train/images/rgb_440_png.rf.6d51632f1161b6a91b36cb07efac5f32.jpg  \n",
            " extracting: train/images/rgb_441_png.rf.b2772b6d121acdf17c3edb61a6843c63.jpg  \n",
            " extracting: train/images/rgb_442_png.rf.81568d48a4506ba447eb5a50c5969048.jpg  \n",
            " extracting: train/images/rgb_443_png.rf.2e4c791d45b59fe95c4e645f143e4a9d.jpg  \n",
            " extracting: train/images/rgb_444_png.rf.58b625774693b3048781ec039b9a765d.jpg  \n",
            " extracting: train/images/rgb_445_png.rf.a6e0e198a90c9bc1633268a55355da56.jpg  \n",
            " extracting: train/images/rgb_448_png.rf.b7462e85a2b23b8e4f29ce3e760e0f26.jpg  \n",
            " extracting: train/images/rgb_449_png.rf.e217b5392bc544f5d5960b503a342e55.jpg  \n",
            " extracting: train/images/rgb_44_png.rf.0b297ab72165b18a2324ea53f981891d.jpg  \n",
            " extracting: train/images/rgb_450_png.rf.e2020c2d4e708147027eea304bd4454f.jpg  \n",
            " extracting: train/images/rgb_451_png.rf.be94b4c6cd291843782ee552d195dc9a.jpg  \n",
            " extracting: train/images/rgb_453_png.rf.3f177ced0af9dc41eef3d91686329463.jpg  \n",
            " extracting: train/images/rgb_454_png.rf.aacb4693a5ae27c471429341f9406aef.jpg  \n",
            " extracting: train/images/rgb_455_png.rf.2ec8324b2c4ea74a718d8723e4688f30.jpg  \n",
            " extracting: train/images/rgb_456_png.rf.c0b8a26fd06546417281199e206da53f.jpg  \n",
            " extracting: train/images/rgb_458_png.rf.ca3ca9fabdccbda8a64e6b18f451f44b.jpg  \n",
            " extracting: train/images/rgb_459_png.rf.a0e0744b34ee6da1cd91b5d8b6d9bb6e.jpg  \n",
            " extracting: train/images/rgb_462_png.rf.f4c749d142d9b657231793a9f785f507.jpg  \n",
            " extracting: train/images/rgb_463_png.rf.cde7dd6f31cb2bd13f2266851e829c09.jpg  \n",
            " extracting: train/images/rgb_464_png.rf.1d00de36c791d18bfba8d6c382457527.jpg  \n",
            " extracting: train/images/rgb_465_png.rf.fc7b721d917f3a98e4f97f3a2afd378b.jpg  \n",
            " extracting: train/images/rgb_467_png.rf.5bd8aa1c1ef8d8b7edf933cf3fe17daf.jpg  \n",
            " extracting: train/images/rgb_470_png.rf.8c0d08b17b2aeccdd959da2ce945b19d.jpg  \n",
            " extracting: train/images/rgb_472_png.rf.31fbc0b1bd44d805c6387c0323bb6442.jpg  \n",
            " extracting: train/images/rgb_476_png.rf.b5da9748b1897867ed61349fbade4af7.jpg  \n",
            " extracting: train/images/rgb_480_png.rf.7c6b025b02c1c7fabf8087748c5d4f13.jpg  \n",
            " extracting: train/images/rgb_481_png.rf.ffbcce3def20d86d4bec3651a381ddf0.jpg  \n",
            " extracting: train/images/rgb_484_png.rf.601b8549dbed92b9d62e36d23df97af5.jpg  \n",
            " extracting: train/images/rgb_486_png.rf.c1390cfd095739ee28374f315161d00a.jpg  \n",
            " extracting: train/images/rgb_487_png.rf.2670d241124656556434b8f5414e0630.jpg  \n",
            " extracting: train/images/rgb_488_png.rf.7ab00a93c56b5813dec2508620fa0a91.jpg  \n",
            " extracting: train/images/rgb_489_png.rf.bda8d9fb7f1240b0095fe5b6b60acaa7.jpg  \n",
            " extracting: train/images/rgb_491_png.rf.ff9072d2b91ee935ec5bb9922e8c80cf.jpg  \n",
            " extracting: train/images/rgb_492_png.rf.6c0f38e560b4c47b53c87b0725d5193f.jpg  \n",
            " extracting: train/images/rgb_494_png.rf.9199c3ec1871c0cef52eda4281e9c70f.jpg  \n",
            " extracting: train/images/rgb_495_png.rf.baf7e12597683181923023a6667b1510.jpg  \n",
            " extracting: train/images/rgb_496_png.rf.e829264d91cc275605a665dd4d01d5cb.jpg  \n",
            " extracting: train/images/rgb_497_png.rf.f65d1e0d7309575921ee655d87e53066.jpg  \n",
            " extracting: train/images/rgb_498_png.rf.976ae93c5df595c9e0d649fcaf806f6c.jpg  \n",
            " extracting: train/images/rgb_499_png.rf.122fba9f2bca1171aa22bcfbe3612429.jpg  \n",
            " extracting: train/images/rgb_49_png.rf.7631c1e8c0d0b6551b2938e4bec2a7e7.jpg  \n",
            " extracting: train/images/rgb_502_png.rf.8f231ac0c469290976a3d6bcdd2618f2.jpg  \n",
            " extracting: train/images/rgb_503_png.rf.de9b09c471778b02d8d7edd4f11c871a.jpg  \n",
            " extracting: train/images/rgb_504_png.rf.c0514bcf819b3b12322f506841f9129f.jpg  \n",
            " extracting: train/images/rgb_505_png.rf.7a1140971759519c9efe4c0d7c5d9f9e.jpg  \n",
            " extracting: train/images/rgb_506_png.rf.f25dacdecf8caf5dfd59be5e113bd1bf.jpg  \n",
            " extracting: train/images/rgb_507_png.rf.0cd81fd7df1573214eba5da8de648672.jpg  \n",
            " extracting: train/images/rgb_509_png.rf.75689108d8d4305a2a1de54507377f81.jpg  \n",
            " extracting: train/images/rgb_50_png.rf.603f437e95c9f4c324c0f6b2d858df0f.jpg  \n",
            " extracting: train/images/rgb_510_png.rf.56e48ca5a08e956a357df8d31aa73011.jpg  \n",
            " extracting: train/images/rgb_511_png.rf.2bbb748868ce5fd76b70bb649697ccca.jpg  \n",
            " extracting: train/images/rgb_512_png.rf.6c63acb0304de595ed99ba2d3ecb0f59.jpg  \n",
            " extracting: train/images/rgb_513_png.rf.33f91d1e7bd4f7f8ec3339ddf6cff7d7.jpg  \n",
            " extracting: train/images/rgb_514_png.rf.05875c7f2cfed90e0f25af25be31e23e.jpg  \n",
            " extracting: train/images/rgb_515_png.rf.7a40e6d55898b315d7a34887d58a80d1.jpg  \n",
            " extracting: train/images/rgb_516_png.rf.3098414d8774d7c4bf07f220a25cbd22.jpg  \n",
            " extracting: train/images/rgb_517_png.rf.3e8549e754c12134d26fa92397fc6562.jpg  \n",
            " extracting: train/images/rgb_518_png.rf.db086605f246f8a2ca582c8cc571d9b8.jpg  \n",
            " extracting: train/images/rgb_519_png.rf.6d1ffb54129530914e8d6dd6eab3f2a4.jpg  \n",
            " extracting: train/images/rgb_51_png.rf.85418a9ee09d742b4dbedb075737081c.jpg  \n",
            " extracting: train/images/rgb_520_png.rf.bd253bbaa469d55664356de941e16c1b.jpg  \n",
            " extracting: train/images/rgb_521_png.rf.a425a63ca5ba3577bbc4baf2c46f3b88.jpg  \n",
            " extracting: train/images/rgb_523_png.rf.30b1cd701e8beb355094e03363646c24.jpg  \n",
            " extracting: train/images/rgb_525_png.rf.1ce02c2f8b272d5325d3b1643a37961c.jpg  \n",
            " extracting: train/images/rgb_526_png.rf.40846d93bfcf020c12f0a5afa3ce1256.jpg  \n",
            " extracting: train/images/rgb_528_png.rf.f7b967cced6018f910f6bfcaa633bfdb.jpg  \n",
            " extracting: train/images/rgb_529_png.rf.6fcd705ee67dc12aa091a59e0ac374be.jpg  \n",
            " extracting: train/images/rgb_52_png.rf.ce276f9c0fd4332a460ce876334c8465.jpg  \n",
            " extracting: train/images/rgb_531_png.rf.21cda8c10710a86d0a8e1d9b8a5b02dc.jpg  \n",
            " extracting: train/images/rgb_533_png.rf.d7ca9b2390b2f02195b55405399cc7bb.jpg  \n",
            " extracting: train/images/rgb_534_png.rf.dde31d7582728b26a5340db8d0c153fd.jpg  \n",
            " extracting: train/images/rgb_536_png.rf.dc7a47bf73436babaa66f19a5af8b8af.jpg  \n",
            " extracting: train/images/rgb_537_png.rf.2bd21ac03c3f76e48fac4088c8c5e078.jpg  \n",
            " extracting: train/images/rgb_538_png.rf.d0441150f594eb59ac055b003170af6f.jpg  \n",
            " extracting: train/images/rgb_539_png.rf.fe3ede8c314e023ccb2ac0af11048822.jpg  \n",
            " extracting: train/images/rgb_53_png.rf.22da6d0db53da4434f7c0e7abd776691.jpg  \n",
            " extracting: train/images/rgb_540_png.rf.6b266b09567fba474ea47caf12bf8d1a.jpg  \n",
            " extracting: train/images/rgb_542_png.rf.dc54a848cefc9ead8deb119cef81eaa3.jpg  \n",
            " extracting: train/images/rgb_543_png.rf.fcce0cf17ff0a049707521d21788ee28.jpg  \n",
            " extracting: train/images/rgb_544_png.rf.58e57384af458467588d1015cbdf8225.jpg  \n",
            " extracting: train/images/rgb_546_png.rf.90ba6fc2329e2f2d9090f013257749ea.jpg  \n",
            " extracting: train/images/rgb_54_png.rf.79ab8d0cc9027f5529b49d35ab6fd9e2.jpg  \n",
            " extracting: train/images/rgb_550_png.rf.8df639a7d81bb7a8e9f1b55ec4fb5b7e.jpg  \n",
            " extracting: train/images/rgb_554_png.rf.bbb3c27165bb184776ff613e6f8e8d80.jpg  \n",
            " extracting: train/images/rgb_555_png.rf.823773fc97480fe553cb177b43c5282b.jpg  \n",
            " extracting: train/images/rgb_557_png.rf.32243e9214ff9f5bcb80975b354379e2.jpg  \n",
            " extracting: train/images/rgb_559_png.rf.793247d42939ae3316b694f97ffd8524.jpg  \n",
            " extracting: train/images/rgb_55_png.rf.3ea0a9095a085838172342e1a0b92b67.jpg  \n",
            " extracting: train/images/rgb_560_png.rf.879e442e8a27a741e49da2a0827e44ce.jpg  \n",
            " extracting: train/images/rgb_561_png.rf.2a7125925f818de46c53c6aaa992709f.jpg  \n",
            " extracting: train/images/rgb_562_png.rf.30f38583f06d3ea60392640df0743d5a.jpg  \n",
            " extracting: train/images/rgb_563_png.rf.e56f7878b823f12adcf6f8736ff2472e.jpg  \n",
            " extracting: train/images/rgb_564_png.rf.12b4a8df2e4dacc45896c539323fd836.jpg  \n",
            " extracting: train/images/rgb_565_png.rf.99f1c92daf4a8bb466167e29465589d6.jpg  \n",
            " extracting: train/images/rgb_567_png.rf.47d90167264a803b7a313aeabd1feea9.jpg  \n",
            " extracting: train/images/rgb_568_png.rf.be0598eff92a5ce0a2d56129c331f128.jpg  \n",
            " extracting: train/images/rgb_570_png.rf.9741e8888c572b176db4f8f45cfe8c82.jpg  \n",
            " extracting: train/images/rgb_571_png.rf.4a486f3694e722830c2008421402202d.jpg  \n",
            " extracting: train/images/rgb_573_png.rf.689332ad79e7046e07f720bae7e2b9cc.jpg  \n",
            " extracting: train/images/rgb_574_png.rf.293b7b4f999b60698f46097b34f26c1a.jpg  \n",
            " extracting: train/images/rgb_576_png.rf.ccc648aacb5add78a4f534dfcb2f38ff.jpg  \n",
            " extracting: train/images/rgb_577_png.rf.4080e7a8dc92250a48bbfe3484a102f1.jpg  \n",
            " extracting: train/images/rgb_578_png.rf.6942ac00163edcf64b0d5b65c2965e2a.jpg  \n",
            " extracting: train/images/rgb_580_png.rf.daa5871e38486aeb1500caf7f255c0b2.jpg  \n",
            " extracting: train/images/rgb_582_png.rf.2f3f17f3d02be2761cd26b849f664c45.jpg  \n",
            " extracting: train/images/rgb_583_png.rf.f6859bae758a863d0c0a2bdf5ba38090.jpg  \n",
            " extracting: train/images/rgb_584_png.rf.1a82d72b1df7fae4fd0c66e1ade5ec3b.jpg  \n",
            " extracting: train/images/rgb_585_png.rf.0ed5e82c82dfe64a839b84740a2662b9.jpg  \n",
            " extracting: train/images/rgb_589_png.rf.ed73de1e540153edd2e8d792834784a2.jpg  \n",
            " extracting: train/images/rgb_590_png.rf.74205ff6031d3297fc03bad56e513982.jpg  \n",
            " extracting: train/images/rgb_592_png.rf.afe458049916e07d4f9b6e382c819230.jpg  \n",
            " extracting: train/images/rgb_594_png.rf.795f5ab0da30209c858788090375dd2e.jpg  \n",
            " extracting: train/images/rgb_595_png.rf.285f82d6e20b9f30dbbf43615b26007e.jpg  \n",
            " extracting: train/images/rgb_597_png.rf.3f42cd6352fc46805a2c3742d46200f6.jpg  \n",
            " extracting: train/images/rgb_598_png.rf.8ae3c38b23466295dfbb63a58cdaa5e1.jpg  \n",
            " extracting: train/images/rgb_599_png.rf.6a15d20fcb91158a1b3e4614a202f469.jpg  \n",
            " extracting: train/images/rgb_59_png.rf.58d197d05345c5305ac62f319a67aa88.jpg  \n",
            " extracting: train/images/rgb_5_png.rf.ddde81180481f2ef9a52b119e9e0c754.jpg  \n",
            " extracting: train/images/rgb_601_png.rf.905c8671d9527d7b8c626f8dd784d37c.jpg  \n",
            " extracting: train/images/rgb_602_png.rf.f8564961051db1f350a35b3011fcf8a2.jpg  \n",
            " extracting: train/images/rgb_604_png.rf.fd94d024c87899e28e06fe9200c3ebc8.jpg  \n",
            " extracting: train/images/rgb_605_png.rf.b246f182a5c79581989c2bb80bc03d53.jpg  \n",
            " extracting: train/images/rgb_607_png.rf.6d30806275a2a57d9a4f449e9b1e14ff.jpg  \n",
            " extracting: train/images/rgb_609_png.rf.b596ee7a966d510a760fcfbb28fdebd2.jpg  \n",
            " extracting: train/images/rgb_60_png.rf.8937818eea72807951a363caf5a579dd.jpg  \n",
            " extracting: train/images/rgb_613_png.rf.ea2c965248a8a3533cd2a85945a061f5.jpg  \n",
            " extracting: train/images/rgb_615_png.rf.9932f47123a26d2cc28926d9cb672582.jpg  \n",
            " extracting: train/images/rgb_616_png.rf.932e808bd2df218f799e92d95733e9ab.jpg  \n",
            " extracting: train/images/rgb_617_png.rf.068662accb300d50c22b4db380cc0532.jpg  \n",
            " extracting: train/images/rgb_618_png.rf.81cb0610cac10d18968d375d87bdaae2.jpg  \n",
            " extracting: train/images/rgb_619_png.rf.efbfac2561e2b1b5d259e2f379436c18.jpg  \n",
            " extracting: train/images/rgb_61_png.rf.a145a4bf30297838452bfe6e42cb14d2.jpg  \n",
            " extracting: train/images/rgb_620_png.rf.21ef16fed8ab03353e16faa88bc51b3d.jpg  \n",
            " extracting: train/images/rgb_622_png.rf.1a28e88e1f15b4874c9b436c3d8d7081.jpg  \n",
            " extracting: train/images/rgb_623_png.rf.2ab23885a625f79786ed886520de5748.jpg  \n",
            " extracting: train/images/rgb_624_png.rf.6d70302f0c2695209f4ef491bb4d137b.jpg  \n",
            " extracting: train/images/rgb_625_png.rf.89de303bd17057d646775dcb28988d88.jpg  \n",
            " extracting: train/images/rgb_626_png.rf.99d54f6edce926d4a9ee6c59de3b27dc.jpg  \n",
            " extracting: train/images/rgb_627_png.rf.a4544e1053579c758fe0015e56cfb36f.jpg  \n",
            " extracting: train/images/rgb_628_png.rf.aa94a6e5441966a0c30b732d508152a3.jpg  \n",
            " extracting: train/images/rgb_629_png.rf.b689a86fc4f26c8997edd250f93dddd4.jpg  \n",
            " extracting: train/images/rgb_62_png.rf.77a4d2558593ee132c39d41841b3c846.jpg  \n",
            " extracting: train/images/rgb_630_png.rf.2844af51ccf53525edfe156e9db425d2.jpg  \n",
            " extracting: train/images/rgb_631_png.rf.ebc97c6e61f932f691dedf95e50044ae.jpg  \n",
            " extracting: train/images/rgb_634_png.rf.3fab6da91ca3ea3ad999613a58ee6a81.jpg  \n",
            " extracting: train/images/rgb_636_png.rf.34199d23c5e6b556c084872637198e97.jpg  \n",
            " extracting: train/images/rgb_637_png.rf.19a91a8fe20ebf3f633a2b6a91843b24.jpg  \n",
            " extracting: train/images/rgb_638_png.rf.0743e2b465bf39641e63cbc7b74954ed.jpg  \n",
            " extracting: train/images/rgb_639_png.rf.9cbc807d7b72bcc78e8118b8fd45ed44.jpg  \n",
            " extracting: train/images/rgb_63_png.rf.6da81129016630b61f93f491a8490518.jpg  \n",
            " extracting: train/images/rgb_640_png.rf.1ac34be590891747bde5268c24d1fabe.jpg  \n",
            " extracting: train/images/rgb_641_png.rf.b55514ba9ebc663fa63ad26bf816c56a.jpg  \n",
            " extracting: train/images/rgb_643_png.rf.d11ccff9650881b5ddc9f1493f9a845c.jpg  \n",
            " extracting: train/images/rgb_644_png.rf.4ce15b01344e2042e619ebe8d49b9f86.jpg  \n",
            " extracting: train/images/rgb_645_png.rf.b0db82671f91f4c075fb6edb15aa1a3d.jpg  \n",
            " extracting: train/images/rgb_646_png.rf.2b382d28beeb74ad730f6dcaca1eace3.jpg  \n",
            " extracting: train/images/rgb_647_png.rf.0d510e8f659fe1c9d84bad529436406a.jpg  \n",
            " extracting: train/images/rgb_648_png.rf.0d6277b37e24ac83afe6dc2bcb1926d4.jpg  \n",
            " extracting: train/images/rgb_649_png.rf.305459247f83d1dde826ffba71d5bb92.jpg  \n",
            " extracting: train/images/rgb_64_png.rf.d763f0e8ad4af21c427bdd6480a6a1fc.jpg  \n",
            " extracting: train/images/rgb_650_png.rf.482ab870a84396cbe3a3e33824e90016.jpg  \n",
            " extracting: train/images/rgb_653_png.rf.6a5b2b85a9efb56c6839c0bdd5078e25.jpg  \n",
            " extracting: train/images/rgb_656_png.rf.ac0b7763e10db997d82f9d816beb2ffa.jpg  \n",
            " extracting: train/images/rgb_657_png.rf.8f0336811b4f229f43f974dcd1369e07.jpg  \n",
            " extracting: train/images/rgb_659_png.rf.19cdbec7ab411109f8b478cf299be623.jpg  \n",
            " extracting: train/images/rgb_65_png.rf.6231467389154a0a31805a9c3b1efe1c.jpg  \n",
            " extracting: train/images/rgb_660_png.rf.9ed6867f46c56fad1b8ef6dd3616727f.jpg  \n",
            " extracting: train/images/rgb_661_png.rf.7e32ab3fa3d5a96f5c607c4bea2d2402.jpg  \n",
            " extracting: train/images/rgb_662_png.rf.70b9e1cc1d9a510ea56ea83a9c72b312.jpg  \n",
            " extracting: train/images/rgb_663_png.rf.4f9323dc1afafcc92994cd7035b3eff2.jpg  \n",
            " extracting: train/images/rgb_664_png.rf.75c1d312ac6ef871c025507e8ebb2fdb.jpg  \n",
            " extracting: train/images/rgb_665_png.rf.37e0e429c73eced5d8690a75474c294a.jpg  \n",
            " extracting: train/images/rgb_666_png.rf.f656c8c957e15f06f8a28f0d5d5d7ec4.jpg  \n",
            " extracting: train/images/rgb_667_png.rf.52f81129bf3d1ff9572387d6be3c861f.jpg  \n",
            " extracting: train/images/rgb_668_png.rf.18acfc2d798aba12f67548c1c509af71.jpg  \n",
            " extracting: train/images/rgb_670_png.rf.7f2d059aa9b3b1847cfb2f6cda1ebfa7.jpg  \n",
            " extracting: train/images/rgb_671_png.rf.b299addb6a355e0c218265ad3343865c.jpg  \n",
            " extracting: train/images/rgb_672_png.rf.b681cab36d93384af7cf2835d6b47b33.jpg  \n",
            " extracting: train/images/rgb_673_png.rf.74109cbbed2243222abd2019e4bdc95c.jpg  \n",
            " extracting: train/images/rgb_674_png.rf.b3c731b531f0140268baf486c533ea1b.jpg  \n",
            " extracting: train/images/rgb_676_png.rf.099951fdfce213b5abdce6ed4d8ab63f.jpg  \n",
            " extracting: train/images/rgb_677_png.rf.0ac8e4286e97e7b1b3b9fa1fcd822c6a.jpg  \n",
            " extracting: train/images/rgb_678_png.rf.9d9f41702f03e61fcc7d12597db15fb5.jpg  \n",
            " extracting: train/images/rgb_679_png.rf.02ab354bab783fe9245df06ab38d48c3.jpg  \n",
            " extracting: train/images/rgb_67_png.rf.f28ffcf427d7f9014ee07a502c17d640.jpg  \n",
            " extracting: train/images/rgb_680_png.rf.7d61d9e77b3d4e896526c43191f64d29.jpg  \n",
            " extracting: train/images/rgb_681_png.rf.93037dabd7fbd418155289bbc447d66b.jpg  \n",
            " extracting: train/images/rgb_684_png.rf.bbf41c60f5bff57b515b944c12d72b81.jpg  \n",
            " extracting: train/images/rgb_688_png.rf.e130c7e3a679a615bdc637e5024db307.jpg  \n",
            " extracting: train/images/rgb_689_png.rf.d04db1d0a417ed02cb0e089402d22f2a.jpg  \n",
            " extracting: train/images/rgb_68_png.rf.07a17f46f8d6cf7734e4c4a4b7e22f63.jpg  \n",
            " extracting: train/images/rgb_690_png.rf.5870baa0202e28eab3ddb235ef7b8269.jpg  \n",
            " extracting: train/images/rgb_691_png.rf.4df524534d3b86284c609a263b3d53a6.jpg  \n",
            " extracting: train/images/rgb_692_png.rf.08af93a47d4cd34aa06f68ce9c6d502d.jpg  \n",
            " extracting: train/images/rgb_696_png.rf.60f665a35f2c7d32028a3d22525d2172.jpg  \n",
            " extracting: train/images/rgb_697_png.rf.b42315a3365a9151183d596215032e8c.jpg  \n",
            " extracting: train/images/rgb_698_png.rf.0d008c40faf555cfc51f1cf1cd4e10de.jpg  \n",
            " extracting: train/images/rgb_6_png.rf.f3a711ba0cb81a6fc553b21385f63280.jpg  \n",
            " extracting: train/images/rgb_700_png.rf.192ff9957b6a0291d2956093ec9ef4e6.jpg  \n",
            " extracting: train/images/rgb_701_png.rf.e65da56488b1b034ac2cebd641db9fc1.jpg  \n",
            " extracting: train/images/rgb_703_png.rf.a7f5597611a4256b73259d3723db4bde.jpg  \n",
            " extracting: train/images/rgb_704_png.rf.ef047ccfa663fd50d406c065cdc7df7c.jpg  \n",
            " extracting: train/images/rgb_705_png.rf.5d7ae5ced9e3b8d7c28446fb9acbbf4b.jpg  \n",
            " extracting: train/images/rgb_707_png.rf.46be207dea90a82f3e51dc95f55f06d8.jpg  \n",
            " extracting: train/images/rgb_708_png.rf.bd0a4b3b0cda0a31f93411cc8fe6c6c3.jpg  \n",
            " extracting: train/images/rgb_710_png.rf.bb97165e5b40f657e7b60ea9dc96f40a.jpg  \n",
            " extracting: train/images/rgb_711_png.rf.57092170221746dac963fe4943e6ebe7.jpg  \n",
            " extracting: train/images/rgb_712_png.rf.562073f4a43261ec90dbc480eee4ee27.jpg  \n",
            " extracting: train/images/rgb_714_png.rf.b32ce925df4502ca9f9c6466bba74bb9.jpg  \n",
            " extracting: train/images/rgb_715_png.rf.23bf0cae89a23c42a96d85b3b1b4b386.jpg  \n",
            " extracting: train/images/rgb_716_png.rf.4361ec4c9059bcfe8a0173825da4ebc5.jpg  \n",
            " extracting: train/images/rgb_717_png.rf.8914f6116f361e3197314a700650f78d.jpg  \n",
            " extracting: train/images/rgb_718_png.rf.97a960cddf3df7a4207034f12585db31.jpg  \n",
            " extracting: train/images/rgb_719_png.rf.1c37b27e21f998100ab565429776c376.jpg  \n",
            " extracting: train/images/rgb_720_png.rf.cef89afb2626d950c7644e7da1c3ac1c.jpg  \n",
            " extracting: train/images/rgb_722_png.rf.8b68997589faf9b9f6610163a9cfdc58.jpg  \n",
            " extracting: train/images/rgb_725_png.rf.3ee1dbfe553091a2e19c2d841cb9aaef.jpg  \n",
            " extracting: train/images/rgb_726_png.rf.927b5e118dad2c92d9a79a01de295403.jpg  \n",
            " extracting: train/images/rgb_728_png.rf.edb93b2a7a6c41a1553915fba886499a.jpg  \n",
            " extracting: train/images/rgb_72_png.rf.226d36ca052defcddff37f160cdaffcf.jpg  \n",
            " extracting: train/images/rgb_730_png.rf.9deb8e065dedcda06652371610c2738f.jpg  \n",
            " extracting: train/images/rgb_731_png.rf.8cfcdafe8d36467708a759643c332517.jpg  \n",
            " extracting: train/images/rgb_733_png.rf.b39b3110a6f4667e6c6552e3e16f4366.jpg  \n",
            " extracting: train/images/rgb_735_png.rf.eeb39b76a429f023a55d46de3c7b4539.jpg  \n",
            " extracting: train/images/rgb_737_png.rf.e4109c885edf9f08a2d395618f10e6a0.jpg  \n",
            " extracting: train/images/rgb_738_png.rf.c9fc56ae380df674da59be89b4414f0a.jpg  \n",
            " extracting: train/images/rgb_739_png.rf.2b86e9b31199c9b16ea84e84bb090f35.jpg  \n",
            " extracting: train/images/rgb_73_png.rf.af70dc789ee6fc2c911bb987861373a3.jpg  \n",
            " extracting: train/images/rgb_740_png.rf.6498158d4cd411b39277e793ea3c8af4.jpg  \n",
            " extracting: train/images/rgb_741_png.rf.55738dc732cc5940cc9d1bea29ce9e32.jpg  \n",
            " extracting: train/images/rgb_742_png.rf.dc11eb3a3c73d102eebb3e91cd8aef06.jpg  \n",
            " extracting: train/images/rgb_745_png.rf.35aec6c92f358dfa3e8ae21c0c0b5872.jpg  \n",
            " extracting: train/images/rgb_746_png.rf.901d263a6affe3d4d0532be89a6aa523.jpg  \n",
            " extracting: train/images/rgb_747_png.rf.0075bef4814d8c12e02f5df93bad3be5.jpg  \n",
            " extracting: train/images/rgb_749_png.rf.97c355aa11680279a4eea0a91a9db507.jpg  \n",
            " extracting: train/images/rgb_74_png.rf.270762226fb4ee41af95c2e7c71af455.jpg  \n",
            " extracting: train/images/rgb_750_png.rf.6a014fa02ef5d1fcff1a019a5e8ef94d.jpg  \n",
            " extracting: train/images/rgb_751_png.rf.6f00ce7eaac94690e30bb3b9d42eb055.jpg  \n",
            " extracting: train/images/rgb_752_png.rf.6e5df511ed60ce56b6765f267ea0c20c.jpg  \n",
            " extracting: train/images/rgb_753_png.rf.b2e01a6c62ab05b4803039a4948891ef.jpg  \n",
            " extracting: train/images/rgb_755_png.rf.8206357d0b65720263d956fcbaebdc9b.jpg  \n",
            " extracting: train/images/rgb_756_png.rf.f8d51983c5ad28d7c9c16aba0c59dcdb.jpg  \n",
            " extracting: train/images/rgb_757_png.rf.bd39ea084be5d56c60a3cbc2e316415b.jpg  \n",
            " extracting: train/images/rgb_758_png.rf.7ab4428beb88441f3d22b48c487b5ac3.jpg  \n",
            " extracting: train/images/rgb_761_png.rf.08a63833ebc40980368d56861bd9c524.jpg  \n",
            " extracting: train/images/rgb_763_png.rf.9ab9a050c26b4de71f521f1ba6d7e1f0.jpg  \n",
            " extracting: train/images/rgb_764_png.rf.0a7d1bcf3ea2d7b9f4bdf084be5c03ae.jpg  \n",
            " extracting: train/images/rgb_767_png.rf.4978edf87ec7a54b5342008b3f2e6a7e.jpg  \n",
            " extracting: train/images/rgb_768_png.rf.8328ae9ab37efd7dce73cecb14919989.jpg  \n",
            " extracting: train/images/rgb_769_png.rf.d6568fc6e98bdcf6c3130712c226a725.jpg  \n",
            " extracting: train/images/rgb_76_png.rf.45e4b4072454e6424458b9855a5eb4ef.jpg  \n",
            " extracting: train/images/rgb_770_png.rf.dac592ef28c6e92d86df82d72bbdb9b0.jpg  \n",
            " extracting: train/images/rgb_771_png.rf.074940b85ed1bf9db69809ac1d167303.jpg  \n",
            " extracting: train/images/rgb_772_png.rf.db13f41d52381e6f78a78a1a04537c4c.jpg  \n",
            " extracting: train/images/rgb_777_png.rf.deb8535e0537f22767087a98efc541fd.jpg  \n",
            " extracting: train/images/rgb_779_png.rf.136c66f9215c78eb24be0d79ac2f1e6e.jpg  \n",
            " extracting: train/images/rgb_77_png.rf.62eadc75dd1f4786387947288c0eb3a5.jpg  \n",
            " extracting: train/images/rgb_781_png.rf.94a60e57d6acaeb8739349b49bef9942.jpg  \n",
            " extracting: train/images/rgb_782_png.rf.a3d48d0cca90278adeeedcbdbb171d04.jpg  \n",
            " extracting: train/images/rgb_783_png.rf.5eaf1744d3ee53dfedc6ecdd6df98e4a.jpg  \n",
            " extracting: train/images/rgb_784_png.rf.0c25109778d79b471cd5957e40ae0e3e.jpg  \n",
            " extracting: train/images/rgb_786_png.rf.bffcde1733282aa7351251949df627ba.jpg  \n",
            " extracting: train/images/rgb_787_png.rf.9e54261779c1b347cc99c7bb68fcd671.jpg  \n",
            " extracting: train/images/rgb_788_png.rf.adbb706ae75de2a749d33baf8ea25d07.jpg  \n",
            " extracting: train/images/rgb_789_png.rf.65e1b90924d299b443b8320c9d556fe8.jpg  \n",
            " extracting: train/images/rgb_78_png.rf.e6df9a8289f4816bcba6eb3d0e40fd1b.jpg  \n",
            " extracting: train/images/rgb_790_png.rf.3f9a03bee6b99992d6a94e83aa8d4013.jpg  \n",
            " extracting: train/images/rgb_791_png.rf.729325a16f6472f2d9ca8ec51801902d.jpg  \n",
            " extracting: train/images/rgb_792_png.rf.c36c46b41e7f9f0b5137771bb8dc10f1.jpg  \n",
            " extracting: train/images/rgb_793_png.rf.ef37eb6ac7ec3a3cb8b2f6522947127d.jpg  \n",
            " extracting: train/images/rgb_794_png.rf.b402b92a5f6e8e176f331cead9ca718f.jpg  \n",
            " extracting: train/images/rgb_796_png.rf.10e4cb2076f63a8812b4aa059438402d.jpg  \n",
            " extracting: train/images/rgb_797_png.rf.6230727f909c0c1a3eeafa7a63c7373b.jpg  \n",
            " extracting: train/images/rgb_798_png.rf.5b71c38fb3241b62403202aa3fa51d00.jpg  \n",
            " extracting: train/images/rgb_799_png.rf.64861aab9edecace73c2017373186979.jpg  \n",
            " extracting: train/images/rgb_7_png.rf.4ee1da2bd0dedcfd46622ddb44ab4677.jpg  \n",
            " extracting: train/images/rgb_801_png.rf.3d7bcc6723beb0681b7bb9a422b58414.jpg  \n",
            " extracting: train/images/rgb_802_png.rf.f1df15ce9236dc1d47ef7230c5ac529d.jpg  \n",
            " extracting: train/images/rgb_803_png.rf.d671700942a0533387adf5b3066d148a.jpg  \n",
            " extracting: train/images/rgb_804_png.rf.c89f9d9fe87019c3284b84ac28a747d7.jpg  \n",
            " extracting: train/images/rgb_806_png.rf.b16013daa87ff52ffa9a7b8561b1d39e.jpg  \n",
            " extracting: train/images/rgb_807_png.rf.83ff8188a1d1b400af3eacfae2ce7ad9.jpg  \n",
            " extracting: train/images/rgb_809_png.rf.eee37987c3ef3ef1b0f46a9993c56bbc.jpg  \n",
            " extracting: train/images/rgb_810_png.rf.5c499c2dfcef3e7e690c0613f0d98563.jpg  \n",
            " extracting: train/images/rgb_811_png.rf.527e63a11ede32188ea8c07d509d8310.jpg  \n",
            " extracting: train/images/rgb_812_png.rf.43ac10b20a7649427c9f080bb4005f37.jpg  \n",
            " extracting: train/images/rgb_813_png.rf.ae504bad14cf3342a2d4caccc48d1b6a.jpg  \n",
            " extracting: train/images/rgb_814_png.rf.22f7f271fce369f4afcb50aac8b56381.jpg  \n",
            " extracting: train/images/rgb_816_png.rf.5a7c05da734f46fe698908457a8d37df.jpg  \n",
            " extracting: train/images/rgb_818_png.rf.988aec2914838ce16d0f1464da300696.jpg  \n",
            " extracting: train/images/rgb_819_png.rf.a89bbabc4e231f1c671ee5009f09ca51.jpg  \n",
            " extracting: train/images/rgb_820_png.rf.5c9f27cc8b54dd3c0b2a8f336d8e66b7.jpg  \n",
            " extracting: train/images/rgb_821_png.rf.ce4d2acf6c494276dfecd2ab4b70691e.jpg  \n",
            " extracting: train/images/rgb_823_png.rf.631fc0f89348a27722a4ed4d2adb5635.jpg  \n",
            " extracting: train/images/rgb_824_png.rf.1ed7516d7fae21c4dcc20625e07e1aa3.jpg  \n",
            " extracting: train/images/rgb_825_png.rf.3bd225408b12328177636d162bf7cc6b.jpg  \n",
            " extracting: train/images/rgb_826_png.rf.6c1158ff822a6c707467ac3ecd4220e6.jpg  \n",
            " extracting: train/images/rgb_829_png.rf.705314d96fd54b071beacc05944ce10d.jpg  \n",
            " extracting: train/images/rgb_82_png.rf.29326f12cd5a8950fd73771b00289960.jpg  \n",
            " extracting: train/images/rgb_831_png.rf.2c0f017a3728351632a1be916e750e5f.jpg  \n",
            " extracting: train/images/rgb_832_png.rf.c3acf21867d97b015c0b41e82fcbdb22.jpg  \n",
            " extracting: train/images/rgb_833_png.rf.20e974a119240b5177bd1703cd3c70d5.jpg  \n",
            " extracting: train/images/rgb_834_png.rf.aac51989d4dbb9d36d4ec68e77967f14.jpg  \n",
            " extracting: train/images/rgb_835_png.rf.1d2e9757747fe0c8c96fec38967bde40.jpg  \n",
            " extracting: train/images/rgb_836_png.rf.75b3cfa309b1ca7c46978a03ef0811d5.jpg  \n",
            " extracting: train/images/rgb_838_png.rf.3957e49e7de6e89006fb67ab8d710181.jpg  \n",
            " extracting: train/images/rgb_839_png.rf.f03cac946396d3b40e8c7a3f69ea4c7b.jpg  \n",
            " extracting: train/images/rgb_83_png.rf.28ca742f905cac279e7be77babd70ec1.jpg  \n",
            " extracting: train/images/rgb_840_png.rf.c6eea90ef8cd377807462a70751b817d.jpg  \n",
            " extracting: train/images/rgb_841_png.rf.ddf13721517b23ff636f06a0cdd6821f.jpg  \n",
            " extracting: train/images/rgb_843_png.rf.c7d65ec3cb463e715e0ecd3073e56cc7.jpg  \n",
            " extracting: train/images/rgb_844_png.rf.90b7e29433e38daaa5f076d89197f5a2.jpg  \n",
            " extracting: train/images/rgb_845_png.rf.5044fed2d2bdc598422035990b1e0bb6.jpg  \n",
            " extracting: train/images/rgb_847_png.rf.2e8ba38ec6876abf276607b28a31dd00.jpg  \n",
            " extracting: train/images/rgb_848_png.rf.641221e883b5cce845e513473588d738.jpg  \n",
            " extracting: train/images/rgb_84_png.rf.044642e504b973973b8ecd2888ae824e.jpg  \n",
            " extracting: train/images/rgb_850_png.rf.fddba1bf9b8925d975446b64c9c92a45.jpg  \n",
            " extracting: train/images/rgb_851_png.rf.b011637e8be759026284611c2815baa6.jpg  \n",
            " extracting: train/images/rgb_852_png.rf.476d3fd693fb6221af0385c65edccda2.jpg  \n",
            " extracting: train/images/rgb_853_png.rf.fb082ac3ffc2deb241a91bd4db64979e.jpg  \n",
            " extracting: train/images/rgb_854_png.rf.d54bdb230dfaabb48fc9edf1ee3e63a5.jpg  \n",
            " extracting: train/images/rgb_856_png.rf.55232b053951fde0a2de408ed51bdb66.jpg  \n",
            " extracting: train/images/rgb_857_png.rf.97cbfb2d2da97e042411d53e0e15f6b7.jpg  \n",
            " extracting: train/images/rgb_858_png.rf.2e4d1a8319148321e3f04ff1c2c54e22.jpg  \n",
            " extracting: train/images/rgb_859_png.rf.223bfc95607209a169785033de1842d0.jpg  \n",
            " extracting: train/images/rgb_85_png.rf.7dd5071c527f8363532c40f6b5a58b4a.jpg  \n",
            " extracting: train/images/rgb_861_png.rf.711d3e346eef22d205627129d1620adc.jpg  \n",
            " extracting: train/images/rgb_862_png.rf.e92778b69e2800820acf5ad1d86cc77c.jpg  \n",
            " extracting: train/images/rgb_863_png.rf.ed3ed255822d97c885ad26313da9a4e9.jpg  \n",
            " extracting: train/images/rgb_864_png.rf.82ed43a4e5d459699131e13b060d2c86.jpg  \n",
            " extracting: train/images/rgb_865_png.rf.69c5b12251be48bb8cb478bea6524188.jpg  \n",
            " extracting: train/images/rgb_866_png.rf.05a2789004b6c25fe2c4629b9ac301d4.jpg  \n",
            " extracting: train/images/rgb_867_png.rf.110b3253443be4ef8a3e9c724a9489e4.jpg  \n",
            " extracting: train/images/rgb_868_png.rf.93cc1bc0b8187df0492cb21b6df4ec68.jpg  \n",
            " extracting: train/images/rgb_869_png.rf.8ddb8a433d5409b78f3fee431ecdb5fc.jpg  \n",
            " extracting: train/images/rgb_86_png.rf.6711bcd497e6acbc3ac1f5a8a93b4d98.jpg  \n",
            " extracting: train/images/rgb_870_png.rf.9aa125d4693331c5ac709144d3b4894e.jpg  \n",
            " extracting: train/images/rgb_873_png.rf.5cf3c377cbe0d5feccb6ee7b999e5a47.jpg  \n",
            " extracting: train/images/rgb_874_png.rf.259bc3ec30abc551b4a89db063256209.jpg  \n",
            " extracting: train/images/rgb_875_png.rf.65c1f3f722c87d295cfe2e1698b14b5b.jpg  \n",
            " extracting: train/images/rgb_876_png.rf.587f260ddba01e56ad76d7512e3e5392.jpg  \n",
            " extracting: train/images/rgb_877_png.rf.b155e7f8955b42d4859824ebceb88296.jpg  \n",
            " extracting: train/images/rgb_878_png.rf.7d38a5fc6456b396bee10cfd0d3c55b6.jpg  \n",
            " extracting: train/images/rgb_87_png.rf.aa336003241f9938920f332aa5a916c2.jpg  \n",
            " extracting: train/images/rgb_880_png.rf.a4a1d5b405301709ed9a311d88d3e81c.jpg  \n",
            " extracting: train/images/rgb_881_png.rf.fe8c8e9a6938cc0c375653ad121cd124.jpg  \n",
            " extracting: train/images/rgb_883_png.rf.9ecd50eb3590b346e27fadfd9abf788c.jpg  \n",
            " extracting: train/images/rgb_885_png.rf.60c89ed9bde9e5897e448423703e388e.jpg  \n",
            " extracting: train/images/rgb_886_png.rf.35ede3603d61ebb14440116f22c80cae.jpg  \n",
            " extracting: train/images/rgb_887_png.rf.19a256212d3dbd639f78f78e87340f05.jpg  \n",
            " extracting: train/images/rgb_888_png.rf.e453df9d17ad92bbb0355d0eb96b468b.jpg  \n",
            " extracting: train/images/rgb_891_png.rf.95fea7164eb003d497315c7e19a6fa6d.jpg  \n",
            " extracting: train/images/rgb_892_png.rf.3a34130f3b2b9e35e4f7bedeb1ca030c.jpg  \n",
            " extracting: train/images/rgb_893_png.rf.28c713b32e61eb93bf8d4f722adb3922.jpg  \n",
            " extracting: train/images/rgb_894_png.rf.ded58c13d853092f411d1fa0d7e0c222.jpg  \n",
            " extracting: train/images/rgb_897_png.rf.7deea125bad4705fe72413200324f0af.jpg  \n",
            " extracting: train/images/rgb_898_png.rf.f96a46d305f12591edfb68a9e85aeb7c.jpg  \n",
            " extracting: train/images/rgb_899_png.rf.cacb432aadce97951f269a392fa0c22c.jpg  \n",
            " extracting: train/images/rgb_901_png.rf.a964fc760d741aedf29cf2d92822f438.jpg  \n",
            " extracting: train/images/rgb_902_png.rf.2a7dbd533e9f43049cc949ecca8255e6.jpg  \n",
            " extracting: train/images/rgb_903_png.rf.7d594305e53c85e593b5ead51b00066b.jpg  \n",
            " extracting: train/images/rgb_905_png.rf.ac6884c475379f0dc1570bd556e9e129.jpg  \n",
            " extracting: train/images/rgb_906_png.rf.7b44fe4046fd8b756c60fd5e5f2b499d.jpg  \n",
            " extracting: train/images/rgb_907_png.rf.368d45b1b5239e9feda356d8421b0dac.jpg  \n",
            " extracting: train/images/rgb_908_png.rf.f10947a4861d5db0dbc5534a024b3598.jpg  \n",
            " extracting: train/images/rgb_909_png.rf.87a3e620382d0eef6267eb6e250ef26f.jpg  \n",
            " extracting: train/images/rgb_911_png.rf.f0fcc30a31ac77e5e5996fb3c4820c17.jpg  \n",
            " extracting: train/images/rgb_915_png.rf.d0cdd1fba0c26376f647b0ad62986816.jpg  \n",
            " extracting: train/images/rgb_917_png.rf.94a118b46cbd6ac785610b3a7e10eff3.jpg  \n",
            " extracting: train/images/rgb_918_png.rf.1e66dbe04f4d38fee9180cb42d69ff86.jpg  \n",
            " extracting: train/images/rgb_919_png.rf.196fb48a6e5221274a9d239a9d1c00ac.jpg  \n",
            " extracting: train/images/rgb_91_png.rf.296a8a84f2a23ebac68c291dcd31741a.jpg  \n",
            " extracting: train/images/rgb_921_png.rf.0ea14098e51c5b767311a85967d90fea.jpg  \n",
            " extracting: train/images/rgb_923_png.rf.b7bab4204c907b6885b53ebb75d90f2a.jpg  \n",
            " extracting: train/images/rgb_926_png.rf.fc04add6dfdf0ea44791b22303108946.jpg  \n",
            " extracting: train/images/rgb_927_png.rf.3a997b9e2c4da23834843eba9a79634f.jpg  \n",
            " extracting: train/images/rgb_928_png.rf.3bb9a1e9ef98d509102f4a3fbf6b3b37.jpg  \n",
            " extracting: train/images/rgb_92_png.rf.2b3f54a74f108af128fb1d54bfa18c49.jpg  \n",
            " extracting: train/images/rgb_930_png.rf.76f595f6edfc49ed3153e7798923ea8b.jpg  \n",
            " extracting: train/images/rgb_931_png.rf.1a5d5efca1ca4f3010df4ae3da99a679.jpg  \n",
            " extracting: train/images/rgb_932_png.rf.f79e9b355d6d696d21c8d2550d0601cc.jpg  \n",
            " extracting: train/images/rgb_933_png.rf.f5f629af6321cd92a791c8f279f208c4.jpg  \n",
            " extracting: train/images/rgb_934_png.rf.6c47929399ae82dcbcbdbb32ac63a538.jpg  \n",
            " extracting: train/images/rgb_935_png.rf.2aaf34e23fb5e59b82d238cd0c484143.jpg  \n",
            " extracting: train/images/rgb_939_png.rf.aafeb19d8bacfd73fdf1c8d08b3eb70d.jpg  \n",
            " extracting: train/images/rgb_940_png.rf.03ad481047ea2f548fd11d26fecf1ae7.jpg  \n",
            " extracting: train/images/rgb_943_png.rf.c70c5bbcd477aa0a2b8f4a31d76ce355.jpg  \n",
            " extracting: train/images/rgb_945_png.rf.05bf03b46188bd1eec06c58232ba7fd7.jpg  \n",
            " extracting: train/images/rgb_946_png.rf.383fb5d7383ef2d5d31887479825389e.jpg  \n",
            " extracting: train/images/rgb_947_png.rf.13ac43200c04b24be0bac8af04fc6182.jpg  \n",
            " extracting: train/images/rgb_948_png.rf.d6c86e7d7221ea22645f21a3e49573fe.jpg  \n",
            " extracting: train/images/rgb_94_png.rf.0e10828ea18d7d6b11c891b5f26bede2.jpg  \n",
            " extracting: train/images/rgb_950_png.rf.50704bb89f3a530ba34b6039195c5fee.jpg  \n",
            " extracting: train/images/rgb_951_png.rf.fd9e25de20cb602f371dc8f72c424b76.jpg  \n",
            " extracting: train/images/rgb_953_png.rf.5feb0b9cee265e856ecea51fb959438a.jpg  \n",
            " extracting: train/images/rgb_954_png.rf.100fe3195b4e929ee396c860035197ad.jpg  \n",
            " extracting: train/images/rgb_955_png.rf.4f754ed70cb645de896a689088e7ed7d.jpg  \n",
            " extracting: train/images/rgb_958_png.rf.d267a806a05612263aee58cffc43ea2f.jpg  \n",
            " extracting: train/images/rgb_95_png.rf.ba76e0cff76d4fbece147677467f2f29.jpg  \n",
            " extracting: train/images/rgb_961_png.rf.f3e517d52bf57041a3e37d536c670f9d.jpg  \n",
            " extracting: train/images/rgb_962_png.rf.2f9dd2c8281aef0ef09f6c39a68022b2.jpg  \n",
            " extracting: train/images/rgb_964_png.rf.323f90d411d633987d1e99158eb0b5f6.jpg  \n",
            " extracting: train/images/rgb_965_png.rf.bb7e422f5a4c1f2b2b195328f1633aa3.jpg  \n",
            " extracting: train/images/rgb_967_png.rf.d6a03fec240a7bd2849e3e8a437f0706.jpg  \n",
            " extracting: train/images/rgb_968_png.rf.e9d7764e63d3dfc27d6583af62f67239.jpg  \n",
            " extracting: train/images/rgb_969_png.rf.84cb516a209972120dae0929b4e0bf0a.jpg  \n",
            " extracting: train/images/rgb_96_png.rf.fee514699f939e91ffc41d0700524e66.jpg  \n",
            " extracting: train/images/rgb_970_png.rf.96bc0fcc9a1dfa62aa7a1a9c75f68e66.jpg  \n",
            " extracting: train/images/rgb_972_png.rf.906e2320c727054b0b6377178fa31318.jpg  \n",
            " extracting: train/images/rgb_973_png.rf.61b928b7aa26b32cac1e0f9a49efdf3e.jpg  \n",
            " extracting: train/images/rgb_974_png.rf.2900225affd3a3604e05f9748afd9568.jpg  \n",
            " extracting: train/images/rgb_976_png.rf.ec6cb6fb4314271a0acab8961d8ad226.jpg  \n",
            " extracting: train/images/rgb_980_png.rf.518cd2e6b7f0e0d80cfeb619b9ca10a7.jpg  \n",
            " extracting: train/images/rgb_981_png.rf.c61b67159068a5963d63cb976687f30c.jpg  \n",
            " extracting: train/images/rgb_984_png.rf.fa6420b7bc68cae3d77c63ef531f424c.jpg  \n",
            " extracting: train/images/rgb_985_png.rf.deb5548f44fd8a75a6d8eb594deedc98.jpg  \n",
            " extracting: train/images/rgb_987_png.rf.230c0f24902923189462feb346c45625.jpg  \n",
            " extracting: train/images/rgb_988_png.rf.45e2f77c2e9b462d7dbd7e20a3cb58ec.jpg  \n",
            " extracting: train/images/rgb_989_png.rf.69692f3658f3f0439f6394e8e958b71f.jpg  \n",
            " extracting: train/images/rgb_98_png.rf.4f916e433a4d7112e2f724f6c3f503be.jpg  \n",
            " extracting: train/images/rgb_990_png.rf.3fe6d7cd89caf6a06dc78e383aa0ff56.jpg  \n",
            " extracting: train/images/rgb_991_png.rf.f0cd3d561a833208b69ea999a39573be.jpg  \n",
            " extracting: train/images/rgb_992_png.rf.b280c3fbd8d04ae9ab51b46bf32b739b.jpg  \n",
            " extracting: train/images/rgb_993_png.rf.39d314eb5c70760f5c1166625c062df5.jpg  \n",
            " extracting: train/images/rgb_994_png.rf.61e46de40a9b551f7eceacce0d4dfa02.jpg  \n",
            " extracting: train/images/rgb_995_png.rf.13bb4705d72268c27ef5bd0f0a8c8be9.jpg  \n",
            " extracting: train/images/rgb_996_png.rf.600d8c281f747619ce0acd69a3807fc1.jpg  \n",
            " extracting: train/images/rgb_999_png.rf.4a1854ffc861ee9ff93d9d5dcbc01028.jpg  \n",
            " extracting: train/images/rgb_9_png.rf.76c7626485b8f667c9ce4b15bb934a2b.jpg  \n",
            "   creating: train/labels/\n",
            "  inflating: train/labels/rgb_1001_png.rf.d625e471fc79c75da70e5832c3b1a5e7.txt  \n",
            "  inflating: train/labels/rgb_101_png.rf.847461b934d2b36d845a92919930aade.txt  \n",
            "  inflating: train/labels/rgb_102_png.rf.20c98c51fda0e75b8aef636df787e601.txt  \n",
            "  inflating: train/labels/rgb_103_png.rf.b28273a7dd81967aa3823a5c032c2d19.txt  \n",
            "  inflating: train/labels/rgb_104_png.rf.190aa8b8caa5e17135383723ba86ec7e.txt  \n",
            "  inflating: train/labels/rgb_105_png.rf.8b496147f4318aed4e6b7a779f775338.txt  \n",
            "  inflating: train/labels/rgb_106_png.rf.f69adcb3cd25b2523357eeac83cf1cbd.txt  \n",
            "  inflating: train/labels/rgb_107_png.rf.b3fa47344348cf88fe1309395ae917ad.txt  \n",
            "  inflating: train/labels/rgb_108_png.rf.01e117256b425efb0d274562d4d152fc.txt  \n",
            "  inflating: train/labels/rgb_109_png.rf.023f62b0537eacb5300cd245cbf322b0.txt  \n",
            "  inflating: train/labels/rgb_110_png.rf.6bba6ef8a1ba456d4f6eea3a2d6d55d6.txt  \n",
            "  inflating: train/labels/rgb_111_png.rf.37394f878e5026db6ef815704072fc9c.txt  \n",
            "  inflating: train/labels/rgb_112_png.rf.485837ab5e3e1f566e72f2e6ab89cf4d.txt  \n",
            "  inflating: train/labels/rgb_114_png.rf.5f2ae4704ab0344a3e9a1ca58ed41120.txt  \n",
            "  inflating: train/labels/rgb_118_png.rf.50b15f2dea20244747805ebcd7fa10e0.txt  \n",
            "  inflating: train/labels/rgb_11_png.rf.441f3b9ad0fe6db196abfcd4e5900539.txt  \n",
            "  inflating: train/labels/rgb_120_png.rf.6ca07377ee85e9a1d1ff8ea271a25c7a.txt  \n",
            "  inflating: train/labels/rgb_121_png.rf.14e2e11c3a0da401e511cbd766146688.txt  \n",
            "  inflating: train/labels/rgb_122_png.rf.2895e289dcb40169e561a28d652b0e53.txt  \n",
            "  inflating: train/labels/rgb_126_png.rf.869ba6f9010a27a4b6e302fa9752be8c.txt  \n",
            "  inflating: train/labels/rgb_128_png.rf.601cc29d568b720a4fcd5c909c50f051.txt  \n",
            "  inflating: train/labels/rgb_129_png.rf.a5aeb16e9a95efa22bca4bbd88849be4.txt  \n",
            "  inflating: train/labels/rgb_12_png.rf.24c3507e2cc6ff9f11b7cc30163eda6d.txt  \n",
            "  inflating: train/labels/rgb_130_png.rf.f97182d00b9bb57aa749eb12fa57ff5a.txt  \n",
            "  inflating: train/labels/rgb_132_png.rf.72fce6c4bb858f7b68f19fa2bcfae60d.txt  \n",
            "  inflating: train/labels/rgb_133_png.rf.b6cf6e4d5689a767b9764bc3f6f7b930.txt  \n",
            "  inflating: train/labels/rgb_134_png.rf.c1bc500bf2a29f81a315fca252ae41f8.txt  \n",
            "  inflating: train/labels/rgb_135_png.rf.8e77a184549d173897561cdb49adbfff.txt  \n",
            "  inflating: train/labels/rgb_136_png.rf.7fb7ad9d3284220b80443ba4ac18d80f.txt  \n",
            "  inflating: train/labels/rgb_137_png.rf.3ebbb0b44a59edb2016dceba7d7ba3c1.txt  \n",
            "  inflating: train/labels/rgb_138_png.rf.4b31116019cb2a56ac8363ac2bdf7838.txt  \n",
            "  inflating: train/labels/rgb_139_png.rf.9ad242d808ffad2abb0dc4015e61b8c5.txt  \n",
            "  inflating: train/labels/rgb_13_png.rf.ad44a1328d8ae2529e6fb1b9de937f44.txt  \n",
            "  inflating: train/labels/rgb_140_png.rf.38019cfe3b91dc00ffa1de4d0d3c0ee8.txt  \n",
            "  inflating: train/labels/rgb_143_png.rf.8273acec54e2a8adcd7964cde854c37c.txt  \n",
            "  inflating: train/labels/rgb_144_png.rf.16aae80cd12b477bf82bb39009f6e845.txt  \n",
            "  inflating: train/labels/rgb_145_png.rf.8b6c1ed1018c4e78d527cdffca7fcec0.txt  \n",
            "  inflating: train/labels/rgb_146_png.rf.a5d2a59f31acafb255206ea4317c04aa.txt  \n",
            "  inflating: train/labels/rgb_147_png.rf.ee165062278add1765820e95d98fb6f9.txt  \n",
            "  inflating: train/labels/rgb_148_png.rf.5d2b2f3e05f1de32000ae65ee9951b91.txt  \n",
            "  inflating: train/labels/rgb_149_png.rf.92dd366665c02ca62ebbbfe6b8aca63a.txt  \n",
            "  inflating: train/labels/rgb_14_png.rf.408223c5e45b4cca4a508fd35ee45177.txt  \n",
            "  inflating: train/labels/rgb_150_png.rf.40373c577b265bfec7217eeacd33ac36.txt  \n",
            "  inflating: train/labels/rgb_151_png.rf.34e0372bfb39f3d6a3e7fadce54cadd9.txt  \n",
            "  inflating: train/labels/rgb_153_png.rf.cc32faf3c47c9f6670bb99ebee0acbfe.txt  \n",
            "  inflating: train/labels/rgb_155_png.rf.a9befe1f09faf67a7fd931e08c07609e.txt  \n",
            "  inflating: train/labels/rgb_156_png.rf.b502fabff29449907433347b90100e21.txt  \n",
            "  inflating: train/labels/rgb_157_png.rf.52c101bd348124c3f39105ce5c7121e0.txt  \n",
            "  inflating: train/labels/rgb_158_png.rf.89032d29b05b36642b335f9bc0baf100.txt  \n",
            "  inflating: train/labels/rgb_15_png.rf.96de9807ffbd687964e7aaf1b9397a59.txt  \n",
            "  inflating: train/labels/rgb_160_png.rf.6686002654c55a21c84e54697b5232d0.txt  \n",
            "  inflating: train/labels/rgb_165_png.rf.ae7b7db130ec43507312a242d2391713.txt  \n",
            "  inflating: train/labels/rgb_166_png.rf.1bd544941881d8ffef44e6131dd2e4f9.txt  \n",
            "  inflating: train/labels/rgb_167_png.rf.0a375ad1985c261717d436c417b0a525.txt  \n",
            "  inflating: train/labels/rgb_168_png.rf.fcf8253238dfcf87e923eca47df476fd.txt  \n",
            "  inflating: train/labels/rgb_169_png.rf.785b18ce37cd73f45f917d93980b4729.txt  \n",
            "  inflating: train/labels/rgb_16_png.rf.cc2f5f6e3505b71cb8fc93ef2cab8637.txt  \n",
            "  inflating: train/labels/rgb_171_png.rf.fc3be7c57a5a2195cc6e0c49b26be706.txt  \n",
            "  inflating: train/labels/rgb_173_png.rf.8e97dedae01bb0ebb90fc8f2354d9abf.txt  \n",
            "  inflating: train/labels/rgb_176_png.rf.87af8461bb963bae0a60ca80522054d2.txt  \n",
            "  inflating: train/labels/rgb_178_png.rf.9f07c00c69929ddc6d93f0d5395b3263.txt  \n",
            "  inflating: train/labels/rgb_179_png.rf.a2a9b75e4a0ff01c61dbfb13a3babfea.txt  \n",
            "  inflating: train/labels/rgb_17_png.rf.f871f96116d7fbce78129f9fe2f367f3.txt  \n",
            "  inflating: train/labels/rgb_180_png.rf.d859c40606d4e5068ee5b6be1b17baac.txt  \n",
            "  inflating: train/labels/rgb_181_png.rf.046c6f6bfd205bf5cf1e07c940a160c9.txt  \n",
            "  inflating: train/labels/rgb_182_png.rf.ce2861550fab49dfaa1c2362c185b32c.txt  \n",
            "  inflating: train/labels/rgb_183_png.rf.eee8c2a96f1bb13ff0d06829f5bf6ab1.txt  \n",
            "  inflating: train/labels/rgb_185_png.rf.cdb02d209bb65f6347d17dfbca25c0fe.txt  \n",
            "  inflating: train/labels/rgb_186_png.rf.b0bc96a43067d8522e2c8d68d420d805.txt  \n",
            "  inflating: train/labels/rgb_187_png.rf.ef0054f5d5f2b8c1d9558e70ed3e11ff.txt  \n",
            "  inflating: train/labels/rgb_188_png.rf.28dacb4593ec43f369da2a77603e01dd.txt  \n",
            "  inflating: train/labels/rgb_189_png.rf.4622dadb0c06ed659a63cd84b4b381c7.txt  \n",
            "  inflating: train/labels/rgb_18_png.rf.490c81e4fd696fddcab3093de8dc618b.txt  \n",
            "  inflating: train/labels/rgb_190_png.rf.352f9c1d12e4e3538706e7d4d9f5b0e3.txt  \n",
            "  inflating: train/labels/rgb_191_png.rf.7e574903489d0004d19f49fe40311374.txt  \n",
            "  inflating: train/labels/rgb_192_png.rf.41eb95a6a2e277402f3b3695e802aec5.txt  \n",
            "  inflating: train/labels/rgb_193_png.rf.d2f78b28104103a87775780778833a0f.txt  \n",
            "  inflating: train/labels/rgb_196_png.rf.265282d9e10750e8e5d06f83be409ddc.txt  \n",
            "  inflating: train/labels/rgb_198_png.rf.a50cfadd344eb1f27d6b2984c28c0b5e.txt  \n",
            "  inflating: train/labels/rgb_199_png.rf.1e652f4070ce56fa64ad5ed556430317.txt  \n",
            "  inflating: train/labels/rgb_19_png.rf.8161d5cf5241ab624014710f5932c914.txt  \n",
            "  inflating: train/labels/rgb_200_png.rf.862a79b62be4d671f405c5d43dd16f8c.txt  \n",
            "  inflating: train/labels/rgb_201_png.rf.1a198ec44f28bab0dc2722fde929fceb.txt  \n",
            "  inflating: train/labels/rgb_202_png.rf.1626243e0c01424437a1e17a41903029.txt  \n",
            "  inflating: train/labels/rgb_203_png.rf.81c06ba064278d8251a05c703ce5fd66.txt  \n",
            "  inflating: train/labels/rgb_204_png.rf.b64719afb9eb33a06d79dd39c9f91060.txt  \n",
            "  inflating: train/labels/rgb_205_png.rf.507d8c0723c76a3be617e7f33cbca519.txt  \n",
            "  inflating: train/labels/rgb_206_png.rf.61627986162030773f25e7be1302b5e9.txt  \n",
            "  inflating: train/labels/rgb_207_png.rf.75cfbcde781c738709e82328f047d49f.txt  \n",
            "  inflating: train/labels/rgb_208_png.rf.2b5c5cbcabb4f191240a36f72c05b4c8.txt  \n",
            "  inflating: train/labels/rgb_209_png.rf.84ee279eaf24fa004a42f6f6bbe5688b.txt  \n",
            "  inflating: train/labels/rgb_210_png.rf.e9b90d3c9aa16fda3ff7de81f387a3fa.txt  \n",
            "  inflating: train/labels/rgb_211_png.rf.a26f13053a7ec7bcf955e1e1c47fc233.txt  \n",
            "  inflating: train/labels/rgb_212_png.rf.b6da3bb132bad7527029d41cd58fd8b1.txt  \n",
            "  inflating: train/labels/rgb_213_png.rf.6da5c8ec9e3259ccd3340454d3e9c468.txt  \n",
            "  inflating: train/labels/rgb_214_png.rf.a1aedb5bde4506ee84d19df3f897503d.txt  \n",
            "  inflating: train/labels/rgb_215_png.rf.2a85c7c912dcb44f70f7f172a2b624b0.txt  \n",
            "  inflating: train/labels/rgb_217_png.rf.f633638286123827be8249aba49a5435.txt  \n",
            "  inflating: train/labels/rgb_219_png.rf.b6649a33ccef9531b64474467b4af374.txt  \n",
            "  inflating: train/labels/rgb_21_png.rf.c0991e6337f66d89a332123ea5a7b640.txt  \n",
            "  inflating: train/labels/rgb_220_png.rf.5deb1536da92d85fd7f28eff8a248855.txt  \n",
            "  inflating: train/labels/rgb_221_png.rf.17af1b1e0d7a72bb9e01725352cb284a.txt  \n",
            "  inflating: train/labels/rgb_223_png.rf.338c927720467c880ae74e3178413751.txt  \n",
            "  inflating: train/labels/rgb_224_png.rf.277fd648f8658af142a204bfac823e9d.txt  \n",
            "  inflating: train/labels/rgb_225_png.rf.5542de9ece87058d86174f4d9763a49c.txt  \n",
            "  inflating: train/labels/rgb_226_png.rf.577423fcfba23cb9355b8fe9eefad52c.txt  \n",
            "  inflating: train/labels/rgb_228_png.rf.ec70731ae17b6d80949d265084d17c37.txt  \n",
            "  inflating: train/labels/rgb_229_png.rf.8c5e526cb624a2f32d8fde01e72030fa.txt  \n",
            "  inflating: train/labels/rgb_230_png.rf.06b67bc17be774646f063d42057ec103.txt  \n",
            "  inflating: train/labels/rgb_231_png.rf.8cead36f0f387f70c12e59f237e01e80.txt  \n",
            "  inflating: train/labels/rgb_232_png.rf.b84ee56787b250442ad186be08e33213.txt  \n",
            "  inflating: train/labels/rgb_233_png.rf.f55cef63956787199739967c9be35886.txt  \n",
            "  inflating: train/labels/rgb_235_png.rf.f2042e30e78961d20ad865e5d700acee.txt  \n",
            "  inflating: train/labels/rgb_236_png.rf.5b96b6df4349a79380be61ac9e93f78a.txt  \n",
            "  inflating: train/labels/rgb_238_png.rf.be2ff79d824b0e0d82bd4cfe5f37f899.txt  \n",
            "  inflating: train/labels/rgb_239_png.rf.893155cac8607d18829e8dd0f55f6ac4.txt  \n",
            "  inflating: train/labels/rgb_240_png.rf.cbecfff446fe4545444cc8983c6300ee.txt  \n",
            "  inflating: train/labels/rgb_241_png.rf.02668b3a8a41c421bc641a4743fd8b98.txt  \n",
            "  inflating: train/labels/rgb_242_png.rf.6f8e4ddda49b1ae22141f5325125fdaa.txt  \n",
            "  inflating: train/labels/rgb_243_png.rf.5122469cec8ea3e0b1659c33be636af7.txt  \n",
            "  inflating: train/labels/rgb_244_png.rf.747c1eede35f79cc7da84e743eb47c67.txt  \n",
            "  inflating: train/labels/rgb_245_png.rf.8bc12e25038a71adf71526f6b55bc589.txt  \n",
            "  inflating: train/labels/rgb_246_png.rf.5127ed1f731007ff987014e34fbb2b54.txt  \n",
            "  inflating: train/labels/rgb_247_png.rf.611da153d63273e93f33bbe11d8b9246.txt  \n",
            "  inflating: train/labels/rgb_248_png.rf.aff65f23f1e62632e0f3650ff667f3e3.txt  \n",
            "  inflating: train/labels/rgb_24_png.rf.1f06a335d9ac2fd0b5c0bcf760471af5.txt  \n",
            "  inflating: train/labels/rgb_250_png.rf.fd85f204f78088fec0cfdd4d00c2d3d5.txt  \n",
            "  inflating: train/labels/rgb_252_png.rf.26f90eff3b829bc5515674a94a6f8e4f.txt  \n",
            "  inflating: train/labels/rgb_254_png.rf.a73bee0ab571aa90d153406752c5e266.txt  \n",
            "  inflating: train/labels/rgb_255_png.rf.fba7bad26f4d78e1c803c656d63bc27c.txt  \n",
            "  inflating: train/labels/rgb_256_png.rf.aaa52e2d0b47468335f27b8a303f6d3e.txt  \n",
            "  inflating: train/labels/rgb_257_png.rf.12e478656c994012ce579ace00da53fd.txt  \n",
            "  inflating: train/labels/rgb_258_png.rf.fc2ac52387ab15e9aa6e873997dcd29c.txt  \n",
            "  inflating: train/labels/rgb_260_png.rf.0c83801a8acb692f0a68b8e995e6c4df.txt  \n",
            "  inflating: train/labels/rgb_261_png.rf.2e5e8531946cd4ac54844bf35539aac6.txt  \n",
            "  inflating: train/labels/rgb_262_png.rf.d195b5db5fbcfd984be2896fe5dabe71.txt  \n",
            "  inflating: train/labels/rgb_264_png.rf.e3ecc87327ca9c5a4adc3690fd3459bd.txt  \n",
            "  inflating: train/labels/rgb_266_png.rf.270d1bf346640717be631c4baf5c06da.txt  \n",
            "  inflating: train/labels/rgb_268_png.rf.f3c1dd220eb16acac10f022c90c2213a.txt  \n",
            "  inflating: train/labels/rgb_269_png.rf.91abb334006a8a77cd276189cb5c29ba.txt  \n",
            "  inflating: train/labels/rgb_26_png.rf.e2b6bade472fb3e51932265842e97720.txt  \n",
            "  inflating: train/labels/rgb_271_png.rf.69e39d9c6b50b8e620d9c80a059d080a.txt  \n",
            "  inflating: train/labels/rgb_273_png.rf.5b4e72749c8c3971b07c21774d88d744.txt  \n",
            "  inflating: train/labels/rgb_274_png.rf.ab70ce49eb024bc35ac297f5d3d6f7cb.txt  \n",
            "  inflating: train/labels/rgb_275_png.rf.126b44693618ca965c0ecfeaba376315.txt  \n",
            "  inflating: train/labels/rgb_276_png.rf.75c390f8472f74ba68496e5236d7c598.txt  \n",
            "  inflating: train/labels/rgb_277_png.rf.441a5aab53ae79571c44f4679cf999df.txt  \n",
            "  inflating: train/labels/rgb_278_png.rf.aaf996a6a3f4a56f8335089f262844dc.txt  \n",
            "  inflating: train/labels/rgb_279_png.rf.97d267bf6a6c9d201663197140b04831.txt  \n",
            "  inflating: train/labels/rgb_280_png.rf.bc02e1f44744c2704b3c8105326c6fd1.txt  \n",
            "  inflating: train/labels/rgb_281_png.rf.d042175e1b96c5eb3c12450544046041.txt  \n",
            "  inflating: train/labels/rgb_283_png.rf.38b81536b359e45c6332ff2220986b7b.txt  \n",
            "  inflating: train/labels/rgb_284_png.rf.7556c44ddd9bffdc15216a9875d4bf32.txt  \n",
            "  inflating: train/labels/rgb_287_png.rf.c135fede70f340eb67894e17b08acd70.txt  \n",
            "  inflating: train/labels/rgb_288_png.rf.8bd742a4b8bc8bb7acde8dfaf59d53a0.txt  \n",
            "  inflating: train/labels/rgb_290_png.rf.826cee82962ee5395f69538408485657.txt  \n",
            "  inflating: train/labels/rgb_291_png.rf.dc90202326ebca70c676dfb085ce26c2.txt  \n",
            "  inflating: train/labels/rgb_295_png.rf.2d1199aaf814774342800c6c0583223e.txt  \n",
            "  inflating: train/labels/rgb_296_png.rf.5642bd12fac54622bce34cb2648bec00.txt  \n",
            "  inflating: train/labels/rgb_297_png.rf.a43f4b4ef23c1be28bde6519ae18b27e.txt  \n",
            "  inflating: train/labels/rgb_298_png.rf.a6b76d5f45109a1d6647515d96f67f32.txt  \n",
            "  inflating: train/labels/rgb_299_png.rf.4e99510a6973df8c49f7c3b3ecdb531b.txt  \n",
            "  inflating: train/labels/rgb_2_png.rf.02c897fd92990ee8d341fb08baeea1df.txt  \n",
            "  inflating: train/labels/rgb_300_png.rf.179a495ece5d917dc2f59c87608daa70.txt  \n",
            "  inflating: train/labels/rgb_303_png.rf.8c496713dde8c4d9aee66aecdc2ecbcf.txt  \n",
            "  inflating: train/labels/rgb_304_png.rf.84980a5a062761e2bcc1d2804251c8fe.txt  \n",
            "  inflating: train/labels/rgb_305_png.rf.4359d2f4a85b186303f40f42b1c86273.txt  \n",
            "  inflating: train/labels/rgb_306_png.rf.dd9496ceb74c95937ae2b4b21aefded1.txt  \n",
            "  inflating: train/labels/rgb_308_png.rf.0eac6bfce847175ece69c4bc8f7bad20.txt  \n",
            "  inflating: train/labels/rgb_30_png.rf.35b00673e73ba209508d70e0b5f86436.txt  \n",
            "  inflating: train/labels/rgb_312_png.rf.8261ae615449eec60ec1c0d447b44cc9.txt  \n",
            "  inflating: train/labels/rgb_314_png.rf.c2592fdbc392778135e93721dc1af548.txt  \n",
            "  inflating: train/labels/rgb_315_png.rf.9d16edff62c1c8b3b932c06b76828bf4.txt  \n",
            "  inflating: train/labels/rgb_316_png.rf.df387c34cae7e0fd9cbaf3797caf2626.txt  \n",
            "  inflating: train/labels/rgb_317_png.rf.5c43463055edfef42bdce90e69942072.txt  \n",
            "  inflating: train/labels/rgb_318_png.rf.5663f0fb147adf993f6b6df108dfcfae.txt  \n",
            "  inflating: train/labels/rgb_319_png.rf.a1e25d92876ffd256aff60a5dfa0d4e2.txt  \n",
            "  inflating: train/labels/rgb_31_png.rf.98d14ca3ef59a8b1c6cc22df72f32220.txt  \n",
            "  inflating: train/labels/rgb_320_png.rf.b90a8895ab4e2d1c3e187804bdd020c9.txt  \n",
            "  inflating: train/labels/rgb_321_png.rf.bebf0fffd57e423ac0eddddd71f19f98.txt  \n",
            "  inflating: train/labels/rgb_324_png.rf.5ac4fdc02ae2e64f62fa07cdfb4633a0.txt  \n",
            "  inflating: train/labels/rgb_325_png.rf.dfd09b367f2fe257d5c2a4480f1fe650.txt  \n",
            "  inflating: train/labels/rgb_327_png.rf.6a3db9048e8b5382f207cc66062c323c.txt  \n",
            "  inflating: train/labels/rgb_328_png.rf.76f480667fb247dc6c30aa50cfc89fd2.txt  \n",
            "  inflating: train/labels/rgb_329_png.rf.136463614f421e6fd66be245bf1b1d5e.txt  \n",
            "  inflating: train/labels/rgb_32_png.rf.6b6cd06328da4f0d050ad25838964bd5.txt  \n",
            "  inflating: train/labels/rgb_330_png.rf.4a3dfba25188ce35e6c14849aa7b3fb6.txt  \n",
            "  inflating: train/labels/rgb_331_png.rf.adb6e644ec597f451d9e2e514a2ef56c.txt  \n",
            "  inflating: train/labels/rgb_334_png.rf.375cd7e70d1fce93eb8971eed78e4c53.txt  \n",
            "  inflating: train/labels/rgb_335_png.rf.e0c62f13173ae9afc750960ac307723e.txt  \n",
            "  inflating: train/labels/rgb_336_png.rf.526c658aa3babb01958240fb318aa216.txt  \n",
            "  inflating: train/labels/rgb_337_png.rf.e4f319a0f9181e89d947d269b12d8fd0.txt  \n",
            "  inflating: train/labels/rgb_338_png.rf.ad0c665de374c2328162fb9225bff03a.txt  \n",
            "  inflating: train/labels/rgb_339_png.rf.2d5f81fdc544de9b1f24fc915053f9ea.txt  \n",
            "  inflating: train/labels/rgb_33_png.rf.e43794ef114e7bcfb967d6e4c96befd1.txt  \n",
            "  inflating: train/labels/rgb_341_png.rf.91e57675e64377b8dfc7e3c5d896ebc8.txt  \n",
            "  inflating: train/labels/rgb_342_png.rf.5108895a79e5c1b76f5547985b0b170d.txt  \n",
            "  inflating: train/labels/rgb_343_png.rf.a111b7dc046acbdd2228f40d125698c0.txt  \n",
            "  inflating: train/labels/rgb_344_png.rf.a5873629d4290aeab016e1b1501bf064.txt  \n",
            "  inflating: train/labels/rgb_347_png.rf.365cbc041992c344671a72aa8057bb72.txt  \n",
            "  inflating: train/labels/rgb_348_png.rf.677b537839c683fbd5728c1fcba18ea1.txt  \n",
            "  inflating: train/labels/rgb_349_png.rf.5609fe5d84920f28a6e770ad75fe8675.txt  \n",
            "  inflating: train/labels/rgb_34_png.rf.940f84ef7e2fca123d4eb180b78a4eb9.txt  \n",
            "  inflating: train/labels/rgb_351_png.rf.bb2d782f2ffc654e726a6d39ca1aae98.txt  \n",
            "  inflating: train/labels/rgb_352_png.rf.0ed12139488e6492fd1ce84488ed00db.txt  \n",
            "  inflating: train/labels/rgb_354_png.rf.5728d242864a51da28040fb02d6e4da7.txt  \n",
            "  inflating: train/labels/rgb_355_png.rf.60ac1e8b23fd5f6f400b61e10d28ebb6.txt  \n",
            "  inflating: train/labels/rgb_356_png.rf.e7f5e66437dc6c7444be0adbfc7db584.txt  \n",
            "  inflating: train/labels/rgb_358_png.rf.c7fff5cccd5af28acd986ca7b55c7c85.txt  \n",
            "  inflating: train/labels/rgb_361_png.rf.4aba6c22463ba023078bc79764e3c890.txt  \n",
            "  inflating: train/labels/rgb_363_png.rf.2ff406e0162bfcb8a458f7eeb8b686fe.txt  \n",
            "  inflating: train/labels/rgb_365_png.rf.9df2f3c878af02475c7baf7a78651f10.txt  \n",
            "  inflating: train/labels/rgb_366_png.rf.b44fcde2ca5514ddaf50489eaa426866.txt  \n",
            "  inflating: train/labels/rgb_367_png.rf.89cffb45444c502910de1b20afabbc37.txt  \n",
            "  inflating: train/labels/rgb_36_png.rf.1ca03b5f15d4a80f21c6a2b8954fe48f.txt  \n",
            "  inflating: train/labels/rgb_371_png.rf.66e5b5663b475ef35a7464d247546321.txt  \n",
            "  inflating: train/labels/rgb_373_png.rf.97600079aff33f9d687fa5234d595e43.txt  \n",
            "  inflating: train/labels/rgb_374_png.rf.7ad3714e6d319224a02c9917d2bba93b.txt  \n",
            "  inflating: train/labels/rgb_375_png.rf.739d4d8ac30269e1ca6b1c446cb319c4.txt  \n",
            "  inflating: train/labels/rgb_377_png.rf.eba821150e347825cfd4c40bc0a34ec5.txt  \n",
            "  inflating: train/labels/rgb_378_png.rf.67f913011f1c8faf424470324e0c0f5d.txt  \n",
            "  inflating: train/labels/rgb_379_png.rf.9f67d3dd37fdf4c9538c11a146f813e5.txt  \n",
            "  inflating: train/labels/rgb_37_png.rf.18defe838b9050f586feb53a4b5cbe77.txt  \n",
            "  inflating: train/labels/rgb_380_png.rf.45e9236276da7d71c42908f48b704e98.txt  \n",
            "  inflating: train/labels/rgb_381_png.rf.3f0fe1ca83dfef179b6e8ca69021f321.txt  \n",
            "  inflating: train/labels/rgb_382_png.rf.0ca00ac092ed246dfffd83f62d5b607b.txt  \n",
            "  inflating: train/labels/rgb_386_png.rf.a9c407558945c7b1fc7e4ff9102dd68d.txt  \n",
            "  inflating: train/labels/rgb_388_png.rf.7b7a29ffbedbd4082cb61d5fa667ff7c.txt  \n",
            "  inflating: train/labels/rgb_389_png.rf.01b0bad9dd1d360a8d85081d11aa1a6d.txt  \n",
            "  inflating: train/labels/rgb_390_png.rf.28a64e48b18e858cc4d4394efd7bb49a.txt  \n",
            "  inflating: train/labels/rgb_391_png.rf.89c7b475331d92f25081d7a58aeff943.txt  \n",
            "  inflating: train/labels/rgb_393_png.rf.9e209267bae40adcfbad19adb70895e9.txt  \n",
            "  inflating: train/labels/rgb_394_png.rf.f9b291443f922fcba3b0b8bbe0976b45.txt  \n",
            "  inflating: train/labels/rgb_395_png.rf.139248019d3ea35173fe556ba8c5dff8.txt  \n",
            "  inflating: train/labels/rgb_396_png.rf.00909b03ff49f4932cf257034ee8fcbf.txt  \n",
            "  inflating: train/labels/rgb_397_png.rf.9be6780ac94a12c2cda0ccd5e0a843ca.txt  \n",
            "  inflating: train/labels/rgb_398_png.rf.0c736dce8fc02803f3c7380aee341cee.txt  \n",
            "  inflating: train/labels/rgb_399_png.rf.8a763058c33c3f033b934ec10f00f697.txt  \n",
            "  inflating: train/labels/rgb_39_png.rf.4f297b9edcfd36c090b429e0169e9b9f.txt  \n",
            "  inflating: train/labels/rgb_3_png.rf.49c593c5cdf3fc60a94fa3ed4c04a3fc.txt  \n",
            "  inflating: train/labels/rgb_400_png.rf.5960c330e8f88078235c6f682f2be161.txt  \n",
            "  inflating: train/labels/rgb_401_png.rf.87893ab4c360232bc05acdbfa98085e0.txt  \n",
            "  inflating: train/labels/rgb_402_png.rf.ca9ec29b162ebda7bc3371072541c6c1.txt  \n",
            "  inflating: train/labels/rgb_403_png.rf.82b7dd530a4a3959f032a1b8a2baa5ba.txt  \n",
            "  inflating: train/labels/rgb_405_png.rf.b8d89e498ff69cfbbaacb80bbe766ab1.txt  \n",
            "  inflating: train/labels/rgb_409_png.rf.328f093fbd3365686d644954ff15fb47.txt  \n",
            "  inflating: train/labels/rgb_410_png.rf.bea193a07abd14c562caacb01bca29db.txt  \n",
            "  inflating: train/labels/rgb_411_png.rf.8a2b095550697f2651ef1baf9b579a2e.txt  \n",
            "  inflating: train/labels/rgb_412_png.rf.e0264d2ccd5a76f3c2a080672115da8e.txt  \n",
            "  inflating: train/labels/rgb_413_png.rf.4c919311cf6e5342f8dcc13633b0422f.txt  \n",
            "  inflating: train/labels/rgb_415_png.rf.4b6810c4d871f427375e21729fc4055e.txt  \n",
            "  inflating: train/labels/rgb_417_png.rf.b7fb94dd7b902fc893cf35bcec7dc629.txt  \n",
            "  inflating: train/labels/rgb_418_png.rf.7d359c503cc7c41d81b8762873e66c96.txt  \n",
            "  inflating: train/labels/rgb_419_png.rf.77e179a0c1ce6bd6909adc4f5a9faab9.txt  \n",
            "  inflating: train/labels/rgb_41_png.rf.226f02724bf3ac2d4d4c8a63f4147f70.txt  \n",
            "  inflating: train/labels/rgb_420_png.rf.ac6104c6c7720c0ba3bef34b906b5824.txt  \n",
            "  inflating: train/labels/rgb_422_png.rf.88058ff164bdeedf11f030bf930e3095.txt  \n",
            "  inflating: train/labels/rgb_423_png.rf.ec96cc2d0b9f5461033b783959cd5894.txt  \n",
            "  inflating: train/labels/rgb_424_png.rf.b526ed0b60b0be31e88234545808e0ef.txt  \n",
            "  inflating: train/labels/rgb_425_png.rf.445efade25a55864424846706ce2b855.txt  \n",
            "  inflating: train/labels/rgb_426_png.rf.2731f9db6c9659c7a2c4b832dc523e1d.txt  \n",
            "  inflating: train/labels/rgb_427_png.rf.477d853f1f76ad04920e3b8d29f91dd4.txt  \n",
            "  inflating: train/labels/rgb_428_png.rf.d8fe94353bd128c05d62a0e3b6f9c8f0.txt  \n",
            "  inflating: train/labels/rgb_429_png.rf.886724a764de690771dfed904f0e9570.txt  \n",
            "  inflating: train/labels/rgb_42_png.rf.f23c40519c19e25e192a8c29d99c6cbc.txt  \n",
            "  inflating: train/labels/rgb_433_png.rf.013d51b228ae28aae751da78c1ea6ad7.txt  \n",
            "  inflating: train/labels/rgb_434_png.rf.5b852d0a74c47df9d162383c32f17310.txt  \n",
            "  inflating: train/labels/rgb_435_png.rf.0f2682444a85da4a407609d5cd8449c7.txt  \n",
            "  inflating: train/labels/rgb_437_png.rf.fe67bdd65f801ffdbd04d8888d040930.txt  \n",
            "  inflating: train/labels/rgb_439_png.rf.71affaf6e29ca1d133e441411c8ea07a.txt  \n",
            "  inflating: train/labels/rgb_43_png.rf.c5c143aa3148c26d6028fcb66ba1a7b6.txt  \n",
            "  inflating: train/labels/rgb_440_png.rf.6d51632f1161b6a91b36cb07efac5f32.txt  \n",
            "  inflating: train/labels/rgb_441_png.rf.b2772b6d121acdf17c3edb61a6843c63.txt  \n",
            "  inflating: train/labels/rgb_442_png.rf.81568d48a4506ba447eb5a50c5969048.txt  \n",
            "  inflating: train/labels/rgb_443_png.rf.2e4c791d45b59fe95c4e645f143e4a9d.txt  \n",
            "  inflating: train/labels/rgb_444_png.rf.58b625774693b3048781ec039b9a765d.txt  \n",
            "  inflating: train/labels/rgb_445_png.rf.a6e0e198a90c9bc1633268a55355da56.txt  \n",
            "  inflating: train/labels/rgb_448_png.rf.b7462e85a2b23b8e4f29ce3e760e0f26.txt  \n",
            "  inflating: train/labels/rgb_449_png.rf.e217b5392bc544f5d5960b503a342e55.txt  \n",
            "  inflating: train/labels/rgb_44_png.rf.0b297ab72165b18a2324ea53f981891d.txt  \n",
            "  inflating: train/labels/rgb_450_png.rf.e2020c2d4e708147027eea304bd4454f.txt  \n",
            "  inflating: train/labels/rgb_451_png.rf.be94b4c6cd291843782ee552d195dc9a.txt  \n",
            "  inflating: train/labels/rgb_453_png.rf.3f177ced0af9dc41eef3d91686329463.txt  \n",
            "  inflating: train/labels/rgb_454_png.rf.aacb4693a5ae27c471429341f9406aef.txt  \n",
            "  inflating: train/labels/rgb_455_png.rf.2ec8324b2c4ea74a718d8723e4688f30.txt  \n",
            "  inflating: train/labels/rgb_456_png.rf.c0b8a26fd06546417281199e206da53f.txt  \n",
            "  inflating: train/labels/rgb_458_png.rf.ca3ca9fabdccbda8a64e6b18f451f44b.txt  \n",
            "  inflating: train/labels/rgb_459_png.rf.a0e0744b34ee6da1cd91b5d8b6d9bb6e.txt  \n",
            "  inflating: train/labels/rgb_462_png.rf.f4c749d142d9b657231793a9f785f507.txt  \n",
            "  inflating: train/labels/rgb_463_png.rf.cde7dd6f31cb2bd13f2266851e829c09.txt  \n",
            "  inflating: train/labels/rgb_464_png.rf.1d00de36c791d18bfba8d6c382457527.txt  \n",
            "  inflating: train/labels/rgb_465_png.rf.fc7b721d917f3a98e4f97f3a2afd378b.txt  \n",
            "  inflating: train/labels/rgb_467_png.rf.5bd8aa1c1ef8d8b7edf933cf3fe17daf.txt  \n",
            "  inflating: train/labels/rgb_470_png.rf.8c0d08b17b2aeccdd959da2ce945b19d.txt  \n",
            "  inflating: train/labels/rgb_472_png.rf.31fbc0b1bd44d805c6387c0323bb6442.txt  \n",
            "  inflating: train/labels/rgb_476_png.rf.b5da9748b1897867ed61349fbade4af7.txt  \n",
            "  inflating: train/labels/rgb_480_png.rf.7c6b025b02c1c7fabf8087748c5d4f13.txt  \n",
            "  inflating: train/labels/rgb_481_png.rf.ffbcce3def20d86d4bec3651a381ddf0.txt  \n",
            "  inflating: train/labels/rgb_484_png.rf.601b8549dbed92b9d62e36d23df97af5.txt  \n",
            "  inflating: train/labels/rgb_486_png.rf.c1390cfd095739ee28374f315161d00a.txt  \n",
            "  inflating: train/labels/rgb_487_png.rf.2670d241124656556434b8f5414e0630.txt  \n",
            "  inflating: train/labels/rgb_488_png.rf.7ab00a93c56b5813dec2508620fa0a91.txt  \n",
            "  inflating: train/labels/rgb_489_png.rf.bda8d9fb7f1240b0095fe5b6b60acaa7.txt  \n",
            "  inflating: train/labels/rgb_491_png.rf.ff9072d2b91ee935ec5bb9922e8c80cf.txt  \n",
            "  inflating: train/labels/rgb_492_png.rf.6c0f38e560b4c47b53c87b0725d5193f.txt  \n",
            "  inflating: train/labels/rgb_494_png.rf.9199c3ec1871c0cef52eda4281e9c70f.txt  \n",
            "  inflating: train/labels/rgb_495_png.rf.baf7e12597683181923023a6667b1510.txt  \n",
            "  inflating: train/labels/rgb_496_png.rf.e829264d91cc275605a665dd4d01d5cb.txt  \n",
            "  inflating: train/labels/rgb_497_png.rf.f65d1e0d7309575921ee655d87e53066.txt  \n",
            "  inflating: train/labels/rgb_498_png.rf.976ae93c5df595c9e0d649fcaf806f6c.txt  \n",
            "  inflating: train/labels/rgb_499_png.rf.122fba9f2bca1171aa22bcfbe3612429.txt  \n",
            "  inflating: train/labels/rgb_49_png.rf.7631c1e8c0d0b6551b2938e4bec2a7e7.txt  \n",
            "  inflating: train/labels/rgb_502_png.rf.8f231ac0c469290976a3d6bcdd2618f2.txt  \n",
            "  inflating: train/labels/rgb_503_png.rf.de9b09c471778b02d8d7edd4f11c871a.txt  \n",
            "  inflating: train/labels/rgb_504_png.rf.c0514bcf819b3b12322f506841f9129f.txt  \n",
            "  inflating: train/labels/rgb_505_png.rf.7a1140971759519c9efe4c0d7c5d9f9e.txt  \n",
            "  inflating: train/labels/rgb_506_png.rf.f25dacdecf8caf5dfd59be5e113bd1bf.txt  \n",
            "  inflating: train/labels/rgb_507_png.rf.0cd81fd7df1573214eba5da8de648672.txt  \n",
            "  inflating: train/labels/rgb_509_png.rf.75689108d8d4305a2a1de54507377f81.txt  \n",
            "  inflating: train/labels/rgb_50_png.rf.603f437e95c9f4c324c0f6b2d858df0f.txt  \n",
            "  inflating: train/labels/rgb_510_png.rf.56e48ca5a08e956a357df8d31aa73011.txt  \n",
            "  inflating: train/labels/rgb_511_png.rf.2bbb748868ce5fd76b70bb649697ccca.txt  \n",
            "  inflating: train/labels/rgb_512_png.rf.6c63acb0304de595ed99ba2d3ecb0f59.txt  \n",
            "  inflating: train/labels/rgb_513_png.rf.33f91d1e7bd4f7f8ec3339ddf6cff7d7.txt  \n",
            "  inflating: train/labels/rgb_514_png.rf.05875c7f2cfed90e0f25af25be31e23e.txt  \n",
            "  inflating: train/labels/rgb_515_png.rf.7a40e6d55898b315d7a34887d58a80d1.txt  \n",
            "  inflating: train/labels/rgb_516_png.rf.3098414d8774d7c4bf07f220a25cbd22.txt  \n",
            "  inflating: train/labels/rgb_517_png.rf.3e8549e754c12134d26fa92397fc6562.txt  \n",
            "  inflating: train/labels/rgb_518_png.rf.db086605f246f8a2ca582c8cc571d9b8.txt  \n",
            "  inflating: train/labels/rgb_519_png.rf.6d1ffb54129530914e8d6dd6eab3f2a4.txt  \n",
            "  inflating: train/labels/rgb_51_png.rf.85418a9ee09d742b4dbedb075737081c.txt  \n",
            "  inflating: train/labels/rgb_520_png.rf.bd253bbaa469d55664356de941e16c1b.txt  \n",
            "  inflating: train/labels/rgb_521_png.rf.a425a63ca5ba3577bbc4baf2c46f3b88.txt  \n",
            "  inflating: train/labels/rgb_523_png.rf.30b1cd701e8beb355094e03363646c24.txt  \n",
            "  inflating: train/labels/rgb_525_png.rf.1ce02c2f8b272d5325d3b1643a37961c.txt  \n",
            "  inflating: train/labels/rgb_526_png.rf.40846d93bfcf020c12f0a5afa3ce1256.txt  \n",
            "  inflating: train/labels/rgb_528_png.rf.f7b967cced6018f910f6bfcaa633bfdb.txt  \n",
            "  inflating: train/labels/rgb_529_png.rf.6fcd705ee67dc12aa091a59e0ac374be.txt  \n",
            "  inflating: train/labels/rgb_52_png.rf.ce276f9c0fd4332a460ce876334c8465.txt  \n",
            "  inflating: train/labels/rgb_531_png.rf.21cda8c10710a86d0a8e1d9b8a5b02dc.txt  \n",
            "  inflating: train/labels/rgb_533_png.rf.d7ca9b2390b2f02195b55405399cc7bb.txt  \n",
            "  inflating: train/labels/rgb_534_png.rf.dde31d7582728b26a5340db8d0c153fd.txt  \n",
            "  inflating: train/labels/rgb_536_png.rf.dc7a47bf73436babaa66f19a5af8b8af.txt  \n",
            "  inflating: train/labels/rgb_537_png.rf.2bd21ac03c3f76e48fac4088c8c5e078.txt  \n",
            "  inflating: train/labels/rgb_538_png.rf.d0441150f594eb59ac055b003170af6f.txt  \n",
            "  inflating: train/labels/rgb_539_png.rf.fe3ede8c314e023ccb2ac0af11048822.txt  \n",
            "  inflating: train/labels/rgb_53_png.rf.22da6d0db53da4434f7c0e7abd776691.txt  \n",
            "  inflating: train/labels/rgb_540_png.rf.6b266b09567fba474ea47caf12bf8d1a.txt  \n",
            "  inflating: train/labels/rgb_542_png.rf.dc54a848cefc9ead8deb119cef81eaa3.txt  \n",
            "  inflating: train/labels/rgb_543_png.rf.fcce0cf17ff0a049707521d21788ee28.txt  \n",
            "  inflating: train/labels/rgb_544_png.rf.58e57384af458467588d1015cbdf8225.txt  \n",
            "  inflating: train/labels/rgb_546_png.rf.90ba6fc2329e2f2d9090f013257749ea.txt  \n",
            "  inflating: train/labels/rgb_54_png.rf.79ab8d0cc9027f5529b49d35ab6fd9e2.txt  \n",
            "  inflating: train/labels/rgb_550_png.rf.8df639a7d81bb7a8e9f1b55ec4fb5b7e.txt  \n",
            "  inflating: train/labels/rgb_554_png.rf.bbb3c27165bb184776ff613e6f8e8d80.txt  \n",
            "  inflating: train/labels/rgb_555_png.rf.823773fc97480fe553cb177b43c5282b.txt  \n",
            "  inflating: train/labels/rgb_557_png.rf.32243e9214ff9f5bcb80975b354379e2.txt  \n",
            "  inflating: train/labels/rgb_559_png.rf.793247d42939ae3316b694f97ffd8524.txt  \n",
            "  inflating: train/labels/rgb_55_png.rf.3ea0a9095a085838172342e1a0b92b67.txt  \n",
            "  inflating: train/labels/rgb_560_png.rf.879e442e8a27a741e49da2a0827e44ce.txt  \n",
            "  inflating: train/labels/rgb_561_png.rf.2a7125925f818de46c53c6aaa992709f.txt  \n",
            "  inflating: train/labels/rgb_562_png.rf.30f38583f06d3ea60392640df0743d5a.txt  \n",
            "  inflating: train/labels/rgb_563_png.rf.e56f7878b823f12adcf6f8736ff2472e.txt  \n",
            "  inflating: train/labels/rgb_564_png.rf.12b4a8df2e4dacc45896c539323fd836.txt  \n",
            "  inflating: train/labels/rgb_565_png.rf.99f1c92daf4a8bb466167e29465589d6.txt  \n",
            "  inflating: train/labels/rgb_567_png.rf.47d90167264a803b7a313aeabd1feea9.txt  \n",
            "  inflating: train/labels/rgb_568_png.rf.be0598eff92a5ce0a2d56129c331f128.txt  \n",
            "  inflating: train/labels/rgb_570_png.rf.9741e8888c572b176db4f8f45cfe8c82.txt  \n",
            "  inflating: train/labels/rgb_571_png.rf.4a486f3694e722830c2008421402202d.txt  \n",
            "  inflating: train/labels/rgb_573_png.rf.689332ad79e7046e07f720bae7e2b9cc.txt  \n",
            "  inflating: train/labels/rgb_574_png.rf.293b7b4f999b60698f46097b34f26c1a.txt  \n",
            "  inflating: train/labels/rgb_576_png.rf.ccc648aacb5add78a4f534dfcb2f38ff.txt  \n",
            "  inflating: train/labels/rgb_577_png.rf.4080e7a8dc92250a48bbfe3484a102f1.txt  \n",
            "  inflating: train/labels/rgb_578_png.rf.6942ac00163edcf64b0d5b65c2965e2a.txt  \n",
            "  inflating: train/labels/rgb_580_png.rf.daa5871e38486aeb1500caf7f255c0b2.txt  \n",
            "  inflating: train/labels/rgb_582_png.rf.2f3f17f3d02be2761cd26b849f664c45.txt  \n",
            "  inflating: train/labels/rgb_583_png.rf.f6859bae758a863d0c0a2bdf5ba38090.txt  \n",
            "  inflating: train/labels/rgb_584_png.rf.1a82d72b1df7fae4fd0c66e1ade5ec3b.txt  \n",
            "  inflating: train/labels/rgb_585_png.rf.0ed5e82c82dfe64a839b84740a2662b9.txt  \n",
            "  inflating: train/labels/rgb_589_png.rf.ed73de1e540153edd2e8d792834784a2.txt  \n",
            "  inflating: train/labels/rgb_590_png.rf.74205ff6031d3297fc03bad56e513982.txt  \n",
            "  inflating: train/labels/rgb_592_png.rf.afe458049916e07d4f9b6e382c819230.txt  \n",
            "  inflating: train/labels/rgb_594_png.rf.795f5ab0da30209c858788090375dd2e.txt  \n",
            "  inflating: train/labels/rgb_595_png.rf.285f82d6e20b9f30dbbf43615b26007e.txt  \n",
            "  inflating: train/labels/rgb_597_png.rf.3f42cd6352fc46805a2c3742d46200f6.txt  \n",
            "  inflating: train/labels/rgb_598_png.rf.8ae3c38b23466295dfbb63a58cdaa5e1.txt  \n",
            "  inflating: train/labels/rgb_599_png.rf.6a15d20fcb91158a1b3e4614a202f469.txt  \n",
            "  inflating: train/labels/rgb_59_png.rf.58d197d05345c5305ac62f319a67aa88.txt  \n",
            "  inflating: train/labels/rgb_5_png.rf.ddde81180481f2ef9a52b119e9e0c754.txt  \n",
            "  inflating: train/labels/rgb_601_png.rf.905c8671d9527d7b8c626f8dd784d37c.txt  \n",
            "  inflating: train/labels/rgb_602_png.rf.f8564961051db1f350a35b3011fcf8a2.txt  \n",
            "  inflating: train/labels/rgb_604_png.rf.fd94d024c87899e28e06fe9200c3ebc8.txt  \n",
            "  inflating: train/labels/rgb_605_png.rf.b246f182a5c79581989c2bb80bc03d53.txt  \n",
            "  inflating: train/labels/rgb_607_png.rf.6d30806275a2a57d9a4f449e9b1e14ff.txt  \n",
            "  inflating: train/labels/rgb_609_png.rf.b596ee7a966d510a760fcfbb28fdebd2.txt  \n",
            "  inflating: train/labels/rgb_60_png.rf.8937818eea72807951a363caf5a579dd.txt  \n",
            "  inflating: train/labels/rgb_613_png.rf.ea2c965248a8a3533cd2a85945a061f5.txt  \n",
            "  inflating: train/labels/rgb_615_png.rf.9932f47123a26d2cc28926d9cb672582.txt  \n",
            "  inflating: train/labels/rgb_616_png.rf.932e808bd2df218f799e92d95733e9ab.txt  \n",
            "  inflating: train/labels/rgb_617_png.rf.068662accb300d50c22b4db380cc0532.txt  \n",
            "  inflating: train/labels/rgb_618_png.rf.81cb0610cac10d18968d375d87bdaae2.txt  \n",
            "  inflating: train/labels/rgb_619_png.rf.efbfac2561e2b1b5d259e2f379436c18.txt  \n",
            "  inflating: train/labels/rgb_61_png.rf.a145a4bf30297838452bfe6e42cb14d2.txt  \n",
            "  inflating: train/labels/rgb_620_png.rf.21ef16fed8ab03353e16faa88bc51b3d.txt  \n",
            "  inflating: train/labels/rgb_622_png.rf.1a28e88e1f15b4874c9b436c3d8d7081.txt  \n",
            "  inflating: train/labels/rgb_623_png.rf.2ab23885a625f79786ed886520de5748.txt  \n",
            "  inflating: train/labels/rgb_624_png.rf.6d70302f0c2695209f4ef491bb4d137b.txt  \n",
            "  inflating: train/labels/rgb_625_png.rf.89de303bd17057d646775dcb28988d88.txt  \n",
            "  inflating: train/labels/rgb_626_png.rf.99d54f6edce926d4a9ee6c59de3b27dc.txt  \n",
            "  inflating: train/labels/rgb_627_png.rf.a4544e1053579c758fe0015e56cfb36f.txt  \n",
            "  inflating: train/labels/rgb_628_png.rf.aa94a6e5441966a0c30b732d508152a3.txt  \n",
            "  inflating: train/labels/rgb_629_png.rf.b689a86fc4f26c8997edd250f93dddd4.txt  \n",
            "  inflating: train/labels/rgb_62_png.rf.77a4d2558593ee132c39d41841b3c846.txt  \n",
            "  inflating: train/labels/rgb_630_png.rf.2844af51ccf53525edfe156e9db425d2.txt  \n",
            "  inflating: train/labels/rgb_631_png.rf.ebc97c6e61f932f691dedf95e50044ae.txt  \n",
            "  inflating: train/labels/rgb_634_png.rf.3fab6da91ca3ea3ad999613a58ee6a81.txt  \n",
            "  inflating: train/labels/rgb_636_png.rf.34199d23c5e6b556c084872637198e97.txt  \n",
            "  inflating: train/labels/rgb_637_png.rf.19a91a8fe20ebf3f633a2b6a91843b24.txt  \n",
            "  inflating: train/labels/rgb_638_png.rf.0743e2b465bf39641e63cbc7b74954ed.txt  \n",
            "  inflating: train/labels/rgb_639_png.rf.9cbc807d7b72bcc78e8118b8fd45ed44.txt  \n",
            "  inflating: train/labels/rgb_63_png.rf.6da81129016630b61f93f491a8490518.txt  \n",
            "  inflating: train/labels/rgb_640_png.rf.1ac34be590891747bde5268c24d1fabe.txt  \n",
            "  inflating: train/labels/rgb_641_png.rf.b55514ba9ebc663fa63ad26bf816c56a.txt  \n",
            "  inflating: train/labels/rgb_643_png.rf.d11ccff9650881b5ddc9f1493f9a845c.txt  \n",
            "  inflating: train/labels/rgb_644_png.rf.4ce15b01344e2042e619ebe8d49b9f86.txt  \n",
            "  inflating: train/labels/rgb_645_png.rf.b0db82671f91f4c075fb6edb15aa1a3d.txt  \n",
            "  inflating: train/labels/rgb_646_png.rf.2b382d28beeb74ad730f6dcaca1eace3.txt  \n",
            "  inflating: train/labels/rgb_647_png.rf.0d510e8f659fe1c9d84bad529436406a.txt  \n",
            "  inflating: train/labels/rgb_648_png.rf.0d6277b37e24ac83afe6dc2bcb1926d4.txt  \n",
            "  inflating: train/labels/rgb_649_png.rf.305459247f83d1dde826ffba71d5bb92.txt  \n",
            "  inflating: train/labels/rgb_64_png.rf.d763f0e8ad4af21c427bdd6480a6a1fc.txt  \n",
            "  inflating: train/labels/rgb_650_png.rf.482ab870a84396cbe3a3e33824e90016.txt  \n",
            "  inflating: train/labels/rgb_653_png.rf.6a5b2b85a9efb56c6839c0bdd5078e25.txt  \n",
            "  inflating: train/labels/rgb_656_png.rf.ac0b7763e10db997d82f9d816beb2ffa.txt  \n",
            "  inflating: train/labels/rgb_657_png.rf.8f0336811b4f229f43f974dcd1369e07.txt  \n",
            "  inflating: train/labels/rgb_659_png.rf.19cdbec7ab411109f8b478cf299be623.txt  \n",
            "  inflating: train/labels/rgb_65_png.rf.6231467389154a0a31805a9c3b1efe1c.txt  \n",
            "  inflating: train/labels/rgb_660_png.rf.9ed6867f46c56fad1b8ef6dd3616727f.txt  \n",
            "  inflating: train/labels/rgb_661_png.rf.7e32ab3fa3d5a96f5c607c4bea2d2402.txt  \n",
            "  inflating: train/labels/rgb_662_png.rf.70b9e1cc1d9a510ea56ea83a9c72b312.txt  \n",
            "  inflating: train/labels/rgb_663_png.rf.4f9323dc1afafcc92994cd7035b3eff2.txt  \n",
            "  inflating: train/labels/rgb_664_png.rf.75c1d312ac6ef871c025507e8ebb2fdb.txt  \n",
            "  inflating: train/labels/rgb_665_png.rf.37e0e429c73eced5d8690a75474c294a.txt  \n",
            "  inflating: train/labels/rgb_666_png.rf.f656c8c957e15f06f8a28f0d5d5d7ec4.txt  \n",
            "  inflating: train/labels/rgb_667_png.rf.52f81129bf3d1ff9572387d6be3c861f.txt  \n",
            "  inflating: train/labels/rgb_668_png.rf.18acfc2d798aba12f67548c1c509af71.txt  \n",
            "  inflating: train/labels/rgb_670_png.rf.7f2d059aa9b3b1847cfb2f6cda1ebfa7.txt  \n",
            "  inflating: train/labels/rgb_671_png.rf.b299addb6a355e0c218265ad3343865c.txt  \n",
            "  inflating: train/labels/rgb_672_png.rf.b681cab36d93384af7cf2835d6b47b33.txt  \n",
            "  inflating: train/labels/rgb_673_png.rf.74109cbbed2243222abd2019e4bdc95c.txt  \n",
            "  inflating: train/labels/rgb_674_png.rf.b3c731b531f0140268baf486c533ea1b.txt  \n",
            "  inflating: train/labels/rgb_676_png.rf.099951fdfce213b5abdce6ed4d8ab63f.txt  \n",
            "  inflating: train/labels/rgb_677_png.rf.0ac8e4286e97e7b1b3b9fa1fcd822c6a.txt  \n",
            "  inflating: train/labels/rgb_678_png.rf.9d9f41702f03e61fcc7d12597db15fb5.txt  \n",
            "  inflating: train/labels/rgb_679_png.rf.02ab354bab783fe9245df06ab38d48c3.txt  \n",
            "  inflating: train/labels/rgb_67_png.rf.f28ffcf427d7f9014ee07a502c17d640.txt  \n",
            "  inflating: train/labels/rgb_680_png.rf.7d61d9e77b3d4e896526c43191f64d29.txt  \n",
            "  inflating: train/labels/rgb_681_png.rf.93037dabd7fbd418155289bbc447d66b.txt  \n",
            "  inflating: train/labels/rgb_684_png.rf.bbf41c60f5bff57b515b944c12d72b81.txt  \n",
            "  inflating: train/labels/rgb_688_png.rf.e130c7e3a679a615bdc637e5024db307.txt  \n",
            "  inflating: train/labels/rgb_689_png.rf.d04db1d0a417ed02cb0e089402d22f2a.txt  \n",
            "  inflating: train/labels/rgb_68_png.rf.07a17f46f8d6cf7734e4c4a4b7e22f63.txt  \n",
            "  inflating: train/labels/rgb_690_png.rf.5870baa0202e28eab3ddb235ef7b8269.txt  \n",
            "  inflating: train/labels/rgb_691_png.rf.4df524534d3b86284c609a263b3d53a6.txt  \n",
            "  inflating: train/labels/rgb_692_png.rf.08af93a47d4cd34aa06f68ce9c6d502d.txt  \n",
            "  inflating: train/labels/rgb_696_png.rf.60f665a35f2c7d32028a3d22525d2172.txt  \n",
            "  inflating: train/labels/rgb_697_png.rf.b42315a3365a9151183d596215032e8c.txt  \n",
            "  inflating: train/labels/rgb_698_png.rf.0d008c40faf555cfc51f1cf1cd4e10de.txt  \n",
            "  inflating: train/labels/rgb_6_png.rf.f3a711ba0cb81a6fc553b21385f63280.txt  \n",
            "  inflating: train/labels/rgb_700_png.rf.192ff9957b6a0291d2956093ec9ef4e6.txt  \n",
            "  inflating: train/labels/rgb_701_png.rf.e65da56488b1b034ac2cebd641db9fc1.txt  \n",
            "  inflating: train/labels/rgb_703_png.rf.a7f5597611a4256b73259d3723db4bde.txt  \n",
            "  inflating: train/labels/rgb_704_png.rf.ef047ccfa663fd50d406c065cdc7df7c.txt  \n",
            "  inflating: train/labels/rgb_705_png.rf.5d7ae5ced9e3b8d7c28446fb9acbbf4b.txt  \n",
            "  inflating: train/labels/rgb_707_png.rf.46be207dea90a82f3e51dc95f55f06d8.txt  \n",
            "  inflating: train/labels/rgb_708_png.rf.bd0a4b3b0cda0a31f93411cc8fe6c6c3.txt  \n",
            "  inflating: train/labels/rgb_710_png.rf.bb97165e5b40f657e7b60ea9dc96f40a.txt  \n",
            "  inflating: train/labels/rgb_711_png.rf.57092170221746dac963fe4943e6ebe7.txt  \n",
            "  inflating: train/labels/rgb_712_png.rf.562073f4a43261ec90dbc480eee4ee27.txt  \n",
            "  inflating: train/labels/rgb_714_png.rf.b32ce925df4502ca9f9c6466bba74bb9.txt  \n",
            "  inflating: train/labels/rgb_715_png.rf.23bf0cae89a23c42a96d85b3b1b4b386.txt  \n",
            "  inflating: train/labels/rgb_716_png.rf.4361ec4c9059bcfe8a0173825da4ebc5.txt  \n",
            "  inflating: train/labels/rgb_717_png.rf.8914f6116f361e3197314a700650f78d.txt  \n",
            "  inflating: train/labels/rgb_718_png.rf.97a960cddf3df7a4207034f12585db31.txt  \n",
            "  inflating: train/labels/rgb_719_png.rf.1c37b27e21f998100ab565429776c376.txt  \n",
            "  inflating: train/labels/rgb_720_png.rf.cef89afb2626d950c7644e7da1c3ac1c.txt  \n",
            "  inflating: train/labels/rgb_722_png.rf.8b68997589faf9b9f6610163a9cfdc58.txt  \n",
            "  inflating: train/labels/rgb_725_png.rf.3ee1dbfe553091a2e19c2d841cb9aaef.txt  \n",
            "  inflating: train/labels/rgb_726_png.rf.927b5e118dad2c92d9a79a01de295403.txt  \n",
            "  inflating: train/labels/rgb_728_png.rf.edb93b2a7a6c41a1553915fba886499a.txt  \n",
            "  inflating: train/labels/rgb_72_png.rf.226d36ca052defcddff37f160cdaffcf.txt  \n",
            "  inflating: train/labels/rgb_730_png.rf.9deb8e065dedcda06652371610c2738f.txt  \n",
            "  inflating: train/labels/rgb_731_png.rf.8cfcdafe8d36467708a759643c332517.txt  \n",
            "  inflating: train/labels/rgb_733_png.rf.b39b3110a6f4667e6c6552e3e16f4366.txt  \n",
            "  inflating: train/labels/rgb_735_png.rf.eeb39b76a429f023a55d46de3c7b4539.txt  \n",
            "  inflating: train/labels/rgb_737_png.rf.e4109c885edf9f08a2d395618f10e6a0.txt  \n",
            "  inflating: train/labels/rgb_738_png.rf.c9fc56ae380df674da59be89b4414f0a.txt  \n",
            "  inflating: train/labels/rgb_739_png.rf.2b86e9b31199c9b16ea84e84bb090f35.txt  \n",
            "  inflating: train/labels/rgb_73_png.rf.af70dc789ee6fc2c911bb987861373a3.txt  \n",
            "  inflating: train/labels/rgb_740_png.rf.6498158d4cd411b39277e793ea3c8af4.txt  \n",
            "  inflating: train/labels/rgb_741_png.rf.55738dc732cc5940cc9d1bea29ce9e32.txt  \n",
            "  inflating: train/labels/rgb_742_png.rf.dc11eb3a3c73d102eebb3e91cd8aef06.txt  \n",
            "  inflating: train/labels/rgb_745_png.rf.35aec6c92f358dfa3e8ae21c0c0b5872.txt  \n",
            "  inflating: train/labels/rgb_746_png.rf.901d263a6affe3d4d0532be89a6aa523.txt  \n",
            "  inflating: train/labels/rgb_747_png.rf.0075bef4814d8c12e02f5df93bad3be5.txt  \n",
            "  inflating: train/labels/rgb_749_png.rf.97c355aa11680279a4eea0a91a9db507.txt  \n",
            "  inflating: train/labels/rgb_74_png.rf.270762226fb4ee41af95c2e7c71af455.txt  \n",
            "  inflating: train/labels/rgb_750_png.rf.6a014fa02ef5d1fcff1a019a5e8ef94d.txt  \n",
            "  inflating: train/labels/rgb_751_png.rf.6f00ce7eaac94690e30bb3b9d42eb055.txt  \n",
            "  inflating: train/labels/rgb_752_png.rf.6e5df511ed60ce56b6765f267ea0c20c.txt  \n",
            "  inflating: train/labels/rgb_753_png.rf.b2e01a6c62ab05b4803039a4948891ef.txt  \n",
            "  inflating: train/labels/rgb_755_png.rf.8206357d0b65720263d956fcbaebdc9b.txt  \n",
            "  inflating: train/labels/rgb_756_png.rf.f8d51983c5ad28d7c9c16aba0c59dcdb.txt  \n",
            "  inflating: train/labels/rgb_757_png.rf.bd39ea084be5d56c60a3cbc2e316415b.txt  \n",
            "  inflating: train/labels/rgb_758_png.rf.7ab4428beb88441f3d22b48c487b5ac3.txt  \n",
            "  inflating: train/labels/rgb_761_png.rf.08a63833ebc40980368d56861bd9c524.txt  \n",
            "  inflating: train/labels/rgb_763_png.rf.9ab9a050c26b4de71f521f1ba6d7e1f0.txt  \n",
            "  inflating: train/labels/rgb_764_png.rf.0a7d1bcf3ea2d7b9f4bdf084be5c03ae.txt  \n",
            "  inflating: train/labels/rgb_767_png.rf.4978edf87ec7a54b5342008b3f2e6a7e.txt  \n",
            "  inflating: train/labels/rgb_768_png.rf.8328ae9ab37efd7dce73cecb14919989.txt  \n",
            "  inflating: train/labels/rgb_769_png.rf.d6568fc6e98bdcf6c3130712c226a725.txt  \n",
            "  inflating: train/labels/rgb_76_png.rf.45e4b4072454e6424458b9855a5eb4ef.txt  \n",
            "  inflating: train/labels/rgb_770_png.rf.dac592ef28c6e92d86df82d72bbdb9b0.txt  \n",
            "  inflating: train/labels/rgb_771_png.rf.074940b85ed1bf9db69809ac1d167303.txt  \n",
            "  inflating: train/labels/rgb_772_png.rf.db13f41d52381e6f78a78a1a04537c4c.txt  \n",
            "  inflating: train/labels/rgb_777_png.rf.deb8535e0537f22767087a98efc541fd.txt  \n",
            "  inflating: train/labels/rgb_779_png.rf.136c66f9215c78eb24be0d79ac2f1e6e.txt  \n",
            "  inflating: train/labels/rgb_77_png.rf.62eadc75dd1f4786387947288c0eb3a5.txt  \n",
            "  inflating: train/labels/rgb_781_png.rf.94a60e57d6acaeb8739349b49bef9942.txt  \n",
            "  inflating: train/labels/rgb_782_png.rf.a3d48d0cca90278adeeedcbdbb171d04.txt  \n",
            "  inflating: train/labels/rgb_783_png.rf.5eaf1744d3ee53dfedc6ecdd6df98e4a.txt  \n",
            "  inflating: train/labels/rgb_784_png.rf.0c25109778d79b471cd5957e40ae0e3e.txt  \n",
            "  inflating: train/labels/rgb_786_png.rf.bffcde1733282aa7351251949df627ba.txt  \n",
            "  inflating: train/labels/rgb_787_png.rf.9e54261779c1b347cc99c7bb68fcd671.txt  \n",
            "  inflating: train/labels/rgb_788_png.rf.adbb706ae75de2a749d33baf8ea25d07.txt  \n",
            "  inflating: train/labels/rgb_789_png.rf.65e1b90924d299b443b8320c9d556fe8.txt  \n",
            "  inflating: train/labels/rgb_78_png.rf.e6df9a8289f4816bcba6eb3d0e40fd1b.txt  \n",
            "  inflating: train/labels/rgb_790_png.rf.3f9a03bee6b99992d6a94e83aa8d4013.txt  \n",
            "  inflating: train/labels/rgb_791_png.rf.729325a16f6472f2d9ca8ec51801902d.txt  \n",
            "  inflating: train/labels/rgb_792_png.rf.c36c46b41e7f9f0b5137771bb8dc10f1.txt  \n",
            "  inflating: train/labels/rgb_793_png.rf.ef37eb6ac7ec3a3cb8b2f6522947127d.txt  \n",
            "  inflating: train/labels/rgb_794_png.rf.b402b92a5f6e8e176f331cead9ca718f.txt  \n",
            "  inflating: train/labels/rgb_796_png.rf.10e4cb2076f63a8812b4aa059438402d.txt  \n",
            "  inflating: train/labels/rgb_797_png.rf.6230727f909c0c1a3eeafa7a63c7373b.txt  \n",
            "  inflating: train/labels/rgb_798_png.rf.5b71c38fb3241b62403202aa3fa51d00.txt  \n",
            "  inflating: train/labels/rgb_799_png.rf.64861aab9edecace73c2017373186979.txt  \n",
            "  inflating: train/labels/rgb_7_png.rf.4ee1da2bd0dedcfd46622ddb44ab4677.txt  \n",
            "  inflating: train/labels/rgb_801_png.rf.3d7bcc6723beb0681b7bb9a422b58414.txt  \n",
            "  inflating: train/labels/rgb_802_png.rf.f1df15ce9236dc1d47ef7230c5ac529d.txt  \n",
            "  inflating: train/labels/rgb_803_png.rf.d671700942a0533387adf5b3066d148a.txt  \n",
            "  inflating: train/labels/rgb_804_png.rf.c89f9d9fe87019c3284b84ac28a747d7.txt  \n",
            "  inflating: train/labels/rgb_806_png.rf.b16013daa87ff52ffa9a7b8561b1d39e.txt  \n",
            "  inflating: train/labels/rgb_807_png.rf.83ff8188a1d1b400af3eacfae2ce7ad9.txt  \n",
            "  inflating: train/labels/rgb_809_png.rf.eee37987c3ef3ef1b0f46a9993c56bbc.txt  \n",
            "  inflating: train/labels/rgb_810_png.rf.5c499c2dfcef3e7e690c0613f0d98563.txt  \n",
            "  inflating: train/labels/rgb_811_png.rf.527e63a11ede32188ea8c07d509d8310.txt  \n",
            "  inflating: train/labels/rgb_812_png.rf.43ac10b20a7649427c9f080bb4005f37.txt  \n",
            "  inflating: train/labels/rgb_813_png.rf.ae504bad14cf3342a2d4caccc48d1b6a.txt  \n",
            "  inflating: train/labels/rgb_814_png.rf.22f7f271fce369f4afcb50aac8b56381.txt  \n",
            "  inflating: train/labels/rgb_816_png.rf.5a7c05da734f46fe698908457a8d37df.txt  \n",
            "  inflating: train/labels/rgb_818_png.rf.988aec2914838ce16d0f1464da300696.txt  \n",
            "  inflating: train/labels/rgb_819_png.rf.a89bbabc4e231f1c671ee5009f09ca51.txt  \n",
            "  inflating: train/labels/rgb_820_png.rf.5c9f27cc8b54dd3c0b2a8f336d8e66b7.txt  \n",
            "  inflating: train/labels/rgb_821_png.rf.ce4d2acf6c494276dfecd2ab4b70691e.txt  \n",
            "  inflating: train/labels/rgb_823_png.rf.631fc0f89348a27722a4ed4d2adb5635.txt  \n",
            "  inflating: train/labels/rgb_824_png.rf.1ed7516d7fae21c4dcc20625e07e1aa3.txt  \n",
            "  inflating: train/labels/rgb_825_png.rf.3bd225408b12328177636d162bf7cc6b.txt  \n",
            "  inflating: train/labels/rgb_826_png.rf.6c1158ff822a6c707467ac3ecd4220e6.txt  \n",
            "  inflating: train/labels/rgb_829_png.rf.705314d96fd54b071beacc05944ce10d.txt  \n",
            "  inflating: train/labels/rgb_82_png.rf.29326f12cd5a8950fd73771b00289960.txt  \n",
            "  inflating: train/labels/rgb_831_png.rf.2c0f017a3728351632a1be916e750e5f.txt  \n",
            "  inflating: train/labels/rgb_832_png.rf.c3acf21867d97b015c0b41e82fcbdb22.txt  \n",
            "  inflating: train/labels/rgb_833_png.rf.20e974a119240b5177bd1703cd3c70d5.txt  \n",
            "  inflating: train/labels/rgb_834_png.rf.aac51989d4dbb9d36d4ec68e77967f14.txt  \n",
            "  inflating: train/labels/rgb_835_png.rf.1d2e9757747fe0c8c96fec38967bde40.txt  \n",
            "  inflating: train/labels/rgb_836_png.rf.75b3cfa309b1ca7c46978a03ef0811d5.txt  \n",
            "  inflating: train/labels/rgb_838_png.rf.3957e49e7de6e89006fb67ab8d710181.txt  \n",
            "  inflating: train/labels/rgb_839_png.rf.f03cac946396d3b40e8c7a3f69ea4c7b.txt  \n",
            "  inflating: train/labels/rgb_83_png.rf.28ca742f905cac279e7be77babd70ec1.txt  \n",
            "  inflating: train/labels/rgb_840_png.rf.c6eea90ef8cd377807462a70751b817d.txt  \n",
            "  inflating: train/labels/rgb_841_png.rf.ddf13721517b23ff636f06a0cdd6821f.txt  \n",
            "  inflating: train/labels/rgb_843_png.rf.c7d65ec3cb463e715e0ecd3073e56cc7.txt  \n",
            "  inflating: train/labels/rgb_844_png.rf.90b7e29433e38daaa5f076d89197f5a2.txt  \n",
            "  inflating: train/labels/rgb_845_png.rf.5044fed2d2bdc598422035990b1e0bb6.txt  \n",
            "  inflating: train/labels/rgb_847_png.rf.2e8ba38ec6876abf276607b28a31dd00.txt  \n",
            "  inflating: train/labels/rgb_848_png.rf.641221e883b5cce845e513473588d738.txt  \n",
            "  inflating: train/labels/rgb_84_png.rf.044642e504b973973b8ecd2888ae824e.txt  \n",
            "  inflating: train/labels/rgb_850_png.rf.fddba1bf9b8925d975446b64c9c92a45.txt  \n",
            "  inflating: train/labels/rgb_851_png.rf.b011637e8be759026284611c2815baa6.txt  \n",
            "  inflating: train/labels/rgb_852_png.rf.476d3fd693fb6221af0385c65edccda2.txt  \n",
            "  inflating: train/labels/rgb_853_png.rf.fb082ac3ffc2deb241a91bd4db64979e.txt  \n",
            "  inflating: train/labels/rgb_854_png.rf.d54bdb230dfaabb48fc9edf1ee3e63a5.txt  \n",
            "  inflating: train/labels/rgb_856_png.rf.55232b053951fde0a2de408ed51bdb66.txt  \n",
            "  inflating: train/labels/rgb_857_png.rf.97cbfb2d2da97e042411d53e0e15f6b7.txt  \n",
            "  inflating: train/labels/rgb_858_png.rf.2e4d1a8319148321e3f04ff1c2c54e22.txt  \n",
            "  inflating: train/labels/rgb_859_png.rf.223bfc95607209a169785033de1842d0.txt  \n",
            "  inflating: train/labels/rgb_85_png.rf.7dd5071c527f8363532c40f6b5a58b4a.txt  \n",
            "  inflating: train/labels/rgb_861_png.rf.711d3e346eef22d205627129d1620adc.txt  \n",
            "  inflating: train/labels/rgb_862_png.rf.e92778b69e2800820acf5ad1d86cc77c.txt  \n",
            "  inflating: train/labels/rgb_863_png.rf.ed3ed255822d97c885ad26313da9a4e9.txt  \n",
            "  inflating: train/labels/rgb_864_png.rf.82ed43a4e5d459699131e13b060d2c86.txt  \n",
            "  inflating: train/labels/rgb_865_png.rf.69c5b12251be48bb8cb478bea6524188.txt  \n",
            "  inflating: train/labels/rgb_866_png.rf.05a2789004b6c25fe2c4629b9ac301d4.txt  \n",
            "  inflating: train/labels/rgb_867_png.rf.110b3253443be4ef8a3e9c724a9489e4.txt  \n",
            "  inflating: train/labels/rgb_868_png.rf.93cc1bc0b8187df0492cb21b6df4ec68.txt  \n",
            "  inflating: train/labels/rgb_869_png.rf.8ddb8a433d5409b78f3fee431ecdb5fc.txt  \n",
            "  inflating: train/labels/rgb_86_png.rf.6711bcd497e6acbc3ac1f5a8a93b4d98.txt  \n",
            "  inflating: train/labels/rgb_870_png.rf.9aa125d4693331c5ac709144d3b4894e.txt  \n",
            "  inflating: train/labels/rgb_873_png.rf.5cf3c377cbe0d5feccb6ee7b999e5a47.txt  \n",
            "  inflating: train/labels/rgb_874_png.rf.259bc3ec30abc551b4a89db063256209.txt  \n",
            "  inflating: train/labels/rgb_875_png.rf.65c1f3f722c87d295cfe2e1698b14b5b.txt  \n",
            "  inflating: train/labels/rgb_876_png.rf.587f260ddba01e56ad76d7512e3e5392.txt  \n",
            "  inflating: train/labels/rgb_877_png.rf.b155e7f8955b42d4859824ebceb88296.txt  \n",
            "  inflating: train/labels/rgb_878_png.rf.7d38a5fc6456b396bee10cfd0d3c55b6.txt  \n",
            "  inflating: train/labels/rgb_87_png.rf.aa336003241f9938920f332aa5a916c2.txt  \n",
            "  inflating: train/labels/rgb_880_png.rf.a4a1d5b405301709ed9a311d88d3e81c.txt  \n",
            "  inflating: train/labels/rgb_881_png.rf.fe8c8e9a6938cc0c375653ad121cd124.txt  \n",
            "  inflating: train/labels/rgb_883_png.rf.9ecd50eb3590b346e27fadfd9abf788c.txt  \n",
            "  inflating: train/labels/rgb_885_png.rf.60c89ed9bde9e5897e448423703e388e.txt  \n",
            "  inflating: train/labels/rgb_886_png.rf.35ede3603d61ebb14440116f22c80cae.txt  \n",
            "  inflating: train/labels/rgb_887_png.rf.19a256212d3dbd639f78f78e87340f05.txt  \n",
            "  inflating: train/labels/rgb_888_png.rf.e453df9d17ad92bbb0355d0eb96b468b.txt  \n",
            "  inflating: train/labels/rgb_891_png.rf.95fea7164eb003d497315c7e19a6fa6d.txt  \n",
            "  inflating: train/labels/rgb_892_png.rf.3a34130f3b2b9e35e4f7bedeb1ca030c.txt  \n",
            "  inflating: train/labels/rgb_893_png.rf.28c713b32e61eb93bf8d4f722adb3922.txt  \n",
            "  inflating: train/labels/rgb_894_png.rf.ded58c13d853092f411d1fa0d7e0c222.txt  \n",
            "  inflating: train/labels/rgb_897_png.rf.7deea125bad4705fe72413200324f0af.txt  \n",
            "  inflating: train/labels/rgb_898_png.rf.f96a46d305f12591edfb68a9e85aeb7c.txt  \n",
            "  inflating: train/labels/rgb_899_png.rf.cacb432aadce97951f269a392fa0c22c.txt  \n",
            "  inflating: train/labels/rgb_901_png.rf.a964fc760d741aedf29cf2d92822f438.txt  \n",
            "  inflating: train/labels/rgb_902_png.rf.2a7dbd533e9f43049cc949ecca8255e6.txt  \n",
            "  inflating: train/labels/rgb_903_png.rf.7d594305e53c85e593b5ead51b00066b.txt  \n",
            "  inflating: train/labels/rgb_905_png.rf.ac6884c475379f0dc1570bd556e9e129.txt  \n",
            "  inflating: train/labels/rgb_906_png.rf.7b44fe4046fd8b756c60fd5e5f2b499d.txt  \n",
            "  inflating: train/labels/rgb_907_png.rf.368d45b1b5239e9feda356d8421b0dac.txt  \n",
            "  inflating: train/labels/rgb_908_png.rf.f10947a4861d5db0dbc5534a024b3598.txt  \n",
            "  inflating: train/labels/rgb_909_png.rf.87a3e620382d0eef6267eb6e250ef26f.txt  \n",
            "  inflating: train/labels/rgb_911_png.rf.f0fcc30a31ac77e5e5996fb3c4820c17.txt  \n",
            "  inflating: train/labels/rgb_915_png.rf.d0cdd1fba0c26376f647b0ad62986816.txt  \n",
            "  inflating: train/labels/rgb_917_png.rf.94a118b46cbd6ac785610b3a7e10eff3.txt  \n",
            "  inflating: train/labels/rgb_918_png.rf.1e66dbe04f4d38fee9180cb42d69ff86.txt  \n",
            "  inflating: train/labels/rgb_919_png.rf.196fb48a6e5221274a9d239a9d1c00ac.txt  \n",
            "  inflating: train/labels/rgb_91_png.rf.296a8a84f2a23ebac68c291dcd31741a.txt  \n",
            "  inflating: train/labels/rgb_921_png.rf.0ea14098e51c5b767311a85967d90fea.txt  \n",
            "  inflating: train/labels/rgb_923_png.rf.b7bab4204c907b6885b53ebb75d90f2a.txt  \n",
            "  inflating: train/labels/rgb_926_png.rf.fc04add6dfdf0ea44791b22303108946.txt  \n",
            "  inflating: train/labels/rgb_927_png.rf.3a997b9e2c4da23834843eba9a79634f.txt  \n",
            "  inflating: train/labels/rgb_928_png.rf.3bb9a1e9ef98d509102f4a3fbf6b3b37.txt  \n",
            "  inflating: train/labels/rgb_92_png.rf.2b3f54a74f108af128fb1d54bfa18c49.txt  \n",
            "  inflating: train/labels/rgb_930_png.rf.76f595f6edfc49ed3153e7798923ea8b.txt  \n",
            "  inflating: train/labels/rgb_931_png.rf.1a5d5efca1ca4f3010df4ae3da99a679.txt  \n",
            "  inflating: train/labels/rgb_932_png.rf.f79e9b355d6d696d21c8d2550d0601cc.txt  \n",
            "  inflating: train/labels/rgb_933_png.rf.f5f629af6321cd92a791c8f279f208c4.txt  \n",
            "  inflating: train/labels/rgb_934_png.rf.6c47929399ae82dcbcbdbb32ac63a538.txt  \n",
            "  inflating: train/labels/rgb_935_png.rf.2aaf34e23fb5e59b82d238cd0c484143.txt  \n",
            "  inflating: train/labels/rgb_939_png.rf.aafeb19d8bacfd73fdf1c8d08b3eb70d.txt  \n",
            "  inflating: train/labels/rgb_940_png.rf.03ad481047ea2f548fd11d26fecf1ae7.txt  \n",
            "  inflating: train/labels/rgb_943_png.rf.c70c5bbcd477aa0a2b8f4a31d76ce355.txt  \n",
            "  inflating: train/labels/rgb_945_png.rf.05bf03b46188bd1eec06c58232ba7fd7.txt  \n",
            "  inflating: train/labels/rgb_946_png.rf.383fb5d7383ef2d5d31887479825389e.txt  \n",
            "  inflating: train/labels/rgb_947_png.rf.13ac43200c04b24be0bac8af04fc6182.txt  \n",
            "  inflating: train/labels/rgb_948_png.rf.d6c86e7d7221ea22645f21a3e49573fe.txt  \n",
            "  inflating: train/labels/rgb_94_png.rf.0e10828ea18d7d6b11c891b5f26bede2.txt  \n",
            "  inflating: train/labels/rgb_950_png.rf.50704bb89f3a530ba34b6039195c5fee.txt  \n",
            "  inflating: train/labels/rgb_951_png.rf.fd9e25de20cb602f371dc8f72c424b76.txt  \n",
            "  inflating: train/labels/rgb_953_png.rf.5feb0b9cee265e856ecea51fb959438a.txt  \n",
            "  inflating: train/labels/rgb_954_png.rf.100fe3195b4e929ee396c860035197ad.txt  \n",
            "  inflating: train/labels/rgb_955_png.rf.4f754ed70cb645de896a689088e7ed7d.txt  \n",
            "  inflating: train/labels/rgb_958_png.rf.d267a806a05612263aee58cffc43ea2f.txt  \n",
            "  inflating: train/labels/rgb_95_png.rf.ba76e0cff76d4fbece147677467f2f29.txt  \n",
            "  inflating: train/labels/rgb_961_png.rf.f3e517d52bf57041a3e37d536c670f9d.txt  \n",
            "  inflating: train/labels/rgb_962_png.rf.2f9dd2c8281aef0ef09f6c39a68022b2.txt  \n",
            "  inflating: train/labels/rgb_964_png.rf.323f90d411d633987d1e99158eb0b5f6.txt  \n",
            "  inflating: train/labels/rgb_965_png.rf.bb7e422f5a4c1f2b2b195328f1633aa3.txt  \n",
            "  inflating: train/labels/rgb_967_png.rf.d6a03fec240a7bd2849e3e8a437f0706.txt  \n",
            "  inflating: train/labels/rgb_968_png.rf.e9d7764e63d3dfc27d6583af62f67239.txt  \n",
            "  inflating: train/labels/rgb_969_png.rf.84cb516a209972120dae0929b4e0bf0a.txt  \n",
            "  inflating: train/labels/rgb_96_png.rf.fee514699f939e91ffc41d0700524e66.txt  \n",
            "  inflating: train/labels/rgb_970_png.rf.96bc0fcc9a1dfa62aa7a1a9c75f68e66.txt  \n",
            "  inflating: train/labels/rgb_972_png.rf.906e2320c727054b0b6377178fa31318.txt  \n",
            "  inflating: train/labels/rgb_973_png.rf.61b928b7aa26b32cac1e0f9a49efdf3e.txt  \n",
            "  inflating: train/labels/rgb_974_png.rf.2900225affd3a3604e05f9748afd9568.txt  \n",
            "  inflating: train/labels/rgb_976_png.rf.ec6cb6fb4314271a0acab8961d8ad226.txt  \n",
            "  inflating: train/labels/rgb_980_png.rf.518cd2e6b7f0e0d80cfeb619b9ca10a7.txt  \n",
            "  inflating: train/labels/rgb_981_png.rf.c61b67159068a5963d63cb976687f30c.txt  \n",
            "  inflating: train/labels/rgb_984_png.rf.fa6420b7bc68cae3d77c63ef531f424c.txt  \n",
            "  inflating: train/labels/rgb_985_png.rf.deb5548f44fd8a75a6d8eb594deedc98.txt  \n",
            "  inflating: train/labels/rgb_987_png.rf.230c0f24902923189462feb346c45625.txt  \n",
            "  inflating: train/labels/rgb_988_png.rf.45e2f77c2e9b462d7dbd7e20a3cb58ec.txt  \n",
            "  inflating: train/labels/rgb_989_png.rf.69692f3658f3f0439f6394e8e958b71f.txt  \n",
            "  inflating: train/labels/rgb_98_png.rf.4f916e433a4d7112e2f724f6c3f503be.txt  \n",
            "  inflating: train/labels/rgb_990_png.rf.3fe6d7cd89caf6a06dc78e383aa0ff56.txt  \n",
            "  inflating: train/labels/rgb_991_png.rf.f0cd3d561a833208b69ea999a39573be.txt  \n",
            "  inflating: train/labels/rgb_992_png.rf.b280c3fbd8d04ae9ab51b46bf32b739b.txt  \n",
            "  inflating: train/labels/rgb_993_png.rf.39d314eb5c70760f5c1166625c062df5.txt  \n",
            "  inflating: train/labels/rgb_994_png.rf.61e46de40a9b551f7eceacce0d4dfa02.txt  \n",
            "  inflating: train/labels/rgb_995_png.rf.13bb4705d72268c27ef5bd0f0a8c8be9.txt  \n",
            "  inflating: train/labels/rgb_996_png.rf.600d8c281f747619ce0acd69a3807fc1.txt  \n",
            "  inflating: train/labels/rgb_999_png.rf.4a1854ffc861ee9ff93d9d5dcbc01028.txt  \n",
            "  inflating: train/labels/rgb_9_png.rf.76c7626485b8f667c9ce4b15bb934a2b.txt  \n",
            "   creating: valid/\n",
            "   creating: valid/images/\n",
            " extracting: valid/images/rgb_1000_png.rf.6639276cdfcb1519754ee19d99fa4a9e.jpg  \n",
            " extracting: valid/images/rgb_100_png.rf.a11e411ec275158becfc87c0dfd6878d.jpg  \n",
            " extracting: valid/images/rgb_10_png.rf.21865a92ea1dd54c1ee0044e7ae36ffc.jpg  \n",
            " extracting: valid/images/rgb_113_png.rf.19a01a9a1c8a2f6fcabcc5795089064e.jpg  \n",
            " extracting: valid/images/rgb_116_png.rf.ab269f7d00f1a5e2be917a7de62209b2.jpg  \n",
            " extracting: valid/images/rgb_117_png.rf.30f9da046224a0b16e168dedd720ec0c.jpg  \n",
            " extracting: valid/images/rgb_123_png.rf.1fa11a0bfdf9dfc31576b704872c35be.jpg  \n",
            " extracting: valid/images/rgb_142_png.rf.5d5a3cf502a1b540a9a09ad26b5d9496.jpg  \n",
            " extracting: valid/images/rgb_152_png.rf.04b33b929ea179edecada9a0af1f5232.jpg  \n",
            " extracting: valid/images/rgb_154_png.rf.057e43ab2f32648d3e1a6d3b11a4e216.jpg  \n",
            " extracting: valid/images/rgb_162_png.rf.2edd5cec76121a23f84da707eb3a2280.jpg  \n",
            " extracting: valid/images/rgb_163_png.rf.3b9d18c343392f312774b1a137cd1c72.jpg  \n",
            " extracting: valid/images/rgb_164_png.rf.f145bef57d9063ef297c3832084586f8.jpg  \n",
            " extracting: valid/images/rgb_170_png.rf.008fdaea8391af17f9ddf2928b5fbcfc.jpg  \n",
            " extracting: valid/images/rgb_174_png.rf.176db0c930f220d7f9a0783c89bf85c9.jpg  \n",
            " extracting: valid/images/rgb_195_png.rf.eaaa9103c3f693917b56a11179708a6e.jpg  \n",
            " extracting: valid/images/rgb_20_png.rf.75f4e4f70eeb0dc110d1592b20b0696d.jpg  \n",
            " extracting: valid/images/rgb_216_png.rf.8c50e4d136d6f0e15d6f3814152823d3.jpg  \n",
            " extracting: valid/images/rgb_218_png.rf.cdf4bbd8049caad439a20c70bb030c01.jpg  \n",
            " extracting: valid/images/rgb_222_png.rf.49f3a5f52a7086d67eecc716359be129.jpg  \n",
            " extracting: valid/images/rgb_227_png.rf.550c73a8a11a89102504765e01eef875.jpg  \n",
            " extracting: valid/images/rgb_234_png.rf.2482606d43dd81e1d66c3ff43ab2dca9.jpg  \n",
            " extracting: valid/images/rgb_23_png.rf.de37137bd2e9553dc65cf36ed1934fc5.jpg  \n",
            " extracting: valid/images/rgb_249_png.rf.39c9cb58649a473fcebad94cd9260780.jpg  \n",
            " extracting: valid/images/rgb_259_png.rf.2295b7dda0f1374435c27803da18ef38.jpg  \n",
            " extracting: valid/images/rgb_263_png.rf.648b70e67e93978b36a27ad93670a000.jpg  \n",
            " extracting: valid/images/rgb_267_png.rf.3933eee76c4ac527e486db77865c25d0.jpg  \n",
            " extracting: valid/images/rgb_27_png.rf.db2659750dfa5b85628dacb049bf15cc.jpg  \n",
            " extracting: valid/images/rgb_282_png.rf.6ba00f2b2e3f7558c81afaf0a57562d0.jpg  \n",
            " extracting: valid/images/rgb_286_png.rf.9c2fa480f233f5fb9435be578d63cbfa.jpg  \n",
            " extracting: valid/images/rgb_289_png.rf.542997817dfbff7affd6e26ef4d4dc7e.jpg  \n",
            " extracting: valid/images/rgb_28_png.rf.655b9c786f6b863c76353a576393d71c.jpg  \n",
            " extracting: valid/images/rgb_293_png.rf.9b7152b5aa1f9a999a75291d02a6ce7a.jpg  \n",
            " extracting: valid/images/rgb_29_png.rf.06b0d4919bf55bcb997e499cae96a0c5.jpg  \n",
            " extracting: valid/images/rgb_301_png.rf.4f67791f68f8e6d7d64a893ba9ee9910.jpg  \n",
            " extracting: valid/images/rgb_302_png.rf.52e257cdf34617782b86411a16d816d7.jpg  \n",
            " extracting: valid/images/rgb_309_png.rf.286edc756cefadd703f6cfe610cf05de.jpg  \n",
            " extracting: valid/images/rgb_311_png.rf.8738d31c19244078b42f75fe72339085.jpg  \n",
            " extracting: valid/images/rgb_313_png.rf.c9c05d67ca7809047d91b95e371763e3.jpg  \n",
            " extracting: valid/images/rgb_322_png.rf.390387abfcf8ec0a1da54ab9a136d650.jpg  \n",
            " extracting: valid/images/rgb_323_png.rf.938182fc3106aa3035695204afc3b770.jpg  \n",
            " extracting: valid/images/rgb_326_png.rf.8e824fa1b00ee923dd8bb3723c5e321b.jpg  \n",
            " extracting: valid/images/rgb_332_png.rf.7ebdbf874ef7169a89ec4e2a180b8c52.jpg  \n",
            " extracting: valid/images/rgb_345_png.rf.006de0e306180a0ce07991c3d767e3ff.jpg  \n",
            " extracting: valid/images/rgb_346_png.rf.14ac2e9b038a0636e9aa14c6a8b2d882.jpg  \n",
            " extracting: valid/images/rgb_35_png.rf.3681005d0fea29f5558289243c16ad78.jpg  \n",
            " extracting: valid/images/rgb_362_png.rf.2d91eac43ff4cfabc5bc4f2ab7e074eb.jpg  \n",
            " extracting: valid/images/rgb_364_png.rf.dc5e6e46fae1bb105ffe88d8faae9640.jpg  \n",
            " extracting: valid/images/rgb_368_png.rf.17286836e2a40938023b672986f8d2bc.jpg  \n",
            " extracting: valid/images/rgb_369_png.rf.94579002ac04fec0838dfd3c78609d51.jpg  \n",
            " extracting: valid/images/rgb_370_png.rf.077e43f247dfc5df2f58891a899bc099.jpg  \n",
            " extracting: valid/images/rgb_372_png.rf.fa801b0b11622635d72b623de9e256ae.jpg  \n",
            " extracting: valid/images/rgb_376_png.rf.99191095aa08cf78019952527b35e53b.jpg  \n",
            " extracting: valid/images/rgb_383_png.rf.c0bd920a62bf81de0108919c5bbc4cd2.jpg  \n",
            " extracting: valid/images/rgb_384_png.rf.25acdd111c4c85ef96906febd5902bc0.jpg  \n",
            " extracting: valid/images/rgb_387_png.rf.2b29bd99bc27c36b19229d79796a4b26.jpg  \n",
            " extracting: valid/images/rgb_404_png.rf.150bd648abcce18f276234d54ea4ed43.jpg  \n",
            " extracting: valid/images/rgb_406_png.rf.4cfe7b434ffb63cac97c9eeb50ac8ab6.jpg  \n",
            " extracting: valid/images/rgb_40_png.rf.e123166423cb6b92a6484b74fceb2aa7.jpg  \n",
            " extracting: valid/images/rgb_421_png.rf.50e0df43387a21821593559cb7329845.jpg  \n",
            " extracting: valid/images/rgb_430_png.rf.777aeb3d0ec1b268695534563dca7832.jpg  \n",
            " extracting: valid/images/rgb_431_png.rf.3356072f96f8997946cf09e341535824.jpg  \n",
            " extracting: valid/images/rgb_432_png.rf.e0171d5daec4411a34a62046bec5e46d.jpg  \n",
            " extracting: valid/images/rgb_447_png.rf.873c814f893f6cc7a56a2460c1115819.jpg  \n",
            " extracting: valid/images/rgb_452_png.rf.32d56f4363040287915c2e45dfcf064e.jpg  \n",
            " extracting: valid/images/rgb_457_png.rf.9f27307eedfe1d4101106c6d3e6b0e01.jpg  \n",
            " extracting: valid/images/rgb_45_png.rf.bbd18978a595f08511e46d37b9781f54.jpg  \n",
            " extracting: valid/images/rgb_460_png.rf.d30407a13917ee6f535fe4d03092d9d4.jpg  \n",
            " extracting: valid/images/rgb_468_png.rf.ff329a805490a9fc61893656622209f4.jpg  \n",
            " extracting: valid/images/rgb_469_png.rf.8f40735bb3c1f0b98183bbd342c4e857.jpg  \n",
            " extracting: valid/images/rgb_471_png.rf.cd2afe7a7bf4518645807634288e8ccf.jpg  \n",
            " extracting: valid/images/rgb_473_png.rf.3d9a7a0f621558b6d3222b6425dff0a6.jpg  \n",
            " extracting: valid/images/rgb_474_png.rf.6e5ccdf275ff3684ae2d0c3ced4a7edb.jpg  \n",
            " extracting: valid/images/rgb_475_png.rf.eebc974919df2a53e8b0c36b3b91fa81.jpg  \n",
            " extracting: valid/images/rgb_479_png.rf.9a38c0a96979b6ac51669d8aeb995d2e.jpg  \n",
            " extracting: valid/images/rgb_47_png.rf.39205baf9d7d1c4683b2ba9142795c39.jpg  \n",
            " extracting: valid/images/rgb_482_png.rf.0022f927c3eef489803425364eec9684.jpg  \n",
            " extracting: valid/images/rgb_483_png.rf.ff7d20cde0c887e74d5f938cebdfc597.jpg  \n",
            " extracting: valid/images/rgb_485_png.rf.6e1a8f1cd5a8a4a6ed75806a7ac624a8.jpg  \n",
            " extracting: valid/images/rgb_48_png.rf.91e2c53d29a7f827e85ee5ff407c9ccf.jpg  \n",
            " extracting: valid/images/rgb_490_png.rf.024da51ecc73b008fe57e63d19994276.jpg  \n",
            " extracting: valid/images/rgb_493_png.rf.3949bea51602b7f4d3096bb398959eb0.jpg  \n",
            " extracting: valid/images/rgb_4_png.rf.7f5280c9a2c02e98a4a59fe409b30154.jpg  \n",
            " extracting: valid/images/rgb_500_png.rf.bf206a5618e5ccdccce449fab94fe338.jpg  \n",
            " extracting: valid/images/rgb_501_png.rf.d9dcb833cd3cabfd636253ea130f3554.jpg  \n",
            " extracting: valid/images/rgb_508_png.rf.50bded6c207869ec754fde84877d4299.jpg  \n",
            " extracting: valid/images/rgb_522_png.rf.6a1eee0e8d706ff05f03ae49026bf5f1.jpg  \n",
            " extracting: valid/images/rgb_530_png.rf.9ea5eb668a6523c7a600aed09f2af772.jpg  \n",
            " extracting: valid/images/rgb_532_png.rf.83c5b584f85a8c9c78250f23dbdbf6e1.jpg  \n",
            " extracting: valid/images/rgb_541_png.rf.0bebfad3bebbe45605fc1175dccb8149.jpg  \n",
            " extracting: valid/images/rgb_551_png.rf.33a0c421281c0026bd17f484ca3193f7.jpg  \n",
            " extracting: valid/images/rgb_552_png.rf.2f732f26e886d5684af76667ec77e856.jpg  \n",
            " extracting: valid/images/rgb_553_png.rf.5963c3323616706a6ae3899e4366afeb.jpg  \n",
            " extracting: valid/images/rgb_556_png.rf.723532e46b16a27e5ab512a53aea71be.jpg  \n",
            " extracting: valid/images/rgb_558_png.rf.abfac6f6e3eacaa9928bd536ea061798.jpg  \n",
            " extracting: valid/images/rgb_56_png.rf.e832e8967aff89387fc30e3119bc5209.jpg  \n",
            " extracting: valid/images/rgb_572_png.rf.d254d773dd0cf25eb6d5ca313c8a488c.jpg  \n",
            " extracting: valid/images/rgb_575_png.rf.3b89717b29a42a94d4800094ed04dc49.jpg  \n",
            " extracting: valid/images/rgb_57_png.rf.1feef96f83bb26fbe0982e7ad75b35b4.jpg  \n",
            " extracting: valid/images/rgb_586_png.rf.611ba20164ea13be657d639ebe049d08.jpg  \n",
            " extracting: valid/images/rgb_587_png.rf.e6886d36d5e6ef18b01f24052f94d4fe.jpg  \n",
            " extracting: valid/images/rgb_588_png.rf.12926d4175715d576f2b7d3d758c55ff.jpg  \n",
            " extracting: valid/images/rgb_58_png.rf.4c8d1d188ceea4d36b2bec3339e150d9.jpg  \n",
            " extracting: valid/images/rgb_591_png.rf.1297f27120962ed15f9ed33e3cf91628.jpg  \n",
            " extracting: valid/images/rgb_593_png.rf.1203a9e32dda717de5ae1933842e2bb6.jpg  \n",
            " extracting: valid/images/rgb_596_png.rf.d9c6436103f629b4081f3fb24694a21c.jpg  \n",
            " extracting: valid/images/rgb_600_png.rf.f4c223c30a0355f5cd8a652d65eb0d24.jpg  \n",
            " extracting: valid/images/rgb_608_png.rf.d65748a9b1b5af9925828ea05b477d0e.jpg  \n",
            " extracting: valid/images/rgb_610_png.rf.03a9d0874f1ba1ac93726c15e29c6c25.jpg  \n",
            " extracting: valid/images/rgb_612_png.rf.8ef42e1b363d2826d2a2f69ae05b0830.jpg  \n",
            " extracting: valid/images/rgb_621_png.rf.1ad4e7f42ee1340267d7cf518b11b788.jpg  \n",
            " extracting: valid/images/rgb_632_png.rf.8e817e082e9232b732e07babe70d8b85.jpg  \n",
            " extracting: valid/images/rgb_633_png.rf.2007e85ed540be51a02c0c4736d8c1b7.jpg  \n",
            " extracting: valid/images/rgb_635_png.rf.1b921eb06bf6cc723d97c3f9c5c1a633.jpg  \n",
            " extracting: valid/images/rgb_642_png.rf.5423ee8126a6761a7fd6c2e70b25910c.jpg  \n",
            " extracting: valid/images/rgb_652_png.rf.aafeab34987a8ce9cf7c54592bb01aee.jpg  \n",
            " extracting: valid/images/rgb_658_png.rf.c45f3c1fcbb10a5d4250245eaf9f004d.jpg  \n",
            " extracting: valid/images/rgb_669_png.rf.f83bdb8f5e7b99b9e4a5f8dc8ba620b6.jpg  \n",
            " extracting: valid/images/rgb_66_png.rf.f96ae7d4c46bd576306de8883aac1071.jpg  \n",
            " extracting: valid/images/rgb_682_png.rf.59b053ba87bf0fa191c1b84cd901bfa6.jpg  \n",
            " extracting: valid/images/rgb_687_png.rf.76262f6f7a10efd6aed1b1cefb1a60ff.jpg  \n",
            " extracting: valid/images/rgb_693_png.rf.7e2aead8df20c949f8ef81f4a9f2b2e2.jpg  \n",
            " extracting: valid/images/rgb_695_png.rf.7ae40868f60d6ee84513502ef61c6e9f.jpg  \n",
            " extracting: valid/images/rgb_69_png.rf.16a3213e025ae09cc3d6bd5fae5f9f61.jpg  \n",
            " extracting: valid/images/rgb_706_png.rf.5c4f0250617bc60d0bbefa090f5315fb.jpg  \n",
            " extracting: valid/images/rgb_709_png.rf.7235055e03cc29eada19c57a822cb27c.jpg  \n",
            " extracting: valid/images/rgb_70_png.rf.0b0c5173d8c5661a0fef0dd74ab0e72e.jpg  \n",
            " extracting: valid/images/rgb_713_png.rf.466a23c22db5369e093ad0674e8ec5cf.jpg  \n",
            " extracting: valid/images/rgb_71_png.rf.b14af75a3e8337df070e75719aee8411.jpg  \n",
            " extracting: valid/images/rgb_721_png.rf.e926d03ddbe08573d729ea3e60790f7b.jpg  \n",
            " extracting: valid/images/rgb_723_png.rf.1ec8436612d9037c4faaf16f766cef30.jpg  \n",
            " extracting: valid/images/rgb_724_png.rf.ab94800ea1b82d0614a8b794e9f093fa.jpg  \n",
            " extracting: valid/images/rgb_729_png.rf.87a3c8e7dbe3a9f780fa0522c0ef5ddb.jpg  \n",
            " extracting: valid/images/rgb_732_png.rf.36030096e01534a02618391b8277f22c.jpg  \n",
            " extracting: valid/images/rgb_734_png.rf.2332da38365faa20057a9556cae09497.jpg  \n",
            " extracting: valid/images/rgb_736_png.rf.e96453ebdc240c5be860f8e5dfaa8ea2.jpg  \n",
            " extracting: valid/images/rgb_744_png.rf.17c53887ec0a0053f3320f1fc21bc4f5.jpg  \n",
            " extracting: valid/images/rgb_748_png.rf.f8e6bfb44d1bca46dba1ede2231d82eb.jpg  \n",
            " extracting: valid/images/rgb_754_png.rf.9e57a1608c7df3181ba64be139b1598c.jpg  \n",
            " extracting: valid/images/rgb_75_png.rf.bf727145191a757412272ba525b5e437.jpg  \n",
            " extracting: valid/images/rgb_765_png.rf.85d7054f655d8e9594532a750dce273b.jpg  \n",
            " extracting: valid/images/rgb_766_png.rf.5f0d37798f2e052f1c09ddfdaad231d6.jpg  \n",
            " extracting: valid/images/rgb_774_png.rf.fdb0d1e40b0923c90675acf3507e2d24.jpg  \n",
            " extracting: valid/images/rgb_775_png.rf.66545283b61125f0553d3e2928f6e4d0.jpg  \n",
            " extracting: valid/images/rgb_776_png.rf.240d78231aef9c1d1c131292255a1e03.jpg  \n",
            " extracting: valid/images/rgb_778_png.rf.3f52c9edabb919bb029145292e7c112c.jpg  \n",
            " extracting: valid/images/rgb_780_png.rf.bd9d6cf994aae85f1b350baee2562caa.jpg  \n",
            " extracting: valid/images/rgb_785_png.rf.768a003bd1215bf2e5ab91492c87b12f.jpg  \n",
            " extracting: valid/images/rgb_795_png.rf.2bc9fdc4bf0c1753d85e0ff002058891.jpg  \n",
            " extracting: valid/images/rgb_79_png.rf.b66f9b5e750484ba213e4597be002da9.jpg  \n",
            " extracting: valid/images/rgb_80_png.rf.79fcfd78609915632f4f54f0053f06de.jpg  \n",
            " extracting: valid/images/rgb_815_png.rf.ece29240ce4de8bfd4460e36b3d62c84.jpg  \n",
            " extracting: valid/images/rgb_81_png.rf.f7f2ee39b0718298809343750ba0082d.jpg  \n",
            " extracting: valid/images/rgb_827_png.rf.4f6e6d1cfe88081f92c794146b219696.jpg  \n",
            " extracting: valid/images/rgb_828_png.rf.07f0074d4d69212b5763f1d86a62686a.jpg  \n",
            " extracting: valid/images/rgb_830_png.rf.e3f010a7883b7b0ef0dafea0294892dc.jpg  \n",
            " extracting: valid/images/rgb_837_png.rf.ed42047be1dab40d4847ec79b5562d0e.jpg  \n",
            " extracting: valid/images/rgb_846_png.rf.8e44db83422c924cb712b009800457ee.jpg  \n",
            " extracting: valid/images/rgb_849_png.rf.0fb67e1f6d4dd6b39d5f3db4d2ff7f60.jpg  \n",
            " extracting: valid/images/rgb_855_png.rf.46b8a96490c42e76004c78d4eab5ff59.jpg  \n",
            " extracting: valid/images/rgb_860_png.rf.8d1f55bb442d343f2d11546fd38b0cff.jpg  \n",
            " extracting: valid/images/rgb_871_png.rf.861b46f097017c42747dfc75670db019.jpg  \n",
            " extracting: valid/images/rgb_879_png.rf.834ec1eb8b097edd9a7e956a61f0d03b.jpg  \n",
            " extracting: valid/images/rgb_884_png.rf.82840f395f57fff6762586dadf3977ee.jpg  \n",
            " extracting: valid/images/rgb_88_png.rf.be14a657f0ee0ef200122731a9a24afa.jpg  \n",
            " extracting: valid/images/rgb_896_png.rf.a818a1fd1e1ad3f23acdd5f86d3c092b.jpg  \n",
            " extracting: valid/images/rgb_89_png.rf.65a2235cc157f46fae43eb22c90aa351.jpg  \n",
            " extracting: valid/images/rgb_8_png.rf.f3cc7da56008d03792c12fe85d699033.jpg  \n",
            " extracting: valid/images/rgb_900_png.rf.aba379e1dfdfce43c18eaa6baae40544.jpg  \n",
            " extracting: valid/images/rgb_90_png.rf.b231b9ef28a60062b6c3ba10cafff208.jpg  \n",
            " extracting: valid/images/rgb_910_png.rf.8f5ccb1ccd088e32a9b54cc970cf05fe.jpg  \n",
            " extracting: valid/images/rgb_912_png.rf.3d00eeee6ccaec47a6d1b0f1ad6ef4ea.jpg  \n",
            " extracting: valid/images/rgb_913_png.rf.d3c7631cdea3739cd64ad4eb84668f6f.jpg  \n",
            " extracting: valid/images/rgb_914_png.rf.4bb388d1b20e253a2580aa4ce4802dc0.jpg  \n",
            " extracting: valid/images/rgb_916_png.rf.bd804cd89092219485092f5d4164dada.jpg  \n",
            " extracting: valid/images/rgb_920_png.rf.803367d5de88406437c53b2148aaebc6.jpg  \n",
            " extracting: valid/images/rgb_922_png.rf.9e3302a061f37f7be80743e812d251e7.jpg  \n",
            " extracting: valid/images/rgb_924_png.rf.3e4fc020c7bce7b4b4809a59526855bf.jpg  \n",
            " extracting: valid/images/rgb_925_png.rf.70673ab313848dfd12fc4cb509740d99.jpg  \n",
            " extracting: valid/images/rgb_929_png.rf.6457597895c25c64989ad6968b5ab6bf.jpg  \n",
            " extracting: valid/images/rgb_936_png.rf.c4973db2e995f1a555aa5f31e4290dfd.jpg  \n",
            " extracting: valid/images/rgb_937_png.rf.49a01b860bd8585eee39018a8d1aa9f2.jpg  \n",
            " extracting: valid/images/rgb_93_png.rf.e54f624d8da0d2f698a89fff4a077d30.jpg  \n",
            " extracting: valid/images/rgb_941_png.rf.a5b4e126cdc87e1037e8947df9cdef05.jpg  \n",
            " extracting: valid/images/rgb_944_png.rf.c205dbdfe1067a8acd069b941d05c1ab.jpg  \n",
            " extracting: valid/images/rgb_952_png.rf.4f8e979f41f6c2b8029f16f849a71620.jpg  \n",
            " extracting: valid/images/rgb_956_png.rf.e2388b4f13282b491056465752acaca4.jpg  \n",
            " extracting: valid/images/rgb_957_png.rf.b76928a2ae7b88a5d6162323a330cc4c.jpg  \n",
            " extracting: valid/images/rgb_959_png.rf.0129c954e4770ddeaeeef995ff1a819a.jpg  \n",
            " extracting: valid/images/rgb_960_png.rf.229ce1c1474931de49394c6c120f3f07.jpg  \n",
            " extracting: valid/images/rgb_963_png.rf.0c2abe552a893674c9028443a81dd232.jpg  \n",
            " extracting: valid/images/rgb_966_png.rf.f9383f55d554b97dbd6d235bee24c7fa.jpg  \n",
            " extracting: valid/images/rgb_971_png.rf.01922e516baccbf5cc18542ae17198ad.jpg  \n",
            " extracting: valid/images/rgb_977_png.rf.e52556c9462ce839cedec4793bf316cd.jpg  \n",
            " extracting: valid/images/rgb_978_png.rf.ed42385ef81fe39859ec206cfa190611.jpg  \n",
            " extracting: valid/images/rgb_97_png.rf.d60b7d38e1cfdc346af32481c9fad10a.jpg  \n",
            " extracting: valid/images/rgb_982_png.rf.4cb2bcc013d38dc9747537acc5a223d1.jpg  \n",
            " extracting: valid/images/rgb_983_png.rf.232d1c68af98186ea5141130db2b2107.jpg  \n",
            " extracting: valid/images/rgb_997_png.rf.3e858177f9f023800536318e2be54ce6.jpg  \n",
            " extracting: valid/images/rgb_99_png.rf.5904bbb08a5f341a537120439abca6d8.jpg  \n",
            "   creating: valid/labels/\n",
            "  inflating: valid/labels/rgb_1000_png.rf.6639276cdfcb1519754ee19d99fa4a9e.txt  \n",
            "  inflating: valid/labels/rgb_100_png.rf.a11e411ec275158becfc87c0dfd6878d.txt  \n",
            "  inflating: valid/labels/rgb_10_png.rf.21865a92ea1dd54c1ee0044e7ae36ffc.txt  \n",
            "  inflating: valid/labels/rgb_113_png.rf.19a01a9a1c8a2f6fcabcc5795089064e.txt  \n",
            "  inflating: valid/labels/rgb_116_png.rf.ab269f7d00f1a5e2be917a7de62209b2.txt  \n",
            "  inflating: valid/labels/rgb_117_png.rf.30f9da046224a0b16e168dedd720ec0c.txt  \n",
            "  inflating: valid/labels/rgb_123_png.rf.1fa11a0bfdf9dfc31576b704872c35be.txt  \n",
            "  inflating: valid/labels/rgb_142_png.rf.5d5a3cf502a1b540a9a09ad26b5d9496.txt  \n",
            "  inflating: valid/labels/rgb_152_png.rf.04b33b929ea179edecada9a0af1f5232.txt  \n",
            "  inflating: valid/labels/rgb_154_png.rf.057e43ab2f32648d3e1a6d3b11a4e216.txt  \n",
            "  inflating: valid/labels/rgb_162_png.rf.2edd5cec76121a23f84da707eb3a2280.txt  \n",
            "  inflating: valid/labels/rgb_163_png.rf.3b9d18c343392f312774b1a137cd1c72.txt  \n",
            "  inflating: valid/labels/rgb_164_png.rf.f145bef57d9063ef297c3832084586f8.txt  \n",
            "  inflating: valid/labels/rgb_170_png.rf.008fdaea8391af17f9ddf2928b5fbcfc.txt  \n",
            "  inflating: valid/labels/rgb_174_png.rf.176db0c930f220d7f9a0783c89bf85c9.txt  \n",
            "  inflating: valid/labels/rgb_195_png.rf.eaaa9103c3f693917b56a11179708a6e.txt  \n",
            "  inflating: valid/labels/rgb_20_png.rf.75f4e4f70eeb0dc110d1592b20b0696d.txt  \n",
            "  inflating: valid/labels/rgb_216_png.rf.8c50e4d136d6f0e15d6f3814152823d3.txt  \n",
            "  inflating: valid/labels/rgb_218_png.rf.cdf4bbd8049caad439a20c70bb030c01.txt  \n",
            "  inflating: valid/labels/rgb_222_png.rf.49f3a5f52a7086d67eecc716359be129.txt  \n",
            "  inflating: valid/labels/rgb_227_png.rf.550c73a8a11a89102504765e01eef875.txt  \n",
            "  inflating: valid/labels/rgb_234_png.rf.2482606d43dd81e1d66c3ff43ab2dca9.txt  \n",
            "  inflating: valid/labels/rgb_23_png.rf.de37137bd2e9553dc65cf36ed1934fc5.txt  \n",
            "  inflating: valid/labels/rgb_249_png.rf.39c9cb58649a473fcebad94cd9260780.txt  \n",
            "  inflating: valid/labels/rgb_259_png.rf.2295b7dda0f1374435c27803da18ef38.txt  \n",
            "  inflating: valid/labels/rgb_263_png.rf.648b70e67e93978b36a27ad93670a000.txt  \n",
            "  inflating: valid/labels/rgb_267_png.rf.3933eee76c4ac527e486db77865c25d0.txt  \n",
            "  inflating: valid/labels/rgb_27_png.rf.db2659750dfa5b85628dacb049bf15cc.txt  \n",
            "  inflating: valid/labels/rgb_282_png.rf.6ba00f2b2e3f7558c81afaf0a57562d0.txt  \n",
            "  inflating: valid/labels/rgb_286_png.rf.9c2fa480f233f5fb9435be578d63cbfa.txt  \n",
            "  inflating: valid/labels/rgb_289_png.rf.542997817dfbff7affd6e26ef4d4dc7e.txt  \n",
            "  inflating: valid/labels/rgb_28_png.rf.655b9c786f6b863c76353a576393d71c.txt  \n",
            "  inflating: valid/labels/rgb_293_png.rf.9b7152b5aa1f9a999a75291d02a6ce7a.txt  \n",
            "  inflating: valid/labels/rgb_29_png.rf.06b0d4919bf55bcb997e499cae96a0c5.txt  \n",
            "  inflating: valid/labels/rgb_301_png.rf.4f67791f68f8e6d7d64a893ba9ee9910.txt  \n",
            "  inflating: valid/labels/rgb_302_png.rf.52e257cdf34617782b86411a16d816d7.txt  \n",
            "  inflating: valid/labels/rgb_309_png.rf.286edc756cefadd703f6cfe610cf05de.txt  \n",
            "  inflating: valid/labels/rgb_311_png.rf.8738d31c19244078b42f75fe72339085.txt  \n",
            "  inflating: valid/labels/rgb_313_png.rf.c9c05d67ca7809047d91b95e371763e3.txt  \n",
            "  inflating: valid/labels/rgb_322_png.rf.390387abfcf8ec0a1da54ab9a136d650.txt  \n",
            "  inflating: valid/labels/rgb_323_png.rf.938182fc3106aa3035695204afc3b770.txt  \n",
            "  inflating: valid/labels/rgb_326_png.rf.8e824fa1b00ee923dd8bb3723c5e321b.txt  \n",
            "  inflating: valid/labels/rgb_332_png.rf.7ebdbf874ef7169a89ec4e2a180b8c52.txt  \n",
            "  inflating: valid/labels/rgb_345_png.rf.006de0e306180a0ce07991c3d767e3ff.txt  \n",
            "  inflating: valid/labels/rgb_346_png.rf.14ac2e9b038a0636e9aa14c6a8b2d882.txt  \n",
            "  inflating: valid/labels/rgb_35_png.rf.3681005d0fea29f5558289243c16ad78.txt  \n",
            "  inflating: valid/labels/rgb_362_png.rf.2d91eac43ff4cfabc5bc4f2ab7e074eb.txt  \n",
            "  inflating: valid/labels/rgb_364_png.rf.dc5e6e46fae1bb105ffe88d8faae9640.txt  \n",
            "  inflating: valid/labels/rgb_368_png.rf.17286836e2a40938023b672986f8d2bc.txt  \n",
            "  inflating: valid/labels/rgb_369_png.rf.94579002ac04fec0838dfd3c78609d51.txt  \n",
            "  inflating: valid/labels/rgb_370_png.rf.077e43f247dfc5df2f58891a899bc099.txt  \n",
            "  inflating: valid/labels/rgb_372_png.rf.fa801b0b11622635d72b623de9e256ae.txt  \n",
            "  inflating: valid/labels/rgb_376_png.rf.99191095aa08cf78019952527b35e53b.txt  \n",
            "  inflating: valid/labels/rgb_383_png.rf.c0bd920a62bf81de0108919c5bbc4cd2.txt  \n",
            "  inflating: valid/labels/rgb_384_png.rf.25acdd111c4c85ef96906febd5902bc0.txt  \n",
            "  inflating: valid/labels/rgb_387_png.rf.2b29bd99bc27c36b19229d79796a4b26.txt  \n",
            "  inflating: valid/labels/rgb_404_png.rf.150bd648abcce18f276234d54ea4ed43.txt  \n",
            "  inflating: valid/labels/rgb_406_png.rf.4cfe7b434ffb63cac97c9eeb50ac8ab6.txt  \n",
            "  inflating: valid/labels/rgb_40_png.rf.e123166423cb6b92a6484b74fceb2aa7.txt  \n",
            "  inflating: valid/labels/rgb_421_png.rf.50e0df43387a21821593559cb7329845.txt  \n",
            "  inflating: valid/labels/rgb_430_png.rf.777aeb3d0ec1b268695534563dca7832.txt  \n",
            "  inflating: valid/labels/rgb_431_png.rf.3356072f96f8997946cf09e341535824.txt  \n",
            "  inflating: valid/labels/rgb_432_png.rf.e0171d5daec4411a34a62046bec5e46d.txt  \n",
            "  inflating: valid/labels/rgb_447_png.rf.873c814f893f6cc7a56a2460c1115819.txt  \n",
            "  inflating: valid/labels/rgb_452_png.rf.32d56f4363040287915c2e45dfcf064e.txt  \n",
            "  inflating: valid/labels/rgb_457_png.rf.9f27307eedfe1d4101106c6d3e6b0e01.txt  \n",
            "  inflating: valid/labels/rgb_45_png.rf.bbd18978a595f08511e46d37b9781f54.txt  \n",
            "  inflating: valid/labels/rgb_460_png.rf.d30407a13917ee6f535fe4d03092d9d4.txt  \n",
            "  inflating: valid/labels/rgb_468_png.rf.ff329a805490a9fc61893656622209f4.txt  \n",
            "  inflating: valid/labels/rgb_469_png.rf.8f40735bb3c1f0b98183bbd342c4e857.txt  \n",
            "  inflating: valid/labels/rgb_471_png.rf.cd2afe7a7bf4518645807634288e8ccf.txt  \n",
            "  inflating: valid/labels/rgb_473_png.rf.3d9a7a0f621558b6d3222b6425dff0a6.txt  \n",
            "  inflating: valid/labels/rgb_474_png.rf.6e5ccdf275ff3684ae2d0c3ced4a7edb.txt  \n",
            "  inflating: valid/labels/rgb_475_png.rf.eebc974919df2a53e8b0c36b3b91fa81.txt  \n",
            "  inflating: valid/labels/rgb_479_png.rf.9a38c0a96979b6ac51669d8aeb995d2e.txt  \n",
            "  inflating: valid/labels/rgb_47_png.rf.39205baf9d7d1c4683b2ba9142795c39.txt  \n",
            "  inflating: valid/labels/rgb_482_png.rf.0022f927c3eef489803425364eec9684.txt  \n",
            "  inflating: valid/labels/rgb_483_png.rf.ff7d20cde0c887e74d5f938cebdfc597.txt  \n",
            "  inflating: valid/labels/rgb_485_png.rf.6e1a8f1cd5a8a4a6ed75806a7ac624a8.txt  \n",
            "  inflating: valid/labels/rgb_48_png.rf.91e2c53d29a7f827e85ee5ff407c9ccf.txt  \n",
            "  inflating: valid/labels/rgb_490_png.rf.024da51ecc73b008fe57e63d19994276.txt  \n",
            "  inflating: valid/labels/rgb_493_png.rf.3949bea51602b7f4d3096bb398959eb0.txt  \n",
            "  inflating: valid/labels/rgb_4_png.rf.7f5280c9a2c02e98a4a59fe409b30154.txt  \n",
            "  inflating: valid/labels/rgb_500_png.rf.bf206a5618e5ccdccce449fab94fe338.txt  \n",
            "  inflating: valid/labels/rgb_501_png.rf.d9dcb833cd3cabfd636253ea130f3554.txt  \n",
            "  inflating: valid/labels/rgb_508_png.rf.50bded6c207869ec754fde84877d4299.txt  \n",
            "  inflating: valid/labels/rgb_522_png.rf.6a1eee0e8d706ff05f03ae49026bf5f1.txt  \n",
            "  inflating: valid/labels/rgb_530_png.rf.9ea5eb668a6523c7a600aed09f2af772.txt  \n",
            "  inflating: valid/labels/rgb_532_png.rf.83c5b584f85a8c9c78250f23dbdbf6e1.txt  \n",
            "  inflating: valid/labels/rgb_541_png.rf.0bebfad3bebbe45605fc1175dccb8149.txt  \n",
            "  inflating: valid/labels/rgb_551_png.rf.33a0c421281c0026bd17f484ca3193f7.txt  \n",
            "  inflating: valid/labels/rgb_552_png.rf.2f732f26e886d5684af76667ec77e856.txt  \n",
            "  inflating: valid/labels/rgb_553_png.rf.5963c3323616706a6ae3899e4366afeb.txt  \n",
            "  inflating: valid/labels/rgb_556_png.rf.723532e46b16a27e5ab512a53aea71be.txt  \n",
            "  inflating: valid/labels/rgb_558_png.rf.abfac6f6e3eacaa9928bd536ea061798.txt  \n",
            "  inflating: valid/labels/rgb_56_png.rf.e832e8967aff89387fc30e3119bc5209.txt  \n",
            "  inflating: valid/labels/rgb_572_png.rf.d254d773dd0cf25eb6d5ca313c8a488c.txt  \n",
            "  inflating: valid/labels/rgb_575_png.rf.3b89717b29a42a94d4800094ed04dc49.txt  \n",
            "  inflating: valid/labels/rgb_57_png.rf.1feef96f83bb26fbe0982e7ad75b35b4.txt  \n",
            "  inflating: valid/labels/rgb_586_png.rf.611ba20164ea13be657d639ebe049d08.txt  \n",
            "  inflating: valid/labels/rgb_587_png.rf.e6886d36d5e6ef18b01f24052f94d4fe.txt  \n",
            "  inflating: valid/labels/rgb_588_png.rf.12926d4175715d576f2b7d3d758c55ff.txt  \n",
            "  inflating: valid/labels/rgb_58_png.rf.4c8d1d188ceea4d36b2bec3339e150d9.txt  \n",
            "  inflating: valid/labels/rgb_591_png.rf.1297f27120962ed15f9ed33e3cf91628.txt  \n",
            "  inflating: valid/labels/rgb_593_png.rf.1203a9e32dda717de5ae1933842e2bb6.txt  \n",
            "  inflating: valid/labels/rgb_596_png.rf.d9c6436103f629b4081f3fb24694a21c.txt  \n",
            "  inflating: valid/labels/rgb_600_png.rf.f4c223c30a0355f5cd8a652d65eb0d24.txt  \n",
            "  inflating: valid/labels/rgb_608_png.rf.d65748a9b1b5af9925828ea05b477d0e.txt  \n",
            "  inflating: valid/labels/rgb_610_png.rf.03a9d0874f1ba1ac93726c15e29c6c25.txt  \n",
            "  inflating: valid/labels/rgb_612_png.rf.8ef42e1b363d2826d2a2f69ae05b0830.txt  \n",
            "  inflating: valid/labels/rgb_621_png.rf.1ad4e7f42ee1340267d7cf518b11b788.txt  \n",
            "  inflating: valid/labels/rgb_632_png.rf.8e817e082e9232b732e07babe70d8b85.txt  \n",
            "  inflating: valid/labels/rgb_633_png.rf.2007e85ed540be51a02c0c4736d8c1b7.txt  \n",
            "  inflating: valid/labels/rgb_635_png.rf.1b921eb06bf6cc723d97c3f9c5c1a633.txt  \n",
            "  inflating: valid/labels/rgb_642_png.rf.5423ee8126a6761a7fd6c2e70b25910c.txt  \n",
            "  inflating: valid/labels/rgb_652_png.rf.aafeab34987a8ce9cf7c54592bb01aee.txt  \n",
            "  inflating: valid/labels/rgb_658_png.rf.c45f3c1fcbb10a5d4250245eaf9f004d.txt  \n",
            "  inflating: valid/labels/rgb_669_png.rf.f83bdb8f5e7b99b9e4a5f8dc8ba620b6.txt  \n",
            "  inflating: valid/labels/rgb_66_png.rf.f96ae7d4c46bd576306de8883aac1071.txt  \n",
            "  inflating: valid/labels/rgb_682_png.rf.59b053ba87bf0fa191c1b84cd901bfa6.txt  \n",
            "  inflating: valid/labels/rgb_687_png.rf.76262f6f7a10efd6aed1b1cefb1a60ff.txt  \n",
            "  inflating: valid/labels/rgb_693_png.rf.7e2aead8df20c949f8ef81f4a9f2b2e2.txt  \n",
            "  inflating: valid/labels/rgb_695_png.rf.7ae40868f60d6ee84513502ef61c6e9f.txt  \n",
            "  inflating: valid/labels/rgb_69_png.rf.16a3213e025ae09cc3d6bd5fae5f9f61.txt  \n",
            "  inflating: valid/labels/rgb_706_png.rf.5c4f0250617bc60d0bbefa090f5315fb.txt  \n",
            "  inflating: valid/labels/rgb_709_png.rf.7235055e03cc29eada19c57a822cb27c.txt  \n",
            "  inflating: valid/labels/rgb_70_png.rf.0b0c5173d8c5661a0fef0dd74ab0e72e.txt  \n",
            "  inflating: valid/labels/rgb_713_png.rf.466a23c22db5369e093ad0674e8ec5cf.txt  \n",
            "  inflating: valid/labels/rgb_71_png.rf.b14af75a3e8337df070e75719aee8411.txt  \n",
            "  inflating: valid/labels/rgb_721_png.rf.e926d03ddbe08573d729ea3e60790f7b.txt  \n",
            "  inflating: valid/labels/rgb_723_png.rf.1ec8436612d9037c4faaf16f766cef30.txt  \n",
            "  inflating: valid/labels/rgb_724_png.rf.ab94800ea1b82d0614a8b794e9f093fa.txt  \n",
            "  inflating: valid/labels/rgb_729_png.rf.87a3c8e7dbe3a9f780fa0522c0ef5ddb.txt  \n",
            "  inflating: valid/labels/rgb_732_png.rf.36030096e01534a02618391b8277f22c.txt  \n",
            "  inflating: valid/labels/rgb_734_png.rf.2332da38365faa20057a9556cae09497.txt  \n",
            "  inflating: valid/labels/rgb_736_png.rf.e96453ebdc240c5be860f8e5dfaa8ea2.txt  \n",
            "  inflating: valid/labels/rgb_744_png.rf.17c53887ec0a0053f3320f1fc21bc4f5.txt  \n",
            "  inflating: valid/labels/rgb_748_png.rf.f8e6bfb44d1bca46dba1ede2231d82eb.txt  \n",
            "  inflating: valid/labels/rgb_754_png.rf.9e57a1608c7df3181ba64be139b1598c.txt  \n",
            "  inflating: valid/labels/rgb_75_png.rf.bf727145191a757412272ba525b5e437.txt  \n",
            "  inflating: valid/labels/rgb_765_png.rf.85d7054f655d8e9594532a750dce273b.txt  \n",
            "  inflating: valid/labels/rgb_766_png.rf.5f0d37798f2e052f1c09ddfdaad231d6.txt  \n",
            "  inflating: valid/labels/rgb_774_png.rf.fdb0d1e40b0923c90675acf3507e2d24.txt  \n",
            "  inflating: valid/labels/rgb_775_png.rf.66545283b61125f0553d3e2928f6e4d0.txt  \n",
            "  inflating: valid/labels/rgb_776_png.rf.240d78231aef9c1d1c131292255a1e03.txt  \n",
            "  inflating: valid/labels/rgb_778_png.rf.3f52c9edabb919bb029145292e7c112c.txt  \n",
            "  inflating: valid/labels/rgb_780_png.rf.bd9d6cf994aae85f1b350baee2562caa.txt  \n",
            "  inflating: valid/labels/rgb_785_png.rf.768a003bd1215bf2e5ab91492c87b12f.txt  \n",
            "  inflating: valid/labels/rgb_795_png.rf.2bc9fdc4bf0c1753d85e0ff002058891.txt  \n",
            "  inflating: valid/labels/rgb_79_png.rf.b66f9b5e750484ba213e4597be002da9.txt  \n",
            "  inflating: valid/labels/rgb_80_png.rf.79fcfd78609915632f4f54f0053f06de.txt  \n",
            "  inflating: valid/labels/rgb_815_png.rf.ece29240ce4de8bfd4460e36b3d62c84.txt  \n",
            "  inflating: valid/labels/rgb_81_png.rf.f7f2ee39b0718298809343750ba0082d.txt  \n",
            "  inflating: valid/labels/rgb_827_png.rf.4f6e6d1cfe88081f92c794146b219696.txt  \n",
            "  inflating: valid/labels/rgb_828_png.rf.07f0074d4d69212b5763f1d86a62686a.txt  \n",
            "  inflating: valid/labels/rgb_830_png.rf.e3f010a7883b7b0ef0dafea0294892dc.txt  \n",
            "  inflating: valid/labels/rgb_837_png.rf.ed42047be1dab40d4847ec79b5562d0e.txt  \n",
            "  inflating: valid/labels/rgb_846_png.rf.8e44db83422c924cb712b009800457ee.txt  \n",
            "  inflating: valid/labels/rgb_849_png.rf.0fb67e1f6d4dd6b39d5f3db4d2ff7f60.txt  \n",
            "  inflating: valid/labels/rgb_855_png.rf.46b8a96490c42e76004c78d4eab5ff59.txt  \n",
            "  inflating: valid/labels/rgb_860_png.rf.8d1f55bb442d343f2d11546fd38b0cff.txt  \n",
            "  inflating: valid/labels/rgb_871_png.rf.861b46f097017c42747dfc75670db019.txt  \n",
            "  inflating: valid/labels/rgb_879_png.rf.834ec1eb8b097edd9a7e956a61f0d03b.txt  \n",
            "  inflating: valid/labels/rgb_884_png.rf.82840f395f57fff6762586dadf3977ee.txt  \n",
            "  inflating: valid/labels/rgb_88_png.rf.be14a657f0ee0ef200122731a9a24afa.txt  \n",
            "  inflating: valid/labels/rgb_896_png.rf.a818a1fd1e1ad3f23acdd5f86d3c092b.txt  \n",
            "  inflating: valid/labels/rgb_89_png.rf.65a2235cc157f46fae43eb22c90aa351.txt  \n",
            "  inflating: valid/labels/rgb_8_png.rf.f3cc7da56008d03792c12fe85d699033.txt  \n",
            "  inflating: valid/labels/rgb_900_png.rf.aba379e1dfdfce43c18eaa6baae40544.txt  \n",
            "  inflating: valid/labels/rgb_90_png.rf.b231b9ef28a60062b6c3ba10cafff208.txt  \n",
            "  inflating: valid/labels/rgb_910_png.rf.8f5ccb1ccd088e32a9b54cc970cf05fe.txt  \n",
            "  inflating: valid/labels/rgb_912_png.rf.3d00eeee6ccaec47a6d1b0f1ad6ef4ea.txt  \n",
            "  inflating: valid/labels/rgb_913_png.rf.d3c7631cdea3739cd64ad4eb84668f6f.txt  \n",
            "  inflating: valid/labels/rgb_914_png.rf.4bb388d1b20e253a2580aa4ce4802dc0.txt  \n",
            "  inflating: valid/labels/rgb_916_png.rf.bd804cd89092219485092f5d4164dada.txt  \n",
            "  inflating: valid/labels/rgb_920_png.rf.803367d5de88406437c53b2148aaebc6.txt  \n",
            "  inflating: valid/labels/rgb_922_png.rf.9e3302a061f37f7be80743e812d251e7.txt  \n",
            "  inflating: valid/labels/rgb_924_png.rf.3e4fc020c7bce7b4b4809a59526855bf.txt  \n",
            "  inflating: valid/labels/rgb_925_png.rf.70673ab313848dfd12fc4cb509740d99.txt  \n",
            "  inflating: valid/labels/rgb_929_png.rf.6457597895c25c64989ad6968b5ab6bf.txt  \n",
            "  inflating: valid/labels/rgb_936_png.rf.c4973db2e995f1a555aa5f31e4290dfd.txt  \n",
            "  inflating: valid/labels/rgb_937_png.rf.49a01b860bd8585eee39018a8d1aa9f2.txt  \n",
            "  inflating: valid/labels/rgb_93_png.rf.e54f624d8da0d2f698a89fff4a077d30.txt  \n",
            "  inflating: valid/labels/rgb_941_png.rf.a5b4e126cdc87e1037e8947df9cdef05.txt  \n",
            "  inflating: valid/labels/rgb_944_png.rf.c205dbdfe1067a8acd069b941d05c1ab.txt  \n",
            "  inflating: valid/labels/rgb_952_png.rf.4f8e979f41f6c2b8029f16f849a71620.txt  \n",
            "  inflating: valid/labels/rgb_956_png.rf.e2388b4f13282b491056465752acaca4.txt  \n",
            "  inflating: valid/labels/rgb_957_png.rf.b76928a2ae7b88a5d6162323a330cc4c.txt  \n",
            "  inflating: valid/labels/rgb_959_png.rf.0129c954e4770ddeaeeef995ff1a819a.txt  \n",
            "  inflating: valid/labels/rgb_960_png.rf.229ce1c1474931de49394c6c120f3f07.txt  \n",
            "  inflating: valid/labels/rgb_963_png.rf.0c2abe552a893674c9028443a81dd232.txt  \n",
            "  inflating: valid/labels/rgb_966_png.rf.f9383f55d554b97dbd6d235bee24c7fa.txt  \n",
            "  inflating: valid/labels/rgb_971_png.rf.01922e516baccbf5cc18542ae17198ad.txt  \n",
            "  inflating: valid/labels/rgb_977_png.rf.e52556c9462ce839cedec4793bf316cd.txt  \n",
            "  inflating: valid/labels/rgb_978_png.rf.ed42385ef81fe39859ec206cfa190611.txt  \n",
            "  inflating: valid/labels/rgb_97_png.rf.d60b7d38e1cfdc346af32481c9fad10a.txt  \n",
            "  inflating: valid/labels/rgb_982_png.rf.4cb2bcc013d38dc9747537acc5a223d1.txt  \n",
            "  inflating: valid/labels/rgb_983_png.rf.232d1c68af98186ea5141130db2b2107.txt  \n",
            "  inflating: valid/labels/rgb_997_png.rf.3e858177f9f023800536318e2be54ce6.txt  \n",
            "  inflating: valid/labels/rgb_99_png.rf.5904bbb08a5f341a537120439abca6d8.txt  \n"
          ]
        }
      ]
    },
    {
      "cell_type": "markdown",
      "metadata": {
        "id": "cFlLWjjaYDvH"
      },
      "source": [
        "## 🏋️ 전이 학습을 통한 사용자 정의 모델 학습"
      ]
    },
    {
      "cell_type": "code",
      "execution_count": 4,
      "metadata": {
        "id": "FmuL7zraYDvH",
        "colab": {
          "base_uri": "https://localhost:8080/"
        },
        "outputId": "1e486a3b-e94e-4fb3-ffa8-5743a34dd600"
      },
      "outputs": [
        {
          "output_type": "stream",
          "name": "stdout",
          "text": [
            "Ultralytics 8.3.185 🚀 Python-3.12.11 torch-2.8.0+cu126 CUDA:0 (Tesla T4, 15095MiB)\n",
            "\u001b[34m\u001b[1mengine/trainer: \u001b[0magnostic_nms=False, amp=True, augment=False, auto_augment=randaugment, batch=8, bgr=0.0, box=7.5, cache=False, cfg=None, classes=None, close_mosaic=10, cls=0.5, conf=None, copy_paste=0.0, copy_paste_mode=flip, cos_lr=False, cutmix=0.0, data=data.yaml, degrees=0.0, deterministic=True, device=None, dfl=1.5, dnn=False, dropout=0.0, dynamic=False, embed=None, epochs=50, erasing=0.4, exist_ok=False, fliplr=0.5, flipud=0.0, format=torchscript, fraction=1.0, freeze=None, half=False, hsv_h=0.015, hsv_s=0.7, hsv_v=0.4, imgsz=640, int8=False, iou=0.7, keras=False, kobj=1.0, line_width=None, lr0=0.01, lrf=0.01, mask_ratio=4, max_det=300, mixup=0.0, mode=train, model=yolo11n.pt, momentum=0.937, mosaic=1.0, multi_scale=False, name=defect-detection, nbs=64, nms=False, opset=None, optimize=False, optimizer=auto, overlap_mask=True, patience=100, perspective=0.0, plots=True, pose=12.0, pretrained=True, profile=False, project=None, rect=False, resume=False, retina_masks=False, save=True, save_conf=False, save_crop=False, save_dir=runs/detect/defect-detection, save_frames=False, save_json=False, save_period=-1, save_txt=False, scale=0.5, seed=0, shear=0.0, show=False, show_boxes=True, show_conf=True, show_labels=True, simplify=True, single_cls=False, source=None, split=val, stream_buffer=False, task=detect, time=None, tracker=botsort.yaml, translate=0.1, val=True, verbose=True, vid_stride=1, visualize=False, warmup_bias_lr=0.1, warmup_epochs=3.0, warmup_momentum=0.8, weight_decay=0.0005, workers=8, workspace=None\n"
          ]
        },
        {
          "output_type": "stream",
          "name": "stderr",
          "text": [
            "Downloading https://ultralytics.com/assets/Arial.ttf to '/root/.config/Ultralytics/Arial.ttf': 100%|██████████| 755k/755k [00:00<00:00, 47.5MB/s]"
          ]
        },
        {
          "output_type": "stream",
          "name": "stdout",
          "text": [
            "Overriding model.yaml nc=80 with nc=2\n",
            "\n",
            "                   from  n    params  module                                       arguments                     \n",
            "  0                  -1  1       464  ultralytics.nn.modules.conv.Conv             [3, 16, 3, 2]                 \n",
            "  1                  -1  1      4672  ultralytics.nn.modules.conv.Conv             [16, 32, 3, 2]                \n",
            "  2                  -1  1      6640  ultralytics.nn.modules.block.C3k2            [32, 64, 1, False, 0.25]      \n",
            "  3                  -1  1     36992  ultralytics.nn.modules.conv.Conv             [64, 64, 3, 2]                \n",
            "  4                  -1  1     26080  ultralytics.nn.modules.block.C3k2            [64, 128, 1, False, 0.25]     \n",
            "  5                  -1  1    147712  ultralytics.nn.modules.conv.Conv             [128, 128, 3, 2]              \n",
            "  6                  -1  1     87040  ultralytics.nn.modules.block.C3k2            [128, 128, 1, True]           \n",
            "  7                  -1  1    295424  ultralytics.nn.modules.conv.Conv             [128, 256, 3, 2]              \n",
            "  8                  -1  1    346112  ultralytics.nn.modules.block.C3k2            [256, 256, 1, True]           \n",
            "  9                  -1  1    164608  ultralytics.nn.modules.block.SPPF            [256, 256, 5]                 \n",
            " 10                  -1  1    249728  ultralytics.nn.modules.block.C2PSA           [256, 256, 1]                 \n",
            " 11                  -1  1         0  torch.nn.modules.upsampling.Upsample         [None, 2, 'nearest']          \n",
            " 12             [-1, 6]  1         0  ultralytics.nn.modules.conv.Concat           [1]                           \n",
            " 13                  -1  1    111296  ultralytics.nn.modules.block.C3k2            [384, 128, 1, False]          \n",
            " 14                  -1  1         0  torch.nn.modules.upsampling.Upsample         [None, 2, 'nearest']          \n",
            " 15             [-1, 4]  1         0  ultralytics.nn.modules.conv.Concat           [1]                           \n",
            " 16                  -1  1     32096  ultralytics.nn.modules.block.C3k2            [256, 64, 1, False]           \n",
            " 17                  -1  1     36992  ultralytics.nn.modules.conv.Conv             [64, 64, 3, 2]                \n",
            " 18            [-1, 13]  1         0  ultralytics.nn.modules.conv.Concat           [1]                           \n",
            " 19                  -1  1     86720  ultralytics.nn.modules.block.C3k2            [192, 128, 1, False]          \n",
            " 20                  -1  1    147712  ultralytics.nn.modules.conv.Conv             [128, 128, 3, 2]              \n",
            " 21            [-1, 10]  1         0  ultralytics.nn.modules.conv.Concat           [1]                           \n",
            " 22                  -1  1    378880  ultralytics.nn.modules.block.C3k2            [384, 256, 1, True]           \n",
            " 23        [16, 19, 22]  1    431062  ultralytics.nn.modules.head.Detect           [2, [64, 128, 256]]           \n"
          ]
        },
        {
          "output_type": "stream",
          "name": "stderr",
          "text": [
            "\n"
          ]
        },
        {
          "output_type": "stream",
          "name": "stdout",
          "text": [
            "YOLO11n summary: 181 layers, 2,590,230 parameters, 2,590,214 gradients, 6.4 GFLOPs\n",
            "\n",
            "Transferred 448/499 items from pretrained weights\n",
            "Freezing layer 'model.23.dfl.conv.weight'\n",
            "\u001b[34m\u001b[1mAMP: \u001b[0mrunning Automatic Mixed Precision (AMP) checks...\n",
            "\u001b[34m\u001b[1mAMP: \u001b[0mchecks passed ✅\n",
            "\u001b[34m\u001b[1mtrain: \u001b[0mFast image access ✅ (ping: 0.0±0.0 ms, read: 1378.0±631.5 MB/s, size: 44.5 KB)\n"
          ]
        },
        {
          "output_type": "stream",
          "name": "stderr",
          "text": [
            "\u001b[34m\u001b[1mtrain: \u001b[0mScanning /content/train/labels... 700 images, 0 backgrounds, 0 corrupt: 100%|██████████| 700/700 [00:00<00:00, 1146.50it/s]"
          ]
        },
        {
          "output_type": "stream",
          "name": "stdout",
          "text": [
            "\u001b[34m\u001b[1mtrain: \u001b[0mNew cache created: /content/train/labels.cache\n"
          ]
        },
        {
          "output_type": "stream",
          "name": "stderr",
          "text": [
            "\n"
          ]
        },
        {
          "output_type": "stream",
          "name": "stdout",
          "text": [
            "\u001b[34m\u001b[1malbumentations: \u001b[0mBlur(p=0.01, blur_limit=(3, 7)), MedianBlur(p=0.01, blur_limit=(3, 7)), ToGray(p=0.01, method='weighted_average', num_output_channels=3), CLAHE(p=0.01, clip_limit=(1.0, 4.0), tile_grid_size=(8, 8))\n",
            "\u001b[34m\u001b[1mval: \u001b[0mFast image access ✅ (ping: 0.0±0.0 ms, read: 615.1±502.3 MB/s, size: 64.9 KB)\n"
          ]
        },
        {
          "output_type": "stream",
          "name": "stderr",
          "text": [
            "\u001b[34m\u001b[1mval: \u001b[0mScanning /content/valid/labels... 200 images, 0 backgrounds, 0 corrupt: 100%|██████████| 200/200 [00:00<00:00, 881.79it/s]"
          ]
        },
        {
          "output_type": "stream",
          "name": "stdout",
          "text": [
            "\u001b[34m\u001b[1mval: \u001b[0mNew cache created: /content/valid/labels.cache\n"
          ]
        },
        {
          "output_type": "stream",
          "name": "stderr",
          "text": [
            "\n"
          ]
        },
        {
          "output_type": "stream",
          "name": "stdout",
          "text": [
            "Plotting labels to runs/detect/defect-detection/labels.jpg... \n",
            "\u001b[34m\u001b[1moptimizer:\u001b[0m 'optimizer=auto' found, ignoring 'lr0=0.01' and 'momentum=0.937' and determining best 'optimizer', 'lr0' and 'momentum' automatically... \n",
            "\u001b[34m\u001b[1moptimizer:\u001b[0m AdamW(lr=0.001667, momentum=0.9) with parameter groups 81 weight(decay=0.0), 88 weight(decay=0.0005), 87 bias(decay=0.0)\n",
            "Image sizes 640 train, 640 val\n",
            "Using 8 dataloader workers\n",
            "Logging results to \u001b[1mruns/detect/defect-detection\u001b[0m\n",
            "Starting training for 50 epochs...\n",
            "\n",
            "      Epoch    GPU_mem   box_loss   cls_loss   dfl_loss  Instances       Size\n"
          ]
        },
        {
          "output_type": "stream",
          "name": "stderr",
          "text": [
            "       1/50      2.43G     0.7346      2.404     0.9654        292        640: 100%|██████████| 88/88 [00:29<00:00,  2.96it/s]\n",
            "                 Class     Images  Instances      Box(P          R      mAP50  mAP50-95): 100%|██████████| 13/13 [00:08<00:00,  1.54it/s]"
          ]
        },
        {
          "output_type": "stream",
          "name": "stdout",
          "text": [
            "                   all        200      13611      0.988      0.775      0.923      0.783\n"
          ]
        },
        {
          "output_type": "stream",
          "name": "stderr",
          "text": [
            "\n"
          ]
        },
        {
          "output_type": "stream",
          "name": "stdout",
          "text": [
            "\n",
            "      Epoch    GPU_mem   box_loss   cls_loss   dfl_loss  Instances       Size\n"
          ]
        },
        {
          "output_type": "stream",
          "name": "stderr",
          "text": [
            "       2/50      2.78G     0.6287     0.7672     0.9104        257        640: 100%|██████████| 88/88 [00:10<00:00,  8.28it/s]\n",
            "                 Class     Images  Instances      Box(P          R      mAP50  mAP50-95): 100%|██████████| 13/13 [00:02<00:00,  6.34it/s]"
          ]
        },
        {
          "output_type": "stream",
          "name": "stdout",
          "text": [
            "                   all        200      13611      0.954      0.951      0.962      0.839\n"
          ]
        },
        {
          "output_type": "stream",
          "name": "stderr",
          "text": [
            "\n"
          ]
        },
        {
          "output_type": "stream",
          "name": "stdout",
          "text": [
            "\n",
            "      Epoch    GPU_mem   box_loss   cls_loss   dfl_loss  Instances       Size\n"
          ]
        },
        {
          "output_type": "stream",
          "name": "stderr",
          "text": [
            "       3/50      3.12G     0.5713     0.5846     0.8908        197        640: 100%|██████████| 88/88 [00:10<00:00,  8.50it/s]\n",
            "                 Class     Images  Instances      Box(P          R      mAP50  mAP50-95): 100%|██████████| 13/13 [00:01<00:00,  6.80it/s]"
          ]
        },
        {
          "output_type": "stream",
          "name": "stdout",
          "text": [
            "                   all        200      13611      0.982      0.949      0.971      0.851\n"
          ]
        },
        {
          "output_type": "stream",
          "name": "stderr",
          "text": [
            "\n"
          ]
        },
        {
          "output_type": "stream",
          "name": "stdout",
          "text": [
            "\n",
            "      Epoch    GPU_mem   box_loss   cls_loss   dfl_loss  Instances       Size\n"
          ]
        },
        {
          "output_type": "stream",
          "name": "stderr",
          "text": [
            "       4/50      3.14G     0.5856      0.554     0.8827        635        640: 100%|██████████| 88/88 [00:10<00:00,  8.56it/s]\n",
            "                 Class     Images  Instances      Box(P          R      mAP50  mAP50-95): 100%|██████████| 13/13 [00:01<00:00,  6.68it/s]"
          ]
        },
        {
          "output_type": "stream",
          "name": "stdout",
          "text": [
            "                   all        200      13611      0.982      0.952      0.973      0.881\n"
          ]
        },
        {
          "output_type": "stream",
          "name": "stderr",
          "text": [
            "\n"
          ]
        },
        {
          "output_type": "stream",
          "name": "stdout",
          "text": [
            "\n",
            "      Epoch    GPU_mem   box_loss   cls_loss   dfl_loss  Instances       Size\n"
          ]
        },
        {
          "output_type": "stream",
          "name": "stderr",
          "text": [
            "       5/50      3.49G     0.5459     0.5127     0.8754        352        640: 100%|██████████| 88/88 [00:10<00:00,  8.47it/s]\n",
            "                 Class     Images  Instances      Box(P          R      mAP50  mAP50-95): 100%|██████████| 13/13 [00:01<00:00,  6.74it/s]"
          ]
        },
        {
          "output_type": "stream",
          "name": "stdout",
          "text": [
            "                   all        200      13611      0.985      0.957      0.977      0.895\n"
          ]
        },
        {
          "output_type": "stream",
          "name": "stderr",
          "text": [
            "\n"
          ]
        },
        {
          "output_type": "stream",
          "name": "stdout",
          "text": [
            "\n",
            "      Epoch    GPU_mem   box_loss   cls_loss   dfl_loss  Instances       Size\n"
          ]
        },
        {
          "output_type": "stream",
          "name": "stderr",
          "text": [
            "       6/50       3.5G     0.5366     0.4921     0.8703        304        640: 100%|██████████| 88/88 [00:10<00:00,  8.47it/s]\n",
            "                 Class     Images  Instances      Box(P          R      mAP50  mAP50-95): 100%|██████████| 13/13 [00:01<00:00,  6.69it/s]"
          ]
        },
        {
          "output_type": "stream",
          "name": "stdout",
          "text": [
            "                   all        200      13611      0.985      0.957      0.978        0.9\n"
          ]
        },
        {
          "output_type": "stream",
          "name": "stderr",
          "text": [
            "\n"
          ]
        },
        {
          "output_type": "stream",
          "name": "stdout",
          "text": [
            "\n",
            "      Epoch    GPU_mem   box_loss   cls_loss   dfl_loss  Instances       Size\n"
          ]
        },
        {
          "output_type": "stream",
          "name": "stderr",
          "text": [
            "       7/50      3.87G     0.5256     0.4731     0.8652        413        640: 100%|██████████| 88/88 [00:10<00:00,  8.45it/s]\n",
            "                 Class     Images  Instances      Box(P          R      mAP50  mAP50-95): 100%|██████████| 13/13 [00:01<00:00,  6.64it/s]"
          ]
        },
        {
          "output_type": "stream",
          "name": "stdout",
          "text": [
            "                   all        200      13611      0.987      0.959      0.977      0.903\n"
          ]
        },
        {
          "output_type": "stream",
          "name": "stderr",
          "text": [
            "\n"
          ]
        },
        {
          "output_type": "stream",
          "name": "stdout",
          "text": [
            "\n",
            "      Epoch    GPU_mem   box_loss   cls_loss   dfl_loss  Instances       Size\n"
          ]
        },
        {
          "output_type": "stream",
          "name": "stderr",
          "text": [
            "       8/50      3.89G     0.5047     0.4528     0.8616        467        640: 100%|██████████| 88/88 [00:10<00:00,  8.53it/s]\n",
            "                 Class     Images  Instances      Box(P          R      mAP50  mAP50-95): 100%|██████████| 13/13 [00:01<00:00,  6.58it/s]"
          ]
        },
        {
          "output_type": "stream",
          "name": "stdout",
          "text": [
            "                   all        200      13611      0.987      0.957      0.979      0.913\n"
          ]
        },
        {
          "output_type": "stream",
          "name": "stderr",
          "text": [
            "\n"
          ]
        },
        {
          "output_type": "stream",
          "name": "stdout",
          "text": [
            "\n",
            "      Epoch    GPU_mem   box_loss   cls_loss   dfl_loss  Instances       Size\n"
          ]
        },
        {
          "output_type": "stream",
          "name": "stderr",
          "text": [
            "       9/50       3.9G     0.4961     0.4449     0.8579        238        640: 100%|██████████| 88/88 [00:10<00:00,  8.49it/s]\n",
            "                 Class     Images  Instances      Box(P          R      mAP50  mAP50-95): 100%|██████████| 13/13 [00:02<00:00,  6.33it/s]"
          ]
        },
        {
          "output_type": "stream",
          "name": "stdout",
          "text": [
            "                   all        200      13611      0.986      0.961      0.978      0.906\n"
          ]
        },
        {
          "output_type": "stream",
          "name": "stderr",
          "text": [
            "\n"
          ]
        },
        {
          "output_type": "stream",
          "name": "stdout",
          "text": [
            "\n",
            "      Epoch    GPU_mem   box_loss   cls_loss   dfl_loss  Instances       Size\n"
          ]
        },
        {
          "output_type": "stream",
          "name": "stderr",
          "text": [
            "      10/50      3.92G     0.4917      0.434     0.8552        291        640: 100%|██████████| 88/88 [00:10<00:00,  8.36it/s]\n",
            "                 Class     Images  Instances      Box(P          R      mAP50  mAP50-95): 100%|██████████| 13/13 [00:01<00:00,  6.59it/s]"
          ]
        },
        {
          "output_type": "stream",
          "name": "stdout",
          "text": [
            "                   all        200      13611      0.988      0.958      0.978      0.909\n"
          ]
        },
        {
          "output_type": "stream",
          "name": "stderr",
          "text": [
            "\n"
          ]
        },
        {
          "output_type": "stream",
          "name": "stdout",
          "text": [
            "\n",
            "      Epoch    GPU_mem   box_loss   cls_loss   dfl_loss  Instances       Size\n"
          ]
        },
        {
          "output_type": "stream",
          "name": "stderr",
          "text": [
            "      11/50      3.93G     0.4778     0.4206     0.8546        276        640: 100%|██████████| 88/88 [00:10<00:00,  8.51it/s]\n",
            "                 Class     Images  Instances      Box(P          R      mAP50  mAP50-95): 100%|██████████| 13/13 [00:02<00:00,  6.40it/s]"
          ]
        },
        {
          "output_type": "stream",
          "name": "stdout",
          "text": [
            "                   all        200      13611      0.988       0.96       0.98      0.913\n"
          ]
        },
        {
          "output_type": "stream",
          "name": "stderr",
          "text": [
            "\n"
          ]
        },
        {
          "output_type": "stream",
          "name": "stdout",
          "text": [
            "\n",
            "      Epoch    GPU_mem   box_loss   cls_loss   dfl_loss  Instances       Size\n"
          ]
        },
        {
          "output_type": "stream",
          "name": "stderr",
          "text": [
            "      12/50      4.32G     0.4693     0.4052     0.8511        588        640: 100%|██████████| 88/88 [00:10<00:00,  8.42it/s]\n",
            "                 Class     Images  Instances      Box(P          R      mAP50  mAP50-95): 100%|██████████| 13/13 [00:02<00:00,  6.47it/s]"
          ]
        },
        {
          "output_type": "stream",
          "name": "stdout",
          "text": [
            "                   all        200      13611      0.987      0.961       0.98       0.92\n"
          ]
        },
        {
          "output_type": "stream",
          "name": "stderr",
          "text": [
            "\n"
          ]
        },
        {
          "output_type": "stream",
          "name": "stdout",
          "text": [
            "\n",
            "      Epoch    GPU_mem   box_loss   cls_loss   dfl_loss  Instances       Size\n"
          ]
        },
        {
          "output_type": "stream",
          "name": "stderr",
          "text": [
            "      13/50      4.34G     0.4681     0.4018     0.8524        450        640: 100%|██████████| 88/88 [00:10<00:00,  8.44it/s]\n",
            "                 Class     Images  Instances      Box(P          R      mAP50  mAP50-95): 100%|██████████| 13/13 [00:01<00:00,  6.77it/s]"
          ]
        },
        {
          "output_type": "stream",
          "name": "stdout",
          "text": [
            "                   all        200      13611      0.989      0.957       0.98      0.913\n"
          ]
        },
        {
          "output_type": "stream",
          "name": "stderr",
          "text": [
            "\n"
          ]
        },
        {
          "output_type": "stream",
          "name": "stdout",
          "text": [
            "\n",
            "      Epoch    GPU_mem   box_loss   cls_loss   dfl_loss  Instances       Size\n"
          ]
        },
        {
          "output_type": "stream",
          "name": "stderr",
          "text": [
            "      14/50      4.35G      0.464     0.3941     0.8522        463        640: 100%|██████████| 88/88 [00:10<00:00,  8.49it/s]\n",
            "                 Class     Images  Instances      Box(P          R      mAP50  mAP50-95): 100%|██████████| 13/13 [00:01<00:00,  6.74it/s]"
          ]
        },
        {
          "output_type": "stream",
          "name": "stdout",
          "text": [
            "                   all        200      13611      0.989      0.962       0.98      0.924\n"
          ]
        },
        {
          "output_type": "stream",
          "name": "stderr",
          "text": [
            "\n"
          ]
        },
        {
          "output_type": "stream",
          "name": "stdout",
          "text": [
            "\n",
            "      Epoch    GPU_mem   box_loss   cls_loss   dfl_loss  Instances       Size\n"
          ]
        },
        {
          "output_type": "stream",
          "name": "stderr",
          "text": [
            "      15/50      4.37G     0.4633     0.3887     0.8485        289        640: 100%|██████████| 88/88 [00:10<00:00,  8.37it/s]\n",
            "                 Class     Images  Instances      Box(P          R      mAP50  mAP50-95): 100%|██████████| 13/13 [00:01<00:00,  6.84it/s]"
          ]
        },
        {
          "output_type": "stream",
          "name": "stdout",
          "text": [
            "                   all        200      13611      0.989       0.96       0.98      0.921\n"
          ]
        },
        {
          "output_type": "stream",
          "name": "stderr",
          "text": [
            "\n"
          ]
        },
        {
          "output_type": "stream",
          "name": "stdout",
          "text": [
            "\n",
            "      Epoch    GPU_mem   box_loss   cls_loss   dfl_loss  Instances       Size\n"
          ]
        },
        {
          "output_type": "stream",
          "name": "stderr",
          "text": [
            "      16/50      4.38G     0.4563     0.3866     0.8487        234        640: 100%|██████████| 88/88 [00:10<00:00,  8.44it/s]\n",
            "                 Class     Images  Instances      Box(P          R      mAP50  mAP50-95): 100%|██████████| 13/13 [00:01<00:00,  6.89it/s]"
          ]
        },
        {
          "output_type": "stream",
          "name": "stdout",
          "text": [
            "                   all        200      13611      0.987      0.963       0.98      0.921\n"
          ]
        },
        {
          "output_type": "stream",
          "name": "stderr",
          "text": [
            "\n"
          ]
        },
        {
          "output_type": "stream",
          "name": "stdout",
          "text": [
            "\n",
            "      Epoch    GPU_mem   box_loss   cls_loss   dfl_loss  Instances       Size\n"
          ]
        },
        {
          "output_type": "stream",
          "name": "stderr",
          "text": [
            "      17/50       4.4G     0.4619     0.3831     0.8491        443        640: 100%|██████████| 88/88 [00:10<00:00,  8.32it/s]\n",
            "                 Class     Images  Instances      Box(P          R      mAP50  mAP50-95): 100%|██████████| 13/13 [00:01<00:00,  6.74it/s]"
          ]
        },
        {
          "output_type": "stream",
          "name": "stdout",
          "text": [
            "                   all        200      13611      0.987       0.96       0.98      0.921\n"
          ]
        },
        {
          "output_type": "stream",
          "name": "stderr",
          "text": [
            "\n"
          ]
        },
        {
          "output_type": "stream",
          "name": "stdout",
          "text": [
            "\n",
            "      Epoch    GPU_mem   box_loss   cls_loss   dfl_loss  Instances       Size\n"
          ]
        },
        {
          "output_type": "stream",
          "name": "stderr",
          "text": [
            "      18/50      4.41G     0.4493     0.3756     0.8466        343        640: 100%|██████████| 88/88 [00:10<00:00,  8.43it/s]\n",
            "                 Class     Images  Instances      Box(P          R      mAP50  mAP50-95): 100%|██████████| 13/13 [00:01<00:00,  7.00it/s]"
          ]
        },
        {
          "output_type": "stream",
          "name": "stdout",
          "text": [
            "                   all        200      13611      0.987      0.963       0.98       0.92\n"
          ]
        },
        {
          "output_type": "stream",
          "name": "stderr",
          "text": [
            "\n"
          ]
        },
        {
          "output_type": "stream",
          "name": "stdout",
          "text": [
            "\n",
            "      Epoch    GPU_mem   box_loss   cls_loss   dfl_loss  Instances       Size\n"
          ]
        },
        {
          "output_type": "stream",
          "name": "stderr",
          "text": [
            "      19/50      4.43G      0.448     0.3704     0.8459        272        640: 100%|██████████| 88/88 [00:10<00:00,  8.49it/s]\n",
            "                 Class     Images  Instances      Box(P          R      mAP50  mAP50-95): 100%|██████████| 13/13 [00:01<00:00,  6.83it/s]"
          ]
        },
        {
          "output_type": "stream",
          "name": "stdout",
          "text": [
            "                   all        200      13611      0.988      0.963       0.98      0.926\n"
          ]
        },
        {
          "output_type": "stream",
          "name": "stderr",
          "text": [
            "\n"
          ]
        },
        {
          "output_type": "stream",
          "name": "stdout",
          "text": [
            "\n",
            "      Epoch    GPU_mem   box_loss   cls_loss   dfl_loss  Instances       Size\n"
          ]
        },
        {
          "output_type": "stream",
          "name": "stderr",
          "text": [
            "      20/50      4.44G     0.4532     0.3682     0.8454        189        640: 100%|██████████| 88/88 [00:10<00:00,  8.38it/s]\n",
            "                 Class     Images  Instances      Box(P          R      mAP50  mAP50-95): 100%|██████████| 13/13 [00:01<00:00,  6.71it/s]"
          ]
        },
        {
          "output_type": "stream",
          "name": "stdout",
          "text": [
            "                   all        200      13611      0.989      0.965      0.981      0.927\n"
          ]
        },
        {
          "output_type": "stream",
          "name": "stderr",
          "text": [
            "\n"
          ]
        },
        {
          "output_type": "stream",
          "name": "stdout",
          "text": [
            "\n",
            "      Epoch    GPU_mem   box_loss   cls_loss   dfl_loss  Instances       Size\n"
          ]
        },
        {
          "output_type": "stream",
          "name": "stderr",
          "text": [
            "      21/50      4.46G     0.4413       0.36     0.8409        320        640: 100%|██████████| 88/88 [00:10<00:00,  8.41it/s]\n",
            "                 Class     Images  Instances      Box(P          R      mAP50  mAP50-95): 100%|██████████| 13/13 [00:01<00:00,  6.72it/s]"
          ]
        },
        {
          "output_type": "stream",
          "name": "stdout",
          "text": [
            "                   all        200      13611      0.989      0.966      0.981      0.931\n"
          ]
        },
        {
          "output_type": "stream",
          "name": "stderr",
          "text": [
            "\n"
          ]
        },
        {
          "output_type": "stream",
          "name": "stdout",
          "text": [
            "\n",
            "      Epoch    GPU_mem   box_loss   cls_loss   dfl_loss  Instances       Size\n"
          ]
        },
        {
          "output_type": "stream",
          "name": "stderr",
          "text": [
            "      22/50      4.47G      0.433     0.3537     0.8415        306        640: 100%|██████████| 88/88 [00:10<00:00,  8.44it/s]\n",
            "                 Class     Images  Instances      Box(P          R      mAP50  mAP50-95): 100%|██████████| 13/13 [00:01<00:00,  6.84it/s]"
          ]
        },
        {
          "output_type": "stream",
          "name": "stdout",
          "text": [
            "                   all        200      13611      0.989      0.963      0.981      0.927\n"
          ]
        },
        {
          "output_type": "stream",
          "name": "stderr",
          "text": [
            "\n"
          ]
        },
        {
          "output_type": "stream",
          "name": "stdout",
          "text": [
            "\n",
            "      Epoch    GPU_mem   box_loss   cls_loss   dfl_loss  Instances       Size\n"
          ]
        },
        {
          "output_type": "stream",
          "name": "stderr",
          "text": [
            "      23/50      4.49G     0.4367     0.3552     0.8403        414        640: 100%|██████████| 88/88 [00:10<00:00,  8.50it/s]\n",
            "                 Class     Images  Instances      Box(P          R      mAP50  mAP50-95): 100%|██████████| 13/13 [00:01<00:00,  6.83it/s]"
          ]
        },
        {
          "output_type": "stream",
          "name": "stdout",
          "text": [
            "                   all        200      13611      0.988      0.963      0.981      0.929\n"
          ]
        },
        {
          "output_type": "stream",
          "name": "stderr",
          "text": [
            "\n"
          ]
        },
        {
          "output_type": "stream",
          "name": "stdout",
          "text": [
            "\n",
            "      Epoch    GPU_mem   box_loss   cls_loss   dfl_loss  Instances       Size\n"
          ]
        },
        {
          "output_type": "stream",
          "name": "stderr",
          "text": [
            "      24/50       4.5G     0.4384     0.3518     0.8406        307        640: 100%|██████████| 88/88 [00:10<00:00,  8.39it/s]\n",
            "                 Class     Images  Instances      Box(P          R      mAP50  mAP50-95): 100%|██████████| 13/13 [00:01<00:00,  6.93it/s]"
          ]
        },
        {
          "output_type": "stream",
          "name": "stdout",
          "text": [
            "                   all        200      13611      0.989      0.966      0.981       0.93\n"
          ]
        },
        {
          "output_type": "stream",
          "name": "stderr",
          "text": [
            "\n"
          ]
        },
        {
          "output_type": "stream",
          "name": "stdout",
          "text": [
            "\n",
            "      Epoch    GPU_mem   box_loss   cls_loss   dfl_loss  Instances       Size\n"
          ]
        },
        {
          "output_type": "stream",
          "name": "stderr",
          "text": [
            "      25/50      4.52G     0.4383     0.3506     0.8404        367        640: 100%|██████████| 88/88 [00:10<00:00,  8.37it/s]\n",
            "                 Class     Images  Instances      Box(P          R      mAP50  mAP50-95): 100%|██████████| 13/13 [00:01<00:00,  7.02it/s]"
          ]
        },
        {
          "output_type": "stream",
          "name": "stdout",
          "text": [
            "                   all        200      13611      0.989      0.965      0.981      0.927\n"
          ]
        },
        {
          "output_type": "stream",
          "name": "stderr",
          "text": [
            "\n"
          ]
        },
        {
          "output_type": "stream",
          "name": "stdout",
          "text": [
            "\n",
            "      Epoch    GPU_mem   box_loss   cls_loss   dfl_loss  Instances       Size\n"
          ]
        },
        {
          "output_type": "stream",
          "name": "stderr",
          "text": [
            "      26/50      4.53G     0.4275     0.3427     0.8381        372        640: 100%|██████████| 88/88 [00:10<00:00,  8.37it/s]\n",
            "                 Class     Images  Instances      Box(P          R      mAP50  mAP50-95): 100%|██████████| 13/13 [00:01<00:00,  7.05it/s]"
          ]
        },
        {
          "output_type": "stream",
          "name": "stdout",
          "text": [
            "                   all        200      13611       0.99      0.966      0.981      0.933\n"
          ]
        },
        {
          "output_type": "stream",
          "name": "stderr",
          "text": [
            "\n"
          ]
        },
        {
          "output_type": "stream",
          "name": "stdout",
          "text": [
            "\n",
            "      Epoch    GPU_mem   box_loss   cls_loss   dfl_loss  Instances       Size\n"
          ]
        },
        {
          "output_type": "stream",
          "name": "stderr",
          "text": [
            "      27/50      4.54G     0.4292     0.3453     0.8395        242        640: 100%|██████████| 88/88 [00:10<00:00,  8.26it/s]\n",
            "                 Class     Images  Instances      Box(P          R      mAP50  mAP50-95): 100%|██████████| 13/13 [00:01<00:00,  6.85it/s]"
          ]
        },
        {
          "output_type": "stream",
          "name": "stdout",
          "text": [
            "                   all        200      13611      0.986      0.964      0.981       0.93\n"
          ]
        },
        {
          "output_type": "stream",
          "name": "stderr",
          "text": [
            "\n"
          ]
        },
        {
          "output_type": "stream",
          "name": "stdout",
          "text": [
            "\n",
            "      Epoch    GPU_mem   box_loss   cls_loss   dfl_loss  Instances       Size\n"
          ]
        },
        {
          "output_type": "stream",
          "name": "stderr",
          "text": [
            "      28/50      4.56G     0.4205     0.3391     0.8378        436        640: 100%|██████████| 88/88 [00:10<00:00,  8.37it/s]\n",
            "                 Class     Images  Instances      Box(P          R      mAP50  mAP50-95): 100%|██████████| 13/13 [00:01<00:00,  6.93it/s]"
          ]
        },
        {
          "output_type": "stream",
          "name": "stdout",
          "text": [
            "                   all        200      13611       0.99      0.964      0.981      0.933\n"
          ]
        },
        {
          "output_type": "stream",
          "name": "stderr",
          "text": [
            "\n"
          ]
        },
        {
          "output_type": "stream",
          "name": "stdout",
          "text": [
            "\n",
            "      Epoch    GPU_mem   box_loss   cls_loss   dfl_loss  Instances       Size\n"
          ]
        },
        {
          "output_type": "stream",
          "name": "stderr",
          "text": [
            "      29/50      4.57G     0.4164      0.336     0.8392        288        640: 100%|██████████| 88/88 [00:10<00:00,  8.18it/s]\n",
            "                 Class     Images  Instances      Box(P          R      mAP50  mAP50-95): 100%|██████████| 13/13 [00:01<00:00,  6.83it/s]"
          ]
        },
        {
          "output_type": "stream",
          "name": "stdout",
          "text": [
            "                   all        200      13611       0.99      0.966      0.981      0.933\n"
          ]
        },
        {
          "output_type": "stream",
          "name": "stderr",
          "text": [
            "\n"
          ]
        },
        {
          "output_type": "stream",
          "name": "stdout",
          "text": [
            "\n",
            "      Epoch    GPU_mem   box_loss   cls_loss   dfl_loss  Instances       Size\n"
          ]
        },
        {
          "output_type": "stream",
          "name": "stderr",
          "text": [
            "      30/50      5.01G     0.4315     0.3401     0.8377        415        640: 100%|██████████| 88/88 [00:11<00:00,  7.99it/s]\n",
            "                 Class     Images  Instances      Box(P          R      mAP50  mAP50-95): 100%|██████████| 13/13 [00:01<00:00,  6.83it/s]"
          ]
        },
        {
          "output_type": "stream",
          "name": "stdout",
          "text": [
            "                   all        200      13611      0.989      0.966      0.981      0.934\n"
          ]
        },
        {
          "output_type": "stream",
          "name": "stderr",
          "text": [
            "\n"
          ]
        },
        {
          "output_type": "stream",
          "name": "stdout",
          "text": [
            "\n",
            "      Epoch    GPU_mem   box_loss   cls_loss   dfl_loss  Instances       Size\n"
          ]
        },
        {
          "output_type": "stream",
          "name": "stderr",
          "text": [
            "      31/50      5.02G     0.4243      0.335     0.8356        258        640: 100%|██████████| 88/88 [00:10<00:00,  8.21it/s]\n",
            "                 Class     Images  Instances      Box(P          R      mAP50  mAP50-95): 100%|██████████| 13/13 [00:01<00:00,  6.76it/s]"
          ]
        },
        {
          "output_type": "stream",
          "name": "stdout",
          "text": [
            "                   all        200      13611       0.99      0.966      0.981       0.93\n"
          ]
        },
        {
          "output_type": "stream",
          "name": "stderr",
          "text": [
            "\n"
          ]
        },
        {
          "output_type": "stream",
          "name": "stdout",
          "text": [
            "\n",
            "      Epoch    GPU_mem   box_loss   cls_loss   dfl_loss  Instances       Size\n"
          ]
        },
        {
          "output_type": "stream",
          "name": "stderr",
          "text": [
            "      32/50      5.04G     0.4166     0.3292     0.8371        276        640: 100%|██████████| 88/88 [00:10<00:00,  8.27it/s]\n",
            "                 Class     Images  Instances      Box(P          R      mAP50  mAP50-95): 100%|██████████| 13/13 [00:01<00:00,  6.73it/s]"
          ]
        },
        {
          "output_type": "stream",
          "name": "stdout",
          "text": [
            "                   all        200      13611      0.991      0.965      0.981      0.935\n"
          ]
        },
        {
          "output_type": "stream",
          "name": "stderr",
          "text": [
            "\n"
          ]
        },
        {
          "output_type": "stream",
          "name": "stdout",
          "text": [
            "\n",
            "      Epoch    GPU_mem   box_loss   cls_loss   dfl_loss  Instances       Size\n"
          ]
        },
        {
          "output_type": "stream",
          "name": "stderr",
          "text": [
            "      33/50      5.05G     0.4236     0.3319     0.8375        337        640: 100%|██████████| 88/88 [00:10<00:00,  8.12it/s]\n",
            "                 Class     Images  Instances      Box(P          R      mAP50  mAP50-95): 100%|██████████| 13/13 [00:01<00:00,  6.92it/s]"
          ]
        },
        {
          "output_type": "stream",
          "name": "stdout",
          "text": [
            "                   all        200      13611      0.989      0.967      0.981      0.936\n"
          ]
        },
        {
          "output_type": "stream",
          "name": "stderr",
          "text": [
            "\n"
          ]
        },
        {
          "output_type": "stream",
          "name": "stdout",
          "text": [
            "\n",
            "      Epoch    GPU_mem   box_loss   cls_loss   dfl_loss  Instances       Size\n"
          ]
        },
        {
          "output_type": "stream",
          "name": "stderr",
          "text": [
            "      34/50      5.07G     0.4109     0.3223      0.834        434        640: 100%|██████████| 88/88 [00:10<00:00,  8.16it/s]\n",
            "                 Class     Images  Instances      Box(P          R      mAP50  mAP50-95): 100%|██████████| 13/13 [00:01<00:00,  6.96it/s]"
          ]
        },
        {
          "output_type": "stream",
          "name": "stdout",
          "text": [
            "                   all        200      13611      0.989      0.968      0.981      0.938\n"
          ]
        },
        {
          "output_type": "stream",
          "name": "stderr",
          "text": [
            "\n"
          ]
        },
        {
          "output_type": "stream",
          "name": "stdout",
          "text": [
            "\n",
            "      Epoch    GPU_mem   box_loss   cls_loss   dfl_loss  Instances       Size\n"
          ]
        },
        {
          "output_type": "stream",
          "name": "stderr",
          "text": [
            "      35/50      5.08G     0.4153     0.3228     0.8338        842        640: 100%|██████████| 88/88 [00:10<00:00,  8.19it/s]\n",
            "                 Class     Images  Instances      Box(P          R      mAP50  mAP50-95): 100%|██████████| 13/13 [00:01<00:00,  7.07it/s]"
          ]
        },
        {
          "output_type": "stream",
          "name": "stdout",
          "text": [
            "                   all        200      13611       0.99      0.968      0.982      0.938\n"
          ]
        },
        {
          "output_type": "stream",
          "name": "stderr",
          "text": [
            "\n"
          ]
        },
        {
          "output_type": "stream",
          "name": "stdout",
          "text": [
            "\n",
            "      Epoch    GPU_mem   box_loss   cls_loss   dfl_loss  Instances       Size\n"
          ]
        },
        {
          "output_type": "stream",
          "name": "stderr",
          "text": [
            "      36/50      5.09G     0.4114      0.321     0.8356        579        640: 100%|██████████| 88/88 [00:10<00:00,  8.37it/s]\n",
            "                 Class     Images  Instances      Box(P          R      mAP50  mAP50-95): 100%|██████████| 13/13 [00:01<00:00,  7.10it/s]"
          ]
        },
        {
          "output_type": "stream",
          "name": "stdout",
          "text": [
            "                   all        200      13611      0.989      0.969      0.981      0.938\n"
          ]
        },
        {
          "output_type": "stream",
          "name": "stderr",
          "text": [
            "\n"
          ]
        },
        {
          "output_type": "stream",
          "name": "stdout",
          "text": [
            "\n",
            "      Epoch    GPU_mem   box_loss   cls_loss   dfl_loss  Instances       Size\n"
          ]
        },
        {
          "output_type": "stream",
          "name": "stderr",
          "text": [
            "      37/50      5.11G     0.4083     0.3191     0.8348        420        640: 100%|██████████| 88/88 [00:10<00:00,  8.36it/s]\n",
            "                 Class     Images  Instances      Box(P          R      mAP50  mAP50-95): 100%|██████████| 13/13 [00:01<00:00,  6.89it/s]"
          ]
        },
        {
          "output_type": "stream",
          "name": "stdout",
          "text": [
            "                   all        200      13611      0.988      0.967      0.981      0.939\n"
          ]
        },
        {
          "output_type": "stream",
          "name": "stderr",
          "text": [
            "\n"
          ]
        },
        {
          "output_type": "stream",
          "name": "stdout",
          "text": [
            "\n",
            "      Epoch    GPU_mem   box_loss   cls_loss   dfl_loss  Instances       Size\n"
          ]
        },
        {
          "output_type": "stream",
          "name": "stderr",
          "text": [
            "      38/50      5.12G     0.4048     0.3149     0.8321        229        640: 100%|██████████| 88/88 [00:10<00:00,  8.19it/s]\n",
            "                 Class     Images  Instances      Box(P          R      mAP50  mAP50-95): 100%|██████████| 13/13 [00:01<00:00,  6.93it/s]"
          ]
        },
        {
          "output_type": "stream",
          "name": "stdout",
          "text": [
            "                   all        200      13611       0.99      0.967      0.982       0.94\n"
          ]
        },
        {
          "output_type": "stream",
          "name": "stderr",
          "text": [
            "\n"
          ]
        },
        {
          "output_type": "stream",
          "name": "stdout",
          "text": [
            "\n",
            "      Epoch    GPU_mem   box_loss   cls_loss   dfl_loss  Instances       Size\n"
          ]
        },
        {
          "output_type": "stream",
          "name": "stderr",
          "text": [
            "      39/50      5.14G     0.4066     0.3142     0.8315        296        640: 100%|██████████| 88/88 [00:10<00:00,  8.14it/s]\n",
            "                 Class     Images  Instances      Box(P          R      mAP50  mAP50-95): 100%|██████████| 13/13 [00:01<00:00,  6.89it/s]"
          ]
        },
        {
          "output_type": "stream",
          "name": "stdout",
          "text": [
            "                   all        200      13611      0.988       0.97      0.982      0.941\n"
          ]
        },
        {
          "output_type": "stream",
          "name": "stderr",
          "text": [
            "\n"
          ]
        },
        {
          "output_type": "stream",
          "name": "stdout",
          "text": [
            "\n",
            "      Epoch    GPU_mem   box_loss   cls_loss   dfl_loss  Instances       Size\n"
          ]
        },
        {
          "output_type": "stream",
          "name": "stderr",
          "text": [
            "      40/50      5.15G     0.3978     0.3128     0.8321        375        640: 100%|██████████| 88/88 [00:10<00:00,  8.42it/s]\n",
            "                 Class     Images  Instances      Box(P          R      mAP50  mAP50-95): 100%|██████████| 13/13 [00:01<00:00,  7.11it/s]"
          ]
        },
        {
          "output_type": "stream",
          "name": "stdout",
          "text": [
            "                   all        200      13611      0.992      0.967      0.982      0.941\n"
          ]
        },
        {
          "output_type": "stream",
          "name": "stderr",
          "text": [
            "\n"
          ]
        },
        {
          "output_type": "stream",
          "name": "stdout",
          "text": [
            "Closing dataloader mosaic\n",
            "\u001b[34m\u001b[1malbumentations: \u001b[0mBlur(p=0.01, blur_limit=(3, 7)), MedianBlur(p=0.01, blur_limit=(3, 7)), ToGray(p=0.01, method='weighted_average', num_output_channels=3), CLAHE(p=0.01, clip_limit=(1.0, 4.0), tile_grid_size=(8, 8))\n",
            "\n",
            "      Epoch    GPU_mem   box_loss   cls_loss   dfl_loss  Instances       Size\n"
          ]
        },
        {
          "output_type": "stream",
          "name": "stderr",
          "text": [
            "      41/50      5.17G      0.371     0.3028      0.822        216        640: 100%|██████████| 88/88 [00:10<00:00,  8.46it/s]\n",
            "                 Class     Images  Instances      Box(P          R      mAP50  mAP50-95): 100%|██████████| 13/13 [00:01<00:00,  6.77it/s]"
          ]
        },
        {
          "output_type": "stream",
          "name": "stdout",
          "text": [
            "                   all        200      13611      0.991      0.968      0.981      0.936\n"
          ]
        },
        {
          "output_type": "stream",
          "name": "stderr",
          "text": [
            "\n"
          ]
        },
        {
          "output_type": "stream",
          "name": "stdout",
          "text": [
            "\n",
            "      Epoch    GPU_mem   box_loss   cls_loss   dfl_loss  Instances       Size\n"
          ]
        },
        {
          "output_type": "stream",
          "name": "stderr",
          "text": [
            "      42/50      5.18G     0.3582      0.291     0.8188        238        640: 100%|██████████| 88/88 [00:09<00:00,  9.13it/s]\n",
            "                 Class     Images  Instances      Box(P          R      mAP50  mAP50-95): 100%|██████████| 13/13 [00:01<00:00,  6.84it/s]"
          ]
        },
        {
          "output_type": "stream",
          "name": "stdout",
          "text": [
            "                   all        200      13611      0.991      0.968      0.982      0.938\n"
          ]
        },
        {
          "output_type": "stream",
          "name": "stderr",
          "text": [
            "\n"
          ]
        },
        {
          "output_type": "stream",
          "name": "stdout",
          "text": [
            "\n",
            "      Epoch    GPU_mem   box_loss   cls_loss   dfl_loss  Instances       Size\n"
          ]
        },
        {
          "output_type": "stream",
          "name": "stderr",
          "text": [
            "      43/50       5.2G     0.3609     0.2893     0.8198        224        640: 100%|██████████| 88/88 [00:09<00:00,  9.18it/s]\n",
            "                 Class     Images  Instances      Box(P          R      mAP50  mAP50-95): 100%|██████████| 13/13 [00:01<00:00,  6.95it/s]"
          ]
        },
        {
          "output_type": "stream",
          "name": "stdout",
          "text": [
            "                   all        200      13611      0.991      0.968      0.982       0.94\n"
          ]
        },
        {
          "output_type": "stream",
          "name": "stderr",
          "text": [
            "\n"
          ]
        },
        {
          "output_type": "stream",
          "name": "stdout",
          "text": [
            "\n",
            "      Epoch    GPU_mem   box_loss   cls_loss   dfl_loss  Instances       Size\n"
          ]
        },
        {
          "output_type": "stream",
          "name": "stderr",
          "text": [
            "      44/50      5.21G     0.3584     0.2853     0.8184        156        640: 100%|██████████| 88/88 [00:09<00:00,  9.22it/s]\n",
            "                 Class     Images  Instances      Box(P          R      mAP50  mAP50-95): 100%|██████████| 13/13 [00:01<00:00,  6.92it/s]"
          ]
        },
        {
          "output_type": "stream",
          "name": "stdout",
          "text": [
            "                   all        200      13611      0.992      0.968      0.982       0.94\n"
          ]
        },
        {
          "output_type": "stream",
          "name": "stderr",
          "text": [
            "\n"
          ]
        },
        {
          "output_type": "stream",
          "name": "stdout",
          "text": [
            "\n",
            "      Epoch    GPU_mem   box_loss   cls_loss   dfl_loss  Instances       Size\n"
          ]
        },
        {
          "output_type": "stream",
          "name": "stderr",
          "text": [
            "      45/50      5.23G     0.3539     0.2819     0.8175        151        640: 100%|██████████| 88/88 [00:09<00:00,  9.19it/s]\n",
            "                 Class     Images  Instances      Box(P          R      mAP50  mAP50-95): 100%|██████████| 13/13 [00:01<00:00,  6.87it/s]"
          ]
        },
        {
          "output_type": "stream",
          "name": "stdout",
          "text": [
            "                   all        200      13611       0.99       0.97      0.982      0.942\n"
          ]
        },
        {
          "output_type": "stream",
          "name": "stderr",
          "text": [
            "\n"
          ]
        },
        {
          "output_type": "stream",
          "name": "stdout",
          "text": [
            "\n",
            "      Epoch    GPU_mem   box_loss   cls_loss   dfl_loss  Instances       Size\n"
          ]
        },
        {
          "output_type": "stream",
          "name": "stderr",
          "text": [
            "      46/50      5.24G      0.356     0.2813     0.8188        241        640: 100%|██████████| 88/88 [00:09<00:00,  9.28it/s]\n",
            "                 Class     Images  Instances      Box(P          R      mAP50  mAP50-95): 100%|██████████| 13/13 [00:01<00:00,  6.82it/s]"
          ]
        },
        {
          "output_type": "stream",
          "name": "stdout",
          "text": [
            "                   all        200      13611      0.991      0.969      0.982      0.943\n"
          ]
        },
        {
          "output_type": "stream",
          "name": "stderr",
          "text": [
            "\n"
          ]
        },
        {
          "output_type": "stream",
          "name": "stdout",
          "text": [
            "\n",
            "      Epoch    GPU_mem   box_loss   cls_loss   dfl_loss  Instances       Size\n"
          ]
        },
        {
          "output_type": "stream",
          "name": "stderr",
          "text": [
            "      47/50      5.26G     0.3568     0.2803     0.8173        285        640: 100%|██████████| 88/88 [00:09<00:00,  9.18it/s]\n",
            "                 Class     Images  Instances      Box(P          R      mAP50  mAP50-95): 100%|██████████| 13/13 [00:01<00:00,  6.89it/s]"
          ]
        },
        {
          "output_type": "stream",
          "name": "stdout",
          "text": [
            "                   all        200      13611      0.988      0.971      0.982      0.942\n"
          ]
        },
        {
          "output_type": "stream",
          "name": "stderr",
          "text": [
            "\n"
          ]
        },
        {
          "output_type": "stream",
          "name": "stdout",
          "text": [
            "\n",
            "      Epoch    GPU_mem   box_loss   cls_loss   dfl_loss  Instances       Size\n"
          ]
        },
        {
          "output_type": "stream",
          "name": "stderr",
          "text": [
            "      48/50      5.27G     0.3444     0.2737      0.817        221        640: 100%|██████████| 88/88 [00:09<00:00,  9.17it/s]\n",
            "                 Class     Images  Instances      Box(P          R      mAP50  mAP50-95): 100%|██████████| 13/13 [00:01<00:00,  6.97it/s]"
          ]
        },
        {
          "output_type": "stream",
          "name": "stdout",
          "text": [
            "                   all        200      13611      0.989      0.971      0.982      0.943\n"
          ]
        },
        {
          "output_type": "stream",
          "name": "stderr",
          "text": [
            "\n"
          ]
        },
        {
          "output_type": "stream",
          "name": "stdout",
          "text": [
            "\n",
            "      Epoch    GPU_mem   box_loss   cls_loss   dfl_loss  Instances       Size\n"
          ]
        },
        {
          "output_type": "stream",
          "name": "stderr",
          "text": [
            "      49/50      5.29G     0.3396     0.2698     0.8159        264        640: 100%|██████████| 88/88 [00:09<00:00,  9.17it/s]\n",
            "                 Class     Images  Instances      Box(P          R      mAP50  mAP50-95): 100%|██████████| 13/13 [00:01<00:00,  6.91it/s]"
          ]
        },
        {
          "output_type": "stream",
          "name": "stdout",
          "text": [
            "                   all        200      13611      0.991      0.971      0.982      0.944\n"
          ]
        },
        {
          "output_type": "stream",
          "name": "stderr",
          "text": [
            "\n"
          ]
        },
        {
          "output_type": "stream",
          "name": "stdout",
          "text": [
            "\n",
            "      Epoch    GPU_mem   box_loss   cls_loss   dfl_loss  Instances       Size\n"
          ]
        },
        {
          "output_type": "stream",
          "name": "stderr",
          "text": [
            "      50/50       5.3G     0.3356     0.2671      0.814        229        640: 100%|██████████| 88/88 [00:09<00:00,  9.19it/s]\n",
            "                 Class     Images  Instances      Box(P          R      mAP50  mAP50-95): 100%|██████████| 13/13 [00:01<00:00,  6.99it/s]"
          ]
        },
        {
          "output_type": "stream",
          "name": "stdout",
          "text": [
            "                   all        200      13611       0.99      0.971      0.982      0.944\n"
          ]
        },
        {
          "output_type": "stream",
          "name": "stderr",
          "text": [
            "\n"
          ]
        },
        {
          "output_type": "stream",
          "name": "stdout",
          "text": [
            "\n",
            "50 epochs completed in 0.182 hours.\n",
            "Optimizer stripped from runs/detect/defect-detection/weights/last.pt, 5.5MB\n",
            "Optimizer stripped from runs/detect/defect-detection/weights/best.pt, 5.5MB\n",
            "\n",
            "Validating runs/detect/defect-detection/weights/best.pt...\n",
            "Ultralytics 8.3.185 🚀 Python-3.12.11 torch-2.8.0+cu126 CUDA:0 (Tesla T4, 15095MiB)\n",
            "YOLO11n summary (fused): 100 layers, 2,582,542 parameters, 0 gradients, 6.3 GFLOPs\n"
          ]
        },
        {
          "output_type": "stream",
          "name": "stderr",
          "text": [
            "                 Class     Images  Instances      Box(P          R      mAP50  mAP50-95):  15%|█▌        | 2/13 [00:00<00:01,  5.69it/s]"
          ]
        },
        {
          "output_type": "stream",
          "name": "stdout",
          "text": [
            "WARNING ⚠️ NMS time limit 2.800s exceeded\n"
          ]
        },
        {
          "output_type": "stream",
          "name": "stderr",
          "text": [
            "                 Class     Images  Instances      Box(P          R      mAP50  mAP50-95): 100%|██████████| 13/13 [00:12<00:00,  1.04it/s]\n"
          ]
        },
        {
          "output_type": "stream",
          "name": "stdout",
          "text": [
            "                   all        200      13611       0.99      0.938      0.955      0.917\n",
            "        ycb_011_banana        200       6999      0.982      0.931      0.949      0.896\n",
            "         ycb_013_apple        200       6612      0.998      0.944      0.961      0.938\n",
            "Speed: 0.2ms preprocess, 3.2ms inference, 0.0ms loss, 33.5ms postprocess per image\n",
            "Results saved to \u001b[1mruns/detect/defect-detection\u001b[0m\n"
          ]
        },
        {
          "output_type": "execute_result",
          "data": {
            "text/plain": [
              "ultralytics.utils.metrics.DetMetrics object with attributes:\n",
              "\n",
              "ap_class_index: array([0, 1])\n",
              "box: ultralytics.utils.metrics.Metric object\n",
              "confusion_matrix: <ultralytics.utils.metrics.ConfusionMatrix object at 0x7d9e73934620>\n",
              "curves: ['Precision-Recall(B)', 'F1-Confidence(B)', 'Precision-Confidence(B)', 'Recall-Confidence(B)']\n",
              "curves_results: [[array([          0,    0.001001,    0.002002,    0.003003,    0.004004,    0.005005,    0.006006,    0.007007,    0.008008,    0.009009,     0.01001,    0.011011,    0.012012,    0.013013,    0.014014,    0.015015,    0.016016,    0.017017,    0.018018,    0.019019,     0.02002,    0.021021,    0.022022,    0.023023,\n",
              "          0.024024,    0.025025,    0.026026,    0.027027,    0.028028,    0.029029,     0.03003,    0.031031,    0.032032,    0.033033,    0.034034,    0.035035,    0.036036,    0.037037,    0.038038,    0.039039,     0.04004,    0.041041,    0.042042,    0.043043,    0.044044,    0.045045,    0.046046,    0.047047,\n",
              "          0.048048,    0.049049,     0.05005,    0.051051,    0.052052,    0.053053,    0.054054,    0.055055,    0.056056,    0.057057,    0.058058,    0.059059,     0.06006,    0.061061,    0.062062,    0.063063,    0.064064,    0.065065,    0.066066,    0.067067,    0.068068,    0.069069,     0.07007,    0.071071,\n",
              "          0.072072,    0.073073,    0.074074,    0.075075,    0.076076,    0.077077,    0.078078,    0.079079,     0.08008,    0.081081,    0.082082,    0.083083,    0.084084,    0.085085,    0.086086,    0.087087,    0.088088,    0.089089,     0.09009,    0.091091,    0.092092,    0.093093,    0.094094,    0.095095,\n",
              "          0.096096,    0.097097,    0.098098,    0.099099,      0.1001,      0.1011,      0.1021,      0.1031,      0.1041,     0.10511,     0.10611,     0.10711,     0.10811,     0.10911,     0.11011,     0.11111,     0.11211,     0.11311,     0.11411,     0.11512,     0.11612,     0.11712,     0.11812,     0.11912,\n",
              "           0.12012,     0.12112,     0.12212,     0.12312,     0.12412,     0.12513,     0.12613,     0.12713,     0.12813,     0.12913,     0.13013,     0.13113,     0.13213,     0.13313,     0.13413,     0.13514,     0.13614,     0.13714,     0.13814,     0.13914,     0.14014,     0.14114,     0.14214,     0.14314,\n",
              "           0.14414,     0.14515,     0.14615,     0.14715,     0.14815,     0.14915,     0.15015,     0.15115,     0.15215,     0.15315,     0.15415,     0.15516,     0.15616,     0.15716,     0.15816,     0.15916,     0.16016,     0.16116,     0.16216,     0.16316,     0.16416,     0.16517,     0.16617,     0.16717,\n",
              "           0.16817,     0.16917,     0.17017,     0.17117,     0.17217,     0.17317,     0.17417,     0.17518,     0.17618,     0.17718,     0.17818,     0.17918,     0.18018,     0.18118,     0.18218,     0.18318,     0.18418,     0.18519,     0.18619,     0.18719,     0.18819,     0.18919,     0.19019,     0.19119,\n",
              "           0.19219,     0.19319,     0.19419,      0.1952,      0.1962,      0.1972,      0.1982,      0.1992,      0.2002,      0.2012,      0.2022,      0.2032,      0.2042,     0.20521,     0.20621,     0.20721,     0.20821,     0.20921,     0.21021,     0.21121,     0.21221,     0.21321,     0.21421,     0.21522,\n",
              "           0.21622,     0.21722,     0.21822,     0.21922,     0.22022,     0.22122,     0.22222,     0.22322,     0.22422,     0.22523,     0.22623,     0.22723,     0.22823,     0.22923,     0.23023,     0.23123,     0.23223,     0.23323,     0.23423,     0.23524,     0.23624,     0.23724,     0.23824,     0.23924,\n",
              "           0.24024,     0.24124,     0.24224,     0.24324,     0.24424,     0.24525,     0.24625,     0.24725,     0.24825,     0.24925,     0.25025,     0.25125,     0.25225,     0.25325,     0.25425,     0.25526,     0.25626,     0.25726,     0.25826,     0.25926,     0.26026,     0.26126,     0.26226,     0.26326,\n",
              "           0.26426,     0.26527,     0.26627,     0.26727,     0.26827,     0.26927,     0.27027,     0.27127,     0.27227,     0.27327,     0.27427,     0.27528,     0.27628,     0.27728,     0.27828,     0.27928,     0.28028,     0.28128,     0.28228,     0.28328,     0.28428,     0.28529,     0.28629,     0.28729,\n",
              "           0.28829,     0.28929,     0.29029,     0.29129,     0.29229,     0.29329,     0.29429,      0.2953,      0.2963,      0.2973,      0.2983,      0.2993,      0.3003,      0.3013,      0.3023,      0.3033,      0.3043,     0.30531,     0.30631,     0.30731,     0.30831,     0.30931,     0.31031,     0.31131,\n",
              "           0.31231,     0.31331,     0.31431,     0.31532,     0.31632,     0.31732,     0.31832,     0.31932,     0.32032,     0.32132,     0.32232,     0.32332,     0.32432,     0.32533,     0.32633,     0.32733,     0.32833,     0.32933,     0.33033,     0.33133,     0.33233,     0.33333,     0.33433,     0.33534,\n",
              "           0.33634,     0.33734,     0.33834,     0.33934,     0.34034,     0.34134,     0.34234,     0.34334,     0.34434,     0.34535,     0.34635,     0.34735,     0.34835,     0.34935,     0.35035,     0.35135,     0.35235,     0.35335,     0.35435,     0.35536,     0.35636,     0.35736,     0.35836,     0.35936,\n",
              "           0.36036,     0.36136,     0.36236,     0.36336,     0.36436,     0.36537,     0.36637,     0.36737,     0.36837,     0.36937,     0.37037,     0.37137,     0.37237,     0.37337,     0.37437,     0.37538,     0.37638,     0.37738,     0.37838,     0.37938,     0.38038,     0.38138,     0.38238,     0.38338,\n",
              "           0.38438,     0.38539,     0.38639,     0.38739,     0.38839,     0.38939,     0.39039,     0.39139,     0.39239,     0.39339,     0.39439,      0.3954,      0.3964,      0.3974,      0.3984,      0.3994,      0.4004,      0.4014,      0.4024,      0.4034,      0.4044,     0.40541,     0.40641,     0.40741,\n",
              "           0.40841,     0.40941,     0.41041,     0.41141,     0.41241,     0.41341,     0.41441,     0.41542,     0.41642,     0.41742,     0.41842,     0.41942,     0.42042,     0.42142,     0.42242,     0.42342,     0.42442,     0.42543,     0.42643,     0.42743,     0.42843,     0.42943,     0.43043,     0.43143,\n",
              "           0.43243,     0.43343,     0.43443,     0.43544,     0.43644,     0.43744,     0.43844,     0.43944,     0.44044,     0.44144,     0.44244,     0.44344,     0.44444,     0.44545,     0.44645,     0.44745,     0.44845,     0.44945,     0.45045,     0.45145,     0.45245,     0.45345,     0.45445,     0.45546,\n",
              "           0.45646,     0.45746,     0.45846,     0.45946,     0.46046,     0.46146,     0.46246,     0.46346,     0.46446,     0.46547,     0.46647,     0.46747,     0.46847,     0.46947,     0.47047,     0.47147,     0.47247,     0.47347,     0.47447,     0.47548,     0.47648,     0.47748,     0.47848,     0.47948,\n",
              "           0.48048,     0.48148,     0.48248,     0.48348,     0.48448,     0.48549,     0.48649,     0.48749,     0.48849,     0.48949,     0.49049,     0.49149,     0.49249,     0.49349,     0.49449,      0.4955,      0.4965,      0.4975,      0.4985,      0.4995,      0.5005,      0.5015,      0.5025,      0.5035,\n",
              "            0.5045,     0.50551,     0.50651,     0.50751,     0.50851,     0.50951,     0.51051,     0.51151,     0.51251,     0.51351,     0.51451,     0.51552,     0.51652,     0.51752,     0.51852,     0.51952,     0.52052,     0.52152,     0.52252,     0.52352,     0.52452,     0.52553,     0.52653,     0.52753,\n",
              "           0.52853,     0.52953,     0.53053,     0.53153,     0.53253,     0.53353,     0.53453,     0.53554,     0.53654,     0.53754,     0.53854,     0.53954,     0.54054,     0.54154,     0.54254,     0.54354,     0.54454,     0.54555,     0.54655,     0.54755,     0.54855,     0.54955,     0.55055,     0.55155,\n",
              "           0.55255,     0.55355,     0.55455,     0.55556,     0.55656,     0.55756,     0.55856,     0.55956,     0.56056,     0.56156,     0.56256,     0.56356,     0.56456,     0.56557,     0.56657,     0.56757,     0.56857,     0.56957,     0.57057,     0.57157,     0.57257,     0.57357,     0.57457,     0.57558,\n",
              "           0.57658,     0.57758,     0.57858,     0.57958,     0.58058,     0.58158,     0.58258,     0.58358,     0.58458,     0.58559,     0.58659,     0.58759,     0.58859,     0.58959,     0.59059,     0.59159,     0.59259,     0.59359,     0.59459,      0.5956,      0.5966,      0.5976,      0.5986,      0.5996,\n",
              "            0.6006,      0.6016,      0.6026,      0.6036,      0.6046,     0.60561,     0.60661,     0.60761,     0.60861,     0.60961,     0.61061,     0.61161,     0.61261,     0.61361,     0.61461,     0.61562,     0.61662,     0.61762,     0.61862,     0.61962,     0.62062,     0.62162,     0.62262,     0.62362,\n",
              "           0.62462,     0.62563,     0.62663,     0.62763,     0.62863,     0.62963,     0.63063,     0.63163,     0.63263,     0.63363,     0.63463,     0.63564,     0.63664,     0.63764,     0.63864,     0.63964,     0.64064,     0.64164,     0.64264,     0.64364,     0.64464,     0.64565,     0.64665,     0.64765,\n",
              "           0.64865,     0.64965,     0.65065,     0.65165,     0.65265,     0.65365,     0.65465,     0.65566,     0.65666,     0.65766,     0.65866,     0.65966,     0.66066,     0.66166,     0.66266,     0.66366,     0.66466,     0.66567,     0.66667,     0.66767,     0.66867,     0.66967,     0.67067,     0.67167,\n",
              "           0.67267,     0.67367,     0.67467,     0.67568,     0.67668,     0.67768,     0.67868,     0.67968,     0.68068,     0.68168,     0.68268,     0.68368,     0.68468,     0.68569,     0.68669,     0.68769,     0.68869,     0.68969,     0.69069,     0.69169,     0.69269,     0.69369,     0.69469,      0.6957,\n",
              "            0.6967,      0.6977,      0.6987,      0.6997,      0.7007,      0.7017,      0.7027,      0.7037,      0.7047,     0.70571,     0.70671,     0.70771,     0.70871,     0.70971,     0.71071,     0.71171,     0.71271,     0.71371,     0.71471,     0.71572,     0.71672,     0.71772,     0.71872,     0.71972,\n",
              "           0.72072,     0.72172,     0.72272,     0.72372,     0.72472,     0.72573,     0.72673,     0.72773,     0.72873,     0.72973,     0.73073,     0.73173,     0.73273,     0.73373,     0.73473,     0.73574,     0.73674,     0.73774,     0.73874,     0.73974,     0.74074,     0.74174,     0.74274,     0.74374,\n",
              "           0.74474,     0.74575,     0.74675,     0.74775,     0.74875,     0.74975,     0.75075,     0.75175,     0.75275,     0.75375,     0.75475,     0.75576,     0.75676,     0.75776,     0.75876,     0.75976,     0.76076,     0.76176,     0.76276,     0.76376,     0.76476,     0.76577,     0.76677,     0.76777,\n",
              "           0.76877,     0.76977,     0.77077,     0.77177,     0.77277,     0.77377,     0.77477,     0.77578,     0.77678,     0.77778,     0.77878,     0.77978,     0.78078,     0.78178,     0.78278,     0.78378,     0.78478,     0.78579,     0.78679,     0.78779,     0.78879,     0.78979,     0.79079,     0.79179,\n",
              "           0.79279,     0.79379,     0.79479,      0.7958,      0.7968,      0.7978,      0.7988,      0.7998,      0.8008,      0.8018,      0.8028,      0.8038,      0.8048,     0.80581,     0.80681,     0.80781,     0.80881,     0.80981,     0.81081,     0.81181,     0.81281,     0.81381,     0.81481,     0.81582,\n",
              "           0.81682,     0.81782,     0.81882,     0.81982,     0.82082,     0.82182,     0.82282,     0.82382,     0.82482,     0.82583,     0.82683,     0.82783,     0.82883,     0.82983,     0.83083,     0.83183,     0.83283,     0.83383,     0.83483,     0.83584,     0.83684,     0.83784,     0.83884,     0.83984,\n",
              "           0.84084,     0.84184,     0.84284,     0.84384,     0.84484,     0.84585,     0.84685,     0.84785,     0.84885,     0.84985,     0.85085,     0.85185,     0.85285,     0.85385,     0.85485,     0.85586,     0.85686,     0.85786,     0.85886,     0.85986,     0.86086,     0.86186,     0.86286,     0.86386,\n",
              "           0.86486,     0.86587,     0.86687,     0.86787,     0.86887,     0.86987,     0.87087,     0.87187,     0.87287,     0.87387,     0.87487,     0.87588,     0.87688,     0.87788,     0.87888,     0.87988,     0.88088,     0.88188,     0.88288,     0.88388,     0.88488,     0.88589,     0.88689,     0.88789,\n",
              "           0.88889,     0.88989,     0.89089,     0.89189,     0.89289,     0.89389,     0.89489,      0.8959,      0.8969,      0.8979,      0.8989,      0.8999,      0.9009,      0.9019,      0.9029,      0.9039,      0.9049,     0.90591,     0.90691,     0.90791,     0.90891,     0.90991,     0.91091,     0.91191,\n",
              "           0.91291,     0.91391,     0.91491,     0.91592,     0.91692,     0.91792,     0.91892,     0.91992,     0.92092,     0.92192,     0.92292,     0.92392,     0.92492,     0.92593,     0.92693,     0.92793,     0.92893,     0.92993,     0.93093,     0.93193,     0.93293,     0.93393,     0.93493,     0.93594,\n",
              "           0.93694,     0.93794,     0.93894,     0.93994,     0.94094,     0.94194,     0.94294,     0.94394,     0.94494,     0.94595,     0.94695,     0.94795,     0.94895,     0.94995,     0.95095,     0.95195,     0.95295,     0.95395,     0.95495,     0.95596,     0.95696,     0.95796,     0.95896,     0.95996,\n",
              "           0.96096,     0.96196,     0.96296,     0.96396,     0.96496,     0.96597,     0.96697,     0.96797,     0.96897,     0.96997,     0.97097,     0.97197,     0.97297,     0.97397,     0.97497,     0.97598,     0.97698,     0.97798,     0.97898,     0.97998,     0.98098,     0.98198,     0.98298,     0.98398,\n",
              "           0.98498,     0.98599,     0.98699,     0.98799,     0.98899,     0.98999,     0.99099,     0.99199,     0.99299,     0.99399,     0.99499,       0.996,       0.997,       0.998,       0.999,           1]), array([[          1,           1,           1, ...,   0.0071557,   0.0035779,           0],\n",
              "       [          1,           1,           1, ...,    0.011765,   0.0058826,           0]]), 'Recall', 'Precision'], [array([          0,    0.001001,    0.002002,    0.003003,    0.004004,    0.005005,    0.006006,    0.007007,    0.008008,    0.009009,     0.01001,    0.011011,    0.012012,    0.013013,    0.014014,    0.015015,    0.016016,    0.017017,    0.018018,    0.019019,     0.02002,    0.021021,    0.022022,    0.023023,\n",
              "          0.024024,    0.025025,    0.026026,    0.027027,    0.028028,    0.029029,     0.03003,    0.031031,    0.032032,    0.033033,    0.034034,    0.035035,    0.036036,    0.037037,    0.038038,    0.039039,     0.04004,    0.041041,    0.042042,    0.043043,    0.044044,    0.045045,    0.046046,    0.047047,\n",
              "          0.048048,    0.049049,     0.05005,    0.051051,    0.052052,    0.053053,    0.054054,    0.055055,    0.056056,    0.057057,    0.058058,    0.059059,     0.06006,    0.061061,    0.062062,    0.063063,    0.064064,    0.065065,    0.066066,    0.067067,    0.068068,    0.069069,     0.07007,    0.071071,\n",
              "          0.072072,    0.073073,    0.074074,    0.075075,    0.076076,    0.077077,    0.078078,    0.079079,     0.08008,    0.081081,    0.082082,    0.083083,    0.084084,    0.085085,    0.086086,    0.087087,    0.088088,    0.089089,     0.09009,    0.091091,    0.092092,    0.093093,    0.094094,    0.095095,\n",
              "          0.096096,    0.097097,    0.098098,    0.099099,      0.1001,      0.1011,      0.1021,      0.1031,      0.1041,     0.10511,     0.10611,     0.10711,     0.10811,     0.10911,     0.11011,     0.11111,     0.11211,     0.11311,     0.11411,     0.11512,     0.11612,     0.11712,     0.11812,     0.11912,\n",
              "           0.12012,     0.12112,     0.12212,     0.12312,     0.12412,     0.12513,     0.12613,     0.12713,     0.12813,     0.12913,     0.13013,     0.13113,     0.13213,     0.13313,     0.13413,     0.13514,     0.13614,     0.13714,     0.13814,     0.13914,     0.14014,     0.14114,     0.14214,     0.14314,\n",
              "           0.14414,     0.14515,     0.14615,     0.14715,     0.14815,     0.14915,     0.15015,     0.15115,     0.15215,     0.15315,     0.15415,     0.15516,     0.15616,     0.15716,     0.15816,     0.15916,     0.16016,     0.16116,     0.16216,     0.16316,     0.16416,     0.16517,     0.16617,     0.16717,\n",
              "           0.16817,     0.16917,     0.17017,     0.17117,     0.17217,     0.17317,     0.17417,     0.17518,     0.17618,     0.17718,     0.17818,     0.17918,     0.18018,     0.18118,     0.18218,     0.18318,     0.18418,     0.18519,     0.18619,     0.18719,     0.18819,     0.18919,     0.19019,     0.19119,\n",
              "           0.19219,     0.19319,     0.19419,      0.1952,      0.1962,      0.1972,      0.1982,      0.1992,      0.2002,      0.2012,      0.2022,      0.2032,      0.2042,     0.20521,     0.20621,     0.20721,     0.20821,     0.20921,     0.21021,     0.21121,     0.21221,     0.21321,     0.21421,     0.21522,\n",
              "           0.21622,     0.21722,     0.21822,     0.21922,     0.22022,     0.22122,     0.22222,     0.22322,     0.22422,     0.22523,     0.22623,     0.22723,     0.22823,     0.22923,     0.23023,     0.23123,     0.23223,     0.23323,     0.23423,     0.23524,     0.23624,     0.23724,     0.23824,     0.23924,\n",
              "           0.24024,     0.24124,     0.24224,     0.24324,     0.24424,     0.24525,     0.24625,     0.24725,     0.24825,     0.24925,     0.25025,     0.25125,     0.25225,     0.25325,     0.25425,     0.25526,     0.25626,     0.25726,     0.25826,     0.25926,     0.26026,     0.26126,     0.26226,     0.26326,\n",
              "           0.26426,     0.26527,     0.26627,     0.26727,     0.26827,     0.26927,     0.27027,     0.27127,     0.27227,     0.27327,     0.27427,     0.27528,     0.27628,     0.27728,     0.27828,     0.27928,     0.28028,     0.28128,     0.28228,     0.28328,     0.28428,     0.28529,     0.28629,     0.28729,\n",
              "           0.28829,     0.28929,     0.29029,     0.29129,     0.29229,     0.29329,     0.29429,      0.2953,      0.2963,      0.2973,      0.2983,      0.2993,      0.3003,      0.3013,      0.3023,      0.3033,      0.3043,     0.30531,     0.30631,     0.30731,     0.30831,     0.30931,     0.31031,     0.31131,\n",
              "           0.31231,     0.31331,     0.31431,     0.31532,     0.31632,     0.31732,     0.31832,     0.31932,     0.32032,     0.32132,     0.32232,     0.32332,     0.32432,     0.32533,     0.32633,     0.32733,     0.32833,     0.32933,     0.33033,     0.33133,     0.33233,     0.33333,     0.33433,     0.33534,\n",
              "           0.33634,     0.33734,     0.33834,     0.33934,     0.34034,     0.34134,     0.34234,     0.34334,     0.34434,     0.34535,     0.34635,     0.34735,     0.34835,     0.34935,     0.35035,     0.35135,     0.35235,     0.35335,     0.35435,     0.35536,     0.35636,     0.35736,     0.35836,     0.35936,\n",
              "           0.36036,     0.36136,     0.36236,     0.36336,     0.36436,     0.36537,     0.36637,     0.36737,     0.36837,     0.36937,     0.37037,     0.37137,     0.37237,     0.37337,     0.37437,     0.37538,     0.37638,     0.37738,     0.37838,     0.37938,     0.38038,     0.38138,     0.38238,     0.38338,\n",
              "           0.38438,     0.38539,     0.38639,     0.38739,     0.38839,     0.38939,     0.39039,     0.39139,     0.39239,     0.39339,     0.39439,      0.3954,      0.3964,      0.3974,      0.3984,      0.3994,      0.4004,      0.4014,      0.4024,      0.4034,      0.4044,     0.40541,     0.40641,     0.40741,\n",
              "           0.40841,     0.40941,     0.41041,     0.41141,     0.41241,     0.41341,     0.41441,     0.41542,     0.41642,     0.41742,     0.41842,     0.41942,     0.42042,     0.42142,     0.42242,     0.42342,     0.42442,     0.42543,     0.42643,     0.42743,     0.42843,     0.42943,     0.43043,     0.43143,\n",
              "           0.43243,     0.43343,     0.43443,     0.43544,     0.43644,     0.43744,     0.43844,     0.43944,     0.44044,     0.44144,     0.44244,     0.44344,     0.44444,     0.44545,     0.44645,     0.44745,     0.44845,     0.44945,     0.45045,     0.45145,     0.45245,     0.45345,     0.45445,     0.45546,\n",
              "           0.45646,     0.45746,     0.45846,     0.45946,     0.46046,     0.46146,     0.46246,     0.46346,     0.46446,     0.46547,     0.46647,     0.46747,     0.46847,     0.46947,     0.47047,     0.47147,     0.47247,     0.47347,     0.47447,     0.47548,     0.47648,     0.47748,     0.47848,     0.47948,\n",
              "           0.48048,     0.48148,     0.48248,     0.48348,     0.48448,     0.48549,     0.48649,     0.48749,     0.48849,     0.48949,     0.49049,     0.49149,     0.49249,     0.49349,     0.49449,      0.4955,      0.4965,      0.4975,      0.4985,      0.4995,      0.5005,      0.5015,      0.5025,      0.5035,\n",
              "            0.5045,     0.50551,     0.50651,     0.50751,     0.50851,     0.50951,     0.51051,     0.51151,     0.51251,     0.51351,     0.51451,     0.51552,     0.51652,     0.51752,     0.51852,     0.51952,     0.52052,     0.52152,     0.52252,     0.52352,     0.52452,     0.52553,     0.52653,     0.52753,\n",
              "           0.52853,     0.52953,     0.53053,     0.53153,     0.53253,     0.53353,     0.53453,     0.53554,     0.53654,     0.53754,     0.53854,     0.53954,     0.54054,     0.54154,     0.54254,     0.54354,     0.54454,     0.54555,     0.54655,     0.54755,     0.54855,     0.54955,     0.55055,     0.55155,\n",
              "           0.55255,     0.55355,     0.55455,     0.55556,     0.55656,     0.55756,     0.55856,     0.55956,     0.56056,     0.56156,     0.56256,     0.56356,     0.56456,     0.56557,     0.56657,     0.56757,     0.56857,     0.56957,     0.57057,     0.57157,     0.57257,     0.57357,     0.57457,     0.57558,\n",
              "           0.57658,     0.57758,     0.57858,     0.57958,     0.58058,     0.58158,     0.58258,     0.58358,     0.58458,     0.58559,     0.58659,     0.58759,     0.58859,     0.58959,     0.59059,     0.59159,     0.59259,     0.59359,     0.59459,      0.5956,      0.5966,      0.5976,      0.5986,      0.5996,\n",
              "            0.6006,      0.6016,      0.6026,      0.6036,      0.6046,     0.60561,     0.60661,     0.60761,     0.60861,     0.60961,     0.61061,     0.61161,     0.61261,     0.61361,     0.61461,     0.61562,     0.61662,     0.61762,     0.61862,     0.61962,     0.62062,     0.62162,     0.62262,     0.62362,\n",
              "           0.62462,     0.62563,     0.62663,     0.62763,     0.62863,     0.62963,     0.63063,     0.63163,     0.63263,     0.63363,     0.63463,     0.63564,     0.63664,     0.63764,     0.63864,     0.63964,     0.64064,     0.64164,     0.64264,     0.64364,     0.64464,     0.64565,     0.64665,     0.64765,\n",
              "           0.64865,     0.64965,     0.65065,     0.65165,     0.65265,     0.65365,     0.65465,     0.65566,     0.65666,     0.65766,     0.65866,     0.65966,     0.66066,     0.66166,     0.66266,     0.66366,     0.66466,     0.66567,     0.66667,     0.66767,     0.66867,     0.66967,     0.67067,     0.67167,\n",
              "           0.67267,     0.67367,     0.67467,     0.67568,     0.67668,     0.67768,     0.67868,     0.67968,     0.68068,     0.68168,     0.68268,     0.68368,     0.68468,     0.68569,     0.68669,     0.68769,     0.68869,     0.68969,     0.69069,     0.69169,     0.69269,     0.69369,     0.69469,      0.6957,\n",
              "            0.6967,      0.6977,      0.6987,      0.6997,      0.7007,      0.7017,      0.7027,      0.7037,      0.7047,     0.70571,     0.70671,     0.70771,     0.70871,     0.70971,     0.71071,     0.71171,     0.71271,     0.71371,     0.71471,     0.71572,     0.71672,     0.71772,     0.71872,     0.71972,\n",
              "           0.72072,     0.72172,     0.72272,     0.72372,     0.72472,     0.72573,     0.72673,     0.72773,     0.72873,     0.72973,     0.73073,     0.73173,     0.73273,     0.73373,     0.73473,     0.73574,     0.73674,     0.73774,     0.73874,     0.73974,     0.74074,     0.74174,     0.74274,     0.74374,\n",
              "           0.74474,     0.74575,     0.74675,     0.74775,     0.74875,     0.74975,     0.75075,     0.75175,     0.75275,     0.75375,     0.75475,     0.75576,     0.75676,     0.75776,     0.75876,     0.75976,     0.76076,     0.76176,     0.76276,     0.76376,     0.76476,     0.76577,     0.76677,     0.76777,\n",
              "           0.76877,     0.76977,     0.77077,     0.77177,     0.77277,     0.77377,     0.77477,     0.77578,     0.77678,     0.77778,     0.77878,     0.77978,     0.78078,     0.78178,     0.78278,     0.78378,     0.78478,     0.78579,     0.78679,     0.78779,     0.78879,     0.78979,     0.79079,     0.79179,\n",
              "           0.79279,     0.79379,     0.79479,      0.7958,      0.7968,      0.7978,      0.7988,      0.7998,      0.8008,      0.8018,      0.8028,      0.8038,      0.8048,     0.80581,     0.80681,     0.80781,     0.80881,     0.80981,     0.81081,     0.81181,     0.81281,     0.81381,     0.81481,     0.81582,\n",
              "           0.81682,     0.81782,     0.81882,     0.81982,     0.82082,     0.82182,     0.82282,     0.82382,     0.82482,     0.82583,     0.82683,     0.82783,     0.82883,     0.82983,     0.83083,     0.83183,     0.83283,     0.83383,     0.83483,     0.83584,     0.83684,     0.83784,     0.83884,     0.83984,\n",
              "           0.84084,     0.84184,     0.84284,     0.84384,     0.84484,     0.84585,     0.84685,     0.84785,     0.84885,     0.84985,     0.85085,     0.85185,     0.85285,     0.85385,     0.85485,     0.85586,     0.85686,     0.85786,     0.85886,     0.85986,     0.86086,     0.86186,     0.86286,     0.86386,\n",
              "           0.86486,     0.86587,     0.86687,     0.86787,     0.86887,     0.86987,     0.87087,     0.87187,     0.87287,     0.87387,     0.87487,     0.87588,     0.87688,     0.87788,     0.87888,     0.87988,     0.88088,     0.88188,     0.88288,     0.88388,     0.88488,     0.88589,     0.88689,     0.88789,\n",
              "           0.88889,     0.88989,     0.89089,     0.89189,     0.89289,     0.89389,     0.89489,      0.8959,      0.8969,      0.8979,      0.8989,      0.8999,      0.9009,      0.9019,      0.9029,      0.9039,      0.9049,     0.90591,     0.90691,     0.90791,     0.90891,     0.90991,     0.91091,     0.91191,\n",
              "           0.91291,     0.91391,     0.91491,     0.91592,     0.91692,     0.91792,     0.91892,     0.91992,     0.92092,     0.92192,     0.92292,     0.92392,     0.92492,     0.92593,     0.92693,     0.92793,     0.92893,     0.92993,     0.93093,     0.93193,     0.93293,     0.93393,     0.93493,     0.93594,\n",
              "           0.93694,     0.93794,     0.93894,     0.93994,     0.94094,     0.94194,     0.94294,     0.94394,     0.94494,     0.94595,     0.94695,     0.94795,     0.94895,     0.94995,     0.95095,     0.95195,     0.95295,     0.95395,     0.95495,     0.95596,     0.95696,     0.95796,     0.95896,     0.95996,\n",
              "           0.96096,     0.96196,     0.96296,     0.96396,     0.96496,     0.96597,     0.96697,     0.96797,     0.96897,     0.96997,     0.97097,     0.97197,     0.97297,     0.97397,     0.97497,     0.97598,     0.97698,     0.97798,     0.97898,     0.97998,     0.98098,     0.98198,     0.98298,     0.98398,\n",
              "           0.98498,     0.98599,     0.98699,     0.98799,     0.98899,     0.98999,     0.99099,     0.99199,     0.99299,     0.99399,     0.99499,       0.996,       0.997,       0.998,       0.999,           1]), array([[    0.31435,     0.31435,     0.49717, ...,           0,           0,           0],\n",
              "       [    0.43377,     0.43377,     0.62382, ...,           0,           0,           0]]), 'Confidence', 'F1'], [array([          0,    0.001001,    0.002002,    0.003003,    0.004004,    0.005005,    0.006006,    0.007007,    0.008008,    0.009009,     0.01001,    0.011011,    0.012012,    0.013013,    0.014014,    0.015015,    0.016016,    0.017017,    0.018018,    0.019019,     0.02002,    0.021021,    0.022022,    0.023023,\n",
              "          0.024024,    0.025025,    0.026026,    0.027027,    0.028028,    0.029029,     0.03003,    0.031031,    0.032032,    0.033033,    0.034034,    0.035035,    0.036036,    0.037037,    0.038038,    0.039039,     0.04004,    0.041041,    0.042042,    0.043043,    0.044044,    0.045045,    0.046046,    0.047047,\n",
              "          0.048048,    0.049049,     0.05005,    0.051051,    0.052052,    0.053053,    0.054054,    0.055055,    0.056056,    0.057057,    0.058058,    0.059059,     0.06006,    0.061061,    0.062062,    0.063063,    0.064064,    0.065065,    0.066066,    0.067067,    0.068068,    0.069069,     0.07007,    0.071071,\n",
              "          0.072072,    0.073073,    0.074074,    0.075075,    0.076076,    0.077077,    0.078078,    0.079079,     0.08008,    0.081081,    0.082082,    0.083083,    0.084084,    0.085085,    0.086086,    0.087087,    0.088088,    0.089089,     0.09009,    0.091091,    0.092092,    0.093093,    0.094094,    0.095095,\n",
              "          0.096096,    0.097097,    0.098098,    0.099099,      0.1001,      0.1011,      0.1021,      0.1031,      0.1041,     0.10511,     0.10611,     0.10711,     0.10811,     0.10911,     0.11011,     0.11111,     0.11211,     0.11311,     0.11411,     0.11512,     0.11612,     0.11712,     0.11812,     0.11912,\n",
              "           0.12012,     0.12112,     0.12212,     0.12312,     0.12412,     0.12513,     0.12613,     0.12713,     0.12813,     0.12913,     0.13013,     0.13113,     0.13213,     0.13313,     0.13413,     0.13514,     0.13614,     0.13714,     0.13814,     0.13914,     0.14014,     0.14114,     0.14214,     0.14314,\n",
              "           0.14414,     0.14515,     0.14615,     0.14715,     0.14815,     0.14915,     0.15015,     0.15115,     0.15215,     0.15315,     0.15415,     0.15516,     0.15616,     0.15716,     0.15816,     0.15916,     0.16016,     0.16116,     0.16216,     0.16316,     0.16416,     0.16517,     0.16617,     0.16717,\n",
              "           0.16817,     0.16917,     0.17017,     0.17117,     0.17217,     0.17317,     0.17417,     0.17518,     0.17618,     0.17718,     0.17818,     0.17918,     0.18018,     0.18118,     0.18218,     0.18318,     0.18418,     0.18519,     0.18619,     0.18719,     0.18819,     0.18919,     0.19019,     0.19119,\n",
              "           0.19219,     0.19319,     0.19419,      0.1952,      0.1962,      0.1972,      0.1982,      0.1992,      0.2002,      0.2012,      0.2022,      0.2032,      0.2042,     0.20521,     0.20621,     0.20721,     0.20821,     0.20921,     0.21021,     0.21121,     0.21221,     0.21321,     0.21421,     0.21522,\n",
              "           0.21622,     0.21722,     0.21822,     0.21922,     0.22022,     0.22122,     0.22222,     0.22322,     0.22422,     0.22523,     0.22623,     0.22723,     0.22823,     0.22923,     0.23023,     0.23123,     0.23223,     0.23323,     0.23423,     0.23524,     0.23624,     0.23724,     0.23824,     0.23924,\n",
              "           0.24024,     0.24124,     0.24224,     0.24324,     0.24424,     0.24525,     0.24625,     0.24725,     0.24825,     0.24925,     0.25025,     0.25125,     0.25225,     0.25325,     0.25425,     0.25526,     0.25626,     0.25726,     0.25826,     0.25926,     0.26026,     0.26126,     0.26226,     0.26326,\n",
              "           0.26426,     0.26527,     0.26627,     0.26727,     0.26827,     0.26927,     0.27027,     0.27127,     0.27227,     0.27327,     0.27427,     0.27528,     0.27628,     0.27728,     0.27828,     0.27928,     0.28028,     0.28128,     0.28228,     0.28328,     0.28428,     0.28529,     0.28629,     0.28729,\n",
              "           0.28829,     0.28929,     0.29029,     0.29129,     0.29229,     0.29329,     0.29429,      0.2953,      0.2963,      0.2973,      0.2983,      0.2993,      0.3003,      0.3013,      0.3023,      0.3033,      0.3043,     0.30531,     0.30631,     0.30731,     0.30831,     0.30931,     0.31031,     0.31131,\n",
              "           0.31231,     0.31331,     0.31431,     0.31532,     0.31632,     0.31732,     0.31832,     0.31932,     0.32032,     0.32132,     0.32232,     0.32332,     0.32432,     0.32533,     0.32633,     0.32733,     0.32833,     0.32933,     0.33033,     0.33133,     0.33233,     0.33333,     0.33433,     0.33534,\n",
              "           0.33634,     0.33734,     0.33834,     0.33934,     0.34034,     0.34134,     0.34234,     0.34334,     0.34434,     0.34535,     0.34635,     0.34735,     0.34835,     0.34935,     0.35035,     0.35135,     0.35235,     0.35335,     0.35435,     0.35536,     0.35636,     0.35736,     0.35836,     0.35936,\n",
              "           0.36036,     0.36136,     0.36236,     0.36336,     0.36436,     0.36537,     0.36637,     0.36737,     0.36837,     0.36937,     0.37037,     0.37137,     0.37237,     0.37337,     0.37437,     0.37538,     0.37638,     0.37738,     0.37838,     0.37938,     0.38038,     0.38138,     0.38238,     0.38338,\n",
              "           0.38438,     0.38539,     0.38639,     0.38739,     0.38839,     0.38939,     0.39039,     0.39139,     0.39239,     0.39339,     0.39439,      0.3954,      0.3964,      0.3974,      0.3984,      0.3994,      0.4004,      0.4014,      0.4024,      0.4034,      0.4044,     0.40541,     0.40641,     0.40741,\n",
              "           0.40841,     0.40941,     0.41041,     0.41141,     0.41241,     0.41341,     0.41441,     0.41542,     0.41642,     0.41742,     0.41842,     0.41942,     0.42042,     0.42142,     0.42242,     0.42342,     0.42442,     0.42543,     0.42643,     0.42743,     0.42843,     0.42943,     0.43043,     0.43143,\n",
              "           0.43243,     0.43343,     0.43443,     0.43544,     0.43644,     0.43744,     0.43844,     0.43944,     0.44044,     0.44144,     0.44244,     0.44344,     0.44444,     0.44545,     0.44645,     0.44745,     0.44845,     0.44945,     0.45045,     0.45145,     0.45245,     0.45345,     0.45445,     0.45546,\n",
              "           0.45646,     0.45746,     0.45846,     0.45946,     0.46046,     0.46146,     0.46246,     0.46346,     0.46446,     0.46547,     0.46647,     0.46747,     0.46847,     0.46947,     0.47047,     0.47147,     0.47247,     0.47347,     0.47447,     0.47548,     0.47648,     0.47748,     0.47848,     0.47948,\n",
              "           0.48048,     0.48148,     0.48248,     0.48348,     0.48448,     0.48549,     0.48649,     0.48749,     0.48849,     0.48949,     0.49049,     0.49149,     0.49249,     0.49349,     0.49449,      0.4955,      0.4965,      0.4975,      0.4985,      0.4995,      0.5005,      0.5015,      0.5025,      0.5035,\n",
              "            0.5045,     0.50551,     0.50651,     0.50751,     0.50851,     0.50951,     0.51051,     0.51151,     0.51251,     0.51351,     0.51451,     0.51552,     0.51652,     0.51752,     0.51852,     0.51952,     0.52052,     0.52152,     0.52252,     0.52352,     0.52452,     0.52553,     0.52653,     0.52753,\n",
              "           0.52853,     0.52953,     0.53053,     0.53153,     0.53253,     0.53353,     0.53453,     0.53554,     0.53654,     0.53754,     0.53854,     0.53954,     0.54054,     0.54154,     0.54254,     0.54354,     0.54454,     0.54555,     0.54655,     0.54755,     0.54855,     0.54955,     0.55055,     0.55155,\n",
              "           0.55255,     0.55355,     0.55455,     0.55556,     0.55656,     0.55756,     0.55856,     0.55956,     0.56056,     0.56156,     0.56256,     0.56356,     0.56456,     0.56557,     0.56657,     0.56757,     0.56857,     0.56957,     0.57057,     0.57157,     0.57257,     0.57357,     0.57457,     0.57558,\n",
              "           0.57658,     0.57758,     0.57858,     0.57958,     0.58058,     0.58158,     0.58258,     0.58358,     0.58458,     0.58559,     0.58659,     0.58759,     0.58859,     0.58959,     0.59059,     0.59159,     0.59259,     0.59359,     0.59459,      0.5956,      0.5966,      0.5976,      0.5986,      0.5996,\n",
              "            0.6006,      0.6016,      0.6026,      0.6036,      0.6046,     0.60561,     0.60661,     0.60761,     0.60861,     0.60961,     0.61061,     0.61161,     0.61261,     0.61361,     0.61461,     0.61562,     0.61662,     0.61762,     0.61862,     0.61962,     0.62062,     0.62162,     0.62262,     0.62362,\n",
              "           0.62462,     0.62563,     0.62663,     0.62763,     0.62863,     0.62963,     0.63063,     0.63163,     0.63263,     0.63363,     0.63463,     0.63564,     0.63664,     0.63764,     0.63864,     0.63964,     0.64064,     0.64164,     0.64264,     0.64364,     0.64464,     0.64565,     0.64665,     0.64765,\n",
              "           0.64865,     0.64965,     0.65065,     0.65165,     0.65265,     0.65365,     0.65465,     0.65566,     0.65666,     0.65766,     0.65866,     0.65966,     0.66066,     0.66166,     0.66266,     0.66366,     0.66466,     0.66567,     0.66667,     0.66767,     0.66867,     0.66967,     0.67067,     0.67167,\n",
              "           0.67267,     0.67367,     0.67467,     0.67568,     0.67668,     0.67768,     0.67868,     0.67968,     0.68068,     0.68168,     0.68268,     0.68368,     0.68468,     0.68569,     0.68669,     0.68769,     0.68869,     0.68969,     0.69069,     0.69169,     0.69269,     0.69369,     0.69469,      0.6957,\n",
              "            0.6967,      0.6977,      0.6987,      0.6997,      0.7007,      0.7017,      0.7027,      0.7037,      0.7047,     0.70571,     0.70671,     0.70771,     0.70871,     0.70971,     0.71071,     0.71171,     0.71271,     0.71371,     0.71471,     0.71572,     0.71672,     0.71772,     0.71872,     0.71972,\n",
              "           0.72072,     0.72172,     0.72272,     0.72372,     0.72472,     0.72573,     0.72673,     0.72773,     0.72873,     0.72973,     0.73073,     0.73173,     0.73273,     0.73373,     0.73473,     0.73574,     0.73674,     0.73774,     0.73874,     0.73974,     0.74074,     0.74174,     0.74274,     0.74374,\n",
              "           0.74474,     0.74575,     0.74675,     0.74775,     0.74875,     0.74975,     0.75075,     0.75175,     0.75275,     0.75375,     0.75475,     0.75576,     0.75676,     0.75776,     0.75876,     0.75976,     0.76076,     0.76176,     0.76276,     0.76376,     0.76476,     0.76577,     0.76677,     0.76777,\n",
              "           0.76877,     0.76977,     0.77077,     0.77177,     0.77277,     0.77377,     0.77477,     0.77578,     0.77678,     0.77778,     0.77878,     0.77978,     0.78078,     0.78178,     0.78278,     0.78378,     0.78478,     0.78579,     0.78679,     0.78779,     0.78879,     0.78979,     0.79079,     0.79179,\n",
              "           0.79279,     0.79379,     0.79479,      0.7958,      0.7968,      0.7978,      0.7988,      0.7998,      0.8008,      0.8018,      0.8028,      0.8038,      0.8048,     0.80581,     0.80681,     0.80781,     0.80881,     0.80981,     0.81081,     0.81181,     0.81281,     0.81381,     0.81481,     0.81582,\n",
              "           0.81682,     0.81782,     0.81882,     0.81982,     0.82082,     0.82182,     0.82282,     0.82382,     0.82482,     0.82583,     0.82683,     0.82783,     0.82883,     0.82983,     0.83083,     0.83183,     0.83283,     0.83383,     0.83483,     0.83584,     0.83684,     0.83784,     0.83884,     0.83984,\n",
              "           0.84084,     0.84184,     0.84284,     0.84384,     0.84484,     0.84585,     0.84685,     0.84785,     0.84885,     0.84985,     0.85085,     0.85185,     0.85285,     0.85385,     0.85485,     0.85586,     0.85686,     0.85786,     0.85886,     0.85986,     0.86086,     0.86186,     0.86286,     0.86386,\n",
              "           0.86486,     0.86587,     0.86687,     0.86787,     0.86887,     0.86987,     0.87087,     0.87187,     0.87287,     0.87387,     0.87487,     0.87588,     0.87688,     0.87788,     0.87888,     0.87988,     0.88088,     0.88188,     0.88288,     0.88388,     0.88488,     0.88589,     0.88689,     0.88789,\n",
              "           0.88889,     0.88989,     0.89089,     0.89189,     0.89289,     0.89389,     0.89489,      0.8959,      0.8969,      0.8979,      0.8989,      0.8999,      0.9009,      0.9019,      0.9029,      0.9039,      0.9049,     0.90591,     0.90691,     0.90791,     0.90891,     0.90991,     0.91091,     0.91191,\n",
              "           0.91291,     0.91391,     0.91491,     0.91592,     0.91692,     0.91792,     0.91892,     0.91992,     0.92092,     0.92192,     0.92292,     0.92392,     0.92492,     0.92593,     0.92693,     0.92793,     0.92893,     0.92993,     0.93093,     0.93193,     0.93293,     0.93393,     0.93493,     0.93594,\n",
              "           0.93694,     0.93794,     0.93894,     0.93994,     0.94094,     0.94194,     0.94294,     0.94394,     0.94494,     0.94595,     0.94695,     0.94795,     0.94895,     0.94995,     0.95095,     0.95195,     0.95295,     0.95395,     0.95495,     0.95596,     0.95696,     0.95796,     0.95896,     0.95996,\n",
              "           0.96096,     0.96196,     0.96296,     0.96396,     0.96496,     0.96597,     0.96697,     0.96797,     0.96897,     0.96997,     0.97097,     0.97197,     0.97297,     0.97397,     0.97497,     0.97598,     0.97698,     0.97798,     0.97898,     0.97998,     0.98098,     0.98198,     0.98298,     0.98398,\n",
              "           0.98498,     0.98599,     0.98699,     0.98799,     0.98899,     0.98999,     0.99099,     0.99199,     0.99299,     0.99399,     0.99499,       0.996,       0.997,       0.998,       0.999,           1]), array([[    0.18844,     0.18844,     0.33704, ...,           1,           1,           1],\n",
              "       [    0.28086,     0.28086,     0.46389, ...,           1,           1,           1]]), 'Confidence', 'Precision'], [array([          0,    0.001001,    0.002002,    0.003003,    0.004004,    0.005005,    0.006006,    0.007007,    0.008008,    0.009009,     0.01001,    0.011011,    0.012012,    0.013013,    0.014014,    0.015015,    0.016016,    0.017017,    0.018018,    0.019019,     0.02002,    0.021021,    0.022022,    0.023023,\n",
              "          0.024024,    0.025025,    0.026026,    0.027027,    0.028028,    0.029029,     0.03003,    0.031031,    0.032032,    0.033033,    0.034034,    0.035035,    0.036036,    0.037037,    0.038038,    0.039039,     0.04004,    0.041041,    0.042042,    0.043043,    0.044044,    0.045045,    0.046046,    0.047047,\n",
              "          0.048048,    0.049049,     0.05005,    0.051051,    0.052052,    0.053053,    0.054054,    0.055055,    0.056056,    0.057057,    0.058058,    0.059059,     0.06006,    0.061061,    0.062062,    0.063063,    0.064064,    0.065065,    0.066066,    0.067067,    0.068068,    0.069069,     0.07007,    0.071071,\n",
              "          0.072072,    0.073073,    0.074074,    0.075075,    0.076076,    0.077077,    0.078078,    0.079079,     0.08008,    0.081081,    0.082082,    0.083083,    0.084084,    0.085085,    0.086086,    0.087087,    0.088088,    0.089089,     0.09009,    0.091091,    0.092092,    0.093093,    0.094094,    0.095095,\n",
              "          0.096096,    0.097097,    0.098098,    0.099099,      0.1001,      0.1011,      0.1021,      0.1031,      0.1041,     0.10511,     0.10611,     0.10711,     0.10811,     0.10911,     0.11011,     0.11111,     0.11211,     0.11311,     0.11411,     0.11512,     0.11612,     0.11712,     0.11812,     0.11912,\n",
              "           0.12012,     0.12112,     0.12212,     0.12312,     0.12412,     0.12513,     0.12613,     0.12713,     0.12813,     0.12913,     0.13013,     0.13113,     0.13213,     0.13313,     0.13413,     0.13514,     0.13614,     0.13714,     0.13814,     0.13914,     0.14014,     0.14114,     0.14214,     0.14314,\n",
              "           0.14414,     0.14515,     0.14615,     0.14715,     0.14815,     0.14915,     0.15015,     0.15115,     0.15215,     0.15315,     0.15415,     0.15516,     0.15616,     0.15716,     0.15816,     0.15916,     0.16016,     0.16116,     0.16216,     0.16316,     0.16416,     0.16517,     0.16617,     0.16717,\n",
              "           0.16817,     0.16917,     0.17017,     0.17117,     0.17217,     0.17317,     0.17417,     0.17518,     0.17618,     0.17718,     0.17818,     0.17918,     0.18018,     0.18118,     0.18218,     0.18318,     0.18418,     0.18519,     0.18619,     0.18719,     0.18819,     0.18919,     0.19019,     0.19119,\n",
              "           0.19219,     0.19319,     0.19419,      0.1952,      0.1962,      0.1972,      0.1982,      0.1992,      0.2002,      0.2012,      0.2022,      0.2032,      0.2042,     0.20521,     0.20621,     0.20721,     0.20821,     0.20921,     0.21021,     0.21121,     0.21221,     0.21321,     0.21421,     0.21522,\n",
              "           0.21622,     0.21722,     0.21822,     0.21922,     0.22022,     0.22122,     0.22222,     0.22322,     0.22422,     0.22523,     0.22623,     0.22723,     0.22823,     0.22923,     0.23023,     0.23123,     0.23223,     0.23323,     0.23423,     0.23524,     0.23624,     0.23724,     0.23824,     0.23924,\n",
              "           0.24024,     0.24124,     0.24224,     0.24324,     0.24424,     0.24525,     0.24625,     0.24725,     0.24825,     0.24925,     0.25025,     0.25125,     0.25225,     0.25325,     0.25425,     0.25526,     0.25626,     0.25726,     0.25826,     0.25926,     0.26026,     0.26126,     0.26226,     0.26326,\n",
              "           0.26426,     0.26527,     0.26627,     0.26727,     0.26827,     0.26927,     0.27027,     0.27127,     0.27227,     0.27327,     0.27427,     0.27528,     0.27628,     0.27728,     0.27828,     0.27928,     0.28028,     0.28128,     0.28228,     0.28328,     0.28428,     0.28529,     0.28629,     0.28729,\n",
              "           0.28829,     0.28929,     0.29029,     0.29129,     0.29229,     0.29329,     0.29429,      0.2953,      0.2963,      0.2973,      0.2983,      0.2993,      0.3003,      0.3013,      0.3023,      0.3033,      0.3043,     0.30531,     0.30631,     0.30731,     0.30831,     0.30931,     0.31031,     0.31131,\n",
              "           0.31231,     0.31331,     0.31431,     0.31532,     0.31632,     0.31732,     0.31832,     0.31932,     0.32032,     0.32132,     0.32232,     0.32332,     0.32432,     0.32533,     0.32633,     0.32733,     0.32833,     0.32933,     0.33033,     0.33133,     0.33233,     0.33333,     0.33433,     0.33534,\n",
              "           0.33634,     0.33734,     0.33834,     0.33934,     0.34034,     0.34134,     0.34234,     0.34334,     0.34434,     0.34535,     0.34635,     0.34735,     0.34835,     0.34935,     0.35035,     0.35135,     0.35235,     0.35335,     0.35435,     0.35536,     0.35636,     0.35736,     0.35836,     0.35936,\n",
              "           0.36036,     0.36136,     0.36236,     0.36336,     0.36436,     0.36537,     0.36637,     0.36737,     0.36837,     0.36937,     0.37037,     0.37137,     0.37237,     0.37337,     0.37437,     0.37538,     0.37638,     0.37738,     0.37838,     0.37938,     0.38038,     0.38138,     0.38238,     0.38338,\n",
              "           0.38438,     0.38539,     0.38639,     0.38739,     0.38839,     0.38939,     0.39039,     0.39139,     0.39239,     0.39339,     0.39439,      0.3954,      0.3964,      0.3974,      0.3984,      0.3994,      0.4004,      0.4014,      0.4024,      0.4034,      0.4044,     0.40541,     0.40641,     0.40741,\n",
              "           0.40841,     0.40941,     0.41041,     0.41141,     0.41241,     0.41341,     0.41441,     0.41542,     0.41642,     0.41742,     0.41842,     0.41942,     0.42042,     0.42142,     0.42242,     0.42342,     0.42442,     0.42543,     0.42643,     0.42743,     0.42843,     0.42943,     0.43043,     0.43143,\n",
              "           0.43243,     0.43343,     0.43443,     0.43544,     0.43644,     0.43744,     0.43844,     0.43944,     0.44044,     0.44144,     0.44244,     0.44344,     0.44444,     0.44545,     0.44645,     0.44745,     0.44845,     0.44945,     0.45045,     0.45145,     0.45245,     0.45345,     0.45445,     0.45546,\n",
              "           0.45646,     0.45746,     0.45846,     0.45946,     0.46046,     0.46146,     0.46246,     0.46346,     0.46446,     0.46547,     0.46647,     0.46747,     0.46847,     0.46947,     0.47047,     0.47147,     0.47247,     0.47347,     0.47447,     0.47548,     0.47648,     0.47748,     0.47848,     0.47948,\n",
              "           0.48048,     0.48148,     0.48248,     0.48348,     0.48448,     0.48549,     0.48649,     0.48749,     0.48849,     0.48949,     0.49049,     0.49149,     0.49249,     0.49349,     0.49449,      0.4955,      0.4965,      0.4975,      0.4985,      0.4995,      0.5005,      0.5015,      0.5025,      0.5035,\n",
              "            0.5045,     0.50551,     0.50651,     0.50751,     0.50851,     0.50951,     0.51051,     0.51151,     0.51251,     0.51351,     0.51451,     0.51552,     0.51652,     0.51752,     0.51852,     0.51952,     0.52052,     0.52152,     0.52252,     0.52352,     0.52452,     0.52553,     0.52653,     0.52753,\n",
              "           0.52853,     0.52953,     0.53053,     0.53153,     0.53253,     0.53353,     0.53453,     0.53554,     0.53654,     0.53754,     0.53854,     0.53954,     0.54054,     0.54154,     0.54254,     0.54354,     0.54454,     0.54555,     0.54655,     0.54755,     0.54855,     0.54955,     0.55055,     0.55155,\n",
              "           0.55255,     0.55355,     0.55455,     0.55556,     0.55656,     0.55756,     0.55856,     0.55956,     0.56056,     0.56156,     0.56256,     0.56356,     0.56456,     0.56557,     0.56657,     0.56757,     0.56857,     0.56957,     0.57057,     0.57157,     0.57257,     0.57357,     0.57457,     0.57558,\n",
              "           0.57658,     0.57758,     0.57858,     0.57958,     0.58058,     0.58158,     0.58258,     0.58358,     0.58458,     0.58559,     0.58659,     0.58759,     0.58859,     0.58959,     0.59059,     0.59159,     0.59259,     0.59359,     0.59459,      0.5956,      0.5966,      0.5976,      0.5986,      0.5996,\n",
              "            0.6006,      0.6016,      0.6026,      0.6036,      0.6046,     0.60561,     0.60661,     0.60761,     0.60861,     0.60961,     0.61061,     0.61161,     0.61261,     0.61361,     0.61461,     0.61562,     0.61662,     0.61762,     0.61862,     0.61962,     0.62062,     0.62162,     0.62262,     0.62362,\n",
              "           0.62462,     0.62563,     0.62663,     0.62763,     0.62863,     0.62963,     0.63063,     0.63163,     0.63263,     0.63363,     0.63463,     0.63564,     0.63664,     0.63764,     0.63864,     0.63964,     0.64064,     0.64164,     0.64264,     0.64364,     0.64464,     0.64565,     0.64665,     0.64765,\n",
              "           0.64865,     0.64965,     0.65065,     0.65165,     0.65265,     0.65365,     0.65465,     0.65566,     0.65666,     0.65766,     0.65866,     0.65966,     0.66066,     0.66166,     0.66266,     0.66366,     0.66466,     0.66567,     0.66667,     0.66767,     0.66867,     0.66967,     0.67067,     0.67167,\n",
              "           0.67267,     0.67367,     0.67467,     0.67568,     0.67668,     0.67768,     0.67868,     0.67968,     0.68068,     0.68168,     0.68268,     0.68368,     0.68468,     0.68569,     0.68669,     0.68769,     0.68869,     0.68969,     0.69069,     0.69169,     0.69269,     0.69369,     0.69469,      0.6957,\n",
              "            0.6967,      0.6977,      0.6987,      0.6997,      0.7007,      0.7017,      0.7027,      0.7037,      0.7047,     0.70571,     0.70671,     0.70771,     0.70871,     0.70971,     0.71071,     0.71171,     0.71271,     0.71371,     0.71471,     0.71572,     0.71672,     0.71772,     0.71872,     0.71972,\n",
              "           0.72072,     0.72172,     0.72272,     0.72372,     0.72472,     0.72573,     0.72673,     0.72773,     0.72873,     0.72973,     0.73073,     0.73173,     0.73273,     0.73373,     0.73473,     0.73574,     0.73674,     0.73774,     0.73874,     0.73974,     0.74074,     0.74174,     0.74274,     0.74374,\n",
              "           0.74474,     0.74575,     0.74675,     0.74775,     0.74875,     0.74975,     0.75075,     0.75175,     0.75275,     0.75375,     0.75475,     0.75576,     0.75676,     0.75776,     0.75876,     0.75976,     0.76076,     0.76176,     0.76276,     0.76376,     0.76476,     0.76577,     0.76677,     0.76777,\n",
              "           0.76877,     0.76977,     0.77077,     0.77177,     0.77277,     0.77377,     0.77477,     0.77578,     0.77678,     0.77778,     0.77878,     0.77978,     0.78078,     0.78178,     0.78278,     0.78378,     0.78478,     0.78579,     0.78679,     0.78779,     0.78879,     0.78979,     0.79079,     0.79179,\n",
              "           0.79279,     0.79379,     0.79479,      0.7958,      0.7968,      0.7978,      0.7988,      0.7998,      0.8008,      0.8018,      0.8028,      0.8038,      0.8048,     0.80581,     0.80681,     0.80781,     0.80881,     0.80981,     0.81081,     0.81181,     0.81281,     0.81381,     0.81481,     0.81582,\n",
              "           0.81682,     0.81782,     0.81882,     0.81982,     0.82082,     0.82182,     0.82282,     0.82382,     0.82482,     0.82583,     0.82683,     0.82783,     0.82883,     0.82983,     0.83083,     0.83183,     0.83283,     0.83383,     0.83483,     0.83584,     0.83684,     0.83784,     0.83884,     0.83984,\n",
              "           0.84084,     0.84184,     0.84284,     0.84384,     0.84484,     0.84585,     0.84685,     0.84785,     0.84885,     0.84985,     0.85085,     0.85185,     0.85285,     0.85385,     0.85485,     0.85586,     0.85686,     0.85786,     0.85886,     0.85986,     0.86086,     0.86186,     0.86286,     0.86386,\n",
              "           0.86486,     0.86587,     0.86687,     0.86787,     0.86887,     0.86987,     0.87087,     0.87187,     0.87287,     0.87387,     0.87487,     0.87588,     0.87688,     0.87788,     0.87888,     0.87988,     0.88088,     0.88188,     0.88288,     0.88388,     0.88488,     0.88589,     0.88689,     0.88789,\n",
              "           0.88889,     0.88989,     0.89089,     0.89189,     0.89289,     0.89389,     0.89489,      0.8959,      0.8969,      0.8979,      0.8989,      0.8999,      0.9009,      0.9019,      0.9029,      0.9039,      0.9049,     0.90591,     0.90691,     0.90791,     0.90891,     0.90991,     0.91091,     0.91191,\n",
              "           0.91291,     0.91391,     0.91491,     0.91592,     0.91692,     0.91792,     0.91892,     0.91992,     0.92092,     0.92192,     0.92292,     0.92392,     0.92492,     0.92593,     0.92693,     0.92793,     0.92893,     0.92993,     0.93093,     0.93193,     0.93293,     0.93393,     0.93493,     0.93594,\n",
              "           0.93694,     0.93794,     0.93894,     0.93994,     0.94094,     0.94194,     0.94294,     0.94394,     0.94494,     0.94595,     0.94695,     0.94795,     0.94895,     0.94995,     0.95095,     0.95195,     0.95295,     0.95395,     0.95495,     0.95596,     0.95696,     0.95796,     0.95896,     0.95996,\n",
              "           0.96096,     0.96196,     0.96296,     0.96396,     0.96496,     0.96597,     0.96697,     0.96797,     0.96897,     0.96997,     0.97097,     0.97197,     0.97297,     0.97397,     0.97497,     0.97598,     0.97698,     0.97798,     0.97898,     0.97998,     0.98098,     0.98198,     0.98298,     0.98398,\n",
              "           0.98498,     0.98599,     0.98699,     0.98799,     0.98899,     0.98999,     0.99099,     0.99199,     0.99299,     0.99399,     0.99499,       0.996,       0.997,       0.998,       0.999,           1]), array([[    0.94728,     0.94728,     0.94714, ...,           0,           0,           0],\n",
              "       [    0.95221,     0.95221,     0.95206, ...,           0,           0,           0]]), 'Confidence', 'Recall']]\n",
              "fitness: np.float64(0.9206821510682061)\n",
              "keys: ['metrics/precision(B)', 'metrics/recall(B)', 'metrics/mAP50(B)', 'metrics/mAP50-95(B)']\n",
              "maps: array([    0.89583,     0.93793])\n",
              "names: {0: 'ycb_011_banana', 1: 'ycb_013_apple'}\n",
              "nt_per_class: array([6999, 6612])\n",
              "nt_per_image: array([200, 200])\n",
              "results_dict: {'metrics/precision(B)': 0.9898407661763853, 'metrics/recall(B)': 0.9377763724319716, 'metrics/mAP50(B)': 0.9549066009685638, 'metrics/mAP50-95(B)': 0.9168794344126108, 'fitness': 0.9206821510682061}\n",
              "save_dir: PosixPath('runs/detect/defect-detection')\n",
              "speed: {'preprocess': 0.21507213000177217, 'inference': 3.1749638550013515, 'loss': 0.0007374699953288655, 'postprocess': 33.469945489998736}\n",
              "stats: {'tp': [], 'conf': [], 'pred_cls': [], 'target_cls': [], 'target_img': []}\n",
              "task: 'detect'"
            ]
          },
          "metadata": {},
          "execution_count": 4
        }
      ],
      "source": [
        "# 전이 학습 시작\n",
        "model = YOLO(\"yolo11n.pt\")\n",
        "model.train(data='data.yaml', epochs=50, imgsz=640, batch=8, name='defect-detection')"
      ]
    },
    {
      "cell_type": "markdown",
      "metadata": {
        "id": "gYlGMeUJYDvH"
      },
      "source": [
        "## 🔎 학습된 모델로 테스트"
      ]
    },
    {
      "cell_type": "code",
      "execution_count": 5,
      "metadata": {
        "id": "J9PFzosWYDvH",
        "colab": {
          "base_uri": "https://localhost:8080/"
        },
        "outputId": "483f99c2-ff50-46f4-9cad-ba0411feef4a"
      },
      "outputs": [
        {
          "output_type": "stream",
          "name": "stdout",
          "text": [
            "\n",
            "image 1/1 /content/test/images/rgb_115_png.rf.297664276a6dd9f5414ffe5199a09698.jpg: 640x640 25 ycb_011_bananas, 12 ycb_013_apples, 10.8ms\n",
            "Speed: 5.8ms preprocess, 10.8ms inference, 2.0ms postprocess per image at shape (1, 3, 640, 640)\n",
            "Results saved to \u001b[1mruns/detect/predict\u001b[0m\n"
          ]
        },
        {
          "output_type": "execute_result",
          "data": {
            "text/plain": [
              "[ultralytics.engine.results.Results object with attributes:\n",
              " \n",
              " boxes: ultralytics.engine.results.Boxes object\n",
              " keypoints: None\n",
              " masks: None\n",
              " names: {0: 'ycb_011_banana', 1: 'ycb_013_apple'}\n",
              " obb: None\n",
              " orig_img: array([[[207, 247, 245],\n",
              "         [216, 253, 251],\n",
              "         [226, 255, 255],\n",
              "         ...,\n",
              "         [225, 250, 254],\n",
              "         [223, 251, 252],\n",
              "         [222, 250, 251]],\n",
              " \n",
              "        [[207, 247, 245],\n",
              "         [216, 253, 251],\n",
              "         [226, 255, 255],\n",
              "         ...,\n",
              "         [217, 252, 255],\n",
              "         [216, 254, 255],\n",
              "         [216, 254, 255]],\n",
              " \n",
              "        [[207, 247, 245],\n",
              "         [216, 253, 251],\n",
              "         [226, 255, 255],\n",
              "         ...,\n",
              "         [199, 252, 255],\n",
              "         [197, 252, 255],\n",
              "         [196, 253, 255]],\n",
              " \n",
              "        ...,\n",
              " \n",
              "        [[ 82,  98, 105],\n",
              "         [ 82,  98, 105],\n",
              "         [ 83,  99, 106],\n",
              "         ...,\n",
              "         [ 65, 255, 250],\n",
              "         [ 65, 255, 252],\n",
              "         [ 67, 255, 252]],\n",
              " \n",
              "        [[ 82,  98, 105],\n",
              "         [ 82,  98, 105],\n",
              "         [ 83,  99, 106],\n",
              "         ...,\n",
              "         [ 66, 255, 248],\n",
              "         [ 66, 255, 250],\n",
              "         [ 68, 255, 251]],\n",
              " \n",
              "        [[ 82,  98, 105],\n",
              "         [ 82,  98, 105],\n",
              "         [ 83,  99, 106],\n",
              "         ...,\n",
              "         [ 65, 255, 246],\n",
              "         [ 65, 255, 246],\n",
              "         [ 64, 255, 245]]], dtype=uint8)\n",
              " orig_shape: (640, 640)\n",
              " path: '/content/test/images/rgb_115_png.rf.297664276a6dd9f5414ffe5199a09698.jpg'\n",
              " probs: None\n",
              " save_dir: 'runs/detect/predict'\n",
              " speed: {'preprocess': 5.7901539998965745, 'inference': 10.757950999959576, 'postprocess': 2.0158669999545964}]"
            ]
          },
          "metadata": {},
          "execution_count": 5
        }
      ],
      "source": [
        "# 모델 불러오기 및 예측\n",
        "model = YOLO('/content/runs/detect/defect-detection/weights/best.pt')\n",
        "results = model('/content/test/images/rgb_115_png.rf.297664276a6dd9f5414ffe5199a09698.jpg', save=True, show=True)\n",
        "results"
      ]
    },
    {
      "cell_type": "code",
      "source": [
        "import cv2\n",
        "import matplotlib.pyplot as plt\n",
        "\n",
        "# 이미지 불러오기\n",
        "img_path = \"/content/test/images/rgb_115_png.rf.297664276a6dd9f5414ffe5199a09698.jpg\"\n",
        "img = cv2.imread(img_path)\n",
        "img_rgb = cv2.cvtColor(img, cv2.COLOR_BGR2RGB)\n",
        "\n",
        "# 결과 정보 얻기\n",
        "boxes = results[0].boxes\n",
        "annotated = img_rgb.copy()\n",
        "\n",
        "# 시각화 (Matplotlib 사용)\n",
        "for box in boxes:\n",
        "    x1, y1, x2, y2 = map(int, box.xyxy[0])\n",
        "    cls_id = int(box.cls[0])\n",
        "    conf = float(box.conf[0])\n",
        "    label = model.names[cls_id]\n",
        "\n",
        "    # 박스 그리기\n",
        "    cv2.rectangle(annotated, (x1, y1), (x2, y2), (0, 255, 0), 2)\n",
        "\n",
        "    # 라벨 그리기\n",
        "    text = f\"{label} {conf:.2f}\"\n",
        "    cv2.putText(annotated, text, (x1, y1 - 10),\n",
        "                cv2.FONT_HERSHEY_SIMPLEX, 0.7, (0, 255, 0), 2)\n",
        "\n",
        "# 6. 출력\n",
        "plt.figure(figsize=(10, 6))\n",
        "plt.imshow(annotated)\n",
        "plt.axis(\"off\")\n",
        "plt.title(\"YOLOv8 Prediction\")\n",
        "plt.show()"
      ],
      "metadata": {
        "id": "iKhf_1Xuj8K8",
        "colab": {
          "base_uri": "https://localhost:8080/",
          "height": 521
        },
        "outputId": "b6fdf6b8-4af3-4a6f-de2f-7a99d09d097e"
      },
      "execution_count": 6,
      "outputs": [
        {
          "output_type": "display_data",
          "data": {
            "text/plain": [
              "<Figure size 1000x600 with 1 Axes>"
            ],
            "image/png": "[encoded data removed]"
          },
          "metadata": {}
        }
      ]
    },
    {
      "cell_type": "code",
      "source": [
        "file_id = \"18Mix-ApDzdSeFFR8UID9_Jyg_Zdd0JDb\"\n",
        "local_path = gdown.download(id=file_id, output=\"downloaded.bin\", quiet=False)"
      ],
      "metadata": {
        "id": "SGB6xKipkHf0"
      },
      "execution_count": null,
      "outputs": []
    }
  ],
  "metadata": {
    "kernelspec": {
      "display_name": "Python 3",
      "name": "python3"
    },
    "language_info": {
      "name": "python",
      "version": ""
    },
    "colab": {
      "provenance": [],
      "machine_shape": "hm",
      "gpuType": "T4"
    },
    "accelerator": "GPU"
  },
  "nbformat": 4,
  "nbformat_minor": 0
}